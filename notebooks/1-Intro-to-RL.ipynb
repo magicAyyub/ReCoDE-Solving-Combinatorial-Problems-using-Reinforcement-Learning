{
 "cells": [
  {
   "cell_type": "markdown",
   "id": "50004698",
   "metadata": {},
   "source": [
    "# 1. Introduction to Reinforcement Learning"
   ]
  },
  {
   "cell_type": "code",
   "execution_count": 3,
   "id": "9a75be01",
   "metadata": {},
   "outputs": [],
   "source": [
    "from utils.grader import make_tester\n",
    "from notebooks.internal.exercises_1_intro_to_rl import square_cases"
   ]
  },
  {
   "cell_type": "markdown",
   "id": "842826cb",
   "metadata": {},
   "source": [
    "## Background — Sequential Combinatorial Problems\n",
    "\n",
    "### Sequential Decision Problems\n",
    "Solving sequential decision problems are problems where actions must be taken successively. This in contrast to many other Machine Learning domains where only a single decision is needed: for example classification (e.g. predicting whether an image belongs to a certain class, like whether it is a cat picture) or regression tasks (e.g. predicting the valuation of a house).\n",
    "\n",
    "### Combinatorial Problems\n",
    "Specifically, we are focused on a specific type of sequential decision problems known as **combinatorial problems**. Combinatorial problems are questions about how discrete things can be arranged, selected, combined, or optimized. By *discrete*, we simply mean objects that are distinct and countable. Combinatorial problems suffer from exponential blow-up or **combinatorial explosion**, because choices *multiply* rapidly, quickly intensifying the amount of compute power needed. Here is an example of a combinatorial problem:\n",
    "\n",
    "> Imagine a pizzeria that offers 8 distinct toppings (say: pepperoni, mushrooms, onions, olives, bell peppers, chicken, spinach, and pineapple). Each customer can choose any **subset** of these toppings — including the possibility of \"no toppings\" or \"all toppings.\"\n",
    "\n",
    "How many distinct types of pizzas can be made? In this case, it would be a staggering $2^8 = 256$ (which, as a bit of interesting background knowledge, more formally corresponds to something called the \"power set\"). \n",
    "\n",
    "While this was just a fun example, in many other application domains, considering all combinations becomes important. Consider the following scenario:\n",
    "> Every day an airline must assign thousands of pilots and flight attendants to thousands of flight legs. Each crew member has legal limits on duty hours, mandatory rest, base cities, training qualifications (e.g., aircraft type), and seniority‑based bidding preferences."
   ]
  },
  {
   "cell_type": "markdown",
   "id": "7c7e646c",
   "metadata": {},
   "source": [
    "<p align=\"center\">\n",
    "  <img\n",
    "    src=\"assets/crew_scheduling.png\"\n",
    "    alt=\"Crew Scheduling\"\n",
    "    style=\"max-width: 40%; max-height: 40%;\"\n",
    "  />\n",
    "</p>"
   ]
  },
  {
   "cell_type": "markdown",
   "id": "66744462",
   "metadata": {},
   "source": [
    "When you multiply those constraints across an entire weekly timetable, the number of feasible crew pairings skyrockets—well beyond what could ever be enumerated explicitly — so airlines rely on combinatorial optimization techniques (e.g. column generation, branch‑and‑price, heuristics) to find near‑optimal schedules. Note that *near optimal* is sufficient in many domains, always striving for optimality can require a much more exhaustive search.\n",
    "\n",
    "#### Realistic Domains\n",
    "Combinatorial optimization problems are frequently characterized by being intractable for classical algorithms or prone to suboptimal solutions. However, combinatorial problems naturally arise in logistics (e.g., vehicle routing), scheduling (e.g., job shop), network design (e.g., flow), finance (e.g., portfolio selection), and beyond. Even minor improvements in these domains can yield substantial benefits in cost, efficiency, or strategy. However, designing heuristics and metaheuristics to tackle their complexity is time-consuming."
   ]
  },
  {
   "cell_type": "markdown",
   "id": "50106b43",
   "metadata": {},
   "source": [
    "## Heuristics\n",
    "When solving combinatorial problems, there is often a reliance on heuristics (as well as something called \"metaheuristics\" which we can ignore for now). A **heuristic** is a rule‑of‑thumb (algorithm or decision policy) that helps speed up the search algorithm for a solution. Under the right conditions, a heuristic can still deliver an optimal solution, however this does not necessarily have to be the case. For the airline example, we can try a heuristic algorithm along the following lines:\n",
    "> For every crew, keep a running “cursor” that points to the last flight they can still catch given legal connection times. Assign the earliest uncovered flight to the crew whose cursor makes it feasible and whose home base matches (ties broken by least additional duty time).\n",
    "This is a decent heuristic, but not completely optimal for a few reasons, including teh fact that it might leave some larger gaps which increase hotel costs, and also does not consider seniority bidding preferences (which may have to be considered as a second processing step involving swapping flights where possible).\n",
    "\n",
    "The underlying idea of heuristics is we want to avoid exhaustively searching the entire search space (involving all potential combinations) for the optimal solution. Rather, we want to explore a promising part of the search space. This promising part may contain the optimal solution, although, it may simply include a near-optimal solution.\n",
    "\n",
    "## Why should we use Reinforcement Learning?\n",
    "Crafting reliable heuristics and metaheuristics is a very intensive task that requires a lot of domain expertise.\n",
    "\n",
    "On the other hand, **Reinforcement Learning** has excelled at sequential decision-making tasks in fields ranging from autonomous driving and industrial control to robotics, protein folding, theorem proving, and multiagent games such as Chess and Go, where it has achieved superhuman performance.\n",
    "\n",
    "Reinforcement Learning learns from experience, explicitly considering the trade-off between **exploring** (seeking out new knowledge or areas of the search space) and **exploiting** (doing what it knows to be the most optimal selection at a given time point).\n",
    "\n",
    "Therefore, implicitly, Reinforcement Learning can be stated to automatically learn heuristics and domain properties, without requiring any hand-coded knowledge. "
   ]
  },
  {
   "cell_type": "markdown",
   "id": "cc14a5fb",
   "metadata": {},
   "source": [
    "## What is Reinforcement Learning exactly? (A high-level overview)"
   ]
  },
  {
   "cell_type": "markdown",
   "id": "aed27a64",
   "metadata": {},
   "source": [
    "<p align=\"center\">\n",
    "  <img\n",
    "    src=\"assets/RL-Intro.png\"\n",
    "    alt=\"RL Flowchart\"\n",
    "    style=\"max-width: 20%; max-height: 50%;\"\n",
    "  />\n",
    "</p>"
   ]
  },
  {
   "cell_type": "markdown",
   "id": "b62feacb",
   "metadata": {},
   "source": [
    "\n",
    "Reinforcement Learning is a sampling-based approach that learns in an *online* fashion, by actively taking actions in an environment, learning from experience. An agent (which in reality is any Reinforcement Learning algorithm) is said to be exploring and acting in the environment.\n",
    "\n",
    "Specifically, Reinforcement Learning involves the key following ingredients:\n",
    "* **states**: also referred to as the *observation/state space*. It tells you what state the system is in, for example in the airline scenario, it would tell you where all the crew are currently located at, what their status is, and what the status of any unassigned/assigned flights are in. We start with an initial state of the state space, commonly referred to as $s_0$.\n",
    "* **actions**: an agent can take a single action from the *action space* at each time step. Upon taking an action, such as assigning a flight crew to a particular flight, the environment advances one step, into a new resultant state, where the agent can take a subsequent action.\n",
    "* **reward**: a reward is received upon taking an action in a state, that tells how useful the action was. In some environments, the reward can only be provided at the end of the task, this is termed as *sparse reward*. Learning is more efficient when the agent is provided a more dense reward, at each time step (following each action), but this is not ultimately required.\n",
    "\n",
    "The state space, action space, and reward function, is provided by a given **environment**. Any combinatorial problem space you can think of can be represented as a reinforcement learning environment. At each time step, the agent starts in a particular state, takes a desired action, and ends up in a new state for the next time step where this process repeats until a final time step.\n",
    "\n",
    "**Crucial idea)** By taking actions, the agent receives a reward, and can learn how effective their action trajectory was. Reinforcement Learning **learns from experience**, taking a combination of random (exploring) actions and optimal actions. Unlike classical Machine Learning, you do not need to provide any data set, only an environment that the agent can act and explore in.\n",
    "\n",
    "We will be considering **episodic RL**, that is a form of Reinforcement Learning with a finite number of time steps that is then terminated and restarts a new episode. This helps because the agent will also be reset into an initial state often enough to explore different strategies effectively.\n",
    "\n",
    "Specifically, the agent is trying to learn an **optimal policy** ($\\pi$), a policy simply tells the agent which action $a$ (from the action space) to take in any given state $s$ (from the entire state space). An optimal policy would be produce the highest amount of possible cumulative reward (cumulatively collated from each time step of the environment)."
   ]
  },
  {
   "cell_type": "markdown",
   "id": "b1039a65",
   "metadata": {
    "vscode": {
     "languageId": "plaintext"
    }
   },
   "source": [
    "## Course Structure\n",
    "You have now almost completed notebook 1, well done! Following this, notebook 2 will cover the implementation of a foundational, and quite intuitive algorithm of Tabular Q Learning. Notebook 3 will teach you how to perform hyperparameter tuning (setting the best parameters for your RL algorithm to learn in) and visualise the training results, where you will be supplied with the Monty Hall environment. Finally, Notebook 4 will conclude with teaching you on how exactly you can define your own environment using Gymnasium, allowing you to apply RL to any problem space you can think of."
   ]
  },
  {
   "cell_type": "markdown",
   "id": "acc27da8",
   "metadata": {},
   "source": [
    "## Solving Exercises in Notebooks\n",
    "> **Note:** for the complete exemplar experience, you should work directly within the notebooks instead of viewing the exemplar through the website as interactive elements (e.g. exercises) are not functional on the website.\n",
    "\n",
    "These notebooks are defined with exercises in mind, involving little Python functions or potentially little bits of functions for you to complete. You will then receive some instant feedback using the \"run tests\" button on whether or not your implementation was correct.\n",
    "\n",
    "While reference code is provided in the repository, if you are able to, it is best to solve as many exercises without looking at any reference code or solutions. This will strengthen your understanding of how everything works by applying the knowledge you have gained.\n",
    "\n",
    "For example, try complete the following function, which requires you to simply write a simple mathematical squaring function, multiplying a number by itself and returning the result."
   ]
  },
  {
   "cell_type": "code",
   "execution_count": 4,
   "id": "0e1c9d08",
   "metadata": {},
   "outputs": [],
   "source": [
    "# Implement and complete this!\n",
    "def square(x):\n",
    "    return x * x"
   ]
  },
  {
   "cell_type": "code",
   "execution_count": null,
   "id": "935f26e2",
   "metadata": {},
   "outputs": [
    {
     "data": {
      "application/vnd.jupyter.widget-view+json": {
       "model_id": "5bc20275f23e4935aba4f59cf5634f4a",
       "version_major": 2,
       "version_minor": 0
      },
      "text/plain": [
       "VBox(children=(HBox(children=(Button(button_style='success', description='Run Tests', icon='check', style=Butt…"
      ]
     },
     "metadata": {},
     "output_type": "display_data"
    }
   ],
   "source": [
    "tester_widget = make_tester(square, square_cases)\n",
    "display(tester_widget)"
   ]
  },
  {
   "cell_type": "markdown",
   "id": "7fc29068",
   "metadata": {},
   "source": [
    "## Glossary\n",
    "---\n",
    "This glossary provides a quick reference of some of key concepts introduced within this notebook, which you may find helpful to refer to.\n",
    "\n",
    "* **action**: an agent can take a single action from the *action space* at each time step. Upon taking an action, the environment advances one step, into a new resultant state capturing the effects of the last action, where the agent can now take a subsequent action.\n",
    "* **episode**: in *episodic RL*, the agent can take a finite number of actions based on the number of time steps defined per episode, before the agent is reset to a new episode with a new initial state, taking its previous learning experiences with it into the new episode.\n",
    "* **environment**: an agent can only learn with a given **state** space, **action** space, and **reward** function, and these are supplied by a defined environment.\n",
    "* **hyperparameter**: a setting you choose before training that shapes how learning happens (e.g., learning rate, discount factor, exploration rate, network size). Hyperparameters aren’t learned by the agent; you pick and tune them to balance speed, stability, and final performance.\n",
    "* **initial state**: the agent starts in some initial state $s_0$ from the *state-space* of the *environment*. The initial state is a default configuration where no actions have been taken yet. \n",
    "* **reward**: a reward is received upon taking an action in a state, that tells how useful the action was. In some environments, the reward can only be provided at the end of the task, this is termed as *sparse reward*. Learning is more efficient when the agent is provided a more dense reward, at each time step (following each action), but this is not ultimately required. The reward is governed by the **reward function** defined per environment.\n",
    "* **policy**: governs which action $a$ from the action space that the agent will take in any given state $s$ from the state/observation space. An **optimal policy** is one which always takes the most optimal action (which produces the highest rewards) from any given state.\n",
    "* **state**: also called the *observation space*. It tells you what state the system is in, capturing all active facts of the environment. We start with an initial state of the state space, commonly referred to as $s_0$.\n",
    "* **time step**: a single time step advances after taking a single (atomic) action. Also see **episode** or **episodic RL**.\n",
    "* **tabular Q-learning**: a simple, classic RL method that keeps a table of values (Q-values) for each state–action pair in a table. As the agent interacts, it updates the table based on observed rewards and then chooses actions with the highest values, gradually improving its behaviour without needing a model of the environment."
   ]
  }
 ],
 "metadata": {
  "kernelspec": {
   "display_name": "RL",
   "language": "python",
   "name": "python3"
  },
  "language_info": {
   "codemirror_mode": {
    "name": "ipython",
    "version": 3
   },
   "file_extension": ".py",
   "mimetype": "text/x-python",
   "name": "python",
   "nbconvert_exporter": "python",
   "pygments_lexer": "ipython3",
   "version": "3.12.11"
  }
 },
 "nbformat": 4,
 "nbformat_minor": 5
}
