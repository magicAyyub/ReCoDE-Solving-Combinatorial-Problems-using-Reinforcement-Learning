{
 "cells": [
  {
   "cell_type": "code",
   "execution_count": null,
   "id": "384f7a4a",
   "metadata": {},
   "outputs": [],
   "source": [
    "import gymnasium as gym\n",
    "from gymnasium.envs.registration import register\n",
    "import src.environments.monty_hall as mh\n",
    "\n",
    "discrete = True"
   ]
  },
  {
   "cell_type": "code",
   "execution_count": null,
   "id": "6ee3d1a8",
   "metadata": {},
   "outputs": [],
   "source": [
    "# Make the environment in human-render mode\n",
    "register(\n",
    "    id=\"MontyHall-v0\",\n",
    "    entry_point=\"src.environments:MontyHallEnv\"\n",
    ")\n",
    "env = gym.make(\"MontyHall-v0\", render_mode=\"human\")\n",
    "obs, info = env.reset()\n",
    "\n",
    "if discrete:\n",
    "    # Our state space is 2D, like `[[4], [1], [0]]`, an array of each door and its Door State value. However,\n",
    "    # our Tabular Q Learning implements a simpler 1D Discrete space, which is also more efficient for contiguous access.\n",
    "    env = mh.MontyHallDiscreteWrapper(env) \n",
    "\n",
    "# The env already created and keeps a pygame module reference internally\n",
    "pygame = env.unwrapped._renderer._pygame\n",
    "clock = pygame.time.Clock()\n",
    "running = True\n",
    "\n",
    "print(\"Monty Hall — press 1-9 to pick a door, r to reset, Esc/q to quit.\")\n",
    "\n",
    "while running:\n",
    "    # Handle window / keyboard events\n",
    "    for event in pygame.event.get():\n",
    "        if event.type == pygame.QUIT:\n",
    "            running = False\n",
    "\n",
    "        elif event.type == pygame.KEYDOWN:\n",
    "            key = event.key\n",
    "            if key in (pygame.K_ESCAPE, pygame.K_q):\n",
    "                running = False\n",
    "\n",
    "            elif key == pygame.K_r:\n",
    "                obs, info = env.reset()\n",
    "\n",
    "            # Number keys -> door indices 0-8 (supports up to 9 doors)\n",
    "            elif pygame.K_1 <= key <= pygame.K_9:\n",
    "                door_idx = key - pygame.K_1\n",
    "                if door_idx < env.action_space.n:\n",
    "                    obs, reward, terminated, truncated, info = env.step(door_idx)\n",
    "                    print(f\"[Debug] {obs}\")\n",
    "                    if terminated or truncated:\n",
    "                        print(\n",
    "                            f\"Episode finished — reward={reward:.0f}. \"\n",
    "                            \"Press 'r' to play again.\"\n",
    "                        )                        \n",
    "\n",
    "    # Keep event loop responsive (30 fps cap – env handles its own drawing)\n",
    "    clock.tick(30)\n",
    "\n",
    "env.close()"
   ]
  }
 ],
 "metadata": {
  "kernelspec": {
   "display_name": "RL",
   "language": "python",
   "name": "python3"
  },
  "language_info": {
   "codemirror_mode": {
    "name": "ipython",
    "version": 3
   },
   "file_extension": ".py",
   "mimetype": "text/x-python",
   "name": "python",
   "nbconvert_exporter": "python",
   "pygments_lexer": "ipython3",
   "version": "3.12.11"
  }
 },
 "nbformat": 4,
 "nbformat_minor": 5
}
