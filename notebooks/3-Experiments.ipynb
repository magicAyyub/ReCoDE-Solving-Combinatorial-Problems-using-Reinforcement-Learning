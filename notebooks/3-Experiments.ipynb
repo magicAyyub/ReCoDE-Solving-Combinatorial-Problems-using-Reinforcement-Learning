{
 "cells": [
  {
   "cell_type": "markdown",
   "id": "a4441096",
   "metadata": {},
   "source": [
    "# 3. Experiments"
   ]
  },
  {
   "cell_type": "code",
   "execution_count": 1,
   "id": "e5c3f26b",
   "metadata": {},
   "outputs": [],
   "source": [
    "from src.environments import MontyHallEnv, MontyHallDiscreteWrapper\n",
    "from src.rl import QLearningConfig, QLearningAgent\n",
    "\n",
    "import os\n",
    "import gymnasium as gym\n",
    "from gymnasium.envs.registration import register\n",
    "import wandb\n",
    "import numpy as np\n",
    "import matplotlib.pyplot as plt"
   ]
  },
  {
   "cell_type": "markdown",
   "id": "33944f2d",
   "metadata": {},
   "source": [
    "# Environments defined with Gymnasium\n",
    "Recall that Reinforcement Learning needs an environment to act in. It takes actions in this environment, learning what the optimal action is for each environment state it observes based on a reward it receives. Environments are independent of the algorithm being used.\n",
    "\n",
    "`Gymnasium` (https://gymnasium.farama.org/index.html) is the most popular library for defining environment classes and provides a lot of helpful wrappers, as well as an unified and clearly defined interface that all environments follow. It is a fork (continuation) of OpenAI's `Gym`, note that the original `Gym` is no longer maintained by anyone. Sometimes, people refer to `Gym` when they mean `Gymnasium` as a shorthand, or in older posts/literature used `Gym` when it was the main library.\n",
    "\n",
    "Here, we intend to run the environment initially, to get a feel for how our implemented algorithm (Tabular Q Learning) works in practice with the Gymnasium interface on a provided environment, Monty Hall.\n",
    "\n",
    "# Monty Hall environment\n",
    "The Monty Hall is a well-known problem that originated from a game show, it can be stated as follows:\n",
    "> Suppose you're on a game show, and you're given the choice of three doors: Behind one door is a car; behind the others, goats. You pick a door, say No. 1, and the host, who knows what's behind the doors, opens another door, say No. 3, which has a goat. He then says to you, \"Do you want to pick door No. 2?\" Is it to your advantage to switch your choice?"
   ]
  },
  {
   "cell_type": "markdown",
   "id": "11915960",
   "metadata": {},
   "source": [
    "<p align=\"center\">\n",
    "  <img src=\"assets/monty_hall.png\" alt=\"Monty Hall Environment\" />\n",
    "</p> "
   ]
  },
  {
   "cell_type": "markdown",
   "id": "1911dd92",
   "metadata": {},
   "source": [
    "Overall in this notebook, our aim is to learn whether it is optimal or not to actually switch or remain. We can see this by rolling out our policy.\n",
    "\n",
    "You can also play this environment yourself in the notebook: `notebooks/extra/play_monty_hall.ipynb` before proceeding here."
   ]
  },
  {
   "cell_type": "markdown",
   "id": "39f9d22b",
   "metadata": {},
   "source": [
    "## Creating the configuration for the algorithm, an agent class, and instantiating the environment"
   ]
  },
  {
   "cell_type": "code",
   "execution_count": 2,
   "id": "6b2f2f13",
   "metadata": {},
   "outputs": [
    {
     "name": "stderr",
     "output_type": "stream",
     "text": [
      "/Users/ayouba/Documents/laboratoire/RL/.venv/lib/python3.12/site-packages/gymnasium/envs/registration.py:636: UserWarning: \u001b[33mWARN: Overriding environment MontyHall-v0 already in registry.\u001b[0m\n",
      "  logger.warn(f\"Overriding environment {new_spec.id} already in registry.\")\n",
      "/Users/ayouba/Documents/laboratoire/RL/.venv/lib/python3.12/site-packages/pygame/pkgdata.py:25: UserWarning: pkg_resources is deprecated as an API. See https://setuptools.pypa.io/en/latest/pkg_resources.html. The pkg_resources package is slated for removal as early as 2025-11-30. Refrain from using this package or pin to Setuptools<81.\n",
      "  from pkg_resources import resource_stream, resource_exists\n",
      "/Users/ayouba/Documents/laboratoire/RL/.venv/lib/python3.12/site-packages/gymnasium/wrappers/rendering.py:296: UserWarning: \u001b[33mWARN: Overwriting existing videos at /Users/ayouba/Documents/laboratoire/RL/exports/monty_hall folder (try specifying a different `video_folder` for the `RecordVideo` wrapper if this is not desired)\u001b[0m\n",
      "  logger.warn(\n",
      "\u001b[32m2025-08-30 04:01:46.343\u001b[0m | \u001b[1mINFO    \u001b[0m | \u001b[36msrc.rl.tabular_q_learning\u001b[0m:\u001b[36mtrain\u001b[0m:\u001b[36m226\u001b[0m - \u001b[1mEpisode    10 | R: +1.0 | ε: 0.985\u001b[0m\n",
      "\u001b[32m2025-08-30 04:01:46.350\u001b[0m | \u001b[1mINFO    \u001b[0m | \u001b[36msrc.rl.tabular_q_learning\u001b[0m:\u001b[36mtrain\u001b[0m:\u001b[36m226\u001b[0m - \u001b[1mEpisode    20 | R: +0.0 | ε: 0.970\u001b[0m\n",
      "\u001b[32m2025-08-30 04:01:46.357\u001b[0m | \u001b[1mINFO    \u001b[0m | \u001b[36msrc.rl.tabular_q_learning\u001b[0m:\u001b[36mtrain\u001b[0m:\u001b[36m226\u001b[0m - \u001b[1mEpisode    30 | R: +1.0 | ε: 0.956\u001b[0m\n",
      "\u001b[32m2025-08-30 04:01:46.364\u001b[0m | \u001b[1mINFO    \u001b[0m | \u001b[36msrc.rl.tabular_q_learning\u001b[0m:\u001b[36mtrain\u001b[0m:\u001b[36m226\u001b[0m - \u001b[1mEpisode    40 | R: +1.0 | ε: 0.942\u001b[0m\n",
      "\u001b[32m2025-08-30 04:01:46.373\u001b[0m | \u001b[1mINFO    \u001b[0m | \u001b[36msrc.rl.tabular_q_learning\u001b[0m:\u001b[36mtrain\u001b[0m:\u001b[36m226\u001b[0m - \u001b[1mEpisode    50 | R: +1.0 | ε: 0.928\u001b[0m\n",
      "\u001b[32m2025-08-30 04:01:46.380\u001b[0m | \u001b[1mINFO    \u001b[0m | \u001b[36msrc.rl.tabular_q_learning\u001b[0m:\u001b[36mtrain\u001b[0m:\u001b[36m226\u001b[0m - \u001b[1mEpisode    60 | R: +0.0 | ε: 0.914\u001b[0m\n",
      "\u001b[32m2025-08-30 04:01:46.388\u001b[0m | \u001b[1mINFO    \u001b[0m | \u001b[36msrc.rl.tabular_q_learning\u001b[0m:\u001b[36mtrain\u001b[0m:\u001b[36m226\u001b[0m - \u001b[1mEpisode    70 | R: +1.0 | ε: 0.900\u001b[0m\n",
      "\u001b[32m2025-08-30 04:01:46.396\u001b[0m | \u001b[1mINFO    \u001b[0m | \u001b[36msrc.rl.tabular_q_learning\u001b[0m:\u001b[36mtrain\u001b[0m:\u001b[36m226\u001b[0m - \u001b[1mEpisode    80 | R: +1.0 | ε: 0.887\u001b[0m\n",
      "\u001b[32m2025-08-30 04:01:46.403\u001b[0m | \u001b[1mINFO    \u001b[0m | \u001b[36msrc.rl.tabular_q_learning\u001b[0m:\u001b[36mtrain\u001b[0m:\u001b[36m226\u001b[0m - \u001b[1mEpisode    90 | R: +0.0 | ε: 0.874\u001b[0m\n",
      "\u001b[32m2025-08-30 04:01:46.412\u001b[0m | \u001b[1mINFO    \u001b[0m | \u001b[36msrc.rl.tabular_q_learning\u001b[0m:\u001b[36mtrain\u001b[0m:\u001b[36m226\u001b[0m - \u001b[1mEpisode   100 | R: +1.0 | ε: 0.861\u001b[0m\n",
      "\u001b[32m2025-08-30 04:01:46.472\u001b[0m | \u001b[1mINFO    \u001b[0m | \u001b[36msrc.rl.tabular_q_learning\u001b[0m:\u001b[36mtrain\u001b[0m:\u001b[36m226\u001b[0m - \u001b[1mEpisode   110 | R: +0.0 | ε: 0.848\u001b[0m\n",
      "\u001b[32m2025-08-30 04:01:46.480\u001b[0m | \u001b[1mINFO    \u001b[0m | \u001b[36msrc.rl.tabular_q_learning\u001b[0m:\u001b[36mtrain\u001b[0m:\u001b[36m226\u001b[0m - \u001b[1mEpisode   120 | R: +1.0 | ε: 0.835\u001b[0m\n",
      "\u001b[32m2025-08-30 04:01:46.487\u001b[0m | \u001b[1mINFO    \u001b[0m | \u001b[36msrc.rl.tabular_q_learning\u001b[0m:\u001b[36mtrain\u001b[0m:\u001b[36m226\u001b[0m - \u001b[1mEpisode   130 | R: +1.0 | ε: 0.823\u001b[0m\n",
      "\u001b[32m2025-08-30 04:01:46.494\u001b[0m | \u001b[1mINFO    \u001b[0m | \u001b[36msrc.rl.tabular_q_learning\u001b[0m:\u001b[36mtrain\u001b[0m:\u001b[36m226\u001b[0m - \u001b[1mEpisode   140 | R: +0.0 | ε: 0.810\u001b[0m\n",
      "\u001b[32m2025-08-30 04:01:46.502\u001b[0m | \u001b[1mINFO    \u001b[0m | \u001b[36msrc.rl.tabular_q_learning\u001b[0m:\u001b[36mtrain\u001b[0m:\u001b[36m226\u001b[0m - \u001b[1mEpisode   150 | R: +1.0 | ε: 0.798\u001b[0m\n",
      "\u001b[32m2025-08-30 04:01:46.510\u001b[0m | \u001b[1mINFO    \u001b[0m | \u001b[36msrc.rl.tabular_q_learning\u001b[0m:\u001b[36mtrain\u001b[0m:\u001b[36m226\u001b[0m - \u001b[1mEpisode   160 | R: +1.0 | ε: 0.786\u001b[0m\n",
      "\u001b[32m2025-08-30 04:01:46.518\u001b[0m | \u001b[1mINFO    \u001b[0m | \u001b[36msrc.rl.tabular_q_learning\u001b[0m:\u001b[36mtrain\u001b[0m:\u001b[36m226\u001b[0m - \u001b[1mEpisode   170 | R: +0.0 | ε: 0.775\u001b[0m\n",
      "\u001b[32m2025-08-30 04:01:46.525\u001b[0m | \u001b[1mINFO    \u001b[0m | \u001b[36msrc.rl.tabular_q_learning\u001b[0m:\u001b[36mtrain\u001b[0m:\u001b[36m226\u001b[0m - \u001b[1mEpisode   180 | R: +0.0 | ε: 0.763\u001b[0m\n",
      "\u001b[32m2025-08-30 04:01:46.532\u001b[0m | \u001b[1mINFO    \u001b[0m | \u001b[36msrc.rl.tabular_q_learning\u001b[0m:\u001b[36mtrain\u001b[0m:\u001b[36m226\u001b[0m - \u001b[1mEpisode   190 | R: +1.0 | ε: 0.752\u001b[0m\n",
      "\u001b[32m2025-08-30 04:01:46.541\u001b[0m | \u001b[1mINFO    \u001b[0m | \u001b[36msrc.rl.tabular_q_learning\u001b[0m:\u001b[36mtrain\u001b[0m:\u001b[36m226\u001b[0m - \u001b[1mEpisode   200 | R: +0.0 | ε: 0.741\u001b[0m\n",
      "\u001b[32m2025-08-30 04:01:46.596\u001b[0m | \u001b[1mINFO    \u001b[0m | \u001b[36msrc.rl.tabular_q_learning\u001b[0m:\u001b[36mtrain\u001b[0m:\u001b[36m226\u001b[0m - \u001b[1mEpisode   210 | R: +0.0 | ε: 0.730\u001b[0m\n",
      "\u001b[32m2025-08-30 04:01:46.603\u001b[0m | \u001b[1mINFO    \u001b[0m | \u001b[36msrc.rl.tabular_q_learning\u001b[0m:\u001b[36mtrain\u001b[0m:\u001b[36m226\u001b[0m - \u001b[1mEpisode   220 | R: +1.0 | ε: 0.719\u001b[0m\n",
      "\u001b[32m2025-08-30 04:01:46.611\u001b[0m | \u001b[1mINFO    \u001b[0m | \u001b[36msrc.rl.tabular_q_learning\u001b[0m:\u001b[36mtrain\u001b[0m:\u001b[36m226\u001b[0m - \u001b[1mEpisode   230 | R: +1.0 | ε: 0.708\u001b[0m\n",
      "\u001b[32m2025-08-30 04:01:46.618\u001b[0m | \u001b[1mINFO    \u001b[0m | \u001b[36msrc.rl.tabular_q_learning\u001b[0m:\u001b[36mtrain\u001b[0m:\u001b[36m226\u001b[0m - \u001b[1mEpisode   240 | R: +1.0 | ε: 0.697\u001b[0m\n",
      "\u001b[32m2025-08-30 04:01:46.625\u001b[0m | \u001b[1mINFO    \u001b[0m | \u001b[36msrc.rl.tabular_q_learning\u001b[0m:\u001b[36mtrain\u001b[0m:\u001b[36m226\u001b[0m - \u001b[1mEpisode   250 | R: +1.0 | ε: 0.687\u001b[0m\n",
      "\u001b[32m2025-08-30 04:01:46.633\u001b[0m | \u001b[1mINFO    \u001b[0m | \u001b[36msrc.rl.tabular_q_learning\u001b[0m:\u001b[36mtrain\u001b[0m:\u001b[36m226\u001b[0m - \u001b[1mEpisode   260 | R: +0.0 | ε: 0.677\u001b[0m\n",
      "\u001b[32m2025-08-30 04:01:46.641\u001b[0m | \u001b[1mINFO    \u001b[0m | \u001b[36msrc.rl.tabular_q_learning\u001b[0m:\u001b[36mtrain\u001b[0m:\u001b[36m226\u001b[0m - \u001b[1mEpisode   270 | R: +1.0 | ε: 0.667\u001b[0m\n",
      "\u001b[32m2025-08-30 04:01:46.650\u001b[0m | \u001b[1mINFO    \u001b[0m | \u001b[36msrc.rl.tabular_q_learning\u001b[0m:\u001b[36mtrain\u001b[0m:\u001b[36m226\u001b[0m - \u001b[1mEpisode   280 | R: +1.0 | ε: 0.657\u001b[0m\n",
      "\u001b[32m2025-08-30 04:01:46.662\u001b[0m | \u001b[1mINFO    \u001b[0m | \u001b[36msrc.rl.tabular_q_learning\u001b[0m:\u001b[36mtrain\u001b[0m:\u001b[36m226\u001b[0m - \u001b[1mEpisode   290 | R: +1.0 | ε: 0.647\u001b[0m\n",
      "\u001b[32m2025-08-30 04:01:46.671\u001b[0m | \u001b[1mINFO    \u001b[0m | \u001b[36msrc.rl.tabular_q_learning\u001b[0m:\u001b[36mtrain\u001b[0m:\u001b[36m226\u001b[0m - \u001b[1mEpisode   300 | R: +1.0 | ε: 0.637\u001b[0m\n",
      "\u001b[32m2025-08-30 04:01:46.722\u001b[0m | \u001b[1mINFO    \u001b[0m | \u001b[36msrc.rl.tabular_q_learning\u001b[0m:\u001b[36mtrain\u001b[0m:\u001b[36m226\u001b[0m - \u001b[1mEpisode   310 | R: +0.0 | ε: 0.628\u001b[0m\n",
      "\u001b[32m2025-08-30 04:01:46.729\u001b[0m | \u001b[1mINFO    \u001b[0m | \u001b[36msrc.rl.tabular_q_learning\u001b[0m:\u001b[36mtrain\u001b[0m:\u001b[36m226\u001b[0m - \u001b[1mEpisode   320 | R: +1.0 | ε: 0.619\u001b[0m\n",
      "\u001b[32m2025-08-30 04:01:46.736\u001b[0m | \u001b[1mINFO    \u001b[0m | \u001b[36msrc.rl.tabular_q_learning\u001b[0m:\u001b[36mtrain\u001b[0m:\u001b[36m226\u001b[0m - \u001b[1mEpisode   330 | R: +1.0 | ε: 0.609\u001b[0m\n",
      "\u001b[32m2025-08-30 04:01:46.744\u001b[0m | \u001b[1mINFO    \u001b[0m | \u001b[36msrc.rl.tabular_q_learning\u001b[0m:\u001b[36mtrain\u001b[0m:\u001b[36m226\u001b[0m - \u001b[1mEpisode   340 | R: +1.0 | ε: 0.600\u001b[0m\n",
      "\u001b[32m2025-08-30 04:01:46.756\u001b[0m | \u001b[1mINFO    \u001b[0m | \u001b[36msrc.rl.tabular_q_learning\u001b[0m:\u001b[36mtrain\u001b[0m:\u001b[36m226\u001b[0m - \u001b[1mEpisode   350 | R: +0.0 | ε: 0.591\u001b[0m\n",
      "\u001b[32m2025-08-30 04:01:46.767\u001b[0m | \u001b[1mINFO    \u001b[0m | \u001b[36msrc.rl.tabular_q_learning\u001b[0m:\u001b[36mtrain\u001b[0m:\u001b[36m226\u001b[0m - \u001b[1mEpisode   360 | R: +0.0 | ε: 0.583\u001b[0m\n",
      "\u001b[32m2025-08-30 04:01:46.780\u001b[0m | \u001b[1mINFO    \u001b[0m | \u001b[36msrc.rl.tabular_q_learning\u001b[0m:\u001b[36mtrain\u001b[0m:\u001b[36m226\u001b[0m - \u001b[1mEpisode   370 | R: +0.0 | ε: 0.574\u001b[0m\n",
      "\u001b[32m2025-08-30 04:01:46.789\u001b[0m | \u001b[1mINFO    \u001b[0m | \u001b[36msrc.rl.tabular_q_learning\u001b[0m:\u001b[36mtrain\u001b[0m:\u001b[36m226\u001b[0m - \u001b[1mEpisode   380 | R: +0.0 | ε: 0.565\u001b[0m\n",
      "\u001b[32m2025-08-30 04:01:46.799\u001b[0m | \u001b[1mINFO    \u001b[0m | \u001b[36msrc.rl.tabular_q_learning\u001b[0m:\u001b[36mtrain\u001b[0m:\u001b[36m226\u001b[0m - \u001b[1mEpisode   390 | R: +0.0 | ε: 0.557\u001b[0m\n",
      "\u001b[32m2025-08-30 04:01:46.809\u001b[0m | \u001b[1mINFO    \u001b[0m | \u001b[36msrc.rl.tabular_q_learning\u001b[0m:\u001b[36mtrain\u001b[0m:\u001b[36m226\u001b[0m - \u001b[1mEpisode   400 | R: +1.0 | ε: 0.549\u001b[0m\n",
      "\u001b[32m2025-08-30 04:01:46.866\u001b[0m | \u001b[1mINFO    \u001b[0m | \u001b[36msrc.rl.tabular_q_learning\u001b[0m:\u001b[36mtrain\u001b[0m:\u001b[36m226\u001b[0m - \u001b[1mEpisode   410 | R: +1.0 | ε: 0.540\u001b[0m\n",
      "\u001b[32m2025-08-30 04:01:46.873\u001b[0m | \u001b[1mINFO    \u001b[0m | \u001b[36msrc.rl.tabular_q_learning\u001b[0m:\u001b[36mtrain\u001b[0m:\u001b[36m226\u001b[0m - \u001b[1mEpisode   420 | R: +1.0 | ε: 0.532\u001b[0m\n",
      "\u001b[32m2025-08-30 04:01:46.881\u001b[0m | \u001b[1mINFO    \u001b[0m | \u001b[36msrc.rl.tabular_q_learning\u001b[0m:\u001b[36mtrain\u001b[0m:\u001b[36m226\u001b[0m - \u001b[1mEpisode   430 | R: +1.0 | ε: 0.524\u001b[0m\n",
      "\u001b[32m2025-08-30 04:01:46.888\u001b[0m | \u001b[1mINFO    \u001b[0m | \u001b[36msrc.rl.tabular_q_learning\u001b[0m:\u001b[36mtrain\u001b[0m:\u001b[36m226\u001b[0m - \u001b[1mEpisode   440 | R: +0.0 | ε: 0.517\u001b[0m\n",
      "\u001b[32m2025-08-30 04:01:46.896\u001b[0m | \u001b[1mINFO    \u001b[0m | \u001b[36msrc.rl.tabular_q_learning\u001b[0m:\u001b[36mtrain\u001b[0m:\u001b[36m226\u001b[0m - \u001b[1mEpisode   450 | R: +1.0 | ε: 0.509\u001b[0m\n",
      "\u001b[32m2025-08-30 04:01:46.903\u001b[0m | \u001b[1mINFO    \u001b[0m | \u001b[36msrc.rl.tabular_q_learning\u001b[0m:\u001b[36mtrain\u001b[0m:\u001b[36m226\u001b[0m - \u001b[1mEpisode   460 | R: +1.0 | ε: 0.501\u001b[0m\n",
      "\u001b[32m2025-08-30 04:01:46.910\u001b[0m | \u001b[1mINFO    \u001b[0m | \u001b[36msrc.rl.tabular_q_learning\u001b[0m:\u001b[36mtrain\u001b[0m:\u001b[36m226\u001b[0m - \u001b[1mEpisode   470 | R: +1.0 | ε: 0.494\u001b[0m\n",
      "\u001b[32m2025-08-30 04:01:46.918\u001b[0m | \u001b[1mINFO    \u001b[0m | \u001b[36msrc.rl.tabular_q_learning\u001b[0m:\u001b[36mtrain\u001b[0m:\u001b[36m226\u001b[0m - \u001b[1mEpisode   480 | R: +1.0 | ε: 0.486\u001b[0m\n",
      "\u001b[32m2025-08-30 04:01:46.925\u001b[0m | \u001b[1mINFO    \u001b[0m | \u001b[36msrc.rl.tabular_q_learning\u001b[0m:\u001b[36mtrain\u001b[0m:\u001b[36m226\u001b[0m - \u001b[1mEpisode   490 | R: +1.0 | ε: 0.479\u001b[0m\n",
      "\u001b[32m2025-08-30 04:01:46.933\u001b[0m | \u001b[1mINFO    \u001b[0m | \u001b[36msrc.rl.tabular_q_learning\u001b[0m:\u001b[36mtrain\u001b[0m:\u001b[36m226\u001b[0m - \u001b[1mEpisode   500 | R: +1.0 | ε: 0.472\u001b[0m\n",
      "\u001b[32m2025-08-30 04:01:46.980\u001b[0m | \u001b[1mINFO    \u001b[0m | \u001b[36msrc.rl.tabular_q_learning\u001b[0m:\u001b[36mtest\u001b[0m:\u001b[36m270\u001b[0m - \u001b[1mTest Episode   1 | Reward: +1.0\u001b[0m\n",
      "\u001b[32m2025-08-30 04:01:46.982\u001b[0m | \u001b[1mINFO    \u001b[0m | \u001b[36msrc.rl.tabular_q_learning\u001b[0m:\u001b[36mtest\u001b[0m:\u001b[36m270\u001b[0m - \u001b[1mTest Episode   2 | Reward: +1.0\u001b[0m\n",
      "\u001b[32m2025-08-30 04:01:46.984\u001b[0m | \u001b[1mINFO    \u001b[0m | \u001b[36msrc.rl.tabular_q_learning\u001b[0m:\u001b[36mtest\u001b[0m:\u001b[36m270\u001b[0m - \u001b[1mTest Episode   3 | Reward: +1.0\u001b[0m\n",
      "\u001b[32m2025-08-30 04:01:46.985\u001b[0m | \u001b[1mINFO    \u001b[0m | \u001b[36msrc.rl.tabular_q_learning\u001b[0m:\u001b[36mtest\u001b[0m:\u001b[36m270\u001b[0m - \u001b[1mTest Episode   4 | Reward: +1.0\u001b[0m\n",
      "\u001b[32m2025-08-30 04:01:46.987\u001b[0m | \u001b[1mINFO    \u001b[0m | \u001b[36msrc.rl.tabular_q_learning\u001b[0m:\u001b[36mtest\u001b[0m:\u001b[36m270\u001b[0m - \u001b[1mTest Episode   5 | Reward: +1.0\u001b[0m\n",
      "\u001b[32m2025-08-30 04:01:46.988\u001b[0m | \u001b[1mINFO    \u001b[0m | \u001b[36msrc.rl.tabular_q_learning\u001b[0m:\u001b[36mtest\u001b[0m:\u001b[36m270\u001b[0m - \u001b[1mTest Episode   6 | Reward: +1.0\u001b[0m\n",
      "\u001b[32m2025-08-30 04:01:46.990\u001b[0m | \u001b[1mINFO    \u001b[0m | \u001b[36msrc.rl.tabular_q_learning\u001b[0m:\u001b[36mtest\u001b[0m:\u001b[36m270\u001b[0m - \u001b[1mTest Episode   7 | Reward: +1.0\u001b[0m\n",
      "\u001b[32m2025-08-30 04:01:46.991\u001b[0m | \u001b[1mINFO    \u001b[0m | \u001b[36msrc.rl.tabular_q_learning\u001b[0m:\u001b[36mtest\u001b[0m:\u001b[36m270\u001b[0m - \u001b[1mTest Episode   8 | Reward: +1.0\u001b[0m\n",
      "\u001b[32m2025-08-30 04:01:46.993\u001b[0m | \u001b[1mINFO    \u001b[0m | \u001b[36msrc.rl.tabular_q_learning\u001b[0m:\u001b[36mtest\u001b[0m:\u001b[36m270\u001b[0m - \u001b[1mTest Episode   9 | Reward: +1.0\u001b[0m\n",
      "\u001b[32m2025-08-30 04:01:46.994\u001b[0m | \u001b[1mINFO    \u001b[0m | \u001b[36msrc.rl.tabular_q_learning\u001b[0m:\u001b[36mtest\u001b[0m:\u001b[36m270\u001b[0m - \u001b[1mTest Episode  10 | Reward: +1.0\u001b[0m\n"
     ]
    },
    {
     "name": "stdout",
     "output_type": "stream",
     "text": [
      "Episode  1 → Reward: +0.0\n",
      "Episode  2 → Reward: +1.0\n",
      "Episode  3 → Reward: +1.0\n",
      "Episode  4 → Reward: +1.0\n",
      "Episode  5 → Reward: +1.0\n",
      "Episode  6 → Reward: +1.0\n",
      "Episode  7 → Reward: +0.0\n",
      "Episode  8 → Reward: +0.0\n",
      "Episode  9 → Reward: +1.0\n",
      "Episode 10 → Reward: +1.0\n",
      "Episode 11 → Reward: +0.0\n",
      "Episode 12 → Reward: +1.0\n",
      "Episode 13 → Reward: +0.0\n",
      "Episode 14 → Reward: +0.0\n",
      "Episode 15 → Reward: +0.0\n",
      "Episode 16 → Reward: +0.0\n",
      "Episode 17 → Reward: +0.0\n",
      "Episode 18 → Reward: +1.0\n",
      "Episode 19 → Reward: +1.0\n",
      "Episode 20 → Reward: +0.0\n",
      "Episode 21 → Reward: +0.0\n",
      "Episode 22 → Reward: +0.0\n",
      "Episode 23 → Reward: +1.0\n",
      "Episode 24 → Reward: +1.0\n",
      "Episode 25 → Reward: +1.0\n",
      "Episode 26 → Reward: +0.0\n",
      "Episode 27 → Reward: +1.0\n",
      "Episode 28 → Reward: +0.0\n",
      "Episode 29 → Reward: +0.0\n",
      "Episode 30 → Reward: +1.0\n",
      "Episode 31 → Reward: +0.0\n",
      "Episode 32 → Reward: +1.0\n",
      "Episode 33 → Reward: +0.0\n",
      "Episode 34 → Reward: +1.0\n",
      "Episode 35 → Reward: +0.0\n",
      "Episode 36 → Reward: +1.0\n",
      "Episode 37 → Reward: +0.0\n",
      "Episode 38 → Reward: +1.0\n",
      "Episode 39 → Reward: +0.0\n",
      "Episode 40 → Reward: +1.0\n",
      "Episode 41 → Reward: +0.0\n",
      "Episode 42 → Reward: +1.0\n",
      "Episode 43 → Reward: +0.0\n",
      "Episode 44 → Reward: +0.0\n",
      "Episode 45 → Reward: +0.0\n",
      "Episode 46 → Reward: +1.0\n",
      "Episode 47 → Reward: +1.0\n",
      "Episode 48 → Reward: +1.0\n",
      "Episode 49 → Reward: +1.0\n",
      "Episode 50 → Reward: +1.0\n",
      "Episode 51 → Reward: +1.0\n",
      "Episode 52 → Reward: +1.0\n",
      "Episode 53 → Reward: +0.0\n",
      "Episode 54 → Reward: +0.0\n",
      "Episode 55 → Reward: +1.0\n",
      "Episode 56 → Reward: +1.0\n",
      "Episode 57 → Reward: +1.0\n",
      "Episode 58 → Reward: +0.0\n",
      "Episode 59 → Reward: +1.0\n",
      "Episode 60 → Reward: +0.0\n",
      "Episode 61 → Reward: +1.0\n",
      "Episode 62 → Reward: +0.0\n",
      "Episode 63 → Reward: +0.0\n",
      "Episode 64 → Reward: +1.0\n",
      "Episode 65 → Reward: +0.0\n",
      "Episode 66 → Reward: +0.0\n",
      "Episode 67 → Reward: +1.0\n",
      "Episode 68 → Reward: +0.0\n",
      "Episode 69 → Reward: +0.0\n",
      "Episode 70 → Reward: +1.0\n",
      "Episode 71 → Reward: +0.0\n",
      "Episode 72 → Reward: +0.0\n",
      "Episode 73 → Reward: +1.0\n",
      "Episode 74 → Reward: +0.0\n",
      "Episode 75 → Reward: +0.0\n",
      "Episode 76 → Reward: +0.0\n",
      "Episode 77 → Reward: +0.0\n",
      "Episode 78 → Reward: +0.0\n",
      "Episode 79 → Reward: +1.0\n",
      "Episode 80 → Reward: +1.0\n",
      "Episode 81 → Reward: +0.0\n",
      "Episode 82 → Reward: +1.0\n",
      "Episode 83 → Reward: +1.0\n",
      "Episode 84 → Reward: +0.0\n",
      "Episode 85 → Reward: +0.0\n",
      "Episode 86 → Reward: +0.0\n",
      "Episode 87 → Reward: +1.0\n",
      "Episode 88 → Reward: +0.0\n",
      "Episode 89 → Reward: +1.0\n",
      "Episode 90 → Reward: +0.0\n",
      "Episode 91 → Reward: +1.0\n",
      "Episode 92 → Reward: +0.0\n",
      "Episode 93 → Reward: +0.0\n",
      "Episode 94 → Reward: +1.0\n",
      "Episode 95 → Reward: +1.0\n",
      "Episode 96 → Reward: +1.0\n",
      "Episode 97 → Reward: +1.0\n",
      "Episode 98 → Reward: +0.0\n",
      "Episode 99 → Reward: +1.0\n",
      "Episode 100 → Reward: +1.0\n",
      "Episode 101 → Reward: +1.0\n",
      "Episode 102 → Reward: +0.0\n",
      "Episode 103 → Reward: +0.0\n",
      "Episode 104 → Reward: +1.0\n",
      "Episode 105 → Reward: +1.0\n",
      "Episode 106 → Reward: +1.0\n",
      "Episode 107 → Reward: +1.0\n",
      "Episode 108 → Reward: +1.0\n",
      "Episode 109 → Reward: +0.0\n",
      "Episode 110 → Reward: +0.0\n",
      "Episode 111 → Reward: +0.0\n",
      "Episode 112 → Reward: +1.0\n",
      "Episode 113 → Reward: +0.0\n",
      "Episode 114 → Reward: +1.0\n",
      "Episode 115 → Reward: +1.0\n",
      "Episode 116 → Reward: +1.0\n",
      "Episode 117 → Reward: +0.0\n",
      "Episode 118 → Reward: +0.0\n",
      "Episode 119 → Reward: +1.0\n",
      "Episode 120 → Reward: +1.0\n",
      "Episode 121 → Reward: +0.0\n",
      "Episode 122 → Reward: +1.0\n",
      "Episode 123 → Reward: +1.0\n",
      "Episode 124 → Reward: +0.0\n",
      "Episode 125 → Reward: +1.0\n",
      "Episode 126 → Reward: +0.0\n",
      "Episode 127 → Reward: +0.0\n",
      "Episode 128 → Reward: +1.0\n",
      "Episode 129 → Reward: +1.0\n",
      "Episode 130 → Reward: +1.0\n",
      "Episode 131 → Reward: +1.0\n",
      "Episode 132 → Reward: +0.0\n",
      "Episode 133 → Reward: +1.0\n",
      "Episode 134 → Reward: +1.0\n",
      "Episode 135 → Reward: +0.0\n",
      "Episode 136 → Reward: +0.0\n",
      "Episode 137 → Reward: +1.0\n",
      "Episode 138 → Reward: +1.0\n",
      "Episode 139 → Reward: +1.0\n",
      "Episode 140 → Reward: +0.0\n",
      "Episode 141 → Reward: +0.0\n",
      "Episode 142 → Reward: +0.0\n",
      "Episode 143 → Reward: +1.0\n",
      "Episode 144 → Reward: +0.0\n",
      "Episode 145 → Reward: +1.0\n",
      "Episode 146 → Reward: +0.0\n",
      "Episode 147 → Reward: +0.0\n",
      "Episode 148 → Reward: +0.0\n",
      "Episode 149 → Reward: +1.0\n",
      "Episode 150 → Reward: +1.0\n",
      "Episode 151 → Reward: +1.0\n",
      "Episode 152 → Reward: +0.0\n",
      "Episode 153 → Reward: +0.0\n",
      "Episode 154 → Reward: +1.0\n",
      "Episode 155 → Reward: +1.0\n",
      "Episode 156 → Reward: +1.0\n",
      "Episode 157 → Reward: +1.0\n",
      "Episode 158 → Reward: +1.0\n",
      "Episode 159 → Reward: +1.0\n",
      "Episode 160 → Reward: +1.0\n",
      "Episode 161 → Reward: +1.0\n",
      "Episode 162 → Reward: +1.0\n",
      "Episode 163 → Reward: +0.0\n",
      "Episode 164 → Reward: +1.0\n",
      "Episode 165 → Reward: +1.0\n",
      "Episode 166 → Reward: +0.0\n",
      "Episode 167 → Reward: +0.0\n",
      "Episode 168 → Reward: +1.0\n",
      "Episode 169 → Reward: +1.0\n",
      "Episode 170 → Reward: +0.0\n",
      "Episode 171 → Reward: +1.0\n",
      "Episode 172 → Reward: +1.0\n",
      "Episode 173 → Reward: +1.0\n",
      "Episode 174 → Reward: +0.0\n",
      "Episode 175 → Reward: +1.0\n",
      "Episode 176 → Reward: +0.0\n",
      "Episode 177 → Reward: +1.0\n",
      "Episode 178 → Reward: +1.0\n",
      "Episode 179 → Reward: +1.0\n",
      "Episode 180 → Reward: +0.0\n",
      "Episode 181 → Reward: +0.0\n",
      "Episode 182 → Reward: +1.0\n",
      "Episode 183 → Reward: +0.0\n",
      "Episode 184 → Reward: +0.0\n",
      "Episode 185 → Reward: +1.0\n",
      "Episode 186 → Reward: +1.0\n",
      "Episode 187 → Reward: +1.0\n",
      "Episode 188 → Reward: +0.0\n",
      "Episode 189 → Reward: +0.0\n",
      "Episode 190 → Reward: +1.0\n",
      "Episode 191 → Reward: +0.0\n",
      "Episode 192 → Reward: +0.0\n",
      "Episode 193 → Reward: +0.0\n",
      "Episode 194 → Reward: +0.0\n",
      "Episode 195 → Reward: +1.0\n",
      "Episode 196 → Reward: +0.0\n",
      "Episode 197 → Reward: +0.0\n",
      "Episode 198 → Reward: +0.0\n",
      "Episode 199 → Reward: +1.0\n",
      "Episode 200 → Reward: +0.0\n",
      "Episode 201 → Reward: +0.0\n",
      "Episode 202 → Reward: +1.0\n",
      "Episode 203 → Reward: +0.0\n",
      "Episode 204 → Reward: +1.0\n",
      "Episode 205 → Reward: +1.0\n",
      "Episode 206 → Reward: +1.0\n",
      "Episode 207 → Reward: +0.0\n",
      "Episode 208 → Reward: +1.0\n",
      "Episode 209 → Reward: +1.0\n",
      "Episode 210 → Reward: +0.0\n",
      "Episode 211 → Reward: +0.0\n",
      "Episode 212 → Reward: +1.0\n",
      "Episode 213 → Reward: +1.0\n",
      "Episode 214 → Reward: +1.0\n",
      "Episode 215 → Reward: +1.0\n",
      "Episode 216 → Reward: +1.0\n",
      "Episode 217 → Reward: +1.0\n",
      "Episode 218 → Reward: +1.0\n",
      "Episode 219 → Reward: +1.0\n",
      "Episode 220 → Reward: +1.0\n",
      "Episode 221 → Reward: +1.0\n",
      "Episode 222 → Reward: +1.0\n",
      "Episode 223 → Reward: +0.0\n",
      "Episode 224 → Reward: +1.0\n",
      "Episode 225 → Reward: +0.0\n",
      "Episode 226 → Reward: +1.0\n",
      "Episode 227 → Reward: +1.0\n",
      "Episode 228 → Reward: +0.0\n",
      "Episode 229 → Reward: +1.0\n",
      "Episode 230 → Reward: +1.0\n",
      "Episode 231 → Reward: +1.0\n",
      "Episode 232 → Reward: +1.0\n",
      "Episode 233 → Reward: +1.0\n",
      "Episode 234 → Reward: +1.0\n",
      "Episode 235 → Reward: +1.0\n",
      "Episode 236 → Reward: +0.0\n",
      "Episode 237 → Reward: +1.0\n",
      "Episode 238 → Reward: +1.0\n",
      "Episode 239 → Reward: +1.0\n",
      "Episode 240 → Reward: +1.0\n",
      "Episode 241 → Reward: +1.0\n",
      "Episode 242 → Reward: +1.0\n",
      "Episode 243 → Reward: +1.0\n",
      "Episode 244 → Reward: +1.0\n",
      "Episode 245 → Reward: +1.0\n",
      "Episode 246 → Reward: +1.0\n",
      "Episode 247 → Reward: +0.0\n",
      "Episode 248 → Reward: +0.0\n",
      "Episode 249 → Reward: +0.0\n",
      "Episode 250 → Reward: +1.0\n",
      "Episode 251 → Reward: +1.0\n",
      "Episode 252 → Reward: +1.0\n",
      "Episode 253 → Reward: +1.0\n",
      "Episode 254 → Reward: +1.0\n",
      "Episode 255 → Reward: +1.0\n",
      "Episode 256 → Reward: +0.0\n",
      "Episode 257 → Reward: +0.0\n",
      "Episode 258 → Reward: +1.0\n",
      "Episode 259 → Reward: +0.0\n",
      "Episode 260 → Reward: +0.0\n",
      "Episode 261 → Reward: +1.0\n",
      "Episode 262 → Reward: +1.0\n",
      "Episode 263 → Reward: +1.0\n",
      "Episode 264 → Reward: +0.0\n",
      "Episode 265 → Reward: +1.0\n",
      "Episode 266 → Reward: +1.0\n",
      "Episode 267 → Reward: +1.0\n",
      "Episode 268 → Reward: +1.0\n",
      "Episode 269 → Reward: +1.0\n",
      "Episode 270 → Reward: +1.0\n",
      "Episode 271 → Reward: +1.0\n",
      "Episode 272 → Reward: +1.0\n",
      "Episode 273 → Reward: +1.0\n",
      "Episode 274 → Reward: +1.0\n",
      "Episode 275 → Reward: +0.0\n",
      "Episode 276 → Reward: +1.0\n",
      "Episode 277 → Reward: +1.0\n",
      "Episode 278 → Reward: +0.0\n",
      "Episode 279 → Reward: +1.0\n",
      "Episode 280 → Reward: +1.0\n",
      "Episode 281 → Reward: +0.0\n",
      "Episode 282 → Reward: +1.0\n",
      "Episode 283 → Reward: +1.0\n",
      "Episode 284 → Reward: +1.0\n",
      "Episode 285 → Reward: +1.0\n",
      "Episode 286 → Reward: +0.0\n",
      "Episode 287 → Reward: +1.0\n",
      "Episode 288 → Reward: +1.0\n",
      "Episode 289 → Reward: +0.0\n",
      "Episode 290 → Reward: +1.0\n",
      "Episode 291 → Reward: +1.0\n",
      "Episode 292 → Reward: +0.0\n",
      "Episode 293 → Reward: +0.0\n",
      "Episode 294 → Reward: +1.0\n",
      "Episode 295 → Reward: +0.0\n",
      "Episode 296 → Reward: +1.0\n",
      "Episode 297 → Reward: +1.0\n",
      "Episode 298 → Reward: +1.0\n",
      "Episode 299 → Reward: +1.0\n",
      "Episode 300 → Reward: +1.0\n",
      "Episode 301 → Reward: +1.0\n",
      "Episode 302 → Reward: +1.0\n",
      "Episode 303 → Reward: +1.0\n",
      "Episode 304 → Reward: +1.0\n",
      "Episode 305 → Reward: +0.0\n",
      "Episode 306 → Reward: +1.0\n",
      "Episode 307 → Reward: +0.0\n",
      "Episode 308 → Reward: +1.0\n",
      "Episode 309 → Reward: +1.0\n",
      "Episode 310 → Reward: +0.0\n",
      "Episode 311 → Reward: +0.0\n",
      "Episode 312 → Reward: +0.0\n",
      "Episode 313 → Reward: +1.0\n",
      "Episode 314 → Reward: +1.0\n",
      "Episode 315 → Reward: +1.0\n",
      "Episode 316 → Reward: +1.0\n",
      "Episode 317 → Reward: +0.0\n",
      "Episode 318 → Reward: +0.0\n",
      "Episode 319 → Reward: +1.0\n",
      "Episode 320 → Reward: +1.0\n",
      "Episode 321 → Reward: +1.0\n",
      "Episode 322 → Reward: +1.0\n",
      "Episode 323 → Reward: +1.0\n",
      "Episode 324 → Reward: +0.0\n",
      "Episode 325 → Reward: +0.0\n",
      "Episode 326 → Reward: +0.0\n",
      "Episode 327 → Reward: +0.0\n",
      "Episode 328 → Reward: +1.0\n",
      "Episode 329 → Reward: +1.0\n",
      "Episode 330 → Reward: +1.0\n",
      "Episode 331 → Reward: +1.0\n",
      "Episode 332 → Reward: +1.0\n",
      "Episode 333 → Reward: +0.0\n",
      "Episode 334 → Reward: +0.0\n",
      "Episode 335 → Reward: +0.0\n",
      "Episode 336 → Reward: +1.0\n",
      "Episode 337 → Reward: +1.0\n",
      "Episode 338 → Reward: +1.0\n",
      "Episode 339 → Reward: +1.0\n",
      "Episode 340 → Reward: +1.0\n",
      "Episode 341 → Reward: +0.0\n",
      "Episode 342 → Reward: +0.0\n",
      "Episode 343 → Reward: +0.0\n",
      "Episode 344 → Reward: +0.0\n",
      "Episode 345 → Reward: +1.0\n",
      "Episode 346 → Reward: +0.0\n",
      "Episode 347 → Reward: +1.0\n",
      "Episode 348 → Reward: +1.0\n",
      "Episode 349 → Reward: +1.0\n",
      "Episode 350 → Reward: +0.0\n",
      "Episode 351 → Reward: +1.0\n",
      "Episode 352 → Reward: +1.0\n",
      "Episode 353 → Reward: +0.0\n",
      "Episode 354 → Reward: +1.0\n",
      "Episode 355 → Reward: +0.0\n",
      "Episode 356 → Reward: +1.0\n",
      "Episode 357 → Reward: +1.0\n",
      "Episode 358 → Reward: +0.0\n",
      "Episode 359 → Reward: +1.0\n",
      "Episode 360 → Reward: +0.0\n",
      "Episode 361 → Reward: +1.0\n",
      "Episode 362 → Reward: +1.0\n",
      "Episode 363 → Reward: +1.0\n",
      "Episode 364 → Reward: +1.0\n",
      "Episode 365 → Reward: +1.0\n",
      "Episode 366 → Reward: +1.0\n",
      "Episode 367 → Reward: +1.0\n",
      "Episode 368 → Reward: +1.0\n",
      "Episode 369 → Reward: +1.0\n",
      "Episode 370 → Reward: +0.0\n",
      "Episode 371 → Reward: +1.0\n",
      "Episode 372 → Reward: +1.0\n",
      "Episode 373 → Reward: +1.0\n",
      "Episode 374 → Reward: +1.0\n",
      "Episode 375 → Reward: +1.0\n",
      "Episode 376 → Reward: +1.0\n",
      "Episode 377 → Reward: +1.0\n",
      "Episode 378 → Reward: +1.0\n",
      "Episode 379 → Reward: +1.0\n",
      "Episode 380 → Reward: +0.0\n",
      "Episode 381 → Reward: +1.0\n",
      "Episode 382 → Reward: +1.0\n",
      "Episode 383 → Reward: +1.0\n",
      "Episode 384 → Reward: +1.0\n",
      "Episode 385 → Reward: +1.0\n",
      "Episode 386 → Reward: +0.0\n",
      "Episode 387 → Reward: +1.0\n",
      "Episode 388 → Reward: +1.0\n",
      "Episode 389 → Reward: +1.0\n",
      "Episode 390 → Reward: +0.0\n",
      "Episode 391 → Reward: +1.0\n",
      "Episode 392 → Reward: +0.0\n",
      "Episode 393 → Reward: +1.0\n",
      "Episode 394 → Reward: +1.0\n",
      "Episode 395 → Reward: +0.0\n",
      "Episode 396 → Reward: +1.0\n",
      "Episode 397 → Reward: +1.0\n",
      "Episode 398 → Reward: +1.0\n",
      "Episode 399 → Reward: +1.0\n",
      "Episode 400 → Reward: +1.0\n",
      "Episode 401 → Reward: +0.0\n",
      "Episode 402 → Reward: +1.0\n",
      "Episode 403 → Reward: +1.0\n",
      "Episode 404 → Reward: +1.0\n",
      "Episode 405 → Reward: +0.0\n",
      "Episode 406 → Reward: +0.0\n",
      "Episode 407 → Reward: +1.0\n",
      "Episode 408 → Reward: +0.0\n",
      "Episode 409 → Reward: +1.0\n",
      "Episode 410 → Reward: +1.0\n",
      "Episode 411 → Reward: +1.0\n",
      "Episode 412 → Reward: +1.0\n",
      "Episode 413 → Reward: +0.0\n",
      "Episode 414 → Reward: +0.0\n",
      "Episode 415 → Reward: +1.0\n",
      "Episode 416 → Reward: +0.0\n",
      "Episode 417 → Reward: +0.0\n",
      "Episode 418 → Reward: +1.0\n",
      "Episode 419 → Reward: +1.0\n",
      "Episode 420 → Reward: +1.0\n",
      "Episode 421 → Reward: +1.0\n",
      "Episode 422 → Reward: +1.0\n",
      "Episode 423 → Reward: +1.0\n",
      "Episode 424 → Reward: +0.0\n",
      "Episode 425 → Reward: +1.0\n",
      "Episode 426 → Reward: +0.0\n",
      "Episode 427 → Reward: +1.0\n",
      "Episode 428 → Reward: +1.0\n",
      "Episode 429 → Reward: +1.0\n",
      "Episode 430 → Reward: +1.0\n",
      "Episode 431 → Reward: +0.0\n",
      "Episode 432 → Reward: +1.0\n",
      "Episode 433 → Reward: +1.0\n",
      "Episode 434 → Reward: +0.0\n",
      "Episode 435 → Reward: +1.0\n",
      "Episode 436 → Reward: +1.0\n",
      "Episode 437 → Reward: +1.0\n",
      "Episode 438 → Reward: +1.0\n",
      "Episode 439 → Reward: +1.0\n",
      "Episode 440 → Reward: +0.0\n",
      "Episode 441 → Reward: +1.0\n",
      "Episode 442 → Reward: +1.0\n",
      "Episode 443 → Reward: +1.0\n",
      "Episode 444 → Reward: +1.0\n",
      "Episode 445 → Reward: +1.0\n",
      "Episode 446 → Reward: +1.0\n",
      "Episode 447 → Reward: +1.0\n",
      "Episode 448 → Reward: +1.0\n",
      "Episode 449 → Reward: +1.0\n",
      "Episode 450 → Reward: +1.0\n",
      "Episode 451 → Reward: +1.0\n",
      "Episode 452 → Reward: +1.0\n",
      "Episode 453 → Reward: +1.0\n",
      "Episode 454 → Reward: +1.0\n",
      "Episode 455 → Reward: +1.0\n",
      "Episode 456 → Reward: +1.0\n",
      "Episode 457 → Reward: +1.0\n",
      "Episode 458 → Reward: +1.0\n",
      "Episode 459 → Reward: +1.0\n",
      "Episode 460 → Reward: +1.0\n",
      "Episode 461 → Reward: +1.0\n",
      "Episode 462 → Reward: +1.0\n",
      "Episode 463 → Reward: +1.0\n",
      "Episode 464 → Reward: +1.0\n",
      "Episode 465 → Reward: +0.0\n",
      "Episode 466 → Reward: +1.0\n",
      "Episode 467 → Reward: +0.0\n",
      "Episode 468 → Reward: +1.0\n",
      "Episode 469 → Reward: +1.0\n",
      "Episode 470 → Reward: +1.0\n",
      "Episode 471 → Reward: +1.0\n",
      "Episode 472 → Reward: +1.0\n",
      "Episode 473 → Reward: +1.0\n",
      "Episode 474 → Reward: +0.0\n",
      "Episode 475 → Reward: +1.0\n",
      "Episode 476 → Reward: +1.0\n",
      "Episode 477 → Reward: +1.0\n",
      "Episode 478 → Reward: +1.0\n",
      "Episode 479 → Reward: +1.0\n",
      "Episode 480 → Reward: +1.0\n",
      "Episode 481 → Reward: +1.0\n",
      "Episode 482 → Reward: +1.0\n",
      "Episode 483 → Reward: +0.0\n",
      "Episode 484 → Reward: +1.0\n",
      "Episode 485 → Reward: +1.0\n",
      "Episode 486 → Reward: +1.0\n",
      "Episode 487 → Reward: +1.0\n",
      "Episode 488 → Reward: +1.0\n",
      "Episode 489 → Reward: +1.0\n",
      "Episode 490 → Reward: +1.0\n",
      "Episode 491 → Reward: +1.0\n",
      "Episode 492 → Reward: +1.0\n",
      "Episode 493 → Reward: +1.0\n",
      "Episode 494 → Reward: +0.0\n",
      "Episode 495 → Reward: +0.0\n",
      "Episode 496 → Reward: +0.0\n",
      "Episode 497 → Reward: +0.0\n",
      "Episode 498 → Reward: +1.0\n",
      "Episode 499 → Reward: +0.0\n",
      "Episode 500 → Reward: +1.0\n",
      "\n",
      "Did not converge within 10 episodes.\n",
      "\n",
      "Running 10 test episodes with the trained policy:\n"
     ]
    }
   ],
   "source": [
    "# 1) Let us create a default config and default Q Learning Agent\n",
    "config = QLearningConfig(\n",
    "    learning_rate=0.1,\n",
    "    discount_factor=0.99,\n",
    "    epsilon_start=1.0,\n",
    "    epsilon_decay=0.9985,\n",
    "    epsilon_min=0.05,\n",
    "    max_steps_per_episode=100,\n",
    "    video_dir=\"exports/monty_hall\",\n",
    ")\n",
    "\n",
    "# 2) Create an instance of the Monty Hall environment\n",
    "register(\n",
    "    id=\"MontyHall-v0\",\n",
    "    entry_point=\"src.environments:MontyHallEnv\"\n",
    ")\n",
    "env = gym.make(\n",
    "    \"MontyHall-v0\",\n",
    "    n_doors=3,\n",
    "    n_cars=1,\n",
    "    render_mode=\"rgb_array\",\n",
    ")\n",
    "\n",
    "# 2a) Tabular Q Learning requires a Discrete action space: not MultiDiscrete\n",
    "env = MontyHallDiscreteWrapper(env)\n",
    "\n",
    "# 3) An instance of Tabular Q Learning\n",
    "agent = QLearningAgent(env, config)\n",
    "\n",
    "# 4) Train for 500 episodes\n",
    "num_episodes = 500\n",
    "episode_rewards, converged_episode, converged_time = agent.train(\n",
    "    episodes=num_episodes,\n",
    "    log_interval=10,\n",
    ")\n",
    "\n",
    "# 4) Print out what happened each episode\n",
    "for i, r in enumerate(episode_rewards, start=1):\n",
    "    print(f\"Episode {i:2d} → Reward: {r:+.1f}\")\n",
    "\n",
    "if converged_episode != -1:\n",
    "    print(f\"\\nConverged at episode {converged_episode} after {converged_time:.2f}s\")\n",
    "else:\n",
    "    print(\"\\nDid not converge within 10 episodes.\")\n",
    "\n",
    "# 5) See the policy\n",
    "print(\"\\nRunning 10 test episodes with the trained policy:\")\n",
    "agent.test(episodes=10)\n",
    "\n",
    "env.close()"
   ]
  },
  {
   "cell_type": "markdown",
   "id": "84a9805a",
   "metadata": {},
   "source": [
    "# Visualisation of Training\n",
    "Here, we want to visualise how well our training went in terms of the reward achieved throughout the episodes encountered by our training algorithm. The best way to do this is quite simple: plot the training so far."
   ]
  },
  {
   "cell_type": "code",
   "execution_count": 3,
   "id": "0afe5b41",
   "metadata": {},
   "outputs": [
    {
     "data": {
      "image/png": "[encoded data removed]",
      "text/plain": [
       "<Figure size 1200x600 with 1 Axes>"
      ]
     },
     "metadata": {},
     "output_type": "display_data"
    }
   ],
   "source": [
    "dpi     = 120       # figure resolution\n",
    "\n",
    "r = np.asarray(episode_rewards, dtype=float)\n",
    "\n",
    "cumsum = np.cumsum(np.insert(r, 0, 0))\n",
    "smooth = (cumsum[num_episodes:] - cumsum[:-num_episodes]) / num_episodes\n",
    "episodes_smooth = np.arange(len(smooth)) + num_episodes//2 + 1\n",
    "\n",
    "plt.figure(figsize=(10, 5), dpi=dpi)\n",
    "plt.plot(range(1, len(r) + 1), r, alpha=0.25, label='Episode reward')\n",
    "\n",
    "plt.title('Training Performance: Episode Rewards', fontsize=14)\n",
    "plt.xlabel('Episode')\n",
    "plt.ylabel('Reward')\n",
    "plt.legend(frameon=False)\n",
    "plt.grid(alpha=0.3)\n",
    "plt.tight_layout()\n",
    "plt.show()"
   ]
  },
  {
   "cell_type": "markdown",
   "id": "96aa10cd",
   "metadata": {},
   "source": [
    "# Hyperparameter tuning\n",
    "Some Reinforcement Learning algorithms have an abundance of parameters; especially in the territory of Deep Reinforcement Learning, where you could tune the batch size and even the neural network layout, amongst the learning rate and exploration rate.\n",
    "\n",
    "Therefore, it is important that we are able to systematically tune these hyperparameters in an automated fashion, as the number of combinations of parameters and interdependent effects are too numerous to manually tune (aside from setting a good starting point). Tuning is an art in and of itself, and is a form of optimization. Luckily, many libraries exist for finding the optimal set of hyperparameters, using various different approaches such as genetic algorithms, in order to explore and exploit areas of the tuning state space that are promising automatically.\n",
    "\n",
    "## How does it work?\n",
    "Exactly how hyperparameter tuning chooses to select combinations of parameters, continue runs (also known as *sweeps*, each sweep having an unique combination of parameters) or stop early, is an art in and of itself. There are many methods and algorithms that are out of scope for this project, although it should be noted that we are not simply enumerating all possible parameters as in a grid search, for example instead we can choose to use a random search or Bayes search.\n",
    "\n",
    "What we define is a tunable parameter, such as the following:\n",
    "```python\n",
    "        learning_rate   = dict(min=1e-5,  max=1e-2,  distribution=\"log_uniform_values\"),\n",
    "```\n",
    "* **What it is:** a rule for the hyperparameter tuning library, stating it should *try out different learning-rates* during a hyperparameter sweep.\n",
    "* **The range:** it may pick anything between **0.00001** and **0.01**.\n",
    "* **How the picks are made:** not evenly spaced, but **log-uniformly**.\n",
    "\n",
    "  * Think “pick a random exponent” rather than “pick a random number.”\n",
    "  * Each order of magnitude (10⁻⁵ → 10⁻⁴ → 10⁻³ → 10⁻²) is equally likely.\n",
    "\n",
    "Why log-uniform?\n",
    "\n",
    "1. With learning rates, what matters is usually the *order of magnitude*, not the exact decimal.\n",
    "2. A log-uniform draw therefore spends just as much effort exploring tiny values (which often work best) as it does larger ones.\n",
    "\n",
    "In short: *“Try lots of learning-rates between 0.000 01 and 0.01, giving every magnitude the same chance, because we don’t yet know which size step the optimiser will like.”*\n",
    "\n",
    "This is just one tunable parameter, and the problem of hyperparameter tuning is you have to select values for multiple hyperparameters at the same time, where hyperparameters are not always independent of each other, and you have limited compute time to run these experiments in. This is why specialised algorithms exist just for hyperparameter tuning.\n",
    "\n",
    "## Why is hyperparameter tuning needed?\n",
    "Finding the best set of hyperparameters allows converging (achieving the optimal/best performance) in a quicker fashion. It is possible that a default set of hyperparameters could converge to an optimal policy, but take 1000 times longer than using a set of optimal hyperparameters. Sometimes, without optimal hyperparameters it can also be easy for the policy to appear it has converged but it has converged to a sub-optimal policy instead of the policy that produces the best reward.\n",
    "\n",
    "## Weights and Biases\n",
    "Weights and Biases (referred to commonly as W&B or WandB) is a standard tool used in both industry and academia for tracking (and storing) the results of experiments. In other words, Weights and Biases is an end-to-end developer platform that keeps every experiment, dataset, model checkpoint, and evaluation in a single, searchable workspace.\n",
    "\n",
    "Specifically, we use it both as a hyperparameter tuning library and storing the results of experiments based on these hyperparameters.\n",
    "\n",
    "You can find more information at: https://docs.wandb.ai/quickstart/"
   ]
  },
  {
   "cell_type": "code",
   "execution_count": 4,
   "id": "921bdc89",
   "metadata": {},
   "outputs": [
    {
     "name": "stderr",
     "output_type": "stream",
     "text": [
      "\u001b[34m\u001b[1mwandb\u001b[0m: Currently logged in as: \u001b[33mmagicayyub\u001b[0m (\u001b[33mmagicayyub-lab\u001b[0m) to \u001b[32mhttps://api.wandb.ai\u001b[0m. Use \u001b[1m`wandb login --relogin`\u001b[0m to force relogin\n"
     ]
    },
    {
     "data": {
      "text/plain": [
       "True"
      ]
     },
     "execution_count": 4,
     "metadata": {},
     "output_type": "execute_result"
    }
   ],
   "source": [
    "wandb.login() # See https://docs.wandb.ai/quickstart/"
   ]
  },
  {
   "cell_type": "code",
   "execution_count": 5,
   "id": "65082f81",
   "metadata": {},
   "outputs": [],
   "source": [
    "def train_sweep() -> None:\n",
    "    \"\"\"  One full training run driven by a set of hyper-parameters coming\n",
    "    from wandb.config. Logs metrics to W&B at the end of every episode.\n",
    "    \"\"\"\n",
    "    with wandb.init(project=\"montyhall-ql\") as run:\n",
    "        cfg = run.config\n",
    "\n",
    "        # 1. Converting the Weight & Biases Config -> Q Learning Config\n",
    "        qcfg = QLearningConfig(\n",
    "            learning_rate   = cfg.learning_rate,\n",
    "            discount_factor = cfg.discount_factor,\n",
    "            epsilon_start   = 1.0,\n",
    "            epsilon_decay   = cfg.epsilon_decay,\n",
    "            epsilon_min     = 0.05,\n",
    "            max_steps_per_episode = 100,\n",
    "            video_dir       = None\n",
    "        )\n",
    "\n",
    "        # 2️) Create env & agent\n",
    "        env  = gym.make(\"MontyHall-v0\", n_doors=3, n_cars=1, render_mode=None)\n",
    "        env  = MontyHallDiscreteWrapper(env)\n",
    "        agent = QLearningAgent(env, qcfg)\n",
    "\n",
    "        # 3️) Run training loop\n",
    "        episode_rewards, converged_ep, converged_t = agent.train(\n",
    "            episodes     = 500,\n",
    "            log_interval = 25,\n",
    "        )\n",
    "\n",
    "        # 4️) Log summary metrics & clean up\n",
    "        wandb.log({\n",
    "            \"best_reward\"      : max(episode_rewards),\n",
    "            \"converged_episode\": converged_ep,\n",
    "            \"train_time_sec\"   : converged_t,\n",
    "        })\n",
    "        env.close()"
   ]
  },
  {
   "cell_type": "code",
   "execution_count": 6,
   "id": "980b469b",
   "metadata": {},
   "outputs": [
    {
     "name": "stdout",
     "output_type": "stream",
     "text": [
      "Create sweep with ID: 9cdpki6q\n",
      "Sweep URL: https://wandb.ai/magicayyub-lab/montyhall-ql/sweeps/9cdpki6q\n"
     ]
    },
    {
     "name": "stderr",
     "output_type": "stream",
     "text": [
      "\u001b[34m\u001b[1mwandb\u001b[0m: Agent Starting Run: mu1uncc2 with config:\n",
      "\u001b[34m\u001b[1mwandb\u001b[0m: \tdiscount_factor: 0.8400791994326674\n",
      "\u001b[34m\u001b[1mwandb\u001b[0m: \tepsilon_decay: 0.968496460539946\n",
      "\u001b[34m\u001b[1mwandb\u001b[0m: \tlearning_rate: 2.2817997105230663e-05\n"
     ]
    },
    {
     "data": {
      "text/html": [
       "Changes to your `wandb` environment variables will be ignored because your `wandb` session has already started. For more information on how to modify your settings with `wandb.init()` arguments, please refer to <a href='https://wandb.me/wandb-init' target=\"_blank\">the W&B docs</a>."
      ],
      "text/plain": [
       "<IPython.core.display.HTML object>"
      ]
     },
     "metadata": {},
     "output_type": "display_data"
    },
    {
     "data": {
      "text/html": [
       "Ignoring project 'montyhall-ql' when running a sweep."
      ],
      "text/plain": [
       "<IPython.core.display.HTML object>"
      ]
     },
     "metadata": {},
     "output_type": "display_data"
    },
    {
     "data": {
      "text/html": [
       "Waiting for wandb.init()..."
      ],
      "text/plain": [
       "<IPython.core.display.HTML object>"
      ]
     },
     "metadata": {},
     "output_type": "display_data"
    },
    {
     "data": {
      "text/html": [
       "Tracking run with wandb version 0.21.2"
      ],
      "text/plain": [
       "<IPython.core.display.HTML object>"
      ]
     },
     "metadata": {},
     "output_type": "display_data"
    },
    {
     "data": {
      "text/html": [
       "Run data is saved locally in <code>/Users/ayouba/Documents/laboratoire/RL/wandb/run-20250830_040216-mu1uncc2</code>"
      ],
      "text/plain": [
       "<IPython.core.display.HTML object>"
      ]
     },
     "metadata": {},
     "output_type": "display_data"
    },
    {
     "data": {
      "text/html": [
       "Syncing run <strong><a href='https://wandb.ai/magicayyub-lab/montyhall-ql/runs/mu1uncc2' target=\"_blank\">bumbling-sweep-1</a></strong> to <a href='https://wandb.ai/magicayyub-lab/montyhall-ql' target=\"_blank\">Weights & Biases</a> (<a href='https://wandb.me/developer-guide' target=\"_blank\">docs</a>)<br>Sweep page: <a href='https://wandb.ai/magicayyub-lab/montyhall-ql/sweeps/9cdpki6q' target=\"_blank\">https://wandb.ai/magicayyub-lab/montyhall-ql/sweeps/9cdpki6q</a>"
      ],
      "text/plain": [
       "<IPython.core.display.HTML object>"
      ]
     },
     "metadata": {},
     "output_type": "display_data"
    },
    {
     "data": {
      "text/html": [
       " View project at <a href='https://wandb.ai/magicayyub-lab/montyhall-ql' target=\"_blank\">https://wandb.ai/magicayyub-lab/montyhall-ql</a>"
      ],
      "text/plain": [
       "<IPython.core.display.HTML object>"
      ]
     },
     "metadata": {},
     "output_type": "display_data"
    },
    {
     "data": {
      "text/html": [
       " View sweep at <a href='https://wandb.ai/magicayyub-lab/montyhall-ql/sweeps/9cdpki6q' target=\"_blank\">https://wandb.ai/magicayyub-lab/montyhall-ql/sweeps/9cdpki6q</a>"
      ],
      "text/plain": [
       "<IPython.core.display.HTML object>"
      ]
     },
     "metadata": {},
     "output_type": "display_data"
    },
    {
     "data": {
      "text/html": [
       " View run at <a href='https://wandb.ai/magicayyub-lab/montyhall-ql/runs/mu1uncc2' target=\"_blank\">https://wandb.ai/magicayyub-lab/montyhall-ql/runs/mu1uncc2</a>"
      ],
      "text/plain": [
       "<IPython.core.display.HTML object>"
      ]
     },
     "metadata": {},
     "output_type": "display_data"
    },
    {
     "name": "stderr",
     "output_type": "stream",
     "text": [
      "\u001b[32m2025-08-30 04:02:17.045\u001b[0m | \u001b[1mINFO    \u001b[0m | \u001b[36msrc.rl.tabular_q_learning\u001b[0m:\u001b[36mtrain\u001b[0m:\u001b[36m226\u001b[0m - \u001b[1mEpisode    25 | R: +0.0 | ε: 0.449\u001b[0m\n",
      "\u001b[32m2025-08-30 04:02:17.047\u001b[0m | \u001b[1mINFO    \u001b[0m | \u001b[36msrc.rl.tabular_q_learning\u001b[0m:\u001b[36mtrain\u001b[0m:\u001b[36m226\u001b[0m - \u001b[1mEpisode    50 | R: +1.0 | ε: 0.202\u001b[0m\n",
      "\u001b[32m2025-08-30 04:02:17.048\u001b[0m | \u001b[1mINFO    \u001b[0m | \u001b[36msrc.rl.tabular_q_learning\u001b[0m:\u001b[36mtrain\u001b[0m:\u001b[36m226\u001b[0m - \u001b[1mEpisode    75 | R: +1.0 | ε: 0.091\u001b[0m\n",
      "\u001b[32m2025-08-30 04:02:17.050\u001b[0m | \u001b[1mINFO    \u001b[0m | \u001b[36msrc.rl.tabular_q_learning\u001b[0m:\u001b[36mtrain\u001b[0m:\u001b[36m226\u001b[0m - \u001b[1mEpisode   100 | R: +1.0 | ε: 0.050\u001b[0m\n",
      "\u001b[32m2025-08-30 04:02:17.052\u001b[0m | \u001b[1mINFO    \u001b[0m | \u001b[36msrc.rl.tabular_q_learning\u001b[0m:\u001b[36mtrain\u001b[0m:\u001b[36m226\u001b[0m - \u001b[1mEpisode   125 | R: +1.0 | ε: 0.050\u001b[0m\n",
      "\u001b[32m2025-08-30 04:02:17.054\u001b[0m | \u001b[1mINFO    \u001b[0m | \u001b[36msrc.rl.tabular_q_learning\u001b[0m:\u001b[36mtrain\u001b[0m:\u001b[36m226\u001b[0m - \u001b[1mEpisode   150 | R: +1.0 | ε: 0.050\u001b[0m\n",
      "\u001b[32m2025-08-30 04:02:17.056\u001b[0m | \u001b[1mINFO    \u001b[0m | \u001b[36msrc.rl.tabular_q_learning\u001b[0m:\u001b[36mtrain\u001b[0m:\u001b[36m226\u001b[0m - \u001b[1mEpisode   175 | R: +1.0 | ε: 0.050\u001b[0m\n",
      "\u001b[32m2025-08-30 04:02:17.060\u001b[0m | \u001b[1mINFO    \u001b[0m | \u001b[36msrc.rl.tabular_q_learning\u001b[0m:\u001b[36mtrain\u001b[0m:\u001b[36m226\u001b[0m - \u001b[1mEpisode   200 | R: +1.0 | ε: 0.050\u001b[0m\n",
      "\u001b[32m2025-08-30 04:02:17.062\u001b[0m | \u001b[1mINFO    \u001b[0m | \u001b[36msrc.rl.tabular_q_learning\u001b[0m:\u001b[36mtrain\u001b[0m:\u001b[36m226\u001b[0m - \u001b[1mEpisode   225 | R: +1.0 | ε: 0.050\u001b[0m\n",
      "\u001b[32m2025-08-30 04:02:17.064\u001b[0m | \u001b[1mINFO    \u001b[0m | \u001b[36msrc.rl.tabular_q_learning\u001b[0m:\u001b[36mtrain\u001b[0m:\u001b[36m226\u001b[0m - \u001b[1mEpisode   250 | R: +1.0 | ε: 0.050\u001b[0m\n",
      "\u001b[32m2025-08-30 04:02:17.067\u001b[0m | \u001b[1mINFO    \u001b[0m | \u001b[36msrc.rl.tabular_q_learning\u001b[0m:\u001b[36mtrain\u001b[0m:\u001b[36m226\u001b[0m - \u001b[1mEpisode   275 | R: +1.0 | ε: 0.050\u001b[0m\n",
      "\u001b[32m2025-08-30 04:02:17.069\u001b[0m | \u001b[1mINFO    \u001b[0m | \u001b[36msrc.rl.tabular_q_learning\u001b[0m:\u001b[36mtrain\u001b[0m:\u001b[36m226\u001b[0m - \u001b[1mEpisode   300 | R: +1.0 | ε: 0.050\u001b[0m\n",
      "\u001b[32m2025-08-30 04:02:17.072\u001b[0m | \u001b[1mINFO    \u001b[0m | \u001b[36msrc.rl.tabular_q_learning\u001b[0m:\u001b[36mtrain\u001b[0m:\u001b[36m226\u001b[0m - \u001b[1mEpisode   325 | R: +1.0 | ε: 0.050\u001b[0m\n",
      "\u001b[32m2025-08-30 04:02:17.075\u001b[0m | \u001b[1mINFO    \u001b[0m | \u001b[36msrc.rl.tabular_q_learning\u001b[0m:\u001b[36mtrain\u001b[0m:\u001b[36m226\u001b[0m - \u001b[1mEpisode   350 | R: +1.0 | ε: 0.050\u001b[0m\n",
      "\u001b[32m2025-08-30 04:02:17.077\u001b[0m | \u001b[1mINFO    \u001b[0m | \u001b[36msrc.rl.tabular_q_learning\u001b[0m:\u001b[36mtrain\u001b[0m:\u001b[36m226\u001b[0m - \u001b[1mEpisode   375 | R: +1.0 | ε: 0.050\u001b[0m\n",
      "\u001b[32m2025-08-30 04:02:17.079\u001b[0m | \u001b[32m\u001b[1mSUCCESS \u001b[0m | \u001b[36msrc.rl.tabular_q_learning\u001b[0m:\u001b[36mtrain\u001b[0m:\u001b[36m237\u001b[0m - \u001b[32m\u001b[1mConverged at episode 394 after 0.04s\u001b[0m\n",
      "\u001b[32m2025-08-30 04:02:17.079\u001b[0m | \u001b[1mINFO    \u001b[0m | \u001b[36msrc.rl.tabular_q_learning\u001b[0m:\u001b[36mtrain\u001b[0m:\u001b[36m226\u001b[0m - \u001b[1mEpisode   400 | R: +1.0 | ε: 0.050\u001b[0m\n",
      "\u001b[32m2025-08-30 04:02:17.081\u001b[0m | \u001b[1mINFO    \u001b[0m | \u001b[36msrc.rl.tabular_q_learning\u001b[0m:\u001b[36mtrain\u001b[0m:\u001b[36m226\u001b[0m - \u001b[1mEpisode   425 | R: +1.0 | ε: 0.050\u001b[0m\n",
      "\u001b[32m2025-08-30 04:02:17.084\u001b[0m | \u001b[1mINFO    \u001b[0m | \u001b[36msrc.rl.tabular_q_learning\u001b[0m:\u001b[36mtrain\u001b[0m:\u001b[36m226\u001b[0m - \u001b[1mEpisode   450 | R: +1.0 | ε: 0.050\u001b[0m\n",
      "\u001b[32m2025-08-30 04:02:17.086\u001b[0m | \u001b[1mINFO    \u001b[0m | \u001b[36msrc.rl.tabular_q_learning\u001b[0m:\u001b[36mtrain\u001b[0m:\u001b[36m226\u001b[0m - \u001b[1mEpisode   475 | R: +1.0 | ε: 0.050\u001b[0m\n",
      "\u001b[32m2025-08-30 04:02:17.088\u001b[0m | \u001b[1mINFO    \u001b[0m | \u001b[36msrc.rl.tabular_q_learning\u001b[0m:\u001b[36mtrain\u001b[0m:\u001b[36m226\u001b[0m - \u001b[1mEpisode   500 | R: +1.0 | ε: 0.050\u001b[0m\n"
     ]
    },
    {
     "data": {
      "text/html": [],
      "text/plain": [
       "<IPython.core.display.HTML object>"
      ]
     },
     "metadata": {},
     "output_type": "display_data"
    },
    {
     "data": {
      "text/html": [
       "<br>    <style><br>        .wandb-row {<br>            display: flex;<br>            flex-direction: row;<br>            flex-wrap: wrap;<br>            justify-content: flex-start;<br>            width: 100%;<br>        }<br>        .wandb-col {<br>            display: flex;<br>            flex-direction: column;<br>            flex-basis: 100%;<br>            flex: 1;<br>            padding: 10px;<br>        }<br>    </style><br><div class=\"wandb-row\"><div class=\"wandb-col\"><h3>Run history:</h3><br/><table class=\"wandb\"><tr><td>best_reward</td><td>▁</td></tr><tr><td>converged_episode</td><td>▁</td></tr><tr><td>train_time_sec</td><td>▁</td></tr></table><br/></div><div class=\"wandb-col\"><h3>Run summary:</h3><br/><table class=\"wandb\"><tr><td>best_reward</td><td>1</td></tr><tr><td>converged_episode</td><td>394</td></tr><tr><td>train_time_sec</td><td>0.03564</td></tr></table><br/></div></div>"
      ],
      "text/plain": [
       "<IPython.core.display.HTML object>"
      ]
     },
     "metadata": {},
     "output_type": "display_data"
    },
    {
     "data": {
      "text/html": [
       " View run <strong style=\"color:#cdcd00\">bumbling-sweep-1</strong> at: <a href='https://wandb.ai/magicayyub-lab/montyhall-ql/runs/mu1uncc2' target=\"_blank\">https://wandb.ai/magicayyub-lab/montyhall-ql/runs/mu1uncc2</a><br> View project at: <a href='https://wandb.ai/magicayyub-lab/montyhall-ql' target=\"_blank\">https://wandb.ai/magicayyub-lab/montyhall-ql</a><br>Synced 5 W&B file(s), 0 media file(s), 0 artifact file(s) and 0 other file(s)"
      ],
      "text/plain": [
       "<IPython.core.display.HTML object>"
      ]
     },
     "metadata": {},
     "output_type": "display_data"
    },
    {
     "data": {
      "text/html": [
       "Find logs at: <code>./wandb/run-20250830_040216-mu1uncc2/logs</code>"
      ],
      "text/plain": [
       "<IPython.core.display.HTML object>"
      ]
     },
     "metadata": {},
     "output_type": "display_data"
    },
    {
     "name": "stderr",
     "output_type": "stream",
     "text": [
      "\u001b[34m\u001b[1mwandb\u001b[0m: Agent Starting Run: jmuadp1g with config:\n",
      "\u001b[34m\u001b[1mwandb\u001b[0m: \tdiscount_factor: 0.9670452556264016\n",
      "\u001b[34m\u001b[1mwandb\u001b[0m: \tepsilon_decay: 0.9808172294085244\n",
      "\u001b[34m\u001b[1mwandb\u001b[0m: \tlearning_rate: 0.001730099107889011\n"
     ]
    },
    {
     "data": {
      "text/html": [
       "Changes to your `wandb` environment variables will be ignored because your `wandb` session has already started. For more information on how to modify your settings with `wandb.init()` arguments, please refer to <a href='https://wandb.me/wandb-init' target=\"_blank\">the W&B docs</a>."
      ],
      "text/plain": [
       "<IPython.core.display.HTML object>"
      ]
     },
     "metadata": {},
     "output_type": "display_data"
    },
    {
     "data": {
      "text/html": [
       "Ignoring project 'montyhall-ql' when running a sweep."
      ],
      "text/plain": [
       "<IPython.core.display.HTML object>"
      ]
     },
     "metadata": {},
     "output_type": "display_data"
    },
    {
     "data": {
      "text/html": [
       "Waiting for wandb.init()..."
      ],
      "text/plain": [
       "<IPython.core.display.HTML object>"
      ]
     },
     "metadata": {},
     "output_type": "display_data"
    },
    {
     "data": {
      "text/html": [
       "Tracking run with wandb version 0.21.2"
      ],
      "text/plain": [
       "<IPython.core.display.HTML object>"
      ]
     },
     "metadata": {},
     "output_type": "display_data"
    },
    {
     "data": {
      "text/html": [
       "Run data is saved locally in <code>/Users/ayouba/Documents/laboratoire/RL/wandb/run-20250830_040221-jmuadp1g</code>"
      ],
      "text/plain": [
       "<IPython.core.display.HTML object>"
      ]
     },
     "metadata": {},
     "output_type": "display_data"
    },
    {
     "data": {
      "text/html": [
       "Syncing run <strong><a href='https://wandb.ai/magicayyub-lab/montyhall-ql/runs/jmuadp1g' target=\"_blank\">crimson-sweep-2</a></strong> to <a href='https://wandb.ai/magicayyub-lab/montyhall-ql' target=\"_blank\">Weights & Biases</a> (<a href='https://wandb.me/developer-guide' target=\"_blank\">docs</a>)<br>Sweep page: <a href='https://wandb.ai/magicayyub-lab/montyhall-ql/sweeps/9cdpki6q' target=\"_blank\">https://wandb.ai/magicayyub-lab/montyhall-ql/sweeps/9cdpki6q</a>"
      ],
      "text/plain": [
       "<IPython.core.display.HTML object>"
      ]
     },
     "metadata": {},
     "output_type": "display_data"
    },
    {
     "data": {
      "text/html": [
       " View project at <a href='https://wandb.ai/magicayyub-lab/montyhall-ql' target=\"_blank\">https://wandb.ai/magicayyub-lab/montyhall-ql</a>"
      ],
      "text/plain": [
       "<IPython.core.display.HTML object>"
      ]
     },
     "metadata": {},
     "output_type": "display_data"
    },
    {
     "data": {
      "text/html": [
       " View sweep at <a href='https://wandb.ai/magicayyub-lab/montyhall-ql/sweeps/9cdpki6q' target=\"_blank\">https://wandb.ai/magicayyub-lab/montyhall-ql/sweeps/9cdpki6q</a>"
      ],
      "text/plain": [
       "<IPython.core.display.HTML object>"
      ]
     },
     "metadata": {},
     "output_type": "display_data"
    },
    {
     "data": {
      "text/html": [
       " View run at <a href='https://wandb.ai/magicayyub-lab/montyhall-ql/runs/jmuadp1g' target=\"_blank\">https://wandb.ai/magicayyub-lab/montyhall-ql/runs/jmuadp1g</a>"
      ],
      "text/plain": [
       "<IPython.core.display.HTML object>"
      ]
     },
     "metadata": {},
     "output_type": "display_data"
    },
    {
     "name": "stderr",
     "output_type": "stream",
     "text": [
      "\u001b[32m2025-08-30 04:02:22.452\u001b[0m | \u001b[1mINFO    \u001b[0m | \u001b[36msrc.rl.tabular_q_learning\u001b[0m:\u001b[36mtrain\u001b[0m:\u001b[36m226\u001b[0m - \u001b[1mEpisode    25 | R: +0.0 | ε: 0.616\u001b[0m\n",
      "\u001b[32m2025-08-30 04:02:22.456\u001b[0m | \u001b[1mINFO    \u001b[0m | \u001b[36msrc.rl.tabular_q_learning\u001b[0m:\u001b[36mtrain\u001b[0m:\u001b[36m226\u001b[0m - \u001b[1mEpisode    50 | R: +1.0 | ε: 0.380\u001b[0m\n",
      "\u001b[32m2025-08-30 04:02:22.458\u001b[0m | \u001b[1mINFO    \u001b[0m | \u001b[36msrc.rl.tabular_q_learning\u001b[0m:\u001b[36mtrain\u001b[0m:\u001b[36m226\u001b[0m - \u001b[1mEpisode    75 | R: +1.0 | ε: 0.234\u001b[0m\n",
      "\u001b[32m2025-08-30 04:02:22.460\u001b[0m | \u001b[1mINFO    \u001b[0m | \u001b[36msrc.rl.tabular_q_learning\u001b[0m:\u001b[36mtrain\u001b[0m:\u001b[36m226\u001b[0m - \u001b[1mEpisode   100 | R: +1.0 | ε: 0.144\u001b[0m\n",
      "\u001b[32m2025-08-30 04:02:22.463\u001b[0m | \u001b[1mINFO    \u001b[0m | \u001b[36msrc.rl.tabular_q_learning\u001b[0m:\u001b[36mtrain\u001b[0m:\u001b[36m226\u001b[0m - \u001b[1mEpisode   125 | R: +1.0 | ε: 0.089\u001b[0m\n",
      "\u001b[32m2025-08-30 04:02:22.465\u001b[0m | \u001b[1mINFO    \u001b[0m | \u001b[36msrc.rl.tabular_q_learning\u001b[0m:\u001b[36mtrain\u001b[0m:\u001b[36m226\u001b[0m - \u001b[1mEpisode   150 | R: +1.0 | ε: 0.055\u001b[0m\n",
      "\u001b[32m2025-08-30 04:02:22.468\u001b[0m | \u001b[1mINFO    \u001b[0m | \u001b[36msrc.rl.tabular_q_learning\u001b[0m:\u001b[36mtrain\u001b[0m:\u001b[36m226\u001b[0m - \u001b[1mEpisode   175 | R: +1.0 | ε: 0.050\u001b[0m\n",
      "\u001b[32m2025-08-30 04:02:22.490\u001b[0m | \u001b[1mINFO    \u001b[0m | \u001b[36msrc.rl.tabular_q_learning\u001b[0m:\u001b[36mtrain\u001b[0m:\u001b[36m226\u001b[0m - \u001b[1mEpisode   200 | R: +1.0 | ε: 0.050\u001b[0m\n",
      "\u001b[32m2025-08-30 04:02:22.497\u001b[0m | \u001b[1mINFO    \u001b[0m | \u001b[36msrc.rl.tabular_q_learning\u001b[0m:\u001b[36mtrain\u001b[0m:\u001b[36m226\u001b[0m - \u001b[1mEpisode   225 | R: +1.0 | ε: 0.050\u001b[0m\n",
      "\u001b[32m2025-08-30 04:02:22.500\u001b[0m | \u001b[1mINFO    \u001b[0m | \u001b[36msrc.rl.tabular_q_learning\u001b[0m:\u001b[36mtrain\u001b[0m:\u001b[36m226\u001b[0m - \u001b[1mEpisode   250 | R: +1.0 | ε: 0.050\u001b[0m\n",
      "\u001b[32m2025-08-30 04:02:22.503\u001b[0m | \u001b[1mINFO    \u001b[0m | \u001b[36msrc.rl.tabular_q_learning\u001b[0m:\u001b[36mtrain\u001b[0m:\u001b[36m226\u001b[0m - \u001b[1mEpisode   275 | R: +1.0 | ε: 0.050\u001b[0m\n",
      "\u001b[32m2025-08-30 04:02:22.506\u001b[0m | \u001b[1mINFO    \u001b[0m | \u001b[36msrc.rl.tabular_q_learning\u001b[0m:\u001b[36mtrain\u001b[0m:\u001b[36m226\u001b[0m - \u001b[1mEpisode   300 | R: +1.0 | ε: 0.050\u001b[0m\n",
      "\u001b[32m2025-08-30 04:02:22.508\u001b[0m | \u001b[1mINFO    \u001b[0m | \u001b[36msrc.rl.tabular_q_learning\u001b[0m:\u001b[36mtrain\u001b[0m:\u001b[36m226\u001b[0m - \u001b[1mEpisode   325 | R: +1.0 | ε: 0.050\u001b[0m\n",
      "\u001b[32m2025-08-30 04:02:22.511\u001b[0m | \u001b[1mINFO    \u001b[0m | \u001b[36msrc.rl.tabular_q_learning\u001b[0m:\u001b[36mtrain\u001b[0m:\u001b[36m226\u001b[0m - \u001b[1mEpisode   350 | R: +1.0 | ε: 0.050\u001b[0m\n",
      "\u001b[32m2025-08-30 04:02:22.515\u001b[0m | \u001b[1mINFO    \u001b[0m | \u001b[36msrc.rl.tabular_q_learning\u001b[0m:\u001b[36mtrain\u001b[0m:\u001b[36m226\u001b[0m - \u001b[1mEpisode   375 | R: +1.0 | ε: 0.050\u001b[0m\n",
      "\u001b[32m2025-08-30 04:02:22.517\u001b[0m | \u001b[32m\u001b[1mSUCCESS \u001b[0m | \u001b[36msrc.rl.tabular_q_learning\u001b[0m:\u001b[36mtrain\u001b[0m:\u001b[36m237\u001b[0m - \u001b[32m\u001b[1mConverged at episode 394 after 0.07s\u001b[0m\n",
      "\u001b[32m2025-08-30 04:02:22.518\u001b[0m | \u001b[1mINFO    \u001b[0m | \u001b[36msrc.rl.tabular_q_learning\u001b[0m:\u001b[36mtrain\u001b[0m:\u001b[36m226\u001b[0m - \u001b[1mEpisode   400 | R: +1.0 | ε: 0.050\u001b[0m\n",
      "\u001b[32m2025-08-30 04:02:22.520\u001b[0m | \u001b[1mINFO    \u001b[0m | \u001b[36msrc.rl.tabular_q_learning\u001b[0m:\u001b[36mtrain\u001b[0m:\u001b[36m226\u001b[0m - \u001b[1mEpisode   425 | R: +1.0 | ε: 0.050\u001b[0m\n",
      "\u001b[32m2025-08-30 04:02:22.523\u001b[0m | \u001b[1mINFO    \u001b[0m | \u001b[36msrc.rl.tabular_q_learning\u001b[0m:\u001b[36mtrain\u001b[0m:\u001b[36m226\u001b[0m - \u001b[1mEpisode   450 | R: +1.0 | ε: 0.050\u001b[0m\n",
      "\u001b[32m2025-08-30 04:02:22.526\u001b[0m | \u001b[1mINFO    \u001b[0m | \u001b[36msrc.rl.tabular_q_learning\u001b[0m:\u001b[36mtrain\u001b[0m:\u001b[36m226\u001b[0m - \u001b[1mEpisode   475 | R: +1.0 | ε: 0.050\u001b[0m\n",
      "\u001b[32m2025-08-30 04:02:22.528\u001b[0m | \u001b[1mINFO    \u001b[0m | \u001b[36msrc.rl.tabular_q_learning\u001b[0m:\u001b[36mtrain\u001b[0m:\u001b[36m226\u001b[0m - \u001b[1mEpisode   500 | R: +1.0 | ε: 0.050\u001b[0m\n"
     ]
    },
    {
     "data": {
      "text/html": [],
      "text/plain": [
       "<IPython.core.display.HTML object>"
      ]
     },
     "metadata": {},
     "output_type": "display_data"
    },
    {
     "data": {
      "text/html": [
       "<br>    <style><br>        .wandb-row {<br>            display: flex;<br>            flex-direction: row;<br>            flex-wrap: wrap;<br>            justify-content: flex-start;<br>            width: 100%;<br>        }<br>        .wandb-col {<br>            display: flex;<br>            flex-direction: column;<br>            flex-basis: 100%;<br>            flex: 1;<br>            padding: 10px;<br>        }<br>    </style><br><div class=\"wandb-row\"><div class=\"wandb-col\"><h3>Run history:</h3><br/><table class=\"wandb\"><tr><td>best_reward</td><td>▁</td></tr><tr><td>converged_episode</td><td>▁</td></tr><tr><td>train_time_sec</td><td>▁</td></tr></table><br/></div><div class=\"wandb-col\"><h3>Run summary:</h3><br/><table class=\"wandb\"><tr><td>best_reward</td><td>1</td></tr><tr><td>converged_episode</td><td>394</td></tr><tr><td>train_time_sec</td><td>0.06722</td></tr></table><br/></div></div>"
      ],
      "text/plain": [
       "<IPython.core.display.HTML object>"
      ]
     },
     "metadata": {},
     "output_type": "display_data"
    },
    {
     "data": {
      "text/html": [
       " View run <strong style=\"color:#cdcd00\">crimson-sweep-2</strong> at: <a href='https://wandb.ai/magicayyub-lab/montyhall-ql/runs/jmuadp1g' target=\"_blank\">https://wandb.ai/magicayyub-lab/montyhall-ql/runs/jmuadp1g</a><br> View project at: <a href='https://wandb.ai/magicayyub-lab/montyhall-ql' target=\"_blank\">https://wandb.ai/magicayyub-lab/montyhall-ql</a><br>Synced 5 W&B file(s), 0 media file(s), 0 artifact file(s) and 0 other file(s)"
      ],
      "text/plain": [
       "<IPython.core.display.HTML object>"
      ]
     },
     "metadata": {},
     "output_type": "display_data"
    },
    {
     "data": {
      "text/html": [
       "Find logs at: <code>./wandb/run-20250830_040221-jmuadp1g/logs</code>"
      ],
      "text/plain": [
       "<IPython.core.display.HTML object>"
      ]
     },
     "metadata": {},
     "output_type": "display_data"
    },
    {
     "name": "stderr",
     "output_type": "stream",
     "text": [
      "\u001b[34m\u001b[1mwandb\u001b[0m: Sweep Agent: Waiting for job.\n",
      "\u001b[34m\u001b[1mwandb\u001b[0m: Job received.\n",
      "\u001b[34m\u001b[1mwandb\u001b[0m: Agent Starting Run: nv4kgjrk with config:\n",
      "\u001b[34m\u001b[1mwandb\u001b[0m: \tdiscount_factor: 0.8683199977078525\n",
      "\u001b[34m\u001b[1mwandb\u001b[0m: \tepsilon_decay: 0.9853135059665356\n",
      "\u001b[34m\u001b[1mwandb\u001b[0m: \tlearning_rate: 0.00014180088315134888\n"
     ]
    },
    {
     "data": {
      "text/html": [
       "Changes to your `wandb` environment variables will be ignored because your `wandb` session has already started. For more information on how to modify your settings with `wandb.init()` arguments, please refer to <a href='https://wandb.me/wandb-init' target=\"_blank\">the W&B docs</a>."
      ],
      "text/plain": [
       "<IPython.core.display.HTML object>"
      ]
     },
     "metadata": {},
     "output_type": "display_data"
    },
    {
     "data": {
      "text/html": [
       "Ignoring project 'montyhall-ql' when running a sweep."
      ],
      "text/plain": [
       "<IPython.core.display.HTML object>"
      ]
     },
     "metadata": {},
     "output_type": "display_data"
    },
    {
     "data": {
      "text/html": [
       "Waiting for wandb.init()..."
      ],
      "text/plain": [
       "<IPython.core.display.HTML object>"
      ]
     },
     "metadata": {},
     "output_type": "display_data"
    },
    {
     "data": {
      "text/html": [
       "Tracking run with wandb version 0.21.2"
      ],
      "text/plain": [
       "<IPython.core.display.HTML object>"
      ]
     },
     "metadata": {},
     "output_type": "display_data"
    },
    {
     "data": {
      "text/html": [
       "Run data is saved locally in <code>/Users/ayouba/Documents/laboratoire/RL/wandb/run-20250830_040237-nv4kgjrk</code>"
      ],
      "text/plain": [
       "<IPython.core.display.HTML object>"
      ]
     },
     "metadata": {},
     "output_type": "display_data"
    },
    {
     "data": {
      "text/html": [
       "Syncing run <strong><a href='https://wandb.ai/magicayyub-lab/montyhall-ql/runs/nv4kgjrk' target=\"_blank\">exalted-sweep-3</a></strong> to <a href='https://wandb.ai/magicayyub-lab/montyhall-ql' target=\"_blank\">Weights & Biases</a> (<a href='https://wandb.me/developer-guide' target=\"_blank\">docs</a>)<br>Sweep page: <a href='https://wandb.ai/magicayyub-lab/montyhall-ql/sweeps/9cdpki6q' target=\"_blank\">https://wandb.ai/magicayyub-lab/montyhall-ql/sweeps/9cdpki6q</a>"
      ],
      "text/plain": [
       "<IPython.core.display.HTML object>"
      ]
     },
     "metadata": {},
     "output_type": "display_data"
    },
    {
     "data": {
      "text/html": [
       " View project at <a href='https://wandb.ai/magicayyub-lab/montyhall-ql' target=\"_blank\">https://wandb.ai/magicayyub-lab/montyhall-ql</a>"
      ],
      "text/plain": [
       "<IPython.core.display.HTML object>"
      ]
     },
     "metadata": {},
     "output_type": "display_data"
    },
    {
     "data": {
      "text/html": [
       " View sweep at <a href='https://wandb.ai/magicayyub-lab/montyhall-ql/sweeps/9cdpki6q' target=\"_blank\">https://wandb.ai/magicayyub-lab/montyhall-ql/sweeps/9cdpki6q</a>"
      ],
      "text/plain": [
       "<IPython.core.display.HTML object>"
      ]
     },
     "metadata": {},
     "output_type": "display_data"
    },
    {
     "data": {
      "text/html": [
       " View run at <a href='https://wandb.ai/magicayyub-lab/montyhall-ql/runs/nv4kgjrk' target=\"_blank\">https://wandb.ai/magicayyub-lab/montyhall-ql/runs/nv4kgjrk</a>"
      ],
      "text/plain": [
       "<IPython.core.display.HTML object>"
      ]
     },
     "metadata": {},
     "output_type": "display_data"
    },
    {
     "name": "stderr",
     "output_type": "stream",
     "text": [
      "\u001b[32m2025-08-30 04:02:37.881\u001b[0m | \u001b[1mINFO    \u001b[0m | \u001b[36msrc.rl.tabular_q_learning\u001b[0m:\u001b[36mtrain\u001b[0m:\u001b[36m226\u001b[0m - \u001b[1mEpisode    25 | R: +1.0 | ε: 0.691\u001b[0m\n",
      "\u001b[32m2025-08-30 04:02:37.883\u001b[0m | \u001b[1mINFO    \u001b[0m | \u001b[36msrc.rl.tabular_q_learning\u001b[0m:\u001b[36mtrain\u001b[0m:\u001b[36m226\u001b[0m - \u001b[1mEpisode    50 | R: +1.0 | ε: 0.477\u001b[0m\n",
      "\u001b[32m2025-08-30 04:02:37.885\u001b[0m | \u001b[1mINFO    \u001b[0m | \u001b[36msrc.rl.tabular_q_learning\u001b[0m:\u001b[36mtrain\u001b[0m:\u001b[36m226\u001b[0m - \u001b[1mEpisode    75 | R: +0.0 | ε: 0.330\u001b[0m\n",
      "\u001b[32m2025-08-30 04:02:37.887\u001b[0m | \u001b[1mINFO    \u001b[0m | \u001b[36msrc.rl.tabular_q_learning\u001b[0m:\u001b[36mtrain\u001b[0m:\u001b[36m226\u001b[0m - \u001b[1mEpisode   100 | R: +1.0 | ε: 0.228\u001b[0m\n",
      "\u001b[32m2025-08-30 04:02:37.889\u001b[0m | \u001b[1mINFO    \u001b[0m | \u001b[36msrc.rl.tabular_q_learning\u001b[0m:\u001b[36mtrain\u001b[0m:\u001b[36m226\u001b[0m - \u001b[1mEpisode   125 | R: +1.0 | ε: 0.157\u001b[0m\n",
      "\u001b[32m2025-08-30 04:02:37.891\u001b[0m | \u001b[1mINFO    \u001b[0m | \u001b[36msrc.rl.tabular_q_learning\u001b[0m:\u001b[36mtrain\u001b[0m:\u001b[36m226\u001b[0m - \u001b[1mEpisode   150 | R: +1.0 | ε: 0.109\u001b[0m\n",
      "\u001b[32m2025-08-30 04:02:37.894\u001b[0m | \u001b[1mINFO    \u001b[0m | \u001b[36msrc.rl.tabular_q_learning\u001b[0m:\u001b[36mtrain\u001b[0m:\u001b[36m226\u001b[0m - \u001b[1mEpisode   175 | R: +1.0 | ε: 0.075\u001b[0m\n",
      "\u001b[32m2025-08-30 04:02:37.897\u001b[0m | \u001b[1mINFO    \u001b[0m | \u001b[36msrc.rl.tabular_q_learning\u001b[0m:\u001b[36mtrain\u001b[0m:\u001b[36m226\u001b[0m - \u001b[1mEpisode   200 | R: +1.0 | ε: 0.052\u001b[0m\n",
      "\u001b[32m2025-08-30 04:02:37.900\u001b[0m | \u001b[1mINFO    \u001b[0m | \u001b[36msrc.rl.tabular_q_learning\u001b[0m:\u001b[36mtrain\u001b[0m:\u001b[36m226\u001b[0m - \u001b[1mEpisode   225 | R: +1.0 | ε: 0.050\u001b[0m\n",
      "\u001b[32m2025-08-30 04:02:37.902\u001b[0m | \u001b[1mINFO    \u001b[0m | \u001b[36msrc.rl.tabular_q_learning\u001b[0m:\u001b[36mtrain\u001b[0m:\u001b[36m226\u001b[0m - \u001b[1mEpisode   250 | R: +1.0 | ε: 0.050\u001b[0m\n",
      "\u001b[32m2025-08-30 04:02:37.904\u001b[0m | \u001b[1mINFO    \u001b[0m | \u001b[36msrc.rl.tabular_q_learning\u001b[0m:\u001b[36mtrain\u001b[0m:\u001b[36m226\u001b[0m - \u001b[1mEpisode   275 | R: +1.0 | ε: 0.050\u001b[0m\n",
      "\u001b[32m2025-08-30 04:02:37.907\u001b[0m | \u001b[1mINFO    \u001b[0m | \u001b[36msrc.rl.tabular_q_learning\u001b[0m:\u001b[36mtrain\u001b[0m:\u001b[36m226\u001b[0m - \u001b[1mEpisode   300 | R: +1.0 | ε: 0.050\u001b[0m\n",
      "\u001b[32m2025-08-30 04:02:37.909\u001b[0m | \u001b[1mINFO    \u001b[0m | \u001b[36msrc.rl.tabular_q_learning\u001b[0m:\u001b[36mtrain\u001b[0m:\u001b[36m226\u001b[0m - \u001b[1mEpisode   325 | R: +1.0 | ε: 0.050\u001b[0m\n",
      "\u001b[32m2025-08-30 04:02:37.912\u001b[0m | \u001b[1mINFO    \u001b[0m | \u001b[36msrc.rl.tabular_q_learning\u001b[0m:\u001b[36mtrain\u001b[0m:\u001b[36m226\u001b[0m - \u001b[1mEpisode   350 | R: +1.0 | ε: 0.050\u001b[0m\n",
      "\u001b[32m2025-08-30 04:02:37.914\u001b[0m | \u001b[1mINFO    \u001b[0m | \u001b[36msrc.rl.tabular_q_learning\u001b[0m:\u001b[36mtrain\u001b[0m:\u001b[36m226\u001b[0m - \u001b[1mEpisode   375 | R: +1.0 | ε: 0.050\u001b[0m\n",
      "\u001b[32m2025-08-30 04:02:37.917\u001b[0m | \u001b[32m\u001b[1mSUCCESS \u001b[0m | \u001b[36msrc.rl.tabular_q_learning\u001b[0m:\u001b[36mtrain\u001b[0m:\u001b[36m237\u001b[0m - \u001b[32m\u001b[1mConverged at episode 394 after 0.04s\u001b[0m\n",
      "\u001b[32m2025-08-30 04:02:37.917\u001b[0m | \u001b[1mINFO    \u001b[0m | \u001b[36msrc.rl.tabular_q_learning\u001b[0m:\u001b[36mtrain\u001b[0m:\u001b[36m226\u001b[0m - \u001b[1mEpisode   400 | R: +1.0 | ε: 0.050\u001b[0m\n",
      "\u001b[32m2025-08-30 04:02:37.919\u001b[0m | \u001b[1mINFO    \u001b[0m | \u001b[36msrc.rl.tabular_q_learning\u001b[0m:\u001b[36mtrain\u001b[0m:\u001b[36m226\u001b[0m - \u001b[1mEpisode   425 | R: +1.0 | ε: 0.050\u001b[0m\n",
      "\u001b[32m2025-08-30 04:02:37.922\u001b[0m | \u001b[1mINFO    \u001b[0m | \u001b[36msrc.rl.tabular_q_learning\u001b[0m:\u001b[36mtrain\u001b[0m:\u001b[36m226\u001b[0m - \u001b[1mEpisode   450 | R: +1.0 | ε: 0.050\u001b[0m\n",
      "\u001b[32m2025-08-30 04:02:37.924\u001b[0m | \u001b[1mINFO    \u001b[0m | \u001b[36msrc.rl.tabular_q_learning\u001b[0m:\u001b[36mtrain\u001b[0m:\u001b[36m226\u001b[0m - \u001b[1mEpisode   475 | R: +1.0 | ε: 0.050\u001b[0m\n",
      "\u001b[32m2025-08-30 04:02:37.925\u001b[0m | \u001b[1mINFO    \u001b[0m | \u001b[36msrc.rl.tabular_q_learning\u001b[0m:\u001b[36mtrain\u001b[0m:\u001b[36m226\u001b[0m - \u001b[1mEpisode   500 | R: +1.0 | ε: 0.050\u001b[0m\n"
     ]
    },
    {
     "data": {
      "text/html": [],
      "text/plain": [
       "<IPython.core.display.HTML object>"
      ]
     },
     "metadata": {},
     "output_type": "display_data"
    },
    {
     "data": {
      "text/html": [
       "<br>    <style><br>        .wandb-row {<br>            display: flex;<br>            flex-direction: row;<br>            flex-wrap: wrap;<br>            justify-content: flex-start;<br>            width: 100%;<br>        }<br>        .wandb-col {<br>            display: flex;<br>            flex-direction: column;<br>            flex-basis: 100%;<br>            flex: 1;<br>            padding: 10px;<br>        }<br>    </style><br><div class=\"wandb-row\"><div class=\"wandb-col\"><h3>Run history:</h3><br/><table class=\"wandb\"><tr><td>best_reward</td><td>▁</td></tr><tr><td>converged_episode</td><td>▁</td></tr><tr><td>train_time_sec</td><td>▁</td></tr></table><br/></div><div class=\"wandb-col\"><h3>Run summary:</h3><br/><table class=\"wandb\"><tr><td>best_reward</td><td>1</td></tr><tr><td>converged_episode</td><td>394</td></tr><tr><td>train_time_sec</td><td>0.03801</td></tr></table><br/></div></div>"
      ],
      "text/plain": [
       "<IPython.core.display.HTML object>"
      ]
     },
     "metadata": {},
     "output_type": "display_data"
    },
    {
     "data": {
      "text/html": [
       " View run <strong style=\"color:#cdcd00\">exalted-sweep-3</strong> at: <a href='https://wandb.ai/magicayyub-lab/montyhall-ql/runs/nv4kgjrk' target=\"_blank\">https://wandb.ai/magicayyub-lab/montyhall-ql/runs/nv4kgjrk</a><br> View project at: <a href='https://wandb.ai/magicayyub-lab/montyhall-ql' target=\"_blank\">https://wandb.ai/magicayyub-lab/montyhall-ql</a><br>Synced 5 W&B file(s), 0 media file(s), 0 artifact file(s) and 0 other file(s)"
      ],
      "text/plain": [
       "<IPython.core.display.HTML object>"
      ]
     },
     "metadata": {},
     "output_type": "display_data"
    },
    {
     "data": {
      "text/html": [
       "Find logs at: <code>./wandb/run-20250830_040237-nv4kgjrk/logs</code>"
      ],
      "text/plain": [
       "<IPython.core.display.HTML object>"
      ]
     },
     "metadata": {},
     "output_type": "display_data"
    },
    {
     "name": "stderr",
     "output_type": "stream",
     "text": [
      "\u001b[34m\u001b[1mwandb\u001b[0m: Agent Starting Run: tp6be3qm with config:\n",
      "\u001b[34m\u001b[1mwandb\u001b[0m: \tdiscount_factor: 0.941327967252124\n",
      "\u001b[34m\u001b[1mwandb\u001b[0m: \tepsilon_decay: 0.970080497029396\n",
      "\u001b[34m\u001b[1mwandb\u001b[0m: \tlearning_rate: 0.002855897614794718\n"
     ]
    },
    {
     "data": {
      "text/html": [
       "Changes to your `wandb` environment variables will be ignored because your `wandb` session has already started. For more information on how to modify your settings with `wandb.init()` arguments, please refer to <a href='https://wandb.me/wandb-init' target=\"_blank\">the W&B docs</a>."
      ],
      "text/plain": [
       "<IPython.core.display.HTML object>"
      ]
     },
     "metadata": {},
     "output_type": "display_data"
    },
    {
     "data": {
      "text/html": [
       "Ignoring project 'montyhall-ql' when running a sweep."
      ],
      "text/plain": [
       "<IPython.core.display.HTML object>"
      ]
     },
     "metadata": {},
     "output_type": "display_data"
    },
    {
     "data": {
      "text/html": [
       "Waiting for wandb.init()..."
      ],
      "text/plain": [
       "<IPython.core.display.HTML object>"
      ]
     },
     "metadata": {},
     "output_type": "display_data"
    },
    {
     "data": {
      "text/html": [
       "Tracking run with wandb version 0.21.2"
      ],
      "text/plain": [
       "<IPython.core.display.HTML object>"
      ]
     },
     "metadata": {},
     "output_type": "display_data"
    },
    {
     "data": {
      "text/html": [
       "Run data is saved locally in <code>/Users/ayouba/Documents/laboratoire/RL/wandb/run-20250830_040242-tp6be3qm</code>"
      ],
      "text/plain": [
       "<IPython.core.display.HTML object>"
      ]
     },
     "metadata": {},
     "output_type": "display_data"
    },
    {
     "data": {
      "text/html": [
       "Syncing run <strong><a href='https://wandb.ai/magicayyub-lab/montyhall-ql/runs/tp6be3qm' target=\"_blank\">wise-sweep-4</a></strong> to <a href='https://wandb.ai/magicayyub-lab/montyhall-ql' target=\"_blank\">Weights & Biases</a> (<a href='https://wandb.me/developer-guide' target=\"_blank\">docs</a>)<br>Sweep page: <a href='https://wandb.ai/magicayyub-lab/montyhall-ql/sweeps/9cdpki6q' target=\"_blank\">https://wandb.ai/magicayyub-lab/montyhall-ql/sweeps/9cdpki6q</a>"
      ],
      "text/plain": [
       "<IPython.core.display.HTML object>"
      ]
     },
     "metadata": {},
     "output_type": "display_data"
    },
    {
     "data": {
      "text/html": [
       " View project at <a href='https://wandb.ai/magicayyub-lab/montyhall-ql' target=\"_blank\">https://wandb.ai/magicayyub-lab/montyhall-ql</a>"
      ],
      "text/plain": [
       "<IPython.core.display.HTML object>"
      ]
     },
     "metadata": {},
     "output_type": "display_data"
    },
    {
     "data": {
      "text/html": [
       " View sweep at <a href='https://wandb.ai/magicayyub-lab/montyhall-ql/sweeps/9cdpki6q' target=\"_blank\">https://wandb.ai/magicayyub-lab/montyhall-ql/sweeps/9cdpki6q</a>"
      ],
      "text/plain": [
       "<IPython.core.display.HTML object>"
      ]
     },
     "metadata": {},
     "output_type": "display_data"
    },
    {
     "data": {
      "text/html": [
       " View run at <a href='https://wandb.ai/magicayyub-lab/montyhall-ql/runs/tp6be3qm' target=\"_blank\">https://wandb.ai/magicayyub-lab/montyhall-ql/runs/tp6be3qm</a>"
      ],
      "text/plain": [
       "<IPython.core.display.HTML object>"
      ]
     },
     "metadata": {},
     "output_type": "display_data"
    },
    {
     "name": "stderr",
     "output_type": "stream",
     "text": [
      "\u001b[32m2025-08-30 04:02:43.335\u001b[0m | \u001b[1mINFO    \u001b[0m | \u001b[36msrc.rl.tabular_q_learning\u001b[0m:\u001b[36mtrain\u001b[0m:\u001b[36m226\u001b[0m - \u001b[1mEpisode    25 | R: +0.0 | ε: 0.468\u001b[0m\n",
      "\u001b[32m2025-08-30 04:02:43.337\u001b[0m | \u001b[1mINFO    \u001b[0m | \u001b[36msrc.rl.tabular_q_learning\u001b[0m:\u001b[36mtrain\u001b[0m:\u001b[36m226\u001b[0m - \u001b[1mEpisode    50 | R: +1.0 | ε: 0.219\u001b[0m\n",
      "\u001b[32m2025-08-30 04:02:43.339\u001b[0m | \u001b[1mINFO    \u001b[0m | \u001b[36msrc.rl.tabular_q_learning\u001b[0m:\u001b[36mtrain\u001b[0m:\u001b[36m226\u001b[0m - \u001b[1mEpisode    75 | R: +1.0 | ε: 0.102\u001b[0m\n",
      "\u001b[32m2025-08-30 04:02:43.341\u001b[0m | \u001b[1mINFO    \u001b[0m | \u001b[36msrc.rl.tabular_q_learning\u001b[0m:\u001b[36mtrain\u001b[0m:\u001b[36m226\u001b[0m - \u001b[1mEpisode   100 | R: +1.0 | ε: 0.050\u001b[0m\n",
      "\u001b[32m2025-08-30 04:02:43.343\u001b[0m | \u001b[1mINFO    \u001b[0m | \u001b[36msrc.rl.tabular_q_learning\u001b[0m:\u001b[36mtrain\u001b[0m:\u001b[36m226\u001b[0m - \u001b[1mEpisode   125 | R: +1.0 | ε: 0.050\u001b[0m\n",
      "\u001b[32m2025-08-30 04:02:43.345\u001b[0m | \u001b[1mINFO    \u001b[0m | \u001b[36msrc.rl.tabular_q_learning\u001b[0m:\u001b[36mtrain\u001b[0m:\u001b[36m226\u001b[0m - \u001b[1mEpisode   150 | R: +1.0 | ε: 0.050\u001b[0m\n",
      "\u001b[32m2025-08-30 04:02:43.348\u001b[0m | \u001b[1mINFO    \u001b[0m | \u001b[36msrc.rl.tabular_q_learning\u001b[0m:\u001b[36mtrain\u001b[0m:\u001b[36m226\u001b[0m - \u001b[1mEpisode   175 | R: +1.0 | ε: 0.050\u001b[0m\n",
      "\u001b[32m2025-08-30 04:02:43.351\u001b[0m | \u001b[1mINFO    \u001b[0m | \u001b[36msrc.rl.tabular_q_learning\u001b[0m:\u001b[36mtrain\u001b[0m:\u001b[36m226\u001b[0m - \u001b[1mEpisode   200 | R: +1.0 | ε: 0.050\u001b[0m\n",
      "\u001b[32m2025-08-30 04:02:43.353\u001b[0m | \u001b[1mINFO    \u001b[0m | \u001b[36msrc.rl.tabular_q_learning\u001b[0m:\u001b[36mtrain\u001b[0m:\u001b[36m226\u001b[0m - \u001b[1mEpisode   225 | R: +1.0 | ε: 0.050\u001b[0m\n",
      "\u001b[32m2025-08-30 04:02:43.355\u001b[0m | \u001b[1mINFO    \u001b[0m | \u001b[36msrc.rl.tabular_q_learning\u001b[0m:\u001b[36mtrain\u001b[0m:\u001b[36m226\u001b[0m - \u001b[1mEpisode   250 | R: +1.0 | ε: 0.050\u001b[0m\n",
      "\u001b[32m2025-08-30 04:02:43.358\u001b[0m | \u001b[1mINFO    \u001b[0m | \u001b[36msrc.rl.tabular_q_learning\u001b[0m:\u001b[36mtrain\u001b[0m:\u001b[36m226\u001b[0m - \u001b[1mEpisode   275 | R: +1.0 | ε: 0.050\u001b[0m\n",
      "\u001b[32m2025-08-30 04:02:43.361\u001b[0m | \u001b[1mINFO    \u001b[0m | \u001b[36msrc.rl.tabular_q_learning\u001b[0m:\u001b[36mtrain\u001b[0m:\u001b[36m226\u001b[0m - \u001b[1mEpisode   300 | R: +1.0 | ε: 0.050\u001b[0m\n",
      "\u001b[32m2025-08-30 04:02:43.363\u001b[0m | \u001b[1mINFO    \u001b[0m | \u001b[36msrc.rl.tabular_q_learning\u001b[0m:\u001b[36mtrain\u001b[0m:\u001b[36m226\u001b[0m - \u001b[1mEpisode   325 | R: +1.0 | ε: 0.050\u001b[0m\n",
      "\u001b[32m2025-08-30 04:02:43.366\u001b[0m | \u001b[1mINFO    \u001b[0m | \u001b[36msrc.rl.tabular_q_learning\u001b[0m:\u001b[36mtrain\u001b[0m:\u001b[36m226\u001b[0m - \u001b[1mEpisode   350 | R: +1.0 | ε: 0.050\u001b[0m\n",
      "\u001b[32m2025-08-30 04:02:43.368\u001b[0m | \u001b[1mINFO    \u001b[0m | \u001b[36msrc.rl.tabular_q_learning\u001b[0m:\u001b[36mtrain\u001b[0m:\u001b[36m226\u001b[0m - \u001b[1mEpisode   375 | R: +1.0 | ε: 0.050\u001b[0m\n",
      "\u001b[32m2025-08-30 04:02:43.371\u001b[0m | \u001b[1mINFO    \u001b[0m | \u001b[36msrc.rl.tabular_q_learning\u001b[0m:\u001b[36mtrain\u001b[0m:\u001b[36m226\u001b[0m - \u001b[1mEpisode   400 | R: +1.0 | ε: 0.050\u001b[0m\n",
      "\u001b[32m2025-08-30 04:02:43.373\u001b[0m | \u001b[1mINFO    \u001b[0m | \u001b[36msrc.rl.tabular_q_learning\u001b[0m:\u001b[36mtrain\u001b[0m:\u001b[36m226\u001b[0m - \u001b[1mEpisode   425 | R: +1.0 | ε: 0.050\u001b[0m\n",
      "\u001b[32m2025-08-30 04:02:43.376\u001b[0m | \u001b[1mINFO    \u001b[0m | \u001b[36msrc.rl.tabular_q_learning\u001b[0m:\u001b[36mtrain\u001b[0m:\u001b[36m226\u001b[0m - \u001b[1mEpisode   450 | R: +1.0 | ε: 0.050\u001b[0m\n",
      "\u001b[32m2025-08-30 04:02:43.378\u001b[0m | \u001b[1mINFO    \u001b[0m | \u001b[36msrc.rl.tabular_q_learning\u001b[0m:\u001b[36mtrain\u001b[0m:\u001b[36m226\u001b[0m - \u001b[1mEpisode   475 | R: +1.0 | ε: 0.050\u001b[0m\n",
      "\u001b[32m2025-08-30 04:02:43.380\u001b[0m | \u001b[1mINFO    \u001b[0m | \u001b[36msrc.rl.tabular_q_learning\u001b[0m:\u001b[36mtrain\u001b[0m:\u001b[36m226\u001b[0m - \u001b[1mEpisode   500 | R: +1.0 | ε: 0.050\u001b[0m\n"
     ]
    },
    {
     "data": {
      "text/html": [],
      "text/plain": [
       "<IPython.core.display.HTML object>"
      ]
     },
     "metadata": {},
     "output_type": "display_data"
    },
    {
     "data": {
      "text/html": [
       "<br>    <style><br>        .wandb-row {<br>            display: flex;<br>            flex-direction: row;<br>            flex-wrap: wrap;<br>            justify-content: flex-start;<br>            width: 100%;<br>        }<br>        .wandb-col {<br>            display: flex;<br>            flex-direction: column;<br>            flex-basis: 100%;<br>            flex: 1;<br>            padding: 10px;<br>        }<br>    </style><br><div class=\"wandb-row\"><div class=\"wandb-col\"><h3>Run history:</h3><br/><table class=\"wandb\"><tr><td>best_reward</td><td>▁</td></tr><tr><td>converged_episode</td><td>▁</td></tr><tr><td>train_time_sec</td><td>▁</td></tr></table><br/></div><div class=\"wandb-col\"><h3>Run summary:</h3><br/><table class=\"wandb\"><tr><td>best_reward</td><td>1</td></tr><tr><td>converged_episode</td><td>-1</td></tr><tr><td>train_time_sec</td><td>0</td></tr></table><br/></div></div>"
      ],
      "text/plain": [
       "<IPython.core.display.HTML object>"
      ]
     },
     "metadata": {},
     "output_type": "display_data"
    },
    {
     "data": {
      "text/html": [
       " View run <strong style=\"color:#cdcd00\">wise-sweep-4</strong> at: <a href='https://wandb.ai/magicayyub-lab/montyhall-ql/runs/tp6be3qm' target=\"_blank\">https://wandb.ai/magicayyub-lab/montyhall-ql/runs/tp6be3qm</a><br> View project at: <a href='https://wandb.ai/magicayyub-lab/montyhall-ql' target=\"_blank\">https://wandb.ai/magicayyub-lab/montyhall-ql</a><br>Synced 5 W&B file(s), 0 media file(s), 0 artifact file(s) and 0 other file(s)"
      ],
      "text/plain": [
       "<IPython.core.display.HTML object>"
      ]
     },
     "metadata": {},
     "output_type": "display_data"
    },
    {
     "data": {
      "text/html": [
       "Find logs at: <code>./wandb/run-20250830_040242-tp6be3qm/logs</code>"
      ],
      "text/plain": [
       "<IPython.core.display.HTML object>"
      ]
     },
     "metadata": {},
     "output_type": "display_data"
    },
    {
     "name": "stderr",
     "output_type": "stream",
     "text": [
      "\u001b[34m\u001b[1mwandb\u001b[0m: Agent Starting Run: u778qvhc with config:\n",
      "\u001b[34m\u001b[1mwandb\u001b[0m: \tdiscount_factor: 0.995928855241078\n",
      "\u001b[34m\u001b[1mwandb\u001b[0m: \tepsilon_decay: 0.97748882177289\n",
      "\u001b[34m\u001b[1mwandb\u001b[0m: \tlearning_rate: 0.003433922119192617\n"
     ]
    },
    {
     "data": {
      "text/html": [
       "Changes to your `wandb` environment variables will be ignored because your `wandb` session has already started. For more information on how to modify your settings with `wandb.init()` arguments, please refer to <a href='https://wandb.me/wandb-init' target=\"_blank\">the W&B docs</a>."
      ],
      "text/plain": [
       "<IPython.core.display.HTML object>"
      ]
     },
     "metadata": {},
     "output_type": "display_data"
    },
    {
     "data": {
      "text/html": [
       "Ignoring project 'montyhall-ql' when running a sweep."
      ],
      "text/plain": [
       "<IPython.core.display.HTML object>"
      ]
     },
     "metadata": {},
     "output_type": "display_data"
    },
    {
     "data": {
      "text/html": [
       "Waiting for wandb.init()..."
      ],
      "text/plain": [
       "<IPython.core.display.HTML object>"
      ]
     },
     "metadata": {},
     "output_type": "display_data"
    },
    {
     "data": {
      "text/html": [
       "Tracking run with wandb version 0.21.2"
      ],
      "text/plain": [
       "<IPython.core.display.HTML object>"
      ]
     },
     "metadata": {},
     "output_type": "display_data"
    },
    {
     "data": {
      "text/html": [
       "Run data is saved locally in <code>/Users/ayouba/Documents/laboratoire/RL/wandb/run-20250830_040247-u778qvhc</code>"
      ],
      "text/plain": [
       "<IPython.core.display.HTML object>"
      ]
     },
     "metadata": {},
     "output_type": "display_data"
    },
    {
     "data": {
      "text/html": [
       "Syncing run <strong><a href='https://wandb.ai/magicayyub-lab/montyhall-ql/runs/u778qvhc' target=\"_blank\">peach-sweep-5</a></strong> to <a href='https://wandb.ai/magicayyub-lab/montyhall-ql' target=\"_blank\">Weights & Biases</a> (<a href='https://wandb.me/developer-guide' target=\"_blank\">docs</a>)<br>Sweep page: <a href='https://wandb.ai/magicayyub-lab/montyhall-ql/sweeps/9cdpki6q' target=\"_blank\">https://wandb.ai/magicayyub-lab/montyhall-ql/sweeps/9cdpki6q</a>"
      ],
      "text/plain": [
       "<IPython.core.display.HTML object>"
      ]
     },
     "metadata": {},
     "output_type": "display_data"
    },
    {
     "data": {
      "text/html": [
       " View project at <a href='https://wandb.ai/magicayyub-lab/montyhall-ql' target=\"_blank\">https://wandb.ai/magicayyub-lab/montyhall-ql</a>"
      ],
      "text/plain": [
       "<IPython.core.display.HTML object>"
      ]
     },
     "metadata": {},
     "output_type": "display_data"
    },
    {
     "data": {
      "text/html": [
       " View sweep at <a href='https://wandb.ai/magicayyub-lab/montyhall-ql/sweeps/9cdpki6q' target=\"_blank\">https://wandb.ai/magicayyub-lab/montyhall-ql/sweeps/9cdpki6q</a>"
      ],
      "text/plain": [
       "<IPython.core.display.HTML object>"
      ]
     },
     "metadata": {},
     "output_type": "display_data"
    },
    {
     "data": {
      "text/html": [
       " View run at <a href='https://wandb.ai/magicayyub-lab/montyhall-ql/runs/u778qvhc' target=\"_blank\">https://wandb.ai/magicayyub-lab/montyhall-ql/runs/u778qvhc</a>"
      ],
      "text/plain": [
       "<IPython.core.display.HTML object>"
      ]
     },
     "metadata": {},
     "output_type": "display_data"
    },
    {
     "name": "stderr",
     "output_type": "stream",
     "text": [
      "\u001b[32m2025-08-30 04:02:48.675\u001b[0m | \u001b[1mINFO    \u001b[0m | \u001b[36msrc.rl.tabular_q_learning\u001b[0m:\u001b[36mtrain\u001b[0m:\u001b[36m226\u001b[0m - \u001b[1mEpisode    25 | R: +0.0 | ε: 0.566\u001b[0m\n",
      "\u001b[32m2025-08-30 04:02:48.677\u001b[0m | \u001b[1mINFO    \u001b[0m | \u001b[36msrc.rl.tabular_q_learning\u001b[0m:\u001b[36mtrain\u001b[0m:\u001b[36m226\u001b[0m - \u001b[1mEpisode    50 | R: +1.0 | ε: 0.320\u001b[0m\n",
      "\u001b[32m2025-08-30 04:02:48.679\u001b[0m | \u001b[1mINFO    \u001b[0m | \u001b[36msrc.rl.tabular_q_learning\u001b[0m:\u001b[36mtrain\u001b[0m:\u001b[36m226\u001b[0m - \u001b[1mEpisode    75 | R: +1.0 | ε: 0.181\u001b[0m\n",
      "\u001b[32m2025-08-30 04:02:48.680\u001b[0m | \u001b[1mINFO    \u001b[0m | \u001b[36msrc.rl.tabular_q_learning\u001b[0m:\u001b[36mtrain\u001b[0m:\u001b[36m226\u001b[0m - \u001b[1mEpisode   100 | R: +1.0 | ε: 0.103\u001b[0m\n",
      "\u001b[32m2025-08-30 04:02:48.682\u001b[0m | \u001b[1mINFO    \u001b[0m | \u001b[36msrc.rl.tabular_q_learning\u001b[0m:\u001b[36mtrain\u001b[0m:\u001b[36m226\u001b[0m - \u001b[1mEpisode   125 | R: +1.0 | ε: 0.058\u001b[0m\n",
      "\u001b[32m2025-08-30 04:02:48.684\u001b[0m | \u001b[1mINFO    \u001b[0m | \u001b[36msrc.rl.tabular_q_learning\u001b[0m:\u001b[36mtrain\u001b[0m:\u001b[36m226\u001b[0m - \u001b[1mEpisode   150 | R: +1.0 | ε: 0.050\u001b[0m\n",
      "\u001b[32m2025-08-30 04:02:48.687\u001b[0m | \u001b[1mINFO    \u001b[0m | \u001b[36msrc.rl.tabular_q_learning\u001b[0m:\u001b[36mtrain\u001b[0m:\u001b[36m226\u001b[0m - \u001b[1mEpisode   175 | R: +1.0 | ε: 0.050\u001b[0m\n",
      "\u001b[32m2025-08-30 04:02:48.690\u001b[0m | \u001b[1mINFO    \u001b[0m | \u001b[36msrc.rl.tabular_q_learning\u001b[0m:\u001b[36mtrain\u001b[0m:\u001b[36m226\u001b[0m - \u001b[1mEpisode   200 | R: +1.0 | ε: 0.050\u001b[0m\n",
      "\u001b[32m2025-08-30 04:02:48.692\u001b[0m | \u001b[1mINFO    \u001b[0m | \u001b[36msrc.rl.tabular_q_learning\u001b[0m:\u001b[36mtrain\u001b[0m:\u001b[36m226\u001b[0m - \u001b[1mEpisode   225 | R: +1.0 | ε: 0.050\u001b[0m\n",
      "\u001b[32m2025-08-30 04:02:48.694\u001b[0m | \u001b[1mINFO    \u001b[0m | \u001b[36msrc.rl.tabular_q_learning\u001b[0m:\u001b[36mtrain\u001b[0m:\u001b[36m226\u001b[0m - \u001b[1mEpisode   250 | R: +1.0 | ε: 0.050\u001b[0m\n",
      "\u001b[32m2025-08-30 04:02:48.697\u001b[0m | \u001b[1mINFO    \u001b[0m | \u001b[36msrc.rl.tabular_q_learning\u001b[0m:\u001b[36mtrain\u001b[0m:\u001b[36m226\u001b[0m - \u001b[1mEpisode   275 | R: +1.0 | ε: 0.050\u001b[0m\n",
      "\u001b[32m2025-08-30 04:02:48.699\u001b[0m | \u001b[1mINFO    \u001b[0m | \u001b[36msrc.rl.tabular_q_learning\u001b[0m:\u001b[36mtrain\u001b[0m:\u001b[36m226\u001b[0m - \u001b[1mEpisode   300 | R: +1.0 | ε: 0.050\u001b[0m\n",
      "\u001b[32m2025-08-30 04:02:48.701\u001b[0m | \u001b[1mINFO    \u001b[0m | \u001b[36msrc.rl.tabular_q_learning\u001b[0m:\u001b[36mtrain\u001b[0m:\u001b[36m226\u001b[0m - \u001b[1mEpisode   325 | R: +1.0 | ε: 0.050\u001b[0m\n",
      "\u001b[32m2025-08-30 04:02:48.704\u001b[0m | \u001b[1mINFO    \u001b[0m | \u001b[36msrc.rl.tabular_q_learning\u001b[0m:\u001b[36mtrain\u001b[0m:\u001b[36m226\u001b[0m - \u001b[1mEpisode   350 | R: +1.0 | ε: 0.050\u001b[0m\n",
      "\u001b[32m2025-08-30 04:02:48.715\u001b[0m | \u001b[32m\u001b[1mSUCCESS \u001b[0m | \u001b[36msrc.rl.tabular_q_learning\u001b[0m:\u001b[36mtrain\u001b[0m:\u001b[36m237\u001b[0m - \u001b[32m\u001b[1mConverged at episode 371 after 0.04s\u001b[0m\n",
      "\u001b[32m2025-08-30 04:02:48.717\u001b[0m | \u001b[1mINFO    \u001b[0m | \u001b[36msrc.rl.tabular_q_learning\u001b[0m:\u001b[36mtrain\u001b[0m:\u001b[36m226\u001b[0m - \u001b[1mEpisode   375 | R: +1.0 | ε: 0.050\u001b[0m\n",
      "\u001b[32m2025-08-30 04:02:48.722\u001b[0m | \u001b[1mINFO    \u001b[0m | \u001b[36msrc.rl.tabular_q_learning\u001b[0m:\u001b[36mtrain\u001b[0m:\u001b[36m226\u001b[0m - \u001b[1mEpisode   400 | R: +1.0 | ε: 0.050\u001b[0m\n",
      "\u001b[32m2025-08-30 04:02:48.729\u001b[0m | \u001b[1mINFO    \u001b[0m | \u001b[36msrc.rl.tabular_q_learning\u001b[0m:\u001b[36mtrain\u001b[0m:\u001b[36m226\u001b[0m - \u001b[1mEpisode   425 | R: +1.0 | ε: 0.050\u001b[0m\n",
      "\u001b[32m2025-08-30 04:02:48.735\u001b[0m | \u001b[1mINFO    \u001b[0m | \u001b[36msrc.rl.tabular_q_learning\u001b[0m:\u001b[36mtrain\u001b[0m:\u001b[36m226\u001b[0m - \u001b[1mEpisode   450 | R: +1.0 | ε: 0.050\u001b[0m\n",
      "\u001b[32m2025-08-30 04:02:48.743\u001b[0m | \u001b[1mINFO    \u001b[0m | \u001b[36msrc.rl.tabular_q_learning\u001b[0m:\u001b[36mtrain\u001b[0m:\u001b[36m226\u001b[0m - \u001b[1mEpisode   475 | R: +1.0 | ε: 0.050\u001b[0m\n",
      "\u001b[32m2025-08-30 04:02:48.747\u001b[0m | \u001b[1mINFO    \u001b[0m | \u001b[36msrc.rl.tabular_q_learning\u001b[0m:\u001b[36mtrain\u001b[0m:\u001b[36m226\u001b[0m - \u001b[1mEpisode   500 | R: +1.0 | ε: 0.050\u001b[0m\n"
     ]
    },
    {
     "data": {
      "text/html": [],
      "text/plain": [
       "<IPython.core.display.HTML object>"
      ]
     },
     "metadata": {},
     "output_type": "display_data"
    },
    {
     "data": {
      "text/html": [
       "<br>    <style><br>        .wandb-row {<br>            display: flex;<br>            flex-direction: row;<br>            flex-wrap: wrap;<br>            justify-content: flex-start;<br>            width: 100%;<br>        }<br>        .wandb-col {<br>            display: flex;<br>            flex-direction: column;<br>            flex-basis: 100%;<br>            flex: 1;<br>            padding: 10px;<br>        }<br>    </style><br><div class=\"wandb-row\"><div class=\"wandb-col\"><h3>Run history:</h3><br/><table class=\"wandb\"><tr><td>best_reward</td><td>▁</td></tr><tr><td>converged_episode</td><td>▁</td></tr><tr><td>train_time_sec</td><td>▁</td></tr></table><br/></div><div class=\"wandb-col\"><h3>Run summary:</h3><br/><table class=\"wandb\"><tr><td>best_reward</td><td>1</td></tr><tr><td>converged_episode</td><td>371</td></tr><tr><td>train_time_sec</td><td>0.04283</td></tr></table><br/></div></div>"
      ],
      "text/plain": [
       "<IPython.core.display.HTML object>"
      ]
     },
     "metadata": {},
     "output_type": "display_data"
    },
    {
     "data": {
      "text/html": [
       " View run <strong style=\"color:#cdcd00\">peach-sweep-5</strong> at: <a href='https://wandb.ai/magicayyub-lab/montyhall-ql/runs/u778qvhc' target=\"_blank\">https://wandb.ai/magicayyub-lab/montyhall-ql/runs/u778qvhc</a><br> View project at: <a href='https://wandb.ai/magicayyub-lab/montyhall-ql' target=\"_blank\">https://wandb.ai/magicayyub-lab/montyhall-ql</a><br>Synced 5 W&B file(s), 0 media file(s), 0 artifact file(s) and 0 other file(s)"
      ],
      "text/plain": [
       "<IPython.core.display.HTML object>"
      ]
     },
     "metadata": {},
     "output_type": "display_data"
    },
    {
     "data": {
      "text/html": [
       "Find logs at: <code>./wandb/run-20250830_040247-u778qvhc/logs</code>"
      ],
      "text/plain": [
       "<IPython.core.display.HTML object>"
      ]
     },
     "metadata": {},
     "output_type": "display_data"
    },
    {
     "name": "stderr",
     "output_type": "stream",
     "text": [
      "\u001b[34m\u001b[1mwandb\u001b[0m: Agent Starting Run: u9y1h3v4 with config:\n",
      "\u001b[34m\u001b[1mwandb\u001b[0m: \tdiscount_factor: 0.8417754477991882\n",
      "\u001b[34m\u001b[1mwandb\u001b[0m: \tepsilon_decay: 0.994785848892426\n",
      "\u001b[34m\u001b[1mwandb\u001b[0m: \tlearning_rate: 0.00021120035604152204\n"
     ]
    },
    {
     "data": {
      "text/html": [
       "Changes to your `wandb` environment variables will be ignored because your `wandb` session has already started. For more information on how to modify your settings with `wandb.init()` arguments, please refer to <a href='https://wandb.me/wandb-init' target=\"_blank\">the W&B docs</a>."
      ],
      "text/plain": [
       "<IPython.core.display.HTML object>"
      ]
     },
     "metadata": {},
     "output_type": "display_data"
    },
    {
     "data": {
      "text/html": [
       "Ignoring project 'montyhall-ql' when running a sweep."
      ],
      "text/plain": [
       "<IPython.core.display.HTML object>"
      ]
     },
     "metadata": {},
     "output_type": "display_data"
    },
    {
     "data": {
      "text/html": [
       "Waiting for wandb.init()..."
      ],
      "text/plain": [
       "<IPython.core.display.HTML object>"
      ]
     },
     "metadata": {},
     "output_type": "display_data"
    },
    {
     "data": {
      "text/html": [
       "Tracking run with wandb version 0.21.2"
      ],
      "text/plain": [
       "<IPython.core.display.HTML object>"
      ]
     },
     "metadata": {},
     "output_type": "display_data"
    },
    {
     "data": {
      "text/html": [
       "Run data is saved locally in <code>/Users/ayouba/Documents/laboratoire/RL/wandb/run-20250830_040253-u9y1h3v4</code>"
      ],
      "text/plain": [
       "<IPython.core.display.HTML object>"
      ]
     },
     "metadata": {},
     "output_type": "display_data"
    },
    {
     "data": {
      "text/html": [
       "Syncing run <strong><a href='https://wandb.ai/magicayyub-lab/montyhall-ql/runs/u9y1h3v4' target=\"_blank\">brisk-sweep-6</a></strong> to <a href='https://wandb.ai/magicayyub-lab/montyhall-ql' target=\"_blank\">Weights & Biases</a> (<a href='https://wandb.me/developer-guide' target=\"_blank\">docs</a>)<br>Sweep page: <a href='https://wandb.ai/magicayyub-lab/montyhall-ql/sweeps/9cdpki6q' target=\"_blank\">https://wandb.ai/magicayyub-lab/montyhall-ql/sweeps/9cdpki6q</a>"
      ],
      "text/plain": [
       "<IPython.core.display.HTML object>"
      ]
     },
     "metadata": {},
     "output_type": "display_data"
    },
    {
     "data": {
      "text/html": [
       " View project at <a href='https://wandb.ai/magicayyub-lab/montyhall-ql' target=\"_blank\">https://wandb.ai/magicayyub-lab/montyhall-ql</a>"
      ],
      "text/plain": [
       "<IPython.core.display.HTML object>"
      ]
     },
     "metadata": {},
     "output_type": "display_data"
    },
    {
     "data": {
      "text/html": [
       " View sweep at <a href='https://wandb.ai/magicayyub-lab/montyhall-ql/sweeps/9cdpki6q' target=\"_blank\">https://wandb.ai/magicayyub-lab/montyhall-ql/sweeps/9cdpki6q</a>"
      ],
      "text/plain": [
       "<IPython.core.display.HTML object>"
      ]
     },
     "metadata": {},
     "output_type": "display_data"
    },
    {
     "data": {
      "text/html": [
       " View run at <a href='https://wandb.ai/magicayyub-lab/montyhall-ql/runs/u9y1h3v4' target=\"_blank\">https://wandb.ai/magicayyub-lab/montyhall-ql/runs/u9y1h3v4</a>"
      ],
      "text/plain": [
       "<IPython.core.display.HTML object>"
      ]
     },
     "metadata": {},
     "output_type": "display_data"
    },
    {
     "name": "stderr",
     "output_type": "stream",
     "text": [
      "\u001b[32m2025-08-30 04:02:54.216\u001b[0m | \u001b[1mINFO    \u001b[0m | \u001b[36msrc.rl.tabular_q_learning\u001b[0m:\u001b[36mtrain\u001b[0m:\u001b[36m226\u001b[0m - \u001b[1mEpisode    25 | R: +1.0 | ε: 0.877\u001b[0m\n",
      "\u001b[32m2025-08-30 04:02:54.219\u001b[0m | \u001b[1mINFO    \u001b[0m | \u001b[36msrc.rl.tabular_q_learning\u001b[0m:\u001b[36mtrain\u001b[0m:\u001b[36m226\u001b[0m - \u001b[1mEpisode    50 | R: +1.0 | ε: 0.770\u001b[0m\n",
      "\u001b[32m2025-08-30 04:02:54.221\u001b[0m | \u001b[1mINFO    \u001b[0m | \u001b[36msrc.rl.tabular_q_learning\u001b[0m:\u001b[36mtrain\u001b[0m:\u001b[36m226\u001b[0m - \u001b[1mEpisode    75 | R: +1.0 | ε: 0.676\u001b[0m\n",
      "\u001b[32m2025-08-30 04:02:54.223\u001b[0m | \u001b[1mINFO    \u001b[0m | \u001b[36msrc.rl.tabular_q_learning\u001b[0m:\u001b[36mtrain\u001b[0m:\u001b[36m226\u001b[0m - \u001b[1mEpisode   100 | R: +1.0 | ε: 0.593\u001b[0m\n",
      "\u001b[32m2025-08-30 04:02:54.225\u001b[0m | \u001b[1mINFO    \u001b[0m | \u001b[36msrc.rl.tabular_q_learning\u001b[0m:\u001b[36mtrain\u001b[0m:\u001b[36m226\u001b[0m - \u001b[1mEpisode   125 | R: +0.0 | ε: 0.520\u001b[0m\n",
      "\u001b[32m2025-08-30 04:02:54.228\u001b[0m | \u001b[1mINFO    \u001b[0m | \u001b[36msrc.rl.tabular_q_learning\u001b[0m:\u001b[36mtrain\u001b[0m:\u001b[36m226\u001b[0m - \u001b[1mEpisode   150 | R: +1.0 | ε: 0.456\u001b[0m\n",
      "\u001b[32m2025-08-30 04:02:54.231\u001b[0m | \u001b[1mINFO    \u001b[0m | \u001b[36msrc.rl.tabular_q_learning\u001b[0m:\u001b[36mtrain\u001b[0m:\u001b[36m226\u001b[0m - \u001b[1mEpisode   175 | R: +0.0 | ε: 0.401\u001b[0m\n",
      "\u001b[32m2025-08-30 04:02:54.233\u001b[0m | \u001b[1mINFO    \u001b[0m | \u001b[36msrc.rl.tabular_q_learning\u001b[0m:\u001b[36mtrain\u001b[0m:\u001b[36m226\u001b[0m - \u001b[1mEpisode   200 | R: +1.0 | ε: 0.351\u001b[0m\n",
      "\u001b[32m2025-08-30 04:02:54.236\u001b[0m | \u001b[1mINFO    \u001b[0m | \u001b[36msrc.rl.tabular_q_learning\u001b[0m:\u001b[36mtrain\u001b[0m:\u001b[36m226\u001b[0m - \u001b[1mEpisode   225 | R: +1.0 | ε: 0.308\u001b[0m\n",
      "\u001b[32m2025-08-30 04:02:54.238\u001b[0m | \u001b[1mINFO    \u001b[0m | \u001b[36msrc.rl.tabular_q_learning\u001b[0m:\u001b[36mtrain\u001b[0m:\u001b[36m226\u001b[0m - \u001b[1mEpisode   250 | R: +1.0 | ε: 0.271\u001b[0m\n",
      "\u001b[32m2025-08-30 04:02:54.241\u001b[0m | \u001b[1mINFO    \u001b[0m | \u001b[36msrc.rl.tabular_q_learning\u001b[0m:\u001b[36mtrain\u001b[0m:\u001b[36m226\u001b[0m - \u001b[1mEpisode   275 | R: +1.0 | ε: 0.237\u001b[0m\n",
      "\u001b[32m2025-08-30 04:02:54.243\u001b[0m | \u001b[1mINFO    \u001b[0m | \u001b[36msrc.rl.tabular_q_learning\u001b[0m:\u001b[36mtrain\u001b[0m:\u001b[36m226\u001b[0m - \u001b[1mEpisode   300 | R: +1.0 | ε: 0.208\u001b[0m\n",
      "\u001b[32m2025-08-30 04:02:54.259\u001b[0m | \u001b[1mINFO    \u001b[0m | \u001b[36msrc.rl.tabular_q_learning\u001b[0m:\u001b[36mtrain\u001b[0m:\u001b[36m226\u001b[0m - \u001b[1mEpisode   325 | R: +1.0 | ε: 0.183\u001b[0m\n",
      "\u001b[32m2025-08-30 04:02:54.262\u001b[0m | \u001b[1mINFO    \u001b[0m | \u001b[36msrc.rl.tabular_q_learning\u001b[0m:\u001b[36mtrain\u001b[0m:\u001b[36m226\u001b[0m - \u001b[1mEpisode   350 | R: +1.0 | ε: 0.160\u001b[0m\n",
      "\u001b[32m2025-08-30 04:02:54.268\u001b[0m | \u001b[1mINFO    \u001b[0m | \u001b[36msrc.rl.tabular_q_learning\u001b[0m:\u001b[36mtrain\u001b[0m:\u001b[36m226\u001b[0m - \u001b[1mEpisode   375 | R: +1.0 | ε: 0.141\u001b[0m\n",
      "\u001b[32m2025-08-30 04:02:54.270\u001b[0m | \u001b[1mINFO    \u001b[0m | \u001b[36msrc.rl.tabular_q_learning\u001b[0m:\u001b[36mtrain\u001b[0m:\u001b[36m226\u001b[0m - \u001b[1mEpisode   400 | R: +1.0 | ε: 0.124\u001b[0m\n",
      "\u001b[32m2025-08-30 04:02:54.273\u001b[0m | \u001b[1mINFO    \u001b[0m | \u001b[36msrc.rl.tabular_q_learning\u001b[0m:\u001b[36mtrain\u001b[0m:\u001b[36m226\u001b[0m - \u001b[1mEpisode   425 | R: +1.0 | ε: 0.108\u001b[0m\n",
      "\u001b[32m2025-08-30 04:02:54.275\u001b[0m | \u001b[1mINFO    \u001b[0m | \u001b[36msrc.rl.tabular_q_learning\u001b[0m:\u001b[36mtrain\u001b[0m:\u001b[36m226\u001b[0m - \u001b[1mEpisode   450 | R: +1.0 | ε: 0.095\u001b[0m\n",
      "\u001b[32m2025-08-30 04:02:54.278\u001b[0m | \u001b[1mINFO    \u001b[0m | \u001b[36msrc.rl.tabular_q_learning\u001b[0m:\u001b[36mtrain\u001b[0m:\u001b[36m226\u001b[0m - \u001b[1mEpisode   475 | R: +1.0 | ε: 0.083\u001b[0m\n",
      "\u001b[32m2025-08-30 04:02:54.280\u001b[0m | \u001b[1mINFO    \u001b[0m | \u001b[36msrc.rl.tabular_q_learning\u001b[0m:\u001b[36mtrain\u001b[0m:\u001b[36m226\u001b[0m - \u001b[1mEpisode   500 | R: +1.0 | ε: 0.073\u001b[0m\n"
     ]
    },
    {
     "data": {
      "text/html": [],
      "text/plain": [
       "<IPython.core.display.HTML object>"
      ]
     },
     "metadata": {},
     "output_type": "display_data"
    },
    {
     "data": {
      "text/html": [
       "<br>    <style><br>        .wandb-row {<br>            display: flex;<br>            flex-direction: row;<br>            flex-wrap: wrap;<br>            justify-content: flex-start;<br>            width: 100%;<br>        }<br>        .wandb-col {<br>            display: flex;<br>            flex-direction: column;<br>            flex-basis: 100%;<br>            flex: 1;<br>            padding: 10px;<br>        }<br>    </style><br><div class=\"wandb-row\"><div class=\"wandb-col\"><h3>Run history:</h3><br/><table class=\"wandb\"><tr><td>best_reward</td><td>▁</td></tr><tr><td>converged_episode</td><td>▁</td></tr><tr><td>train_time_sec</td><td>▁</td></tr></table><br/></div><div class=\"wandb-col\"><h3>Run summary:</h3><br/><table class=\"wandb\"><tr><td>best_reward</td><td>1</td></tr><tr><td>converged_episode</td><td>-1</td></tr><tr><td>train_time_sec</td><td>0</td></tr></table><br/></div></div>"
      ],
      "text/plain": [
       "<IPython.core.display.HTML object>"
      ]
     },
     "metadata": {},
     "output_type": "display_data"
    },
    {
     "data": {
      "text/html": [
       " View run <strong style=\"color:#cdcd00\">brisk-sweep-6</strong> at: <a href='https://wandb.ai/magicayyub-lab/montyhall-ql/runs/u9y1h3v4' target=\"_blank\">https://wandb.ai/magicayyub-lab/montyhall-ql/runs/u9y1h3v4</a><br> View project at: <a href='https://wandb.ai/magicayyub-lab/montyhall-ql' target=\"_blank\">https://wandb.ai/magicayyub-lab/montyhall-ql</a><br>Synced 5 W&B file(s), 0 media file(s), 0 artifact file(s) and 0 other file(s)"
      ],
      "text/plain": [
       "<IPython.core.display.HTML object>"
      ]
     },
     "metadata": {},
     "output_type": "display_data"
    },
    {
     "data": {
      "text/html": [
       "Find logs at: <code>./wandb/run-20250830_040253-u9y1h3v4/logs</code>"
      ],
      "text/plain": [
       "<IPython.core.display.HTML object>"
      ]
     },
     "metadata": {},
     "output_type": "display_data"
    },
    {
     "name": "stderr",
     "output_type": "stream",
     "text": [
      "\u001b[34m\u001b[1mwandb\u001b[0m: Agent Starting Run: cpeqoaw0 with config:\n",
      "\u001b[34m\u001b[1mwandb\u001b[0m: \tdiscount_factor: 0.8694617745943858\n",
      "\u001b[34m\u001b[1mwandb\u001b[0m: \tepsilon_decay: 0.9897816980711844\n",
      "\u001b[34m\u001b[1mwandb\u001b[0m: \tlearning_rate: 0.0018856271457838023\n"
     ]
    },
    {
     "data": {
      "text/html": [
       "Changes to your `wandb` environment variables will be ignored because your `wandb` session has already started. For more information on how to modify your settings with `wandb.init()` arguments, please refer to <a href='https://wandb.me/wandb-init' target=\"_blank\">the W&B docs</a>."
      ],
      "text/plain": [
       "<IPython.core.display.HTML object>"
      ]
     },
     "metadata": {},
     "output_type": "display_data"
    },
    {
     "data": {
      "text/html": [
       "Ignoring project 'montyhall-ql' when running a sweep."
      ],
      "text/plain": [
       "<IPython.core.display.HTML object>"
      ]
     },
     "metadata": {},
     "output_type": "display_data"
    },
    {
     "data": {
      "text/html": [
       "Waiting for wandb.init()..."
      ],
      "text/plain": [
       "<IPython.core.display.HTML object>"
      ]
     },
     "metadata": {},
     "output_type": "display_data"
    },
    {
     "data": {
      "text/html": [
       "Tracking run with wandb version 0.21.2"
      ],
      "text/plain": [
       "<IPython.core.display.HTML object>"
      ]
     },
     "metadata": {},
     "output_type": "display_data"
    },
    {
     "data": {
      "text/html": [
       "Run data is saved locally in <code>/Users/ayouba/Documents/laboratoire/RL/wandb/run-20250830_040259-cpeqoaw0</code>"
      ],
      "text/plain": [
       "<IPython.core.display.HTML object>"
      ]
     },
     "metadata": {},
     "output_type": "display_data"
    },
    {
     "data": {
      "text/html": [
       "Syncing run <strong><a href='https://wandb.ai/magicayyub-lab/montyhall-ql/runs/cpeqoaw0' target=\"_blank\">cosmic-sweep-7</a></strong> to <a href='https://wandb.ai/magicayyub-lab/montyhall-ql' target=\"_blank\">Weights & Biases</a> (<a href='https://wandb.me/developer-guide' target=\"_blank\">docs</a>)<br>Sweep page: <a href='https://wandb.ai/magicayyub-lab/montyhall-ql/sweeps/9cdpki6q' target=\"_blank\">https://wandb.ai/magicayyub-lab/montyhall-ql/sweeps/9cdpki6q</a>"
      ],
      "text/plain": [
       "<IPython.core.display.HTML object>"
      ]
     },
     "metadata": {},
     "output_type": "display_data"
    },
    {
     "data": {
      "text/html": [
       " View project at <a href='https://wandb.ai/magicayyub-lab/montyhall-ql' target=\"_blank\">https://wandb.ai/magicayyub-lab/montyhall-ql</a>"
      ],
      "text/plain": [
       "<IPython.core.display.HTML object>"
      ]
     },
     "metadata": {},
     "output_type": "display_data"
    },
    {
     "data": {
      "text/html": [
       " View sweep at <a href='https://wandb.ai/magicayyub-lab/montyhall-ql/sweeps/9cdpki6q' target=\"_blank\">https://wandb.ai/magicayyub-lab/montyhall-ql/sweeps/9cdpki6q</a>"
      ],
      "text/plain": [
       "<IPython.core.display.HTML object>"
      ]
     },
     "metadata": {},
     "output_type": "display_data"
    },
    {
     "data": {
      "text/html": [
       " View run at <a href='https://wandb.ai/magicayyub-lab/montyhall-ql/runs/cpeqoaw0' target=\"_blank\">https://wandb.ai/magicayyub-lab/montyhall-ql/runs/cpeqoaw0</a>"
      ],
      "text/plain": [
       "<IPython.core.display.HTML object>"
      ]
     },
     "metadata": {},
     "output_type": "display_data"
    },
    {
     "name": "stderr",
     "output_type": "stream",
     "text": [
      "\u001b[32m2025-08-30 04:02:59.715\u001b[0m | \u001b[1mINFO    \u001b[0m | \u001b[36msrc.rl.tabular_q_learning\u001b[0m:\u001b[36mtrain\u001b[0m:\u001b[36m226\u001b[0m - \u001b[1mEpisode    25 | R: +0.0 | ε: 0.774\u001b[0m\n",
      "\u001b[32m2025-08-30 04:02:59.718\u001b[0m | \u001b[1mINFO    \u001b[0m | \u001b[36msrc.rl.tabular_q_learning\u001b[0m:\u001b[36mtrain\u001b[0m:\u001b[36m226\u001b[0m - \u001b[1mEpisode    50 | R: +1.0 | ε: 0.598\u001b[0m\n",
      "\u001b[32m2025-08-30 04:02:59.721\u001b[0m | \u001b[1mINFO    \u001b[0m | \u001b[36msrc.rl.tabular_q_learning\u001b[0m:\u001b[36mtrain\u001b[0m:\u001b[36m226\u001b[0m - \u001b[1mEpisode    75 | R: +1.0 | ε: 0.463\u001b[0m\n",
      "\u001b[32m2025-08-30 04:02:59.723\u001b[0m | \u001b[1mINFO    \u001b[0m | \u001b[36msrc.rl.tabular_q_learning\u001b[0m:\u001b[36mtrain\u001b[0m:\u001b[36m226\u001b[0m - \u001b[1mEpisode   100 | R: +1.0 | ε: 0.358\u001b[0m\n",
      "\u001b[32m2025-08-30 04:02:59.726\u001b[0m | \u001b[1mINFO    \u001b[0m | \u001b[36msrc.rl.tabular_q_learning\u001b[0m:\u001b[36mtrain\u001b[0m:\u001b[36m226\u001b[0m - \u001b[1mEpisode   125 | R: +1.0 | ε: 0.277\u001b[0m\n",
      "\u001b[32m2025-08-30 04:02:59.729\u001b[0m | \u001b[1mINFO    \u001b[0m | \u001b[36msrc.rl.tabular_q_learning\u001b[0m:\u001b[36mtrain\u001b[0m:\u001b[36m226\u001b[0m - \u001b[1mEpisode   150 | R: +1.0 | ε: 0.214\u001b[0m\n",
      "\u001b[32m2025-08-30 04:02:59.732\u001b[0m | \u001b[1mINFO    \u001b[0m | \u001b[36msrc.rl.tabular_q_learning\u001b[0m:\u001b[36mtrain\u001b[0m:\u001b[36m226\u001b[0m - \u001b[1mEpisode   175 | R: +1.0 | ε: 0.166\u001b[0m\n",
      "\u001b[32m2025-08-30 04:02:59.734\u001b[0m | \u001b[1mINFO    \u001b[0m | \u001b[36msrc.rl.tabular_q_learning\u001b[0m:\u001b[36mtrain\u001b[0m:\u001b[36m226\u001b[0m - \u001b[1mEpisode   200 | R: +1.0 | ε: 0.128\u001b[0m\n",
      "\u001b[32m2025-08-30 04:02:59.736\u001b[0m | \u001b[1mINFO    \u001b[0m | \u001b[36msrc.rl.tabular_q_learning\u001b[0m:\u001b[36mtrain\u001b[0m:\u001b[36m226\u001b[0m - \u001b[1mEpisode   225 | R: +1.0 | ε: 0.099\u001b[0m\n",
      "\u001b[32m2025-08-30 04:02:59.739\u001b[0m | \u001b[1mINFO    \u001b[0m | \u001b[36msrc.rl.tabular_q_learning\u001b[0m:\u001b[36mtrain\u001b[0m:\u001b[36m226\u001b[0m - \u001b[1mEpisode   250 | R: +1.0 | ε: 0.077\u001b[0m\n",
      "\u001b[32m2025-08-30 04:02:59.741\u001b[0m | \u001b[1mINFO    \u001b[0m | \u001b[36msrc.rl.tabular_q_learning\u001b[0m:\u001b[36mtrain\u001b[0m:\u001b[36m226\u001b[0m - \u001b[1mEpisode   275 | R: +1.0 | ε: 0.059\u001b[0m\n",
      "\u001b[32m2025-08-30 04:02:59.744\u001b[0m | \u001b[1mINFO    \u001b[0m | \u001b[36msrc.rl.tabular_q_learning\u001b[0m:\u001b[36mtrain\u001b[0m:\u001b[36m226\u001b[0m - \u001b[1mEpisode   300 | R: +1.0 | ε: 0.050\u001b[0m\n",
      "\u001b[32m2025-08-30 04:02:59.747\u001b[0m | \u001b[1mINFO    \u001b[0m | \u001b[36msrc.rl.tabular_q_learning\u001b[0m:\u001b[36mtrain\u001b[0m:\u001b[36m226\u001b[0m - \u001b[1mEpisode   325 | R: +1.0 | ε: 0.050\u001b[0m\n",
      "\u001b[32m2025-08-30 04:02:59.749\u001b[0m | \u001b[1mINFO    \u001b[0m | \u001b[36msrc.rl.tabular_q_learning\u001b[0m:\u001b[36mtrain\u001b[0m:\u001b[36m226\u001b[0m - \u001b[1mEpisode   350 | R: +1.0 | ε: 0.050\u001b[0m\n",
      "\u001b[32m2025-08-30 04:02:59.751\u001b[0m | \u001b[1mINFO    \u001b[0m | \u001b[36msrc.rl.tabular_q_learning\u001b[0m:\u001b[36mtrain\u001b[0m:\u001b[36m226\u001b[0m - \u001b[1mEpisode   375 | R: +1.0 | ε: 0.050\u001b[0m\n",
      "\u001b[32m2025-08-30 04:02:59.754\u001b[0m | \u001b[1mINFO    \u001b[0m | \u001b[36msrc.rl.tabular_q_learning\u001b[0m:\u001b[36mtrain\u001b[0m:\u001b[36m226\u001b[0m - \u001b[1mEpisode   400 | R: +1.0 | ε: 0.050\u001b[0m\n",
      "\u001b[32m2025-08-30 04:02:59.756\u001b[0m | \u001b[32m\u001b[1mSUCCESS \u001b[0m | \u001b[36msrc.rl.tabular_q_learning\u001b[0m:\u001b[36mtrain\u001b[0m:\u001b[36m237\u001b[0m - \u001b[32m\u001b[1mConverged at episode 418 after 0.04s\u001b[0m\n",
      "\u001b[32m2025-08-30 04:02:59.757\u001b[0m | \u001b[1mINFO    \u001b[0m | \u001b[36msrc.rl.tabular_q_learning\u001b[0m:\u001b[36mtrain\u001b[0m:\u001b[36m226\u001b[0m - \u001b[1mEpisode   425 | R: +1.0 | ε: 0.050\u001b[0m\n",
      "\u001b[32m2025-08-30 04:02:59.759\u001b[0m | \u001b[1mINFO    \u001b[0m | \u001b[36msrc.rl.tabular_q_learning\u001b[0m:\u001b[36mtrain\u001b[0m:\u001b[36m226\u001b[0m - \u001b[1mEpisode   450 | R: +1.0 | ε: 0.050\u001b[0m\n",
      "\u001b[32m2025-08-30 04:02:59.761\u001b[0m | \u001b[1mINFO    \u001b[0m | \u001b[36msrc.rl.tabular_q_learning\u001b[0m:\u001b[36mtrain\u001b[0m:\u001b[36m226\u001b[0m - \u001b[1mEpisode   475 | R: +1.0 | ε: 0.050\u001b[0m\n",
      "\u001b[32m2025-08-30 04:02:59.763\u001b[0m | \u001b[1mINFO    \u001b[0m | \u001b[36msrc.rl.tabular_q_learning\u001b[0m:\u001b[36mtrain\u001b[0m:\u001b[36m226\u001b[0m - \u001b[1mEpisode   500 | R: +1.0 | ε: 0.050\u001b[0m\n"
     ]
    },
    {
     "data": {
      "text/html": [],
      "text/plain": [
       "<IPython.core.display.HTML object>"
      ]
     },
     "metadata": {},
     "output_type": "display_data"
    },
    {
     "data": {
      "text/html": [
       "<br>    <style><br>        .wandb-row {<br>            display: flex;<br>            flex-direction: row;<br>            flex-wrap: wrap;<br>            justify-content: flex-start;<br>            width: 100%;<br>        }<br>        .wandb-col {<br>            display: flex;<br>            flex-direction: column;<br>            flex-basis: 100%;<br>            flex: 1;<br>            padding: 10px;<br>        }<br>    </style><br><div class=\"wandb-row\"><div class=\"wandb-col\"><h3>Run history:</h3><br/><table class=\"wandb\"><tr><td>best_reward</td><td>▁</td></tr><tr><td>converged_episode</td><td>▁</td></tr><tr><td>train_time_sec</td><td>▁</td></tr></table><br/></div><div class=\"wandb-col\"><h3>Run summary:</h3><br/><table class=\"wandb\"><tr><td>best_reward</td><td>1</td></tr><tr><td>converged_episode</td><td>418</td></tr><tr><td>train_time_sec</td><td>0.04242</td></tr></table><br/></div></div>"
      ],
      "text/plain": [
       "<IPython.core.display.HTML object>"
      ]
     },
     "metadata": {},
     "output_type": "display_data"
    },
    {
     "data": {
      "text/html": [
       " View run <strong style=\"color:#cdcd00\">cosmic-sweep-7</strong> at: <a href='https://wandb.ai/magicayyub-lab/montyhall-ql/runs/cpeqoaw0' target=\"_blank\">https://wandb.ai/magicayyub-lab/montyhall-ql/runs/cpeqoaw0</a><br> View project at: <a href='https://wandb.ai/magicayyub-lab/montyhall-ql' target=\"_blank\">https://wandb.ai/magicayyub-lab/montyhall-ql</a><br>Synced 5 W&B file(s), 0 media file(s), 0 artifact file(s) and 0 other file(s)"
      ],
      "text/plain": [
       "<IPython.core.display.HTML object>"
      ]
     },
     "metadata": {},
     "output_type": "display_data"
    },
    {
     "data": {
      "text/html": [
       "Find logs at: <code>./wandb/run-20250830_040259-cpeqoaw0/logs</code>"
      ],
      "text/plain": [
       "<IPython.core.display.HTML object>"
      ]
     },
     "metadata": {},
     "output_type": "display_data"
    },
    {
     "name": "stderr",
     "output_type": "stream",
     "text": [
      "\u001b[34m\u001b[1mwandb\u001b[0m: Agent Starting Run: iqn3hyua with config:\n",
      "\u001b[34m\u001b[1mwandb\u001b[0m: \tdiscount_factor: 0.8989651340704169\n",
      "\u001b[34m\u001b[1mwandb\u001b[0m: \tepsilon_decay: 0.9752259147960564\n",
      "\u001b[34m\u001b[1mwandb\u001b[0m: \tlearning_rate: 6.110667556298384e-05\n"
     ]
    },
    {
     "data": {
      "text/html": [
       "Changes to your `wandb` environment variables will be ignored because your `wandb` session has already started. For more information on how to modify your settings with `wandb.init()` arguments, please refer to <a href='https://wandb.me/wandb-init' target=\"_blank\">the W&B docs</a>."
      ],
      "text/plain": [
       "<IPython.core.display.HTML object>"
      ]
     },
     "metadata": {},
     "output_type": "display_data"
    },
    {
     "data": {
      "text/html": [
       "Ignoring project 'montyhall-ql' when running a sweep."
      ],
      "text/plain": [
       "<IPython.core.display.HTML object>"
      ]
     },
     "metadata": {},
     "output_type": "display_data"
    },
    {
     "data": {
      "text/html": [
       "Waiting for wandb.init()..."
      ],
      "text/plain": [
       "<IPython.core.display.HTML object>"
      ]
     },
     "metadata": {},
     "output_type": "display_data"
    },
    {
     "data": {
      "text/html": [
       "Tracking run with wandb version 0.21.2"
      ],
      "text/plain": [
       "<IPython.core.display.HTML object>"
      ]
     },
     "metadata": {},
     "output_type": "display_data"
    },
    {
     "data": {
      "text/html": [
       "Run data is saved locally in <code>/Users/ayouba/Documents/laboratoire/RL/wandb/run-20250830_040304-iqn3hyua</code>"
      ],
      "text/plain": [
       "<IPython.core.display.HTML object>"
      ]
     },
     "metadata": {},
     "output_type": "display_data"
    },
    {
     "data": {
      "text/html": [
       "Syncing run <strong><a href='https://wandb.ai/magicayyub-lab/montyhall-ql/runs/iqn3hyua' target=\"_blank\">devoted-sweep-8</a></strong> to <a href='https://wandb.ai/magicayyub-lab/montyhall-ql' target=\"_blank\">Weights & Biases</a> (<a href='https://wandb.me/developer-guide' target=\"_blank\">docs</a>)<br>Sweep page: <a href='https://wandb.ai/magicayyub-lab/montyhall-ql/sweeps/9cdpki6q' target=\"_blank\">https://wandb.ai/magicayyub-lab/montyhall-ql/sweeps/9cdpki6q</a>"
      ],
      "text/plain": [
       "<IPython.core.display.HTML object>"
      ]
     },
     "metadata": {},
     "output_type": "display_data"
    },
    {
     "data": {
      "text/html": [
       " View project at <a href='https://wandb.ai/magicayyub-lab/montyhall-ql' target=\"_blank\">https://wandb.ai/magicayyub-lab/montyhall-ql</a>"
      ],
      "text/plain": [
       "<IPython.core.display.HTML object>"
      ]
     },
     "metadata": {},
     "output_type": "display_data"
    },
    {
     "data": {
      "text/html": [
       " View sweep at <a href='https://wandb.ai/magicayyub-lab/montyhall-ql/sweeps/9cdpki6q' target=\"_blank\">https://wandb.ai/magicayyub-lab/montyhall-ql/sweeps/9cdpki6q</a>"
      ],
      "text/plain": [
       "<IPython.core.display.HTML object>"
      ]
     },
     "metadata": {},
     "output_type": "display_data"
    },
    {
     "data": {
      "text/html": [
       " View run at <a href='https://wandb.ai/magicayyub-lab/montyhall-ql/runs/iqn3hyua' target=\"_blank\">https://wandb.ai/magicayyub-lab/montyhall-ql/runs/iqn3hyua</a>"
      ],
      "text/plain": [
       "<IPython.core.display.HTML object>"
      ]
     },
     "metadata": {},
     "output_type": "display_data"
    },
    {
     "name": "stderr",
     "output_type": "stream",
     "text": [
      "\u001b[32m2025-08-30 04:03:05.299\u001b[0m | \u001b[1mINFO    \u001b[0m | \u001b[36msrc.rl.tabular_q_learning\u001b[0m:\u001b[36mtrain\u001b[0m:\u001b[36m226\u001b[0m - \u001b[1mEpisode    25 | R: +0.0 | ε: 0.534\u001b[0m\n",
      "\u001b[32m2025-08-30 04:03:05.301\u001b[0m | \u001b[1mINFO    \u001b[0m | \u001b[36msrc.rl.tabular_q_learning\u001b[0m:\u001b[36mtrain\u001b[0m:\u001b[36m226\u001b[0m - \u001b[1mEpisode    50 | R: +1.0 | ε: 0.285\u001b[0m\n",
      "\u001b[32m2025-08-30 04:03:05.304\u001b[0m | \u001b[1mINFO    \u001b[0m | \u001b[36msrc.rl.tabular_q_learning\u001b[0m:\u001b[36mtrain\u001b[0m:\u001b[36m226\u001b[0m - \u001b[1mEpisode    75 | R: +1.0 | ε: 0.152\u001b[0m\n",
      "\u001b[32m2025-08-30 04:03:05.305\u001b[0m | \u001b[1mINFO    \u001b[0m | \u001b[36msrc.rl.tabular_q_learning\u001b[0m:\u001b[36mtrain\u001b[0m:\u001b[36m226\u001b[0m - \u001b[1mEpisode   100 | R: +1.0 | ε: 0.081\u001b[0m\n",
      "\u001b[32m2025-08-30 04:03:05.308\u001b[0m | \u001b[1mINFO    \u001b[0m | \u001b[36msrc.rl.tabular_q_learning\u001b[0m:\u001b[36mtrain\u001b[0m:\u001b[36m226\u001b[0m - \u001b[1mEpisode   125 | R: +1.0 | ε: 0.050\u001b[0m\n",
      "\u001b[32m2025-08-30 04:03:05.310\u001b[0m | \u001b[1mINFO    \u001b[0m | \u001b[36msrc.rl.tabular_q_learning\u001b[0m:\u001b[36mtrain\u001b[0m:\u001b[36m226\u001b[0m - \u001b[1mEpisode   150 | R: +1.0 | ε: 0.050\u001b[0m\n",
      "\u001b[32m2025-08-30 04:03:05.313\u001b[0m | \u001b[1mINFO    \u001b[0m | \u001b[36msrc.rl.tabular_q_learning\u001b[0m:\u001b[36mtrain\u001b[0m:\u001b[36m226\u001b[0m - \u001b[1mEpisode   175 | R: +1.0 | ε: 0.050\u001b[0m\n",
      "\u001b[32m2025-08-30 04:03:05.315\u001b[0m | \u001b[32m\u001b[1mSUCCESS \u001b[0m | \u001b[36msrc.rl.tabular_q_learning\u001b[0m:\u001b[36mtrain\u001b[0m:\u001b[36m237\u001b[0m - \u001b[32m\u001b[1mConverged at episode 198 after 0.02s\u001b[0m\n",
      "\u001b[32m2025-08-30 04:03:05.315\u001b[0m | \u001b[1mINFO    \u001b[0m | \u001b[36msrc.rl.tabular_q_learning\u001b[0m:\u001b[36mtrain\u001b[0m:\u001b[36m226\u001b[0m - \u001b[1mEpisode   200 | R: +1.0 | ε: 0.050\u001b[0m\n",
      "\u001b[32m2025-08-30 04:03:05.318\u001b[0m | \u001b[1mINFO    \u001b[0m | \u001b[36msrc.rl.tabular_q_learning\u001b[0m:\u001b[36mtrain\u001b[0m:\u001b[36m226\u001b[0m - \u001b[1mEpisode   225 | R: +1.0 | ε: 0.050\u001b[0m\n",
      "\u001b[32m2025-08-30 04:03:05.320\u001b[0m | \u001b[1mINFO    \u001b[0m | \u001b[36msrc.rl.tabular_q_learning\u001b[0m:\u001b[36mtrain\u001b[0m:\u001b[36m226\u001b[0m - \u001b[1mEpisode   250 | R: +1.0 | ε: 0.050\u001b[0m\n",
      "\u001b[32m2025-08-30 04:03:05.322\u001b[0m | \u001b[1mINFO    \u001b[0m | \u001b[36msrc.rl.tabular_q_learning\u001b[0m:\u001b[36mtrain\u001b[0m:\u001b[36m226\u001b[0m - \u001b[1mEpisode   275 | R: +1.0 | ε: 0.050\u001b[0m\n",
      "\u001b[32m2025-08-30 04:03:05.324\u001b[0m | \u001b[1mINFO    \u001b[0m | \u001b[36msrc.rl.tabular_q_learning\u001b[0m:\u001b[36mtrain\u001b[0m:\u001b[36m226\u001b[0m - \u001b[1mEpisode   300 | R: +1.0 | ε: 0.050\u001b[0m\n",
      "\u001b[32m2025-08-30 04:03:05.326\u001b[0m | \u001b[1mINFO    \u001b[0m | \u001b[36msrc.rl.tabular_q_learning\u001b[0m:\u001b[36mtrain\u001b[0m:\u001b[36m226\u001b[0m - \u001b[1mEpisode   325 | R: +1.0 | ε: 0.050\u001b[0m\n",
      "\u001b[32m2025-08-30 04:03:05.329\u001b[0m | \u001b[1mINFO    \u001b[0m | \u001b[36msrc.rl.tabular_q_learning\u001b[0m:\u001b[36mtrain\u001b[0m:\u001b[36m226\u001b[0m - \u001b[1mEpisode   350 | R: +1.0 | ε: 0.050\u001b[0m\n",
      "\u001b[32m2025-08-30 04:03:05.331\u001b[0m | \u001b[1mINFO    \u001b[0m | \u001b[36msrc.rl.tabular_q_learning\u001b[0m:\u001b[36mtrain\u001b[0m:\u001b[36m226\u001b[0m - \u001b[1mEpisode   375 | R: +1.0 | ε: 0.050\u001b[0m\n",
      "\u001b[32m2025-08-30 04:03:05.333\u001b[0m | \u001b[1mINFO    \u001b[0m | \u001b[36msrc.rl.tabular_q_learning\u001b[0m:\u001b[36mtrain\u001b[0m:\u001b[36m226\u001b[0m - \u001b[1mEpisode   400 | R: +1.0 | ε: 0.050\u001b[0m\n",
      "\u001b[32m2025-08-30 04:03:05.335\u001b[0m | \u001b[1mINFO    \u001b[0m | \u001b[36msrc.rl.tabular_q_learning\u001b[0m:\u001b[36mtrain\u001b[0m:\u001b[36m226\u001b[0m - \u001b[1mEpisode   425 | R: +1.0 | ε: 0.050\u001b[0m\n",
      "\u001b[32m2025-08-30 04:03:05.337\u001b[0m | \u001b[1mINFO    \u001b[0m | \u001b[36msrc.rl.tabular_q_learning\u001b[0m:\u001b[36mtrain\u001b[0m:\u001b[36m226\u001b[0m - \u001b[1mEpisode   450 | R: +1.0 | ε: 0.050\u001b[0m\n",
      "\u001b[32m2025-08-30 04:03:05.339\u001b[0m | \u001b[1mINFO    \u001b[0m | \u001b[36msrc.rl.tabular_q_learning\u001b[0m:\u001b[36mtrain\u001b[0m:\u001b[36m226\u001b[0m - \u001b[1mEpisode   475 | R: +1.0 | ε: 0.050\u001b[0m\n",
      "\u001b[32m2025-08-30 04:03:05.341\u001b[0m | \u001b[1mINFO    \u001b[0m | \u001b[36msrc.rl.tabular_q_learning\u001b[0m:\u001b[36mtrain\u001b[0m:\u001b[36m226\u001b[0m - \u001b[1mEpisode   500 | R: +1.0 | ε: 0.050\u001b[0m\n"
     ]
    },
    {
     "data": {
      "text/html": [],
      "text/plain": [
       "<IPython.core.display.HTML object>"
      ]
     },
     "metadata": {},
     "output_type": "display_data"
    },
    {
     "data": {
      "text/html": [
       "<br>    <style><br>        .wandb-row {<br>            display: flex;<br>            flex-direction: row;<br>            flex-wrap: wrap;<br>            justify-content: flex-start;<br>            width: 100%;<br>        }<br>        .wandb-col {<br>            display: flex;<br>            flex-direction: column;<br>            flex-basis: 100%;<br>            flex: 1;<br>            padding: 10px;<br>        }<br>    </style><br><div class=\"wandb-row\"><div class=\"wandb-col\"><h3>Run history:</h3><br/><table class=\"wandb\"><tr><td>best_reward</td><td>▁</td></tr><tr><td>converged_episode</td><td>▁</td></tr><tr><td>train_time_sec</td><td>▁</td></tr></table><br/></div><div class=\"wandb-col\"><h3>Run summary:</h3><br/><table class=\"wandb\"><tr><td>best_reward</td><td>1</td></tr><tr><td>converged_episode</td><td>198</td></tr><tr><td>train_time_sec</td><td>0.01848</td></tr></table><br/></div></div>"
      ],
      "text/plain": [
       "<IPython.core.display.HTML object>"
      ]
     },
     "metadata": {},
     "output_type": "display_data"
    },
    {
     "data": {
      "text/html": [
       " View run <strong style=\"color:#cdcd00\">devoted-sweep-8</strong> at: <a href='https://wandb.ai/magicayyub-lab/montyhall-ql/runs/iqn3hyua' target=\"_blank\">https://wandb.ai/magicayyub-lab/montyhall-ql/runs/iqn3hyua</a><br> View project at: <a href='https://wandb.ai/magicayyub-lab/montyhall-ql' target=\"_blank\">https://wandb.ai/magicayyub-lab/montyhall-ql</a><br>Synced 5 W&B file(s), 0 media file(s), 0 artifact file(s) and 0 other file(s)"
      ],
      "text/plain": [
       "<IPython.core.display.HTML object>"
      ]
     },
     "metadata": {},
     "output_type": "display_data"
    },
    {
     "data": {
      "text/html": [
       "Find logs at: <code>./wandb/run-20250830_040304-iqn3hyua/logs</code>"
      ],
      "text/plain": [
       "<IPython.core.display.HTML object>"
      ]
     },
     "metadata": {},
     "output_type": "display_data"
    },
    {
     "name": "stderr",
     "output_type": "stream",
     "text": [
      "\u001b[34m\u001b[1mwandb\u001b[0m: Sweep Agent: Waiting for job.\n",
      "\u001b[34m\u001b[1mwandb\u001b[0m: Job received.\n",
      "\u001b[34m\u001b[1mwandb\u001b[0m: Agent Starting Run: 0vswpbdh with config:\n",
      "\u001b[34m\u001b[1mwandb\u001b[0m: \tdiscount_factor: 0.8561184172788626\n",
      "\u001b[34m\u001b[1mwandb\u001b[0m: \tepsilon_decay: 0.9861346611189992\n",
      "\u001b[34m\u001b[1mwandb\u001b[0m: \tlearning_rate: 0.00015554679012431366\n"
     ]
    },
    {
     "data": {
      "text/html": [
       "Changes to your `wandb` environment variables will be ignored because your `wandb` session has already started. For more information on how to modify your settings with `wandb.init()` arguments, please refer to <a href='https://wandb.me/wandb-init' target=\"_blank\">the W&B docs</a>."
      ],
      "text/plain": [
       "<IPython.core.display.HTML object>"
      ]
     },
     "metadata": {},
     "output_type": "display_data"
    },
    {
     "data": {
      "text/html": [
       "Ignoring project 'montyhall-ql' when running a sweep."
      ],
      "text/plain": [
       "<IPython.core.display.HTML object>"
      ]
     },
     "metadata": {},
     "output_type": "display_data"
    },
    {
     "data": {
      "text/html": [
       "creating run (0.3s)"
      ],
      "text/plain": [
       "<IPython.core.display.HTML object>"
      ]
     },
     "metadata": {},
     "output_type": "display_data"
    },
    {
     "data": {
      "text/html": [
       "Tracking run with wandb version 0.21.2"
      ],
      "text/plain": [
       "<IPython.core.display.HTML object>"
      ]
     },
     "metadata": {},
     "output_type": "display_data"
    },
    {
     "data": {
      "text/html": [
       "Run data is saved locally in <code>/Users/ayouba/Documents/laboratoire/RL/wandb/run-20250830_040316-0vswpbdh</code>"
      ],
      "text/plain": [
       "<IPython.core.display.HTML object>"
      ]
     },
     "metadata": {},
     "output_type": "display_data"
    },
    {
     "data": {
      "text/html": [
       "Syncing run <strong><a href='https://wandb.ai/magicayyub-lab/montyhall-ql/runs/0vswpbdh' target=\"_blank\">polar-sweep-9</a></strong> to <a href='https://wandb.ai/magicayyub-lab/montyhall-ql' target=\"_blank\">Weights & Biases</a> (<a href='https://wandb.me/developer-guide' target=\"_blank\">docs</a>)<br>Sweep page: <a href='https://wandb.ai/magicayyub-lab/montyhall-ql/sweeps/9cdpki6q' target=\"_blank\">https://wandb.ai/magicayyub-lab/montyhall-ql/sweeps/9cdpki6q</a>"
      ],
      "text/plain": [
       "<IPython.core.display.HTML object>"
      ]
     },
     "metadata": {},
     "output_type": "display_data"
    },
    {
     "data": {
      "text/html": [
       " View project at <a href='https://wandb.ai/magicayyub-lab/montyhall-ql' target=\"_blank\">https://wandb.ai/magicayyub-lab/montyhall-ql</a>"
      ],
      "text/plain": [
       "<IPython.core.display.HTML object>"
      ]
     },
     "metadata": {},
     "output_type": "display_data"
    },
    {
     "data": {
      "text/html": [
       " View sweep at <a href='https://wandb.ai/magicayyub-lab/montyhall-ql/sweeps/9cdpki6q' target=\"_blank\">https://wandb.ai/magicayyub-lab/montyhall-ql/sweeps/9cdpki6q</a>"
      ],
      "text/plain": [
       "<IPython.core.display.HTML object>"
      ]
     },
     "metadata": {},
     "output_type": "display_data"
    },
    {
     "data": {
      "text/html": [
       " View run at <a href='https://wandb.ai/magicayyub-lab/montyhall-ql/runs/0vswpbdh' target=\"_blank\">https://wandb.ai/magicayyub-lab/montyhall-ql/runs/0vswpbdh</a>"
      ],
      "text/plain": [
       "<IPython.core.display.HTML object>"
      ]
     },
     "metadata": {},
     "output_type": "display_data"
    },
    {
     "name": "stderr",
     "output_type": "stream",
     "text": [
      "\u001b[32m2025-08-30 04:03:17.721\u001b[0m | \u001b[1mINFO    \u001b[0m | \u001b[36msrc.rl.tabular_q_learning\u001b[0m:\u001b[36mtrain\u001b[0m:\u001b[36m226\u001b[0m - \u001b[1mEpisode    25 | R: +1.0 | ε: 0.705\u001b[0m\n",
      "\u001b[32m2025-08-30 04:03:17.724\u001b[0m | \u001b[1mINFO    \u001b[0m | \u001b[36msrc.rl.tabular_q_learning\u001b[0m:\u001b[36mtrain\u001b[0m:\u001b[36m226\u001b[0m - \u001b[1mEpisode    50 | R: +1.0 | ε: 0.498\u001b[0m\n",
      "\u001b[32m2025-08-30 04:03:17.726\u001b[0m | \u001b[1mINFO    \u001b[0m | \u001b[36msrc.rl.tabular_q_learning\u001b[0m:\u001b[36mtrain\u001b[0m:\u001b[36m226\u001b[0m - \u001b[1mEpisode    75 | R: +1.0 | ε: 0.351\u001b[0m\n",
      "\u001b[32m2025-08-30 04:03:17.728\u001b[0m | \u001b[1mINFO    \u001b[0m | \u001b[36msrc.rl.tabular_q_learning\u001b[0m:\u001b[36mtrain\u001b[0m:\u001b[36m226\u001b[0m - \u001b[1mEpisode   100 | R: +1.0 | ε: 0.248\u001b[0m\n",
      "\u001b[32m2025-08-30 04:03:17.730\u001b[0m | \u001b[1mINFO    \u001b[0m | \u001b[36msrc.rl.tabular_q_learning\u001b[0m:\u001b[36mtrain\u001b[0m:\u001b[36m226\u001b[0m - \u001b[1mEpisode   125 | R: +1.0 | ε: 0.175\u001b[0m\n",
      "\u001b[32m2025-08-30 04:03:17.733\u001b[0m | \u001b[1mINFO    \u001b[0m | \u001b[36msrc.rl.tabular_q_learning\u001b[0m:\u001b[36mtrain\u001b[0m:\u001b[36m226\u001b[0m - \u001b[1mEpisode   150 | R: +1.0 | ε: 0.123\u001b[0m\n",
      "\u001b[32m2025-08-30 04:03:17.735\u001b[0m | \u001b[1mINFO    \u001b[0m | \u001b[36msrc.rl.tabular_q_learning\u001b[0m:\u001b[36mtrain\u001b[0m:\u001b[36m226\u001b[0m - \u001b[1mEpisode   175 | R: +1.0 | ε: 0.087\u001b[0m\n",
      "\u001b[32m2025-08-30 04:03:17.738\u001b[0m | \u001b[1mINFO    \u001b[0m | \u001b[36msrc.rl.tabular_q_learning\u001b[0m:\u001b[36mtrain\u001b[0m:\u001b[36m226\u001b[0m - \u001b[1mEpisode   200 | R: +1.0 | ε: 0.061\u001b[0m\n",
      "\u001b[32m2025-08-30 04:03:17.741\u001b[0m | \u001b[1mINFO    \u001b[0m | \u001b[36msrc.rl.tabular_q_learning\u001b[0m:\u001b[36mtrain\u001b[0m:\u001b[36m226\u001b[0m - \u001b[1mEpisode   225 | R: +1.0 | ε: 0.050\u001b[0m\n",
      "\u001b[32m2025-08-30 04:03:17.743\u001b[0m | \u001b[1mINFO    \u001b[0m | \u001b[36msrc.rl.tabular_q_learning\u001b[0m:\u001b[36mtrain\u001b[0m:\u001b[36m226\u001b[0m - \u001b[1mEpisode   250 | R: +1.0 | ε: 0.050\u001b[0m\n",
      "\u001b[32m2025-08-30 04:03:17.746\u001b[0m | \u001b[1mINFO    \u001b[0m | \u001b[36msrc.rl.tabular_q_learning\u001b[0m:\u001b[36mtrain\u001b[0m:\u001b[36m226\u001b[0m - \u001b[1mEpisode   275 | R: +1.0 | ε: 0.050\u001b[0m\n",
      "\u001b[32m2025-08-30 04:03:17.748\u001b[0m | \u001b[1mINFO    \u001b[0m | \u001b[36msrc.rl.tabular_q_learning\u001b[0m:\u001b[36mtrain\u001b[0m:\u001b[36m226\u001b[0m - \u001b[1mEpisode   300 | R: +1.0 | ε: 0.050\u001b[0m\n",
      "\u001b[32m2025-08-30 04:03:17.750\u001b[0m | \u001b[1mINFO    \u001b[0m | \u001b[36msrc.rl.tabular_q_learning\u001b[0m:\u001b[36mtrain\u001b[0m:\u001b[36m226\u001b[0m - \u001b[1mEpisode   325 | R: +1.0 | ε: 0.050\u001b[0m\n",
      "\u001b[32m2025-08-30 04:03:17.753\u001b[0m | \u001b[1mINFO    \u001b[0m | \u001b[36msrc.rl.tabular_q_learning\u001b[0m:\u001b[36mtrain\u001b[0m:\u001b[36m226\u001b[0m - \u001b[1mEpisode   350 | R: +1.0 | ε: 0.050\u001b[0m\n",
      "\u001b[32m2025-08-30 04:03:17.755\u001b[0m | \u001b[32m\u001b[1mSUCCESS \u001b[0m | \u001b[36msrc.rl.tabular_q_learning\u001b[0m:\u001b[36mtrain\u001b[0m:\u001b[36m237\u001b[0m - \u001b[32m\u001b[1mConverged at episode 371 after 0.04s\u001b[0m\n",
      "\u001b[32m2025-08-30 04:03:17.755\u001b[0m | \u001b[1mINFO    \u001b[0m | \u001b[36msrc.rl.tabular_q_learning\u001b[0m:\u001b[36mtrain\u001b[0m:\u001b[36m226\u001b[0m - \u001b[1mEpisode   375 | R: +1.0 | ε: 0.050\u001b[0m\n",
      "\u001b[32m2025-08-30 04:03:17.757\u001b[0m | \u001b[1mINFO    \u001b[0m | \u001b[36msrc.rl.tabular_q_learning\u001b[0m:\u001b[36mtrain\u001b[0m:\u001b[36m226\u001b[0m - \u001b[1mEpisode   400 | R: +1.0 | ε: 0.050\u001b[0m\n",
      "\u001b[32m2025-08-30 04:03:17.759\u001b[0m | \u001b[1mINFO    \u001b[0m | \u001b[36msrc.rl.tabular_q_learning\u001b[0m:\u001b[36mtrain\u001b[0m:\u001b[36m226\u001b[0m - \u001b[1mEpisode   425 | R: +1.0 | ε: 0.050\u001b[0m\n",
      "\u001b[32m2025-08-30 04:03:17.761\u001b[0m | \u001b[1mINFO    \u001b[0m | \u001b[36msrc.rl.tabular_q_learning\u001b[0m:\u001b[36mtrain\u001b[0m:\u001b[36m226\u001b[0m - \u001b[1mEpisode   450 | R: +1.0 | ε: 0.050\u001b[0m\n",
      "\u001b[32m2025-08-30 04:03:17.763\u001b[0m | \u001b[1mINFO    \u001b[0m | \u001b[36msrc.rl.tabular_q_learning\u001b[0m:\u001b[36mtrain\u001b[0m:\u001b[36m226\u001b[0m - \u001b[1mEpisode   475 | R: +1.0 | ε: 0.050\u001b[0m\n",
      "\u001b[32m2025-08-30 04:03:17.765\u001b[0m | \u001b[1mINFO    \u001b[0m | \u001b[36msrc.rl.tabular_q_learning\u001b[0m:\u001b[36mtrain\u001b[0m:\u001b[36m226\u001b[0m - \u001b[1mEpisode   500 | R: +1.0 | ε: 0.050\u001b[0m\n"
     ]
    },
    {
     "data": {
      "text/html": [],
      "text/plain": [
       "<IPython.core.display.HTML object>"
      ]
     },
     "metadata": {},
     "output_type": "display_data"
    },
    {
     "data": {
      "text/html": [
       "<br>    <style><br>        .wandb-row {<br>            display: flex;<br>            flex-direction: row;<br>            flex-wrap: wrap;<br>            justify-content: flex-start;<br>            width: 100%;<br>        }<br>        .wandb-col {<br>            display: flex;<br>            flex-direction: column;<br>            flex-basis: 100%;<br>            flex: 1;<br>            padding: 10px;<br>        }<br>    </style><br><div class=\"wandb-row\"><div class=\"wandb-col\"><h3>Run history:</h3><br/><table class=\"wandb\"><tr><td>best_reward</td><td>▁</td></tr><tr><td>converged_episode</td><td>▁</td></tr><tr><td>train_time_sec</td><td>▁</td></tr></table><br/></div><div class=\"wandb-col\"><h3>Run summary:</h3><br/><table class=\"wandb\"><tr><td>best_reward</td><td>1</td></tr><tr><td>converged_episode</td><td>371</td></tr><tr><td>train_time_sec</td><td>0.03563</td></tr></table><br/></div></div>"
      ],
      "text/plain": [
       "<IPython.core.display.HTML object>"
      ]
     },
     "metadata": {},
     "output_type": "display_data"
    },
    {
     "data": {
      "text/html": [
       " View run <strong style=\"color:#cdcd00\">polar-sweep-9</strong> at: <a href='https://wandb.ai/magicayyub-lab/montyhall-ql/runs/0vswpbdh' target=\"_blank\">https://wandb.ai/magicayyub-lab/montyhall-ql/runs/0vswpbdh</a><br> View project at: <a href='https://wandb.ai/magicayyub-lab/montyhall-ql' target=\"_blank\">https://wandb.ai/magicayyub-lab/montyhall-ql</a><br>Synced 5 W&B file(s), 0 media file(s), 0 artifact file(s) and 0 other file(s)"
      ],
      "text/plain": [
       "<IPython.core.display.HTML object>"
      ]
     },
     "metadata": {},
     "output_type": "display_data"
    },
    {
     "data": {
      "text/html": [
       "Find logs at: <code>./wandb/run-20250830_040316-0vswpbdh/logs</code>"
      ],
      "text/plain": [
       "<IPython.core.display.HTML object>"
      ]
     },
     "metadata": {},
     "output_type": "display_data"
    },
    {
     "name": "stderr",
     "output_type": "stream",
     "text": [
      "\u001b[34m\u001b[1mwandb\u001b[0m: Agent Starting Run: b5lf5xfs with config:\n",
      "\u001b[34m\u001b[1mwandb\u001b[0m: \tdiscount_factor: 0.9512216865977045\n",
      "\u001b[34m\u001b[1mwandb\u001b[0m: \tepsilon_decay: 0.9857180866681654\n",
      "\u001b[34m\u001b[1mwandb\u001b[0m: \tlearning_rate: 0.0014856113438199289\n"
     ]
    },
    {
     "data": {
      "text/html": [
       "Changes to your `wandb` environment variables will be ignored because your `wandb` session has already started. For more information on how to modify your settings with `wandb.init()` arguments, please refer to <a href='https://wandb.me/wandb-init' target=\"_blank\">the W&B docs</a>."
      ],
      "text/plain": [
       "<IPython.core.display.HTML object>"
      ]
     },
     "metadata": {},
     "output_type": "display_data"
    },
    {
     "data": {
      "text/html": [
       "Ignoring project 'montyhall-ql' when running a sweep."
      ],
      "text/plain": [
       "<IPython.core.display.HTML object>"
      ]
     },
     "metadata": {},
     "output_type": "display_data"
    },
    {
     "data": {
      "text/html": [
       "Waiting for wandb.init()..."
      ],
      "text/plain": [
       "<IPython.core.display.HTML object>"
      ]
     },
     "metadata": {},
     "output_type": "display_data"
    },
    {
     "data": {
      "text/html": [
       "Tracking run with wandb version 0.21.2"
      ],
      "text/plain": [
       "<IPython.core.display.HTML object>"
      ]
     },
     "metadata": {},
     "output_type": "display_data"
    },
    {
     "data": {
      "text/html": [
       "Run data is saved locally in <code>/Users/ayouba/Documents/laboratoire/RL/wandb/run-20250830_040319-b5lf5xfs</code>"
      ],
      "text/plain": [
       "<IPython.core.display.HTML object>"
      ]
     },
     "metadata": {},
     "output_type": "display_data"
    },
    {
     "data": {
      "text/html": [
       "Syncing run <strong><a href='https://wandb.ai/magicayyub-lab/montyhall-ql/runs/b5lf5xfs' target=\"_blank\">super-sweep-10</a></strong> to <a href='https://wandb.ai/magicayyub-lab/montyhall-ql' target=\"_blank\">Weights & Biases</a> (<a href='https://wandb.me/developer-guide' target=\"_blank\">docs</a>)<br>Sweep page: <a href='https://wandb.ai/magicayyub-lab/montyhall-ql/sweeps/9cdpki6q' target=\"_blank\">https://wandb.ai/magicayyub-lab/montyhall-ql/sweeps/9cdpki6q</a>"
      ],
      "text/plain": [
       "<IPython.core.display.HTML object>"
      ]
     },
     "metadata": {},
     "output_type": "display_data"
    },
    {
     "data": {
      "text/html": [
       " View project at <a href='https://wandb.ai/magicayyub-lab/montyhall-ql' target=\"_blank\">https://wandb.ai/magicayyub-lab/montyhall-ql</a>"
      ],
      "text/plain": [
       "<IPython.core.display.HTML object>"
      ]
     },
     "metadata": {},
     "output_type": "display_data"
    },
    {
     "data": {
      "text/html": [
       " View sweep at <a href='https://wandb.ai/magicayyub-lab/montyhall-ql/sweeps/9cdpki6q' target=\"_blank\">https://wandb.ai/magicayyub-lab/montyhall-ql/sweeps/9cdpki6q</a>"
      ],
      "text/plain": [
       "<IPython.core.display.HTML object>"
      ]
     },
     "metadata": {},
     "output_type": "display_data"
    },
    {
     "data": {
      "text/html": [
       " View run at <a href='https://wandb.ai/magicayyub-lab/montyhall-ql/runs/b5lf5xfs' target=\"_blank\">https://wandb.ai/magicayyub-lab/montyhall-ql/runs/b5lf5xfs</a>"
      ],
      "text/plain": [
       "<IPython.core.display.HTML object>"
      ]
     },
     "metadata": {},
     "output_type": "display_data"
    },
    {
     "name": "stderr",
     "output_type": "stream",
     "text": [
      "\u001b[32m2025-08-30 04:03:20.767\u001b[0m | \u001b[1mINFO    \u001b[0m | \u001b[36msrc.rl.tabular_q_learning\u001b[0m:\u001b[36mtrain\u001b[0m:\u001b[36m226\u001b[0m - \u001b[1mEpisode    25 | R: +0.0 | ε: 0.698\u001b[0m\n",
      "\u001b[32m2025-08-30 04:03:20.769\u001b[0m | \u001b[1mINFO    \u001b[0m | \u001b[36msrc.rl.tabular_q_learning\u001b[0m:\u001b[36mtrain\u001b[0m:\u001b[36m226\u001b[0m - \u001b[1mEpisode    50 | R: +1.0 | ε: 0.487\u001b[0m\n",
      "\u001b[32m2025-08-30 04:03:20.771\u001b[0m | \u001b[1mINFO    \u001b[0m | \u001b[36msrc.rl.tabular_q_learning\u001b[0m:\u001b[36mtrain\u001b[0m:\u001b[36m226\u001b[0m - \u001b[1mEpisode    75 | R: +0.0 | ε: 0.340\u001b[0m\n",
      "\u001b[32m2025-08-30 04:03:20.773\u001b[0m | \u001b[1mINFO    \u001b[0m | \u001b[36msrc.rl.tabular_q_learning\u001b[0m:\u001b[36mtrain\u001b[0m:\u001b[36m226\u001b[0m - \u001b[1mEpisode   100 | R: +1.0 | ε: 0.237\u001b[0m\n",
      "\u001b[32m2025-08-30 04:03:20.775\u001b[0m | \u001b[1mINFO    \u001b[0m | \u001b[36msrc.rl.tabular_q_learning\u001b[0m:\u001b[36mtrain\u001b[0m:\u001b[36m226\u001b[0m - \u001b[1mEpisode   125 | R: +1.0 | ε: 0.166\u001b[0m\n",
      "\u001b[32m2025-08-30 04:03:20.778\u001b[0m | \u001b[1mINFO    \u001b[0m | \u001b[36msrc.rl.tabular_q_learning\u001b[0m:\u001b[36mtrain\u001b[0m:\u001b[36m226\u001b[0m - \u001b[1mEpisode   150 | R: +1.0 | ε: 0.116\u001b[0m\n",
      "\u001b[32m2025-08-30 04:03:20.780\u001b[0m | \u001b[1mINFO    \u001b[0m | \u001b[36msrc.rl.tabular_q_learning\u001b[0m:\u001b[36mtrain\u001b[0m:\u001b[36m226\u001b[0m - \u001b[1mEpisode   175 | R: +1.0 | ε: 0.081\u001b[0m\n",
      "\u001b[32m2025-08-30 04:03:20.783\u001b[0m | \u001b[1mINFO    \u001b[0m | \u001b[36msrc.rl.tabular_q_learning\u001b[0m:\u001b[36mtrain\u001b[0m:\u001b[36m226\u001b[0m - \u001b[1mEpisode   200 | R: +1.0 | ε: 0.056\u001b[0m\n",
      "\u001b[32m2025-08-30 04:03:20.785\u001b[0m | \u001b[1mINFO    \u001b[0m | \u001b[36msrc.rl.tabular_q_learning\u001b[0m:\u001b[36mtrain\u001b[0m:\u001b[36m226\u001b[0m - \u001b[1mEpisode   225 | R: +1.0 | ε: 0.050\u001b[0m\n",
      "\u001b[32m2025-08-30 04:03:20.787\u001b[0m | \u001b[1mINFO    \u001b[0m | \u001b[36msrc.rl.tabular_q_learning\u001b[0m:\u001b[36mtrain\u001b[0m:\u001b[36m226\u001b[0m - \u001b[1mEpisode   250 | R: +1.0 | ε: 0.050\u001b[0m\n",
      "\u001b[32m2025-08-30 04:03:20.790\u001b[0m | \u001b[1mINFO    \u001b[0m | \u001b[36msrc.rl.tabular_q_learning\u001b[0m:\u001b[36mtrain\u001b[0m:\u001b[36m226\u001b[0m - \u001b[1mEpisode   275 | R: +1.0 | ε: 0.050\u001b[0m\n",
      "\u001b[32m2025-08-30 04:03:20.792\u001b[0m | \u001b[1mINFO    \u001b[0m | \u001b[36msrc.rl.tabular_q_learning\u001b[0m:\u001b[36mtrain\u001b[0m:\u001b[36m226\u001b[0m - \u001b[1mEpisode   300 | R: +1.0 | ε: 0.050\u001b[0m\n",
      "\u001b[32m2025-08-30 04:03:20.795\u001b[0m | \u001b[1mINFO    \u001b[0m | \u001b[36msrc.rl.tabular_q_learning\u001b[0m:\u001b[36mtrain\u001b[0m:\u001b[36m226\u001b[0m - \u001b[1mEpisode   325 | R: +1.0 | ε: 0.050\u001b[0m\n",
      "\u001b[32m2025-08-30 04:03:20.797\u001b[0m | \u001b[1mINFO    \u001b[0m | \u001b[36msrc.rl.tabular_q_learning\u001b[0m:\u001b[36mtrain\u001b[0m:\u001b[36m226\u001b[0m - \u001b[1mEpisode   350 | R: +1.0 | ε: 0.050\u001b[0m\n",
      "\u001b[32m2025-08-30 04:03:20.800\u001b[0m | \u001b[32m\u001b[1mSUCCESS \u001b[0m | \u001b[36msrc.rl.tabular_q_learning\u001b[0m:\u001b[36mtrain\u001b[0m:\u001b[36m237\u001b[0m - \u001b[32m\u001b[1mConverged at episode 371 after 0.04s\u001b[0m\n",
      "\u001b[32m2025-08-30 04:03:20.800\u001b[0m | \u001b[1mINFO    \u001b[0m | \u001b[36msrc.rl.tabular_q_learning\u001b[0m:\u001b[36mtrain\u001b[0m:\u001b[36m226\u001b[0m - \u001b[1mEpisode   375 | R: +1.0 | ε: 0.050\u001b[0m\n",
      "\u001b[32m2025-08-30 04:03:20.802\u001b[0m | \u001b[1mINFO    \u001b[0m | \u001b[36msrc.rl.tabular_q_learning\u001b[0m:\u001b[36mtrain\u001b[0m:\u001b[36m226\u001b[0m - \u001b[1mEpisode   400 | R: +1.0 | ε: 0.050\u001b[0m\n",
      "\u001b[32m2025-08-30 04:03:20.804\u001b[0m | \u001b[1mINFO    \u001b[0m | \u001b[36msrc.rl.tabular_q_learning\u001b[0m:\u001b[36mtrain\u001b[0m:\u001b[36m226\u001b[0m - \u001b[1mEpisode   425 | R: +1.0 | ε: 0.050\u001b[0m\n",
      "\u001b[32m2025-08-30 04:03:20.807\u001b[0m | \u001b[1mINFO    \u001b[0m | \u001b[36msrc.rl.tabular_q_learning\u001b[0m:\u001b[36mtrain\u001b[0m:\u001b[36m226\u001b[0m - \u001b[1mEpisode   450 | R: +1.0 | ε: 0.050\u001b[0m\n",
      "\u001b[32m2025-08-30 04:03:20.809\u001b[0m | \u001b[1mINFO    \u001b[0m | \u001b[36msrc.rl.tabular_q_learning\u001b[0m:\u001b[36mtrain\u001b[0m:\u001b[36m226\u001b[0m - \u001b[1mEpisode   475 | R: +1.0 | ε: 0.050\u001b[0m\n",
      "\u001b[32m2025-08-30 04:03:20.810\u001b[0m | \u001b[1mINFO    \u001b[0m | \u001b[36msrc.rl.tabular_q_learning\u001b[0m:\u001b[36mtrain\u001b[0m:\u001b[36m226\u001b[0m - \u001b[1mEpisode   500 | R: +1.0 | ε: 0.050\u001b[0m\n"
     ]
    },
    {
     "data": {
      "text/html": [],
      "text/plain": [
       "<IPython.core.display.HTML object>"
      ]
     },
     "metadata": {},
     "output_type": "display_data"
    },
    {
     "data": {
      "text/html": [
       "<br>    <style><br>        .wandb-row {<br>            display: flex;<br>            flex-direction: row;<br>            flex-wrap: wrap;<br>            justify-content: flex-start;<br>            width: 100%;<br>        }<br>        .wandb-col {<br>            display: flex;<br>            flex-direction: column;<br>            flex-basis: 100%;<br>            flex: 1;<br>            padding: 10px;<br>        }<br>    </style><br><div class=\"wandb-row\"><div class=\"wandb-col\"><h3>Run history:</h3><br/><table class=\"wandb\"><tr><td>best_reward</td><td>▁</td></tr><tr><td>converged_episode</td><td>▁</td></tr><tr><td>train_time_sec</td><td>▁</td></tr></table><br/></div><div class=\"wandb-col\"><h3>Run summary:</h3><br/><table class=\"wandb\"><tr><td>best_reward</td><td>1</td></tr><tr><td>converged_episode</td><td>371</td></tr><tr><td>train_time_sec</td><td>0.03523</td></tr></table><br/></div></div>"
      ],
      "text/plain": [
       "<IPython.core.display.HTML object>"
      ]
     },
     "metadata": {},
     "output_type": "display_data"
    },
    {
     "data": {
      "text/html": [
       " View run <strong style=\"color:#cdcd00\">super-sweep-10</strong> at: <a href='https://wandb.ai/magicayyub-lab/montyhall-ql/runs/b5lf5xfs' target=\"_blank\">https://wandb.ai/magicayyub-lab/montyhall-ql/runs/b5lf5xfs</a><br> View project at: <a href='https://wandb.ai/magicayyub-lab/montyhall-ql' target=\"_blank\">https://wandb.ai/magicayyub-lab/montyhall-ql</a><br>Synced 5 W&B file(s), 0 media file(s), 0 artifact file(s) and 0 other file(s)"
      ],
      "text/plain": [
       "<IPython.core.display.HTML object>"
      ]
     },
     "metadata": {},
     "output_type": "display_data"
    },
    {
     "data": {
      "text/html": [
       "Find logs at: <code>./wandb/run-20250830_040319-b5lf5xfs/logs</code>"
      ],
      "text/plain": [
       "<IPython.core.display.HTML object>"
      ]
     },
     "metadata": {},
     "output_type": "display_data"
    },
    {
     "name": "stderr",
     "output_type": "stream",
     "text": [
      "\u001b[34m\u001b[1mwandb\u001b[0m: Agent Starting Run: wl2sn1rd with config:\n",
      "\u001b[34m\u001b[1mwandb\u001b[0m: \tdiscount_factor: 0.8527477151710785\n",
      "\u001b[34m\u001b[1mwandb\u001b[0m: \tepsilon_decay: 0.9549870695422712\n",
      "\u001b[34m\u001b[1mwandb\u001b[0m: \tlearning_rate: 0.0023119160298160574\n"
     ]
    },
    {
     "data": {
      "text/html": [
       "Changes to your `wandb` environment variables will be ignored because your `wandb` session has already started. For more information on how to modify your settings with `wandb.init()` arguments, please refer to <a href='https://wandb.me/wandb-init' target=\"_blank\">the W&B docs</a>."
      ],
      "text/plain": [
       "<IPython.core.display.HTML object>"
      ]
     },
     "metadata": {},
     "output_type": "display_data"
    },
    {
     "data": {
      "text/html": [
       "Ignoring project 'montyhall-ql' when running a sweep."
      ],
      "text/plain": [
       "<IPython.core.display.HTML object>"
      ]
     },
     "metadata": {},
     "output_type": "display_data"
    },
    {
     "data": {
      "text/html": [
       "Waiting for wandb.init()..."
      ],
      "text/plain": [
       "<IPython.core.display.HTML object>"
      ]
     },
     "metadata": {},
     "output_type": "display_data"
    },
    {
     "data": {
      "text/html": [
       "Tracking run with wandb version 0.21.2"
      ],
      "text/plain": [
       "<IPython.core.display.HTML object>"
      ]
     },
     "metadata": {},
     "output_type": "display_data"
    },
    {
     "data": {
      "text/html": [
       "Run data is saved locally in <code>/Users/ayouba/Documents/laboratoire/RL/wandb/run-20250830_040325-wl2sn1rd</code>"
      ],
      "text/plain": [
       "<IPython.core.display.HTML object>"
      ]
     },
     "metadata": {},
     "output_type": "display_data"
    },
    {
     "data": {
      "text/html": [
       "Syncing run <strong><a href='https://wandb.ai/magicayyub-lab/montyhall-ql/runs/wl2sn1rd' target=\"_blank\">stilted-sweep-11</a></strong> to <a href='https://wandb.ai/magicayyub-lab/montyhall-ql' target=\"_blank\">Weights & Biases</a> (<a href='https://wandb.me/developer-guide' target=\"_blank\">docs</a>)<br>Sweep page: <a href='https://wandb.ai/magicayyub-lab/montyhall-ql/sweeps/9cdpki6q' target=\"_blank\">https://wandb.ai/magicayyub-lab/montyhall-ql/sweeps/9cdpki6q</a>"
      ],
      "text/plain": [
       "<IPython.core.display.HTML object>"
      ]
     },
     "metadata": {},
     "output_type": "display_data"
    },
    {
     "data": {
      "text/html": [
       " View project at <a href='https://wandb.ai/magicayyub-lab/montyhall-ql' target=\"_blank\">https://wandb.ai/magicayyub-lab/montyhall-ql</a>"
      ],
      "text/plain": [
       "<IPython.core.display.HTML object>"
      ]
     },
     "metadata": {},
     "output_type": "display_data"
    },
    {
     "data": {
      "text/html": [
       " View sweep at <a href='https://wandb.ai/magicayyub-lab/montyhall-ql/sweeps/9cdpki6q' target=\"_blank\">https://wandb.ai/magicayyub-lab/montyhall-ql/sweeps/9cdpki6q</a>"
      ],
      "text/plain": [
       "<IPython.core.display.HTML object>"
      ]
     },
     "metadata": {},
     "output_type": "display_data"
    },
    {
     "data": {
      "text/html": [
       " View run at <a href='https://wandb.ai/magicayyub-lab/montyhall-ql/runs/wl2sn1rd' target=\"_blank\">https://wandb.ai/magicayyub-lab/montyhall-ql/runs/wl2sn1rd</a>"
      ],
      "text/plain": [
       "<IPython.core.display.HTML object>"
      ]
     },
     "metadata": {},
     "output_type": "display_data"
    },
    {
     "name": "stderr",
     "output_type": "stream",
     "text": [
      "\u001b[32m2025-08-30 04:03:26.227\u001b[0m | \u001b[1mINFO    \u001b[0m | \u001b[36msrc.rl.tabular_q_learning\u001b[0m:\u001b[36mtrain\u001b[0m:\u001b[36m226\u001b[0m - \u001b[1mEpisode    25 | R: +1.0 | ε: 0.316\u001b[0m\n",
      "\u001b[32m2025-08-30 04:03:26.229\u001b[0m | \u001b[1mINFO    \u001b[0m | \u001b[36msrc.rl.tabular_q_learning\u001b[0m:\u001b[36mtrain\u001b[0m:\u001b[36m226\u001b[0m - \u001b[1mEpisode    50 | R: +1.0 | ε: 0.100\u001b[0m\n",
      "\u001b[32m2025-08-30 04:03:26.231\u001b[0m | \u001b[1mINFO    \u001b[0m | \u001b[36msrc.rl.tabular_q_learning\u001b[0m:\u001b[36mtrain\u001b[0m:\u001b[36m226\u001b[0m - \u001b[1mEpisode    75 | R: +1.0 | ε: 0.050\u001b[0m\n",
      "\u001b[32m2025-08-30 04:03:26.233\u001b[0m | \u001b[1mINFO    \u001b[0m | \u001b[36msrc.rl.tabular_q_learning\u001b[0m:\u001b[36mtrain\u001b[0m:\u001b[36m226\u001b[0m - \u001b[1mEpisode   100 | R: +1.0 | ε: 0.050\u001b[0m\n",
      "\u001b[32m2025-08-30 04:03:26.235\u001b[0m | \u001b[1mINFO    \u001b[0m | \u001b[36msrc.rl.tabular_q_learning\u001b[0m:\u001b[36mtrain\u001b[0m:\u001b[36m226\u001b[0m - \u001b[1mEpisode   125 | R: +1.0 | ε: 0.050\u001b[0m\n",
      "\u001b[32m2025-08-30 04:03:26.238\u001b[0m | \u001b[1mINFO    \u001b[0m | \u001b[36msrc.rl.tabular_q_learning\u001b[0m:\u001b[36mtrain\u001b[0m:\u001b[36m226\u001b[0m - \u001b[1mEpisode   150 | R: +1.0 | ε: 0.050\u001b[0m\n",
      "\u001b[32m2025-08-30 04:03:26.240\u001b[0m | \u001b[1mINFO    \u001b[0m | \u001b[36msrc.rl.tabular_q_learning\u001b[0m:\u001b[36mtrain\u001b[0m:\u001b[36m226\u001b[0m - \u001b[1mEpisode   175 | R: +1.0 | ε: 0.050\u001b[0m\n",
      "\u001b[32m2025-08-30 04:03:26.243\u001b[0m | \u001b[1mINFO    \u001b[0m | \u001b[36msrc.rl.tabular_q_learning\u001b[0m:\u001b[36mtrain\u001b[0m:\u001b[36m226\u001b[0m - \u001b[1mEpisode   200 | R: +1.0 | ε: 0.050\u001b[0m\n",
      "\u001b[32m2025-08-30 04:03:26.245\u001b[0m | \u001b[1mINFO    \u001b[0m | \u001b[36msrc.rl.tabular_q_learning\u001b[0m:\u001b[36mtrain\u001b[0m:\u001b[36m226\u001b[0m - \u001b[1mEpisode   225 | R: +1.0 | ε: 0.050\u001b[0m\n",
      "\u001b[32m2025-08-30 04:03:26.247\u001b[0m | \u001b[1mINFO    \u001b[0m | \u001b[36msrc.rl.tabular_q_learning\u001b[0m:\u001b[36mtrain\u001b[0m:\u001b[36m226\u001b[0m - \u001b[1mEpisode   250 | R: +1.0 | ε: 0.050\u001b[0m\n",
      "\u001b[32m2025-08-30 04:03:26.250\u001b[0m | \u001b[1mINFO    \u001b[0m | \u001b[36msrc.rl.tabular_q_learning\u001b[0m:\u001b[36mtrain\u001b[0m:\u001b[36m226\u001b[0m - \u001b[1mEpisode   275 | R: +1.0 | ε: 0.050\u001b[0m\n",
      "\u001b[32m2025-08-30 04:03:26.252\u001b[0m | \u001b[1mINFO    \u001b[0m | \u001b[36msrc.rl.tabular_q_learning\u001b[0m:\u001b[36mtrain\u001b[0m:\u001b[36m226\u001b[0m - \u001b[1mEpisode   300 | R: +1.0 | ε: 0.050\u001b[0m\n",
      "\u001b[32m2025-08-30 04:03:26.255\u001b[0m | \u001b[1mINFO    \u001b[0m | \u001b[36msrc.rl.tabular_q_learning\u001b[0m:\u001b[36mtrain\u001b[0m:\u001b[36m226\u001b[0m - \u001b[1mEpisode   325 | R: +1.0 | ε: 0.050\u001b[0m\n",
      "\u001b[32m2025-08-30 04:03:26.257\u001b[0m | \u001b[1mINFO    \u001b[0m | \u001b[36msrc.rl.tabular_q_learning\u001b[0m:\u001b[36mtrain\u001b[0m:\u001b[36m226\u001b[0m - \u001b[1mEpisode   350 | R: +1.0 | ε: 0.050\u001b[0m\n",
      "\u001b[32m2025-08-30 04:03:26.259\u001b[0m | \u001b[1mINFO    \u001b[0m | \u001b[36msrc.rl.tabular_q_learning\u001b[0m:\u001b[36mtrain\u001b[0m:\u001b[36m226\u001b[0m - \u001b[1mEpisode   375 | R: +1.0 | ε: 0.050\u001b[0m\n",
      "\u001b[32m2025-08-30 04:03:26.262\u001b[0m | \u001b[1mINFO    \u001b[0m | \u001b[36msrc.rl.tabular_q_learning\u001b[0m:\u001b[36mtrain\u001b[0m:\u001b[36m226\u001b[0m - \u001b[1mEpisode   400 | R: +1.0 | ε: 0.050\u001b[0m\n",
      "\u001b[32m2025-08-30 04:03:26.264\u001b[0m | \u001b[1mINFO    \u001b[0m | \u001b[36msrc.rl.tabular_q_learning\u001b[0m:\u001b[36mtrain\u001b[0m:\u001b[36m226\u001b[0m - \u001b[1mEpisode   425 | R: +1.0 | ε: 0.050\u001b[0m\n",
      "\u001b[32m2025-08-30 04:03:26.267\u001b[0m | \u001b[1mINFO    \u001b[0m | \u001b[36msrc.rl.tabular_q_learning\u001b[0m:\u001b[36mtrain\u001b[0m:\u001b[36m226\u001b[0m - \u001b[1mEpisode   450 | R: +1.0 | ε: 0.050\u001b[0m\n",
      "\u001b[32m2025-08-30 04:03:26.269\u001b[0m | \u001b[1mINFO    \u001b[0m | \u001b[36msrc.rl.tabular_q_learning\u001b[0m:\u001b[36mtrain\u001b[0m:\u001b[36m226\u001b[0m - \u001b[1mEpisode   475 | R: +1.0 | ε: 0.050\u001b[0m\n",
      "\u001b[32m2025-08-30 04:03:26.271\u001b[0m | \u001b[1mINFO    \u001b[0m | \u001b[36msrc.rl.tabular_q_learning\u001b[0m:\u001b[36mtrain\u001b[0m:\u001b[36m226\u001b[0m - \u001b[1mEpisode   500 | R: +1.0 | ε: 0.050\u001b[0m\n"
     ]
    },
    {
     "data": {
      "text/html": [],
      "text/plain": [
       "<IPython.core.display.HTML object>"
      ]
     },
     "metadata": {},
     "output_type": "display_data"
    },
    {
     "data": {
      "text/html": [
       "<br>    <style><br>        .wandb-row {<br>            display: flex;<br>            flex-direction: row;<br>            flex-wrap: wrap;<br>            justify-content: flex-start;<br>            width: 100%;<br>        }<br>        .wandb-col {<br>            display: flex;<br>            flex-direction: column;<br>            flex-basis: 100%;<br>            flex: 1;<br>            padding: 10px;<br>        }<br>    </style><br><div class=\"wandb-row\"><div class=\"wandb-col\"><h3>Run history:</h3><br/><table class=\"wandb\"><tr><td>best_reward</td><td>▁</td></tr><tr><td>converged_episode</td><td>▁</td></tr><tr><td>train_time_sec</td><td>▁</td></tr></table><br/></div><div class=\"wandb-col\"><h3>Run summary:</h3><br/><table class=\"wandb\"><tr><td>best_reward</td><td>1</td></tr><tr><td>converged_episode</td><td>-1</td></tr><tr><td>train_time_sec</td><td>0</td></tr></table><br/></div></div>"
      ],
      "text/plain": [
       "<IPython.core.display.HTML object>"
      ]
     },
     "metadata": {},
     "output_type": "display_data"
    },
    {
     "data": {
      "text/html": [
       " View run <strong style=\"color:#cdcd00\">stilted-sweep-11</strong> at: <a href='https://wandb.ai/magicayyub-lab/montyhall-ql/runs/wl2sn1rd' target=\"_blank\">https://wandb.ai/magicayyub-lab/montyhall-ql/runs/wl2sn1rd</a><br> View project at: <a href='https://wandb.ai/magicayyub-lab/montyhall-ql' target=\"_blank\">https://wandb.ai/magicayyub-lab/montyhall-ql</a><br>Synced 5 W&B file(s), 0 media file(s), 0 artifact file(s) and 0 other file(s)"
      ],
      "text/plain": [
       "<IPython.core.display.HTML object>"
      ]
     },
     "metadata": {},
     "output_type": "display_data"
    },
    {
     "data": {
      "text/html": [
       "Find logs at: <code>./wandb/run-20250830_040325-wl2sn1rd/logs</code>"
      ],
      "text/plain": [
       "<IPython.core.display.HTML object>"
      ]
     },
     "metadata": {},
     "output_type": "display_data"
    },
    {
     "name": "stderr",
     "output_type": "stream",
     "text": [
      "\u001b[34m\u001b[1mwandb\u001b[0m: Agent Starting Run: ywqs88up with config:\n",
      "\u001b[34m\u001b[1mwandb\u001b[0m: \tdiscount_factor: 0.8465793670215581\n",
      "\u001b[34m\u001b[1mwandb\u001b[0m: \tepsilon_decay: 0.9588863963340636\n",
      "\u001b[34m\u001b[1mwandb\u001b[0m: \tlearning_rate: 3.505102171223918e-05\n"
     ]
    },
    {
     "data": {
      "text/html": [
       "Changes to your `wandb` environment variables will be ignored because your `wandb` session has already started. For more information on how to modify your settings with `wandb.init()` arguments, please refer to <a href='https://wandb.me/wandb-init' target=\"_blank\">the W&B docs</a>."
      ],
      "text/plain": [
       "<IPython.core.display.HTML object>"
      ]
     },
     "metadata": {},
     "output_type": "display_data"
    },
    {
     "data": {
      "text/html": [
       "Ignoring project 'montyhall-ql' when running a sweep."
      ],
      "text/plain": [
       "<IPython.core.display.HTML object>"
      ]
     },
     "metadata": {},
     "output_type": "display_data"
    },
    {
     "data": {
      "text/html": [
       "Waiting for wandb.init()..."
      ],
      "text/plain": [
       "<IPython.core.display.HTML object>"
      ]
     },
     "metadata": {},
     "output_type": "display_data"
    },
    {
     "data": {
      "text/html": [
       "Tracking run with wandb version 0.21.2"
      ],
      "text/plain": [
       "<IPython.core.display.HTML object>"
      ]
     },
     "metadata": {},
     "output_type": "display_data"
    },
    {
     "data": {
      "text/html": [
       "Run data is saved locally in <code>/Users/ayouba/Documents/laboratoire/RL/wandb/run-20250830_040331-ywqs88up</code>"
      ],
      "text/plain": [
       "<IPython.core.display.HTML object>"
      ]
     },
     "metadata": {},
     "output_type": "display_data"
    },
    {
     "data": {
      "text/html": [
       "Syncing run <strong><a href='https://wandb.ai/magicayyub-lab/montyhall-ql/runs/ywqs88up' target=\"_blank\">skilled-sweep-12</a></strong> to <a href='https://wandb.ai/magicayyub-lab/montyhall-ql' target=\"_blank\">Weights & Biases</a> (<a href='https://wandb.me/developer-guide' target=\"_blank\">docs</a>)<br>Sweep page: <a href='https://wandb.ai/magicayyub-lab/montyhall-ql/sweeps/9cdpki6q' target=\"_blank\">https://wandb.ai/magicayyub-lab/montyhall-ql/sweeps/9cdpki6q</a>"
      ],
      "text/plain": [
       "<IPython.core.display.HTML object>"
      ]
     },
     "metadata": {},
     "output_type": "display_data"
    },
    {
     "data": {
      "text/html": [
       " View project at <a href='https://wandb.ai/magicayyub-lab/montyhall-ql' target=\"_blank\">https://wandb.ai/magicayyub-lab/montyhall-ql</a>"
      ],
      "text/plain": [
       "<IPython.core.display.HTML object>"
      ]
     },
     "metadata": {},
     "output_type": "display_data"
    },
    {
     "data": {
      "text/html": [
       " View sweep at <a href='https://wandb.ai/magicayyub-lab/montyhall-ql/sweeps/9cdpki6q' target=\"_blank\">https://wandb.ai/magicayyub-lab/montyhall-ql/sweeps/9cdpki6q</a>"
      ],
      "text/plain": [
       "<IPython.core.display.HTML object>"
      ]
     },
     "metadata": {},
     "output_type": "display_data"
    },
    {
     "data": {
      "text/html": [
       " View run at <a href='https://wandb.ai/magicayyub-lab/montyhall-ql/runs/ywqs88up' target=\"_blank\">https://wandb.ai/magicayyub-lab/montyhall-ql/runs/ywqs88up</a>"
      ],
      "text/plain": [
       "<IPython.core.display.HTML object>"
      ]
     },
     "metadata": {},
     "output_type": "display_data"
    },
    {
     "name": "stderr",
     "output_type": "stream",
     "text": [
      "\u001b[32m2025-08-30 04:03:31.860\u001b[0m | \u001b[1mINFO    \u001b[0m | \u001b[36msrc.rl.tabular_q_learning\u001b[0m:\u001b[36mtrain\u001b[0m:\u001b[36m226\u001b[0m - \u001b[1mEpisode    25 | R: +0.0 | ε: 0.350\u001b[0m\n",
      "\u001b[32m2025-08-30 04:03:31.862\u001b[0m | \u001b[1mINFO    \u001b[0m | \u001b[36msrc.rl.tabular_q_learning\u001b[0m:\u001b[36mtrain\u001b[0m:\u001b[36m226\u001b[0m - \u001b[1mEpisode    50 | R: +1.0 | ε: 0.123\u001b[0m\n",
      "\u001b[32m2025-08-30 04:03:31.864\u001b[0m | \u001b[1mINFO    \u001b[0m | \u001b[36msrc.rl.tabular_q_learning\u001b[0m:\u001b[36mtrain\u001b[0m:\u001b[36m226\u001b[0m - \u001b[1mEpisode    75 | R: +1.0 | ε: 0.050\u001b[0m\n",
      "\u001b[32m2025-08-30 04:03:31.866\u001b[0m | \u001b[1mINFO    \u001b[0m | \u001b[36msrc.rl.tabular_q_learning\u001b[0m:\u001b[36mtrain\u001b[0m:\u001b[36m226\u001b[0m - \u001b[1mEpisode   100 | R: +1.0 | ε: 0.050\u001b[0m\n",
      "\u001b[32m2025-08-30 04:03:31.868\u001b[0m | \u001b[1mINFO    \u001b[0m | \u001b[36msrc.rl.tabular_q_learning\u001b[0m:\u001b[36mtrain\u001b[0m:\u001b[36m226\u001b[0m - \u001b[1mEpisode   125 | R: +1.0 | ε: 0.050\u001b[0m\n",
      "\u001b[32m2025-08-30 04:03:31.868\u001b[0m | \u001b[32m\u001b[1mSUCCESS \u001b[0m | \u001b[36msrc.rl.tabular_q_learning\u001b[0m:\u001b[36mtrain\u001b[0m:\u001b[36m237\u001b[0m - \u001b[32m\u001b[1mConverged at episode 124 after 0.01s\u001b[0m\n",
      "\u001b[32m2025-08-30 04:03:31.871\u001b[0m | \u001b[1mINFO    \u001b[0m | \u001b[36msrc.rl.tabular_q_learning\u001b[0m:\u001b[36mtrain\u001b[0m:\u001b[36m226\u001b[0m - \u001b[1mEpisode   150 | R: +1.0 | ε: 0.050\u001b[0m\n",
      "\u001b[32m2025-08-30 04:03:31.872\u001b[0m | \u001b[1mINFO    \u001b[0m | \u001b[36msrc.rl.tabular_q_learning\u001b[0m:\u001b[36mtrain\u001b[0m:\u001b[36m226\u001b[0m - \u001b[1mEpisode   175 | R: +1.0 | ε: 0.050\u001b[0m\n",
      "\u001b[32m2025-08-30 04:03:31.875\u001b[0m | \u001b[1mINFO    \u001b[0m | \u001b[36msrc.rl.tabular_q_learning\u001b[0m:\u001b[36mtrain\u001b[0m:\u001b[36m226\u001b[0m - \u001b[1mEpisode   200 | R: +1.0 | ε: 0.050\u001b[0m\n",
      "\u001b[32m2025-08-30 04:03:31.877\u001b[0m | \u001b[1mINFO    \u001b[0m | \u001b[36msrc.rl.tabular_q_learning\u001b[0m:\u001b[36mtrain\u001b[0m:\u001b[36m226\u001b[0m - \u001b[1mEpisode   225 | R: +1.0 | ε: 0.050\u001b[0m\n",
      "\u001b[32m2025-08-30 04:03:31.879\u001b[0m | \u001b[1mINFO    \u001b[0m | \u001b[36msrc.rl.tabular_q_learning\u001b[0m:\u001b[36mtrain\u001b[0m:\u001b[36m226\u001b[0m - \u001b[1mEpisode   250 | R: +1.0 | ε: 0.050\u001b[0m\n",
      "\u001b[32m2025-08-30 04:03:31.881\u001b[0m | \u001b[1mINFO    \u001b[0m | \u001b[36msrc.rl.tabular_q_learning\u001b[0m:\u001b[36mtrain\u001b[0m:\u001b[36m226\u001b[0m - \u001b[1mEpisode   275 | R: +1.0 | ε: 0.050\u001b[0m\n",
      "\u001b[32m2025-08-30 04:03:31.884\u001b[0m | \u001b[1mINFO    \u001b[0m | \u001b[36msrc.rl.tabular_q_learning\u001b[0m:\u001b[36mtrain\u001b[0m:\u001b[36m226\u001b[0m - \u001b[1mEpisode   300 | R: +1.0 | ε: 0.050\u001b[0m\n",
      "\u001b[32m2025-08-30 04:03:31.886\u001b[0m | \u001b[1mINFO    \u001b[0m | \u001b[36msrc.rl.tabular_q_learning\u001b[0m:\u001b[36mtrain\u001b[0m:\u001b[36m226\u001b[0m - \u001b[1mEpisode   325 | R: +1.0 | ε: 0.050\u001b[0m\n",
      "\u001b[32m2025-08-30 04:03:31.888\u001b[0m | \u001b[1mINFO    \u001b[0m | \u001b[36msrc.rl.tabular_q_learning\u001b[0m:\u001b[36mtrain\u001b[0m:\u001b[36m226\u001b[0m - \u001b[1mEpisode   350 | R: +1.0 | ε: 0.050\u001b[0m\n",
      "\u001b[32m2025-08-30 04:03:31.890\u001b[0m | \u001b[1mINFO    \u001b[0m | \u001b[36msrc.rl.tabular_q_learning\u001b[0m:\u001b[36mtrain\u001b[0m:\u001b[36m226\u001b[0m - \u001b[1mEpisode   375 | R: +1.0 | ε: 0.050\u001b[0m\n",
      "\u001b[32m2025-08-30 04:03:31.892\u001b[0m | \u001b[1mINFO    \u001b[0m | \u001b[36msrc.rl.tabular_q_learning\u001b[0m:\u001b[36mtrain\u001b[0m:\u001b[36m226\u001b[0m - \u001b[1mEpisode   400 | R: +1.0 | ε: 0.050\u001b[0m\n",
      "\u001b[32m2025-08-30 04:03:31.894\u001b[0m | \u001b[1mINFO    \u001b[0m | \u001b[36msrc.rl.tabular_q_learning\u001b[0m:\u001b[36mtrain\u001b[0m:\u001b[36m226\u001b[0m - \u001b[1mEpisode   425 | R: +1.0 | ε: 0.050\u001b[0m\n",
      "\u001b[32m2025-08-30 04:03:31.896\u001b[0m | \u001b[1mINFO    \u001b[0m | \u001b[36msrc.rl.tabular_q_learning\u001b[0m:\u001b[36mtrain\u001b[0m:\u001b[36m226\u001b[0m - \u001b[1mEpisode   450 | R: +1.0 | ε: 0.050\u001b[0m\n",
      "\u001b[32m2025-08-30 04:03:31.898\u001b[0m | \u001b[1mINFO    \u001b[0m | \u001b[36msrc.rl.tabular_q_learning\u001b[0m:\u001b[36mtrain\u001b[0m:\u001b[36m226\u001b[0m - \u001b[1mEpisode   475 | R: +1.0 | ε: 0.050\u001b[0m\n",
      "\u001b[32m2025-08-30 04:03:31.900\u001b[0m | \u001b[1mINFO    \u001b[0m | \u001b[36msrc.rl.tabular_q_learning\u001b[0m:\u001b[36mtrain\u001b[0m:\u001b[36m226\u001b[0m - \u001b[1mEpisode   500 | R: +1.0 | ε: 0.050\u001b[0m\n"
     ]
    },
    {
     "data": {
      "text/html": [],
      "text/plain": [
       "<IPython.core.display.HTML object>"
      ]
     },
     "metadata": {},
     "output_type": "display_data"
    },
    {
     "data": {
      "text/html": [
       "<br>    <style><br>        .wandb-row {<br>            display: flex;<br>            flex-direction: row;<br>            flex-wrap: wrap;<br>            justify-content: flex-start;<br>            width: 100%;<br>        }<br>        .wandb-col {<br>            display: flex;<br>            flex-direction: column;<br>            flex-basis: 100%;<br>            flex: 1;<br>            padding: 10px;<br>        }<br>    </style><br><div class=\"wandb-row\"><div class=\"wandb-col\"><h3>Run history:</h3><br/><table class=\"wandb\"><tr><td>best_reward</td><td>▁</td></tr><tr><td>converged_episode</td><td>▁</td></tr><tr><td>train_time_sec</td><td>▁</td></tr></table><br/></div><div class=\"wandb-col\"><h3>Run summary:</h3><br/><table class=\"wandb\"><tr><td>best_reward</td><td>1</td></tr><tr><td>converged_episode</td><td>124</td></tr><tr><td>train_time_sec</td><td>0.01027</td></tr></table><br/></div></div>"
      ],
      "text/plain": [
       "<IPython.core.display.HTML object>"
      ]
     },
     "metadata": {},
     "output_type": "display_data"
    },
    {
     "data": {
      "text/html": [
       " View run <strong style=\"color:#cdcd00\">skilled-sweep-12</strong> at: <a href='https://wandb.ai/magicayyub-lab/montyhall-ql/runs/ywqs88up' target=\"_blank\">https://wandb.ai/magicayyub-lab/montyhall-ql/runs/ywqs88up</a><br> View project at: <a href='https://wandb.ai/magicayyub-lab/montyhall-ql' target=\"_blank\">https://wandb.ai/magicayyub-lab/montyhall-ql</a><br>Synced 5 W&B file(s), 0 media file(s), 0 artifact file(s) and 0 other file(s)"
      ],
      "text/plain": [
       "<IPython.core.display.HTML object>"
      ]
     },
     "metadata": {},
     "output_type": "display_data"
    },
    {
     "data": {
      "text/html": [
       "Find logs at: <code>./wandb/run-20250830_040331-ywqs88up/logs</code>"
      ],
      "text/plain": [
       "<IPython.core.display.HTML object>"
      ]
     },
     "metadata": {},
     "output_type": "display_data"
    },
    {
     "name": "stderr",
     "output_type": "stream",
     "text": [
      "\u001b[34m\u001b[1mwandb\u001b[0m: Agent Starting Run: 1pw0tnzc with config:\n",
      "\u001b[34m\u001b[1mwandb\u001b[0m: \tdiscount_factor: 0.9844933429454592\n",
      "\u001b[34m\u001b[1mwandb\u001b[0m: \tepsilon_decay: 0.9834313379196598\n",
      "\u001b[34m\u001b[1mwandb\u001b[0m: \tlearning_rate: 3.552702294546956e-05\n"
     ]
    },
    {
     "data": {
      "text/html": [
       "Changes to your `wandb` environment variables will be ignored because your `wandb` session has already started. For more information on how to modify your settings with `wandb.init()` arguments, please refer to <a href='https://wandb.me/wandb-init' target=\"_blank\">the W&B docs</a>."
      ],
      "text/plain": [
       "<IPython.core.display.HTML object>"
      ]
     },
     "metadata": {},
     "output_type": "display_data"
    },
    {
     "data": {
      "text/html": [
       "Ignoring project 'montyhall-ql' when running a sweep."
      ],
      "text/plain": [
       "<IPython.core.display.HTML object>"
      ]
     },
     "metadata": {},
     "output_type": "display_data"
    },
    {
     "data": {
      "text/html": [
       "Waiting for wandb.init()..."
      ],
      "text/plain": [
       "<IPython.core.display.HTML object>"
      ]
     },
     "metadata": {},
     "output_type": "display_data"
    },
    {
     "data": {
      "text/html": [
       "Tracking run with wandb version 0.21.2"
      ],
      "text/plain": [
       "<IPython.core.display.HTML object>"
      ]
     },
     "metadata": {},
     "output_type": "display_data"
    },
    {
     "data": {
      "text/html": [
       "Run data is saved locally in <code>/Users/ayouba/Documents/laboratoire/RL/wandb/run-20250830_040336-1pw0tnzc</code>"
      ],
      "text/plain": [
       "<IPython.core.display.HTML object>"
      ]
     },
     "metadata": {},
     "output_type": "display_data"
    },
    {
     "data": {
      "text/html": [
       "Syncing run <strong><a href='https://wandb.ai/magicayyub-lab/montyhall-ql/runs/1pw0tnzc' target=\"_blank\">polished-sweep-13</a></strong> to <a href='https://wandb.ai/magicayyub-lab/montyhall-ql' target=\"_blank\">Weights & Biases</a> (<a href='https://wandb.me/developer-guide' target=\"_blank\">docs</a>)<br>Sweep page: <a href='https://wandb.ai/magicayyub-lab/montyhall-ql/sweeps/9cdpki6q' target=\"_blank\">https://wandb.ai/magicayyub-lab/montyhall-ql/sweeps/9cdpki6q</a>"
      ],
      "text/plain": [
       "<IPython.core.display.HTML object>"
      ]
     },
     "metadata": {},
     "output_type": "display_data"
    },
    {
     "data": {
      "text/html": [
       " View project at <a href='https://wandb.ai/magicayyub-lab/montyhall-ql' target=\"_blank\">https://wandb.ai/magicayyub-lab/montyhall-ql</a>"
      ],
      "text/plain": [
       "<IPython.core.display.HTML object>"
      ]
     },
     "metadata": {},
     "output_type": "display_data"
    },
    {
     "data": {
      "text/html": [
       " View sweep at <a href='https://wandb.ai/magicayyub-lab/montyhall-ql/sweeps/9cdpki6q' target=\"_blank\">https://wandb.ai/magicayyub-lab/montyhall-ql/sweeps/9cdpki6q</a>"
      ],
      "text/plain": [
       "<IPython.core.display.HTML object>"
      ]
     },
     "metadata": {},
     "output_type": "display_data"
    },
    {
     "data": {
      "text/html": [
       " View run at <a href='https://wandb.ai/magicayyub-lab/montyhall-ql/runs/1pw0tnzc' target=\"_blank\">https://wandb.ai/magicayyub-lab/montyhall-ql/runs/1pw0tnzc</a>"
      ],
      "text/plain": [
       "<IPython.core.display.HTML object>"
      ]
     },
     "metadata": {},
     "output_type": "display_data"
    },
    {
     "name": "stderr",
     "output_type": "stream",
     "text": [
      "\u001b[32m2025-08-30 04:03:37.200\u001b[0m | \u001b[1mINFO    \u001b[0m | \u001b[36msrc.rl.tabular_q_learning\u001b[0m:\u001b[36mtrain\u001b[0m:\u001b[36m226\u001b[0m - \u001b[1mEpisode    25 | R: +1.0 | ε: 0.659\u001b[0m\n",
      "\u001b[32m2025-08-30 04:03:37.202\u001b[0m | \u001b[1mINFO    \u001b[0m | \u001b[36msrc.rl.tabular_q_learning\u001b[0m:\u001b[36mtrain\u001b[0m:\u001b[36m226\u001b[0m - \u001b[1mEpisode    50 | R: +1.0 | ε: 0.434\u001b[0m\n",
      "\u001b[32m2025-08-30 04:03:37.204\u001b[0m | \u001b[1mINFO    \u001b[0m | \u001b[36msrc.rl.tabular_q_learning\u001b[0m:\u001b[36mtrain\u001b[0m:\u001b[36m226\u001b[0m - \u001b[1mEpisode    75 | R: +1.0 | ε: 0.286\u001b[0m\n",
      "\u001b[32m2025-08-30 04:03:37.206\u001b[0m | \u001b[1mINFO    \u001b[0m | \u001b[36msrc.rl.tabular_q_learning\u001b[0m:\u001b[36mtrain\u001b[0m:\u001b[36m226\u001b[0m - \u001b[1mEpisode   100 | R: +1.0 | ε: 0.188\u001b[0m\n",
      "\u001b[32m2025-08-30 04:03:37.208\u001b[0m | \u001b[1mINFO    \u001b[0m | \u001b[36msrc.rl.tabular_q_learning\u001b[0m:\u001b[36mtrain\u001b[0m:\u001b[36m226\u001b[0m - \u001b[1mEpisode   125 | R: +1.0 | ε: 0.124\u001b[0m\n",
      "\u001b[32m2025-08-30 04:03:37.211\u001b[0m | \u001b[1mINFO    \u001b[0m | \u001b[36msrc.rl.tabular_q_learning\u001b[0m:\u001b[36mtrain\u001b[0m:\u001b[36m226\u001b[0m - \u001b[1mEpisode   150 | R: +1.0 | ε: 0.082\u001b[0m\n",
      "\u001b[32m2025-08-30 04:03:37.213\u001b[0m | \u001b[1mINFO    \u001b[0m | \u001b[36msrc.rl.tabular_q_learning\u001b[0m:\u001b[36mtrain\u001b[0m:\u001b[36m226\u001b[0m - \u001b[1mEpisode   175 | R: +1.0 | ε: 0.054\u001b[0m\n",
      "\u001b[32m2025-08-30 04:03:37.215\u001b[0m | \u001b[1mINFO    \u001b[0m | \u001b[36msrc.rl.tabular_q_learning\u001b[0m:\u001b[36mtrain\u001b[0m:\u001b[36m226\u001b[0m - \u001b[1mEpisode   200 | R: +1.0 | ε: 0.050\u001b[0m\n",
      "\u001b[32m2025-08-30 04:03:37.218\u001b[0m | \u001b[1mINFO    \u001b[0m | \u001b[36msrc.rl.tabular_q_learning\u001b[0m:\u001b[36mtrain\u001b[0m:\u001b[36m226\u001b[0m - \u001b[1mEpisode   225 | R: +1.0 | ε: 0.050\u001b[0m\n",
      "\u001b[32m2025-08-30 04:03:37.220\u001b[0m | \u001b[1mINFO    \u001b[0m | \u001b[36msrc.rl.tabular_q_learning\u001b[0m:\u001b[36mtrain\u001b[0m:\u001b[36m226\u001b[0m - \u001b[1mEpisode   250 | R: +1.0 | ε: 0.050\u001b[0m\n",
      "\u001b[32m2025-08-30 04:03:37.222\u001b[0m | \u001b[1mINFO    \u001b[0m | \u001b[36msrc.rl.tabular_q_learning\u001b[0m:\u001b[36mtrain\u001b[0m:\u001b[36m226\u001b[0m - \u001b[1mEpisode   275 | R: +1.0 | ε: 0.050\u001b[0m\n",
      "\u001b[32m2025-08-30 04:03:37.225\u001b[0m | \u001b[1mINFO    \u001b[0m | \u001b[36msrc.rl.tabular_q_learning\u001b[0m:\u001b[36mtrain\u001b[0m:\u001b[36m226\u001b[0m - \u001b[1mEpisode   300 | R: +1.0 | ε: 0.050\u001b[0m\n",
      "\u001b[32m2025-08-30 04:03:37.228\u001b[0m | \u001b[1mINFO    \u001b[0m | \u001b[36msrc.rl.tabular_q_learning\u001b[0m:\u001b[36mtrain\u001b[0m:\u001b[36m226\u001b[0m - \u001b[1mEpisode   325 | R: +1.0 | ε: 0.050\u001b[0m\n",
      "\u001b[32m2025-08-30 04:03:37.230\u001b[0m | \u001b[1mINFO    \u001b[0m | \u001b[36msrc.rl.tabular_q_learning\u001b[0m:\u001b[36mtrain\u001b[0m:\u001b[36m226\u001b[0m - \u001b[1mEpisode   350 | R: +1.0 | ε: 0.050\u001b[0m\n",
      "\u001b[32m2025-08-30 04:03:37.232\u001b[0m | \u001b[32m\u001b[1mSUCCESS \u001b[0m | \u001b[36msrc.rl.tabular_q_learning\u001b[0m:\u001b[36mtrain\u001b[0m:\u001b[36m237\u001b[0m - \u001b[32m\u001b[1mConverged at episode 371 after 0.03s\u001b[0m\n",
      "\u001b[32m2025-08-30 04:03:37.233\u001b[0m | \u001b[1mINFO    \u001b[0m | \u001b[36msrc.rl.tabular_q_learning\u001b[0m:\u001b[36mtrain\u001b[0m:\u001b[36m226\u001b[0m - \u001b[1mEpisode   375 | R: +1.0 | ε: 0.050\u001b[0m\n",
      "\u001b[32m2025-08-30 04:03:37.235\u001b[0m | \u001b[1mINFO    \u001b[0m | \u001b[36msrc.rl.tabular_q_learning\u001b[0m:\u001b[36mtrain\u001b[0m:\u001b[36m226\u001b[0m - \u001b[1mEpisode   400 | R: +1.0 | ε: 0.050\u001b[0m\n",
      "\u001b[32m2025-08-30 04:03:37.237\u001b[0m | \u001b[1mINFO    \u001b[0m | \u001b[36msrc.rl.tabular_q_learning\u001b[0m:\u001b[36mtrain\u001b[0m:\u001b[36m226\u001b[0m - \u001b[1mEpisode   425 | R: +1.0 | ε: 0.050\u001b[0m\n",
      "\u001b[32m2025-08-30 04:03:37.239\u001b[0m | \u001b[1mINFO    \u001b[0m | \u001b[36msrc.rl.tabular_q_learning\u001b[0m:\u001b[36mtrain\u001b[0m:\u001b[36m226\u001b[0m - \u001b[1mEpisode   450 | R: +1.0 | ε: 0.050\u001b[0m\n",
      "\u001b[32m2025-08-30 04:03:37.241\u001b[0m | \u001b[1mINFO    \u001b[0m | \u001b[36msrc.rl.tabular_q_learning\u001b[0m:\u001b[36mtrain\u001b[0m:\u001b[36m226\u001b[0m - \u001b[1mEpisode   475 | R: +1.0 | ε: 0.050\u001b[0m\n",
      "\u001b[32m2025-08-30 04:03:37.243\u001b[0m | \u001b[1mINFO    \u001b[0m | \u001b[36msrc.rl.tabular_q_learning\u001b[0m:\u001b[36mtrain\u001b[0m:\u001b[36m226\u001b[0m - \u001b[1mEpisode   500 | R: +1.0 | ε: 0.050\u001b[0m\n"
     ]
    },
    {
     "data": {
      "text/html": [],
      "text/plain": [
       "<IPython.core.display.HTML object>"
      ]
     },
     "metadata": {},
     "output_type": "display_data"
    },
    {
     "data": {
      "text/html": [
       "<br>    <style><br>        .wandb-row {<br>            display: flex;<br>            flex-direction: row;<br>            flex-wrap: wrap;<br>            justify-content: flex-start;<br>            width: 100%;<br>        }<br>        .wandb-col {<br>            display: flex;<br>            flex-direction: column;<br>            flex-basis: 100%;<br>            flex: 1;<br>            padding: 10px;<br>        }<br>    </style><br><div class=\"wandb-row\"><div class=\"wandb-col\"><h3>Run history:</h3><br/><table class=\"wandb\"><tr><td>best_reward</td><td>▁</td></tr><tr><td>converged_episode</td><td>▁</td></tr><tr><td>train_time_sec</td><td>▁</td></tr></table><br/></div><div class=\"wandb-col\"><h3>Run summary:</h3><br/><table class=\"wandb\"><tr><td>best_reward</td><td>1</td></tr><tr><td>converged_episode</td><td>371</td></tr><tr><td>train_time_sec</td><td>0.03431</td></tr></table><br/></div></div>"
      ],
      "text/plain": [
       "<IPython.core.display.HTML object>"
      ]
     },
     "metadata": {},
     "output_type": "display_data"
    },
    {
     "data": {
      "text/html": [
       " View run <strong style=\"color:#cdcd00\">polished-sweep-13</strong> at: <a href='https://wandb.ai/magicayyub-lab/montyhall-ql/runs/1pw0tnzc' target=\"_blank\">https://wandb.ai/magicayyub-lab/montyhall-ql/runs/1pw0tnzc</a><br> View project at: <a href='https://wandb.ai/magicayyub-lab/montyhall-ql' target=\"_blank\">https://wandb.ai/magicayyub-lab/montyhall-ql</a><br>Synced 5 W&B file(s), 0 media file(s), 0 artifact file(s) and 0 other file(s)"
      ],
      "text/plain": [
       "<IPython.core.display.HTML object>"
      ]
     },
     "metadata": {},
     "output_type": "display_data"
    },
    {
     "data": {
      "text/html": [
       "Find logs at: <code>./wandb/run-20250830_040336-1pw0tnzc/logs</code>"
      ],
      "text/plain": [
       "<IPython.core.display.HTML object>"
      ]
     },
     "metadata": {},
     "output_type": "display_data"
    },
    {
     "name": "stderr",
     "output_type": "stream",
     "text": [
      "\u001b[34m\u001b[1mwandb\u001b[0m: Agent Starting Run: 50hy4q2o with config:\n",
      "\u001b[34m\u001b[1mwandb\u001b[0m: \tdiscount_factor: 0.9167415118527686\n",
      "\u001b[34m\u001b[1mwandb\u001b[0m: \tepsilon_decay: 0.9685038439375796\n",
      "\u001b[34m\u001b[1mwandb\u001b[0m: \tlearning_rate: 1.649108490004329e-05\n"
     ]
    },
    {
     "data": {
      "text/html": [
       "Changes to your `wandb` environment variables will be ignored because your `wandb` session has already started. For more information on how to modify your settings with `wandb.init()` arguments, please refer to <a href='https://wandb.me/wandb-init' target=\"_blank\">the W&B docs</a>."
      ],
      "text/plain": [
       "<IPython.core.display.HTML object>"
      ]
     },
     "metadata": {},
     "output_type": "display_data"
    },
    {
     "data": {
      "text/html": [
       "Ignoring project 'montyhall-ql' when running a sweep."
      ],
      "text/plain": [
       "<IPython.core.display.HTML object>"
      ]
     },
     "metadata": {},
     "output_type": "display_data"
    },
    {
     "data": {
      "text/html": [
       "Waiting for wandb.init()..."
      ],
      "text/plain": [
       "<IPython.core.display.HTML object>"
      ]
     },
     "metadata": {},
     "output_type": "display_data"
    },
    {
     "data": {
      "text/html": [
       "Tracking run with wandb version 0.21.2"
      ],
      "text/plain": [
       "<IPython.core.display.HTML object>"
      ]
     },
     "metadata": {},
     "output_type": "display_data"
    },
    {
     "data": {
      "text/html": [
       "Run data is saved locally in <code>/Users/ayouba/Documents/laboratoire/RL/wandb/run-20250830_040341-50hy4q2o</code>"
      ],
      "text/plain": [
       "<IPython.core.display.HTML object>"
      ]
     },
     "metadata": {},
     "output_type": "display_data"
    },
    {
     "data": {
      "text/html": [
       "Syncing run <strong><a href='https://wandb.ai/magicayyub-lab/montyhall-ql/runs/50hy4q2o' target=\"_blank\">zany-sweep-14</a></strong> to <a href='https://wandb.ai/magicayyub-lab/montyhall-ql' target=\"_blank\">Weights & Biases</a> (<a href='https://wandb.me/developer-guide' target=\"_blank\">docs</a>)<br>Sweep page: <a href='https://wandb.ai/magicayyub-lab/montyhall-ql/sweeps/9cdpki6q' target=\"_blank\">https://wandb.ai/magicayyub-lab/montyhall-ql/sweeps/9cdpki6q</a>"
      ],
      "text/plain": [
       "<IPython.core.display.HTML object>"
      ]
     },
     "metadata": {},
     "output_type": "display_data"
    },
    {
     "data": {
      "text/html": [
       " View project at <a href='https://wandb.ai/magicayyub-lab/montyhall-ql' target=\"_blank\">https://wandb.ai/magicayyub-lab/montyhall-ql</a>"
      ],
      "text/plain": [
       "<IPython.core.display.HTML object>"
      ]
     },
     "metadata": {},
     "output_type": "display_data"
    },
    {
     "data": {
      "text/html": [
       " View sweep at <a href='https://wandb.ai/magicayyub-lab/montyhall-ql/sweeps/9cdpki6q' target=\"_blank\">https://wandb.ai/magicayyub-lab/montyhall-ql/sweeps/9cdpki6q</a>"
      ],
      "text/plain": [
       "<IPython.core.display.HTML object>"
      ]
     },
     "metadata": {},
     "output_type": "display_data"
    },
    {
     "data": {
      "text/html": [
       " View run at <a href='https://wandb.ai/magicayyub-lab/montyhall-ql/runs/50hy4q2o' target=\"_blank\">https://wandb.ai/magicayyub-lab/montyhall-ql/runs/50hy4q2o</a>"
      ],
      "text/plain": [
       "<IPython.core.display.HTML object>"
      ]
     },
     "metadata": {},
     "output_type": "display_data"
    },
    {
     "name": "stderr",
     "output_type": "stream",
     "text": [
      "\u001b[32m2025-08-30 04:03:42.631\u001b[0m | \u001b[1mINFO    \u001b[0m | \u001b[36msrc.rl.tabular_q_learning\u001b[0m:\u001b[36mtrain\u001b[0m:\u001b[36m226\u001b[0m - \u001b[1mEpisode    25 | R: +0.0 | ε: 0.449\u001b[0m\n",
      "\u001b[32m2025-08-30 04:03:42.634\u001b[0m | \u001b[1mINFO    \u001b[0m | \u001b[36msrc.rl.tabular_q_learning\u001b[0m:\u001b[36mtrain\u001b[0m:\u001b[36m226\u001b[0m - \u001b[1mEpisode    50 | R: +1.0 | ε: 0.202\u001b[0m\n",
      "\u001b[32m2025-08-30 04:03:42.636\u001b[0m | \u001b[1mINFO    \u001b[0m | \u001b[36msrc.rl.tabular_q_learning\u001b[0m:\u001b[36mtrain\u001b[0m:\u001b[36m226\u001b[0m - \u001b[1mEpisode    75 | R: +1.0 | ε: 0.091\u001b[0m\n",
      "\u001b[32m2025-08-30 04:03:42.637\u001b[0m | \u001b[1mINFO    \u001b[0m | \u001b[36msrc.rl.tabular_q_learning\u001b[0m:\u001b[36mtrain\u001b[0m:\u001b[36m226\u001b[0m - \u001b[1mEpisode   100 | R: +1.0 | ε: 0.050\u001b[0m\n",
      "\u001b[32m2025-08-30 04:03:42.640\u001b[0m | \u001b[1mINFO    \u001b[0m | \u001b[36msrc.rl.tabular_q_learning\u001b[0m:\u001b[36mtrain\u001b[0m:\u001b[36m226\u001b[0m - \u001b[1mEpisode   125 | R: +1.0 | ε: 0.050\u001b[0m\n",
      "\u001b[32m2025-08-30 04:03:42.643\u001b[0m | \u001b[1mINFO    \u001b[0m | \u001b[36msrc.rl.tabular_q_learning\u001b[0m:\u001b[36mtrain\u001b[0m:\u001b[36m226\u001b[0m - \u001b[1mEpisode   150 | R: +1.0 | ε: 0.050\u001b[0m\n",
      "\u001b[32m2025-08-30 04:03:42.645\u001b[0m | \u001b[1mINFO    \u001b[0m | \u001b[36msrc.rl.tabular_q_learning\u001b[0m:\u001b[36mtrain\u001b[0m:\u001b[36m226\u001b[0m - \u001b[1mEpisode   175 | R: +1.0 | ε: 0.050\u001b[0m\n",
      "\u001b[32m2025-08-30 04:03:42.648\u001b[0m | \u001b[1mINFO    \u001b[0m | \u001b[36msrc.rl.tabular_q_learning\u001b[0m:\u001b[36mtrain\u001b[0m:\u001b[36m226\u001b[0m - \u001b[1mEpisode   200 | R: +1.0 | ε: 0.050\u001b[0m\n",
      "\u001b[32m2025-08-30 04:03:42.651\u001b[0m | \u001b[1mINFO    \u001b[0m | \u001b[36msrc.rl.tabular_q_learning\u001b[0m:\u001b[36mtrain\u001b[0m:\u001b[36m226\u001b[0m - \u001b[1mEpisode   225 | R: +1.0 | ε: 0.050\u001b[0m\n",
      "\u001b[32m2025-08-30 04:03:42.653\u001b[0m | \u001b[1mINFO    \u001b[0m | \u001b[36msrc.rl.tabular_q_learning\u001b[0m:\u001b[36mtrain\u001b[0m:\u001b[36m226\u001b[0m - \u001b[1mEpisode   250 | R: +1.0 | ε: 0.050\u001b[0m\n",
      "\u001b[32m2025-08-30 04:03:42.655\u001b[0m | \u001b[1mINFO    \u001b[0m | \u001b[36msrc.rl.tabular_q_learning\u001b[0m:\u001b[36mtrain\u001b[0m:\u001b[36m226\u001b[0m - \u001b[1mEpisode   275 | R: +1.0 | ε: 0.050\u001b[0m\n",
      "\u001b[32m2025-08-30 04:03:42.658\u001b[0m | \u001b[1mINFO    \u001b[0m | \u001b[36msrc.rl.tabular_q_learning\u001b[0m:\u001b[36mtrain\u001b[0m:\u001b[36m226\u001b[0m - \u001b[1mEpisode   300 | R: +1.0 | ε: 0.050\u001b[0m\n",
      "\u001b[32m2025-08-30 04:03:42.660\u001b[0m | \u001b[1mINFO    \u001b[0m | \u001b[36msrc.rl.tabular_q_learning\u001b[0m:\u001b[36mtrain\u001b[0m:\u001b[36m226\u001b[0m - \u001b[1mEpisode   325 | R: +1.0 | ε: 0.050\u001b[0m\n",
      "\u001b[32m2025-08-30 04:03:42.663\u001b[0m | \u001b[1mINFO    \u001b[0m | \u001b[36msrc.rl.tabular_q_learning\u001b[0m:\u001b[36mtrain\u001b[0m:\u001b[36m226\u001b[0m - \u001b[1mEpisode   350 | R: +1.0 | ε: 0.050\u001b[0m\n",
      "\u001b[32m2025-08-30 04:03:42.666\u001b[0m | \u001b[1mINFO    \u001b[0m | \u001b[36msrc.rl.tabular_q_learning\u001b[0m:\u001b[36mtrain\u001b[0m:\u001b[36m226\u001b[0m - \u001b[1mEpisode   375 | R: +1.0 | ε: 0.050\u001b[0m\n",
      "\u001b[32m2025-08-30 04:03:42.668\u001b[0m | \u001b[1mINFO    \u001b[0m | \u001b[36msrc.rl.tabular_q_learning\u001b[0m:\u001b[36mtrain\u001b[0m:\u001b[36m226\u001b[0m - \u001b[1mEpisode   400 | R: +1.0 | ε: 0.050\u001b[0m\n",
      "\u001b[32m2025-08-30 04:03:42.671\u001b[0m | \u001b[1mINFO    \u001b[0m | \u001b[36msrc.rl.tabular_q_learning\u001b[0m:\u001b[36mtrain\u001b[0m:\u001b[36m226\u001b[0m - \u001b[1mEpisode   425 | R: +1.0 | ε: 0.050\u001b[0m\n",
      "\u001b[32m2025-08-30 04:03:42.674\u001b[0m | \u001b[1mINFO    \u001b[0m | \u001b[36msrc.rl.tabular_q_learning\u001b[0m:\u001b[36mtrain\u001b[0m:\u001b[36m226\u001b[0m - \u001b[1mEpisode   450 | R: +1.0 | ε: 0.050\u001b[0m\n",
      "\u001b[32m2025-08-30 04:03:42.676\u001b[0m | \u001b[1mINFO    \u001b[0m | \u001b[36msrc.rl.tabular_q_learning\u001b[0m:\u001b[36mtrain\u001b[0m:\u001b[36m226\u001b[0m - \u001b[1mEpisode   475 | R: +1.0 | ε: 0.050\u001b[0m\n",
      "\u001b[32m2025-08-30 04:03:42.679\u001b[0m | \u001b[1mINFO    \u001b[0m | \u001b[36msrc.rl.tabular_q_learning\u001b[0m:\u001b[36mtrain\u001b[0m:\u001b[36m226\u001b[0m - \u001b[1mEpisode   500 | R: +1.0 | ε: 0.050\u001b[0m\n"
     ]
    },
    {
     "data": {
      "text/html": [],
      "text/plain": [
       "<IPython.core.display.HTML object>"
      ]
     },
     "metadata": {},
     "output_type": "display_data"
    },
    {
     "data": {
      "text/html": [
       "<br>    <style><br>        .wandb-row {<br>            display: flex;<br>            flex-direction: row;<br>            flex-wrap: wrap;<br>            justify-content: flex-start;<br>            width: 100%;<br>        }<br>        .wandb-col {<br>            display: flex;<br>            flex-direction: column;<br>            flex-basis: 100%;<br>            flex: 1;<br>            padding: 10px;<br>        }<br>    </style><br><div class=\"wandb-row\"><div class=\"wandb-col\"><h3>Run history:</h3><br/><table class=\"wandb\"><tr><td>best_reward</td><td>▁</td></tr><tr><td>converged_episode</td><td>▁</td></tr><tr><td>train_time_sec</td><td>▁</td></tr></table><br/></div><div class=\"wandb-col\"><h3>Run summary:</h3><br/><table class=\"wandb\"><tr><td>best_reward</td><td>1</td></tr><tr><td>converged_episode</td><td>-1</td></tr><tr><td>train_time_sec</td><td>0</td></tr></table><br/></div></div>"
      ],
      "text/plain": [
       "<IPython.core.display.HTML object>"
      ]
     },
     "metadata": {},
     "output_type": "display_data"
    },
    {
     "data": {
      "text/html": [
       " View run <strong style=\"color:#cdcd00\">zany-sweep-14</strong> at: <a href='https://wandb.ai/magicayyub-lab/montyhall-ql/runs/50hy4q2o' target=\"_blank\">https://wandb.ai/magicayyub-lab/montyhall-ql/runs/50hy4q2o</a><br> View project at: <a href='https://wandb.ai/magicayyub-lab/montyhall-ql' target=\"_blank\">https://wandb.ai/magicayyub-lab/montyhall-ql</a><br>Synced 5 W&B file(s), 0 media file(s), 0 artifact file(s) and 0 other file(s)"
      ],
      "text/plain": [
       "<IPython.core.display.HTML object>"
      ]
     },
     "metadata": {},
     "output_type": "display_data"
    },
    {
     "data": {
      "text/html": [
       "Find logs at: <code>./wandb/run-20250830_040341-50hy4q2o/logs</code>"
      ],
      "text/plain": [
       "<IPython.core.display.HTML object>"
      ]
     },
     "metadata": {},
     "output_type": "display_data"
    },
    {
     "name": "stderr",
     "output_type": "stream",
     "text": [
      "\u001b[34m\u001b[1mwandb\u001b[0m: Agent Starting Run: b02edz0g with config:\n",
      "\u001b[34m\u001b[1mwandb\u001b[0m: \tdiscount_factor: 0.998659725292557\n",
      "\u001b[34m\u001b[1mwandb\u001b[0m: \tepsilon_decay: 0.9545668733090228\n",
      "\u001b[34m\u001b[1mwandb\u001b[0m: \tlearning_rate: 9.164429214646904e-05\n"
     ]
    },
    {
     "data": {
      "text/html": [
       "Changes to your `wandb` environment variables will be ignored because your `wandb` session has already started. For more information on how to modify your settings with `wandb.init()` arguments, please refer to <a href='https://wandb.me/wandb-init' target=\"_blank\">the W&B docs</a>."
      ],
      "text/plain": [
       "<IPython.core.display.HTML object>"
      ]
     },
     "metadata": {},
     "output_type": "display_data"
    },
    {
     "data": {
      "text/html": [
       "Ignoring project 'montyhall-ql' when running a sweep."
      ],
      "text/plain": [
       "<IPython.core.display.HTML object>"
      ]
     },
     "metadata": {},
     "output_type": "display_data"
    },
    {
     "data": {
      "text/html": [
       "Waiting for wandb.init()..."
      ],
      "text/plain": [
       "<IPython.core.display.HTML object>"
      ]
     },
     "metadata": {},
     "output_type": "display_data"
    },
    {
     "data": {
      "text/html": [
       "Tracking run with wandb version 0.21.2"
      ],
      "text/plain": [
       "<IPython.core.display.HTML object>"
      ]
     },
     "metadata": {},
     "output_type": "display_data"
    },
    {
     "data": {
      "text/html": [
       "Run data is saved locally in <code>/Users/ayouba/Documents/laboratoire/RL/wandb/run-20250830_040347-b02edz0g</code>"
      ],
      "text/plain": [
       "<IPython.core.display.HTML object>"
      ]
     },
     "metadata": {},
     "output_type": "display_data"
    },
    {
     "data": {
      "text/html": [
       "Syncing run <strong><a href='https://wandb.ai/magicayyub-lab/montyhall-ql/runs/b02edz0g' target=\"_blank\">whole-sweep-15</a></strong> to <a href='https://wandb.ai/magicayyub-lab/montyhall-ql' target=\"_blank\">Weights & Biases</a> (<a href='https://wandb.me/developer-guide' target=\"_blank\">docs</a>)<br>Sweep page: <a href='https://wandb.ai/magicayyub-lab/montyhall-ql/sweeps/9cdpki6q' target=\"_blank\">https://wandb.ai/magicayyub-lab/montyhall-ql/sweeps/9cdpki6q</a>"
      ],
      "text/plain": [
       "<IPython.core.display.HTML object>"
      ]
     },
     "metadata": {},
     "output_type": "display_data"
    },
    {
     "data": {
      "text/html": [
       " View project at <a href='https://wandb.ai/magicayyub-lab/montyhall-ql' target=\"_blank\">https://wandb.ai/magicayyub-lab/montyhall-ql</a>"
      ],
      "text/plain": [
       "<IPython.core.display.HTML object>"
      ]
     },
     "metadata": {},
     "output_type": "display_data"
    },
    {
     "data": {
      "text/html": [
       " View sweep at <a href='https://wandb.ai/magicayyub-lab/montyhall-ql/sweeps/9cdpki6q' target=\"_blank\">https://wandb.ai/magicayyub-lab/montyhall-ql/sweeps/9cdpki6q</a>"
      ],
      "text/plain": [
       "<IPython.core.display.HTML object>"
      ]
     },
     "metadata": {},
     "output_type": "display_data"
    },
    {
     "data": {
      "text/html": [
       " View run at <a href='https://wandb.ai/magicayyub-lab/montyhall-ql/runs/b02edz0g' target=\"_blank\">https://wandb.ai/magicayyub-lab/montyhall-ql/runs/b02edz0g</a>"
      ],
      "text/plain": [
       "<IPython.core.display.HTML object>"
      ]
     },
     "metadata": {},
     "output_type": "display_data"
    },
    {
     "name": "stderr",
     "output_type": "stream",
     "text": [
      "\u001b[32m2025-08-30 04:03:48.232\u001b[0m | \u001b[1mINFO    \u001b[0m | \u001b[36msrc.rl.tabular_q_learning\u001b[0m:\u001b[36mtrain\u001b[0m:\u001b[36m226\u001b[0m - \u001b[1mEpisode    25 | R: +1.0 | ε: 0.313\u001b[0m\n",
      "\u001b[32m2025-08-30 04:03:48.234\u001b[0m | \u001b[1mINFO    \u001b[0m | \u001b[36msrc.rl.tabular_q_learning\u001b[0m:\u001b[36mtrain\u001b[0m:\u001b[36m226\u001b[0m - \u001b[1mEpisode    50 | R: +1.0 | ε: 0.098\u001b[0m\n",
      "\u001b[32m2025-08-30 04:03:48.236\u001b[0m | \u001b[1mINFO    \u001b[0m | \u001b[36msrc.rl.tabular_q_learning\u001b[0m:\u001b[36mtrain\u001b[0m:\u001b[36m226\u001b[0m - \u001b[1mEpisode    75 | R: +1.0 | ε: 0.050\u001b[0m\n",
      "\u001b[32m2025-08-30 04:03:48.238\u001b[0m | \u001b[1mINFO    \u001b[0m | \u001b[36msrc.rl.tabular_q_learning\u001b[0m:\u001b[36mtrain\u001b[0m:\u001b[36m226\u001b[0m - \u001b[1mEpisode   100 | R: +1.0 | ε: 0.050\u001b[0m\n",
      "\u001b[32m2025-08-30 04:03:48.241\u001b[0m | \u001b[1mINFO    \u001b[0m | \u001b[36msrc.rl.tabular_q_learning\u001b[0m:\u001b[36mtrain\u001b[0m:\u001b[36m226\u001b[0m - \u001b[1mEpisode   125 | R: +1.0 | ε: 0.050\u001b[0m\n",
      "\u001b[32m2025-08-30 04:03:48.244\u001b[0m | \u001b[1mINFO    \u001b[0m | \u001b[36msrc.rl.tabular_q_learning\u001b[0m:\u001b[36mtrain\u001b[0m:\u001b[36m226\u001b[0m - \u001b[1mEpisode   150 | R: +1.0 | ε: 0.050\u001b[0m\n",
      "\u001b[32m2025-08-30 04:03:48.247\u001b[0m | \u001b[1mINFO    \u001b[0m | \u001b[36msrc.rl.tabular_q_learning\u001b[0m:\u001b[36mtrain\u001b[0m:\u001b[36m226\u001b[0m - \u001b[1mEpisode   175 | R: +1.0 | ε: 0.050\u001b[0m\n",
      "\u001b[32m2025-08-30 04:03:48.250\u001b[0m | \u001b[1mINFO    \u001b[0m | \u001b[36msrc.rl.tabular_q_learning\u001b[0m:\u001b[36mtrain\u001b[0m:\u001b[36m226\u001b[0m - \u001b[1mEpisode   200 | R: +1.0 | ε: 0.050\u001b[0m\n",
      "\u001b[32m2025-08-30 04:03:48.252\u001b[0m | \u001b[1mINFO    \u001b[0m | \u001b[36msrc.rl.tabular_q_learning\u001b[0m:\u001b[36mtrain\u001b[0m:\u001b[36m226\u001b[0m - \u001b[1mEpisode   225 | R: +1.0 | ε: 0.050\u001b[0m\n",
      "\u001b[32m2025-08-30 04:03:48.255\u001b[0m | \u001b[1mINFO    \u001b[0m | \u001b[36msrc.rl.tabular_q_learning\u001b[0m:\u001b[36mtrain\u001b[0m:\u001b[36m226\u001b[0m - \u001b[1mEpisode   250 | R: +1.0 | ε: 0.050\u001b[0m\n",
      "\u001b[32m2025-08-30 04:03:48.258\u001b[0m | \u001b[1mINFO    \u001b[0m | \u001b[36msrc.rl.tabular_q_learning\u001b[0m:\u001b[36mtrain\u001b[0m:\u001b[36m226\u001b[0m - \u001b[1mEpisode   275 | R: +1.0 | ε: 0.050\u001b[0m\n",
      "\u001b[32m2025-08-30 04:03:48.261\u001b[0m | \u001b[1mINFO    \u001b[0m | \u001b[36msrc.rl.tabular_q_learning\u001b[0m:\u001b[36mtrain\u001b[0m:\u001b[36m226\u001b[0m - \u001b[1mEpisode   300 | R: +1.0 | ε: 0.050\u001b[0m\n",
      "\u001b[32m2025-08-30 04:03:48.263\u001b[0m | \u001b[1mINFO    \u001b[0m | \u001b[36msrc.rl.tabular_q_learning\u001b[0m:\u001b[36mtrain\u001b[0m:\u001b[36m226\u001b[0m - \u001b[1mEpisode   325 | R: +1.0 | ε: 0.050\u001b[0m\n",
      "\u001b[32m2025-08-30 04:03:48.266\u001b[0m | \u001b[1mINFO    \u001b[0m | \u001b[36msrc.rl.tabular_q_learning\u001b[0m:\u001b[36mtrain\u001b[0m:\u001b[36m226\u001b[0m - \u001b[1mEpisode   350 | R: +1.0 | ε: 0.050\u001b[0m\n",
      "\u001b[32m2025-08-30 04:03:48.268\u001b[0m | \u001b[32m\u001b[1mSUCCESS \u001b[0m | \u001b[36msrc.rl.tabular_q_learning\u001b[0m:\u001b[36mtrain\u001b[0m:\u001b[36m237\u001b[0m - \u001b[32m\u001b[1mConverged at episode 371 after 0.04s\u001b[0m\n",
      "\u001b[32m2025-08-30 04:03:48.269\u001b[0m | \u001b[1mINFO    \u001b[0m | \u001b[36msrc.rl.tabular_q_learning\u001b[0m:\u001b[36mtrain\u001b[0m:\u001b[36m226\u001b[0m - \u001b[1mEpisode   375 | R: +1.0 | ε: 0.050\u001b[0m\n",
      "\u001b[32m2025-08-30 04:03:48.271\u001b[0m | \u001b[1mINFO    \u001b[0m | \u001b[36msrc.rl.tabular_q_learning\u001b[0m:\u001b[36mtrain\u001b[0m:\u001b[36m226\u001b[0m - \u001b[1mEpisode   400 | R: +1.0 | ε: 0.050\u001b[0m\n",
      "\u001b[32m2025-08-30 04:03:48.273\u001b[0m | \u001b[1mINFO    \u001b[0m | \u001b[36msrc.rl.tabular_q_learning\u001b[0m:\u001b[36mtrain\u001b[0m:\u001b[36m226\u001b[0m - \u001b[1mEpisode   425 | R: +1.0 | ε: 0.050\u001b[0m\n",
      "\u001b[32m2025-08-30 04:03:48.275\u001b[0m | \u001b[1mINFO    \u001b[0m | \u001b[36msrc.rl.tabular_q_learning\u001b[0m:\u001b[36mtrain\u001b[0m:\u001b[36m226\u001b[0m - \u001b[1mEpisode   450 | R: +1.0 | ε: 0.050\u001b[0m\n",
      "\u001b[32m2025-08-30 04:03:48.278\u001b[0m | \u001b[1mINFO    \u001b[0m | \u001b[36msrc.rl.tabular_q_learning\u001b[0m:\u001b[36mtrain\u001b[0m:\u001b[36m226\u001b[0m - \u001b[1mEpisode   475 | R: +1.0 | ε: 0.050\u001b[0m\n",
      "\u001b[32m2025-08-30 04:03:48.280\u001b[0m | \u001b[1mINFO    \u001b[0m | \u001b[36msrc.rl.tabular_q_learning\u001b[0m:\u001b[36mtrain\u001b[0m:\u001b[36m226\u001b[0m - \u001b[1mEpisode   500 | R: +1.0 | ε: 0.050\u001b[0m\n"
     ]
    },
    {
     "data": {
      "text/html": [],
      "text/plain": [
       "<IPython.core.display.HTML object>"
      ]
     },
     "metadata": {},
     "output_type": "display_data"
    },
    {
     "data": {
      "text/html": [
       "<br>    <style><br>        .wandb-row {<br>            display: flex;<br>            flex-direction: row;<br>            flex-wrap: wrap;<br>            justify-content: flex-start;<br>            width: 100%;<br>        }<br>        .wandb-col {<br>            display: flex;<br>            flex-direction: column;<br>            flex-basis: 100%;<br>            flex: 1;<br>            padding: 10px;<br>        }<br>    </style><br><div class=\"wandb-row\"><div class=\"wandb-col\"><h3>Run history:</h3><br/><table class=\"wandb\"><tr><td>best_reward</td><td>▁</td></tr><tr><td>converged_episode</td><td>▁</td></tr><tr><td>train_time_sec</td><td>▁</td></tr></table><br/></div><div class=\"wandb-col\"><h3>Run summary:</h3><br/><table class=\"wandb\"><tr><td>best_reward</td><td>1</td></tr><tr><td>converged_episode</td><td>371</td></tr><tr><td>train_time_sec</td><td>0.03833</td></tr></table><br/></div></div>"
      ],
      "text/plain": [
       "<IPython.core.display.HTML object>"
      ]
     },
     "metadata": {},
     "output_type": "display_data"
    },
    {
     "data": {
      "text/html": [
       " View run <strong style=\"color:#cdcd00\">whole-sweep-15</strong> at: <a href='https://wandb.ai/magicayyub-lab/montyhall-ql/runs/b02edz0g' target=\"_blank\">https://wandb.ai/magicayyub-lab/montyhall-ql/runs/b02edz0g</a><br> View project at: <a href='https://wandb.ai/magicayyub-lab/montyhall-ql' target=\"_blank\">https://wandb.ai/magicayyub-lab/montyhall-ql</a><br>Synced 5 W&B file(s), 0 media file(s), 0 artifact file(s) and 0 other file(s)"
      ],
      "text/plain": [
       "<IPython.core.display.HTML object>"
      ]
     },
     "metadata": {},
     "output_type": "display_data"
    },
    {
     "data": {
      "text/html": [
       "Find logs at: <code>./wandb/run-20250830_040347-b02edz0g/logs</code>"
      ],
      "text/plain": [
       "<IPython.core.display.HTML object>"
      ]
     },
     "metadata": {},
     "output_type": "display_data"
    },
    {
     "name": "stderr",
     "output_type": "stream",
     "text": [
      "\u001b[34m\u001b[1mwandb\u001b[0m: Agent Starting Run: 7fu79zkt with config:\n",
      "\u001b[34m\u001b[1mwandb\u001b[0m: \tdiscount_factor: 0.9833026547312592\n",
      "\u001b[34m\u001b[1mwandb\u001b[0m: \tepsilon_decay: 0.9864761207689656\n",
      "\u001b[34m\u001b[1mwandb\u001b[0m: \tlearning_rate: 0.005546639431366208\n"
     ]
    },
    {
     "data": {
      "text/html": [
       "Changes to your `wandb` environment variables will be ignored because your `wandb` session has already started. For more information on how to modify your settings with `wandb.init()` arguments, please refer to <a href='https://wandb.me/wandb-init' target=\"_blank\">the W&B docs</a>."
      ],
      "text/plain": [
       "<IPython.core.display.HTML object>"
      ]
     },
     "metadata": {},
     "output_type": "display_data"
    },
    {
     "data": {
      "text/html": [
       "Ignoring project 'montyhall-ql' when running a sweep."
      ],
      "text/plain": [
       "<IPython.core.display.HTML object>"
      ]
     },
     "metadata": {},
     "output_type": "display_data"
    },
    {
     "data": {
      "text/html": [
       "Waiting for wandb.init()..."
      ],
      "text/plain": [
       "<IPython.core.display.HTML object>"
      ]
     },
     "metadata": {},
     "output_type": "display_data"
    },
    {
     "data": {
      "text/html": [
       "Tracking run with wandb version 0.21.2"
      ],
      "text/plain": [
       "<IPython.core.display.HTML object>"
      ]
     },
     "metadata": {},
     "output_type": "display_data"
    },
    {
     "data": {
      "text/html": [
       "Run data is saved locally in <code>/Users/ayouba/Documents/laboratoire/RL/wandb/run-20250830_040352-7fu79zkt</code>"
      ],
      "text/plain": [
       "<IPython.core.display.HTML object>"
      ]
     },
     "metadata": {},
     "output_type": "display_data"
    },
    {
     "data": {
      "text/html": [
       "Syncing run <strong><a href='https://wandb.ai/magicayyub-lab/montyhall-ql/runs/7fu79zkt' target=\"_blank\">decent-sweep-16</a></strong> to <a href='https://wandb.ai/magicayyub-lab/montyhall-ql' target=\"_blank\">Weights & Biases</a> (<a href='https://wandb.me/developer-guide' target=\"_blank\">docs</a>)<br>Sweep page: <a href='https://wandb.ai/magicayyub-lab/montyhall-ql/sweeps/9cdpki6q' target=\"_blank\">https://wandb.ai/magicayyub-lab/montyhall-ql/sweeps/9cdpki6q</a>"
      ],
      "text/plain": [
       "<IPython.core.display.HTML object>"
      ]
     },
     "metadata": {},
     "output_type": "display_data"
    },
    {
     "data": {
      "text/html": [
       " View project at <a href='https://wandb.ai/magicayyub-lab/montyhall-ql' target=\"_blank\">https://wandb.ai/magicayyub-lab/montyhall-ql</a>"
      ],
      "text/plain": [
       "<IPython.core.display.HTML object>"
      ]
     },
     "metadata": {},
     "output_type": "display_data"
    },
    {
     "data": {
      "text/html": [
       " View sweep at <a href='https://wandb.ai/magicayyub-lab/montyhall-ql/sweeps/9cdpki6q' target=\"_blank\">https://wandb.ai/magicayyub-lab/montyhall-ql/sweeps/9cdpki6q</a>"
      ],
      "text/plain": [
       "<IPython.core.display.HTML object>"
      ]
     },
     "metadata": {},
     "output_type": "display_data"
    },
    {
     "data": {
      "text/html": [
       " View run at <a href='https://wandb.ai/magicayyub-lab/montyhall-ql/runs/7fu79zkt' target=\"_blank\">https://wandb.ai/magicayyub-lab/montyhall-ql/runs/7fu79zkt</a>"
      ],
      "text/plain": [
       "<IPython.core.display.HTML object>"
      ]
     },
     "metadata": {},
     "output_type": "display_data"
    },
    {
     "name": "stderr",
     "output_type": "stream",
     "text": [
      "\u001b[32m2025-08-30 04:03:53.661\u001b[0m | \u001b[1mINFO    \u001b[0m | \u001b[36msrc.rl.tabular_q_learning\u001b[0m:\u001b[36mtrain\u001b[0m:\u001b[36m226\u001b[0m - \u001b[1mEpisode    25 | R: +0.0 | ε: 0.711\u001b[0m\n",
      "\u001b[32m2025-08-30 04:03:53.663\u001b[0m | \u001b[1mINFO    \u001b[0m | \u001b[36msrc.rl.tabular_q_learning\u001b[0m:\u001b[36mtrain\u001b[0m:\u001b[36m226\u001b[0m - \u001b[1mEpisode    50 | R: +1.0 | ε: 0.506\u001b[0m\n",
      "\u001b[32m2025-08-30 04:03:53.666\u001b[0m | \u001b[1mINFO    \u001b[0m | \u001b[36msrc.rl.tabular_q_learning\u001b[0m:\u001b[36mtrain\u001b[0m:\u001b[36m226\u001b[0m - \u001b[1mEpisode    75 | R: +1.0 | ε: 0.360\u001b[0m\n",
      "\u001b[32m2025-08-30 04:03:53.668\u001b[0m | \u001b[1mINFO    \u001b[0m | \u001b[36msrc.rl.tabular_q_learning\u001b[0m:\u001b[36mtrain\u001b[0m:\u001b[36m226\u001b[0m - \u001b[1mEpisode   100 | R: +1.0 | ε: 0.256\u001b[0m\n",
      "\u001b[32m2025-08-30 04:03:53.671\u001b[0m | \u001b[1mINFO    \u001b[0m | \u001b[36msrc.rl.tabular_q_learning\u001b[0m:\u001b[36mtrain\u001b[0m:\u001b[36m226\u001b[0m - \u001b[1mEpisode   125 | R: +1.0 | ε: 0.182\u001b[0m\n",
      "\u001b[32m2025-08-30 04:03:53.673\u001b[0m | \u001b[1mINFO    \u001b[0m | \u001b[36msrc.rl.tabular_q_learning\u001b[0m:\u001b[36mtrain\u001b[0m:\u001b[36m226\u001b[0m - \u001b[1mEpisode   150 | R: +1.0 | ε: 0.130\u001b[0m\n",
      "\u001b[32m2025-08-30 04:03:53.675\u001b[0m | \u001b[1mINFO    \u001b[0m | \u001b[36msrc.rl.tabular_q_learning\u001b[0m:\u001b[36mtrain\u001b[0m:\u001b[36m226\u001b[0m - \u001b[1mEpisode   175 | R: +1.0 | ε: 0.092\u001b[0m\n",
      "\u001b[32m2025-08-30 04:03:53.698\u001b[0m | \u001b[1mINFO    \u001b[0m | \u001b[36msrc.rl.tabular_q_learning\u001b[0m:\u001b[36mtrain\u001b[0m:\u001b[36m226\u001b[0m - \u001b[1mEpisode   200 | R: +1.0 | ε: 0.066\u001b[0m\n",
      "\u001b[32m2025-08-30 04:03:53.727\u001b[0m | \u001b[1mINFO    \u001b[0m | \u001b[36msrc.rl.tabular_q_learning\u001b[0m:\u001b[36mtrain\u001b[0m:\u001b[36m226\u001b[0m - \u001b[1mEpisode   225 | R: +1.0 | ε: 0.050\u001b[0m\n",
      "\u001b[32m2025-08-30 04:03:53.731\u001b[0m | \u001b[1mINFO    \u001b[0m | \u001b[36msrc.rl.tabular_q_learning\u001b[0m:\u001b[36mtrain\u001b[0m:\u001b[36m226\u001b[0m - \u001b[1mEpisode   250 | R: +1.0 | ε: 0.050\u001b[0m\n",
      "\u001b[32m2025-08-30 04:03:53.753\u001b[0m | \u001b[1mINFO    \u001b[0m | \u001b[36msrc.rl.tabular_q_learning\u001b[0m:\u001b[36mtrain\u001b[0m:\u001b[36m226\u001b[0m - \u001b[1mEpisode   275 | R: +1.0 | ε: 0.050\u001b[0m\n",
      "\u001b[32m2025-08-30 04:03:53.761\u001b[0m | \u001b[1mINFO    \u001b[0m | \u001b[36msrc.rl.tabular_q_learning\u001b[0m:\u001b[36mtrain\u001b[0m:\u001b[36m226\u001b[0m - \u001b[1mEpisode   300 | R: +1.0 | ε: 0.050\u001b[0m\n",
      "\u001b[32m2025-08-30 04:03:53.764\u001b[0m | \u001b[1mINFO    \u001b[0m | \u001b[36msrc.rl.tabular_q_learning\u001b[0m:\u001b[36mtrain\u001b[0m:\u001b[36m226\u001b[0m - \u001b[1mEpisode   325 | R: +1.0 | ε: 0.050\u001b[0m\n",
      "\u001b[32m2025-08-30 04:03:53.766\u001b[0m | \u001b[1mINFO    \u001b[0m | \u001b[36msrc.rl.tabular_q_learning\u001b[0m:\u001b[36mtrain\u001b[0m:\u001b[36m226\u001b[0m - \u001b[1mEpisode   350 | R: +1.0 | ε: 0.050\u001b[0m\n",
      "\u001b[32m2025-08-30 04:03:53.767\u001b[0m | \u001b[32m\u001b[1mSUCCESS \u001b[0m | \u001b[36msrc.rl.tabular_q_learning\u001b[0m:\u001b[36mtrain\u001b[0m:\u001b[36m237\u001b[0m - \u001b[32m\u001b[1mConverged at episode 350 after 0.11s\u001b[0m\n",
      "\u001b[32m2025-08-30 04:03:53.770\u001b[0m | \u001b[1mINFO    \u001b[0m | \u001b[36msrc.rl.tabular_q_learning\u001b[0m:\u001b[36mtrain\u001b[0m:\u001b[36m226\u001b[0m - \u001b[1mEpisode   375 | R: +1.0 | ε: 0.050\u001b[0m\n",
      "\u001b[32m2025-08-30 04:03:53.774\u001b[0m | \u001b[1mINFO    \u001b[0m | \u001b[36msrc.rl.tabular_q_learning\u001b[0m:\u001b[36mtrain\u001b[0m:\u001b[36m226\u001b[0m - \u001b[1mEpisode   400 | R: +1.0 | ε: 0.050\u001b[0m\n",
      "\u001b[32m2025-08-30 04:03:53.777\u001b[0m | \u001b[1mINFO    \u001b[0m | \u001b[36msrc.rl.tabular_q_learning\u001b[0m:\u001b[36mtrain\u001b[0m:\u001b[36m226\u001b[0m - \u001b[1mEpisode   425 | R: +1.0 | ε: 0.050\u001b[0m\n",
      "\u001b[32m2025-08-30 04:03:53.783\u001b[0m | \u001b[1mINFO    \u001b[0m | \u001b[36msrc.rl.tabular_q_learning\u001b[0m:\u001b[36mtrain\u001b[0m:\u001b[36m226\u001b[0m - \u001b[1mEpisode   450 | R: +1.0 | ε: 0.050\u001b[0m\n",
      "\u001b[32m2025-08-30 04:03:53.785\u001b[0m | \u001b[1mINFO    \u001b[0m | \u001b[36msrc.rl.tabular_q_learning\u001b[0m:\u001b[36mtrain\u001b[0m:\u001b[36m226\u001b[0m - \u001b[1mEpisode   475 | R: +1.0 | ε: 0.050\u001b[0m\n",
      "\u001b[32m2025-08-30 04:03:53.788\u001b[0m | \u001b[1mINFO    \u001b[0m | \u001b[36msrc.rl.tabular_q_learning\u001b[0m:\u001b[36mtrain\u001b[0m:\u001b[36m226\u001b[0m - \u001b[1mEpisode   500 | R: +1.0 | ε: 0.050\u001b[0m\n"
     ]
    },
    {
     "data": {
      "text/html": [],
      "text/plain": [
       "<IPython.core.display.HTML object>"
      ]
     },
     "metadata": {},
     "output_type": "display_data"
    },
    {
     "data": {
      "text/html": [
       "<br>    <style><br>        .wandb-row {<br>            display: flex;<br>            flex-direction: row;<br>            flex-wrap: wrap;<br>            justify-content: flex-start;<br>            width: 100%;<br>        }<br>        .wandb-col {<br>            display: flex;<br>            flex-direction: column;<br>            flex-basis: 100%;<br>            flex: 1;<br>            padding: 10px;<br>        }<br>    </style><br><div class=\"wandb-row\"><div class=\"wandb-col\"><h3>Run history:</h3><br/><table class=\"wandb\"><tr><td>best_reward</td><td>▁</td></tr><tr><td>converged_episode</td><td>▁</td></tr><tr><td>train_time_sec</td><td>▁</td></tr></table><br/></div><div class=\"wandb-col\"><h3>Run summary:</h3><br/><table class=\"wandb\"><tr><td>best_reward</td><td>1</td></tr><tr><td>converged_episode</td><td>350</td></tr><tr><td>train_time_sec</td><td>0.10808</td></tr></table><br/></div></div>"
      ],
      "text/plain": [
       "<IPython.core.display.HTML object>"
      ]
     },
     "metadata": {},
     "output_type": "display_data"
    },
    {
     "data": {
      "text/html": [
       " View run <strong style=\"color:#cdcd00\">decent-sweep-16</strong> at: <a href='https://wandb.ai/magicayyub-lab/montyhall-ql/runs/7fu79zkt' target=\"_blank\">https://wandb.ai/magicayyub-lab/montyhall-ql/runs/7fu79zkt</a><br> View project at: <a href='https://wandb.ai/magicayyub-lab/montyhall-ql' target=\"_blank\">https://wandb.ai/magicayyub-lab/montyhall-ql</a><br>Synced 5 W&B file(s), 0 media file(s), 0 artifact file(s) and 0 other file(s)"
      ],
      "text/plain": [
       "<IPython.core.display.HTML object>"
      ]
     },
     "metadata": {},
     "output_type": "display_data"
    },
    {
     "data": {
      "text/html": [
       "Find logs at: <code>./wandb/run-20250830_040352-7fu79zkt/logs</code>"
      ],
      "text/plain": [
       "<IPython.core.display.HTML object>"
      ]
     },
     "metadata": {},
     "output_type": "display_data"
    },
    {
     "name": "stderr",
     "output_type": "stream",
     "text": [
      "\u001b[34m\u001b[1mwandb\u001b[0m: Agent Starting Run: 11sizisp with config:\n",
      "\u001b[34m\u001b[1mwandb\u001b[0m: \tdiscount_factor: 0.8877732343880096\n",
      "\u001b[34m\u001b[1mwandb\u001b[0m: \tepsilon_decay: 0.986862137764578\n",
      "\u001b[34m\u001b[1mwandb\u001b[0m: \tlearning_rate: 0.00014948546056284964\n"
     ]
    },
    {
     "data": {
      "text/html": [
       "Changes to your `wandb` environment variables will be ignored because your `wandb` session has already started. For more information on how to modify your settings with `wandb.init()` arguments, please refer to <a href='https://wandb.me/wandb-init' target=\"_blank\">the W&B docs</a>."
      ],
      "text/plain": [
       "<IPython.core.display.HTML object>"
      ]
     },
     "metadata": {},
     "output_type": "display_data"
    },
    {
     "data": {
      "text/html": [
       "Ignoring project 'montyhall-ql' when running a sweep."
      ],
      "text/plain": [
       "<IPython.core.display.HTML object>"
      ]
     },
     "metadata": {},
     "output_type": "display_data"
    },
    {
     "data": {
      "text/html": [
       "Waiting for wandb.init()..."
      ],
      "text/plain": [
       "<IPython.core.display.HTML object>"
      ]
     },
     "metadata": {},
     "output_type": "display_data"
    },
    {
     "data": {
      "text/html": [
       "Tracking run with wandb version 0.21.2"
      ],
      "text/plain": [
       "<IPython.core.display.HTML object>"
      ]
     },
     "metadata": {},
     "output_type": "display_data"
    },
    {
     "data": {
      "text/html": [
       "Run data is saved locally in <code>/Users/ayouba/Documents/laboratoire/RL/wandb/run-20250830_040358-11sizisp</code>"
      ],
      "text/plain": [
       "<IPython.core.display.HTML object>"
      ]
     },
     "metadata": {},
     "output_type": "display_data"
    },
    {
     "data": {
      "text/html": [
       "Syncing run <strong><a href='https://wandb.ai/magicayyub-lab/montyhall-ql/runs/11sizisp' target=\"_blank\">playful-sweep-17</a></strong> to <a href='https://wandb.ai/magicayyub-lab/montyhall-ql' target=\"_blank\">Weights & Biases</a> (<a href='https://wandb.me/developer-guide' target=\"_blank\">docs</a>)<br>Sweep page: <a href='https://wandb.ai/magicayyub-lab/montyhall-ql/sweeps/9cdpki6q' target=\"_blank\">https://wandb.ai/magicayyub-lab/montyhall-ql/sweeps/9cdpki6q</a>"
      ],
      "text/plain": [
       "<IPython.core.display.HTML object>"
      ]
     },
     "metadata": {},
     "output_type": "display_data"
    },
    {
     "data": {
      "text/html": [
       " View project at <a href='https://wandb.ai/magicayyub-lab/montyhall-ql' target=\"_blank\">https://wandb.ai/magicayyub-lab/montyhall-ql</a>"
      ],
      "text/plain": [
       "<IPython.core.display.HTML object>"
      ]
     },
     "metadata": {},
     "output_type": "display_data"
    },
    {
     "data": {
      "text/html": [
       " View sweep at <a href='https://wandb.ai/magicayyub-lab/montyhall-ql/sweeps/9cdpki6q' target=\"_blank\">https://wandb.ai/magicayyub-lab/montyhall-ql/sweeps/9cdpki6q</a>"
      ],
      "text/plain": [
       "<IPython.core.display.HTML object>"
      ]
     },
     "metadata": {},
     "output_type": "display_data"
    },
    {
     "data": {
      "text/html": [
       " View run at <a href='https://wandb.ai/magicayyub-lab/montyhall-ql/runs/11sizisp' target=\"_blank\">https://wandb.ai/magicayyub-lab/montyhall-ql/runs/11sizisp</a>"
      ],
      "text/plain": [
       "<IPython.core.display.HTML object>"
      ]
     },
     "metadata": {},
     "output_type": "display_data"
    },
    {
     "name": "stderr",
     "output_type": "stream",
     "text": [
      "\u001b[32m2025-08-30 04:03:59.042\u001b[0m | \u001b[1mINFO    \u001b[0m | \u001b[36msrc.rl.tabular_q_learning\u001b[0m:\u001b[36mtrain\u001b[0m:\u001b[36m226\u001b[0m - \u001b[1mEpisode    25 | R: +0.0 | ε: 0.718\u001b[0m\n",
      "\u001b[32m2025-08-30 04:03:59.044\u001b[0m | \u001b[1mINFO    \u001b[0m | \u001b[36msrc.rl.tabular_q_learning\u001b[0m:\u001b[36mtrain\u001b[0m:\u001b[36m226\u001b[0m - \u001b[1mEpisode    50 | R: +1.0 | ε: 0.516\u001b[0m\n",
      "\u001b[32m2025-08-30 04:03:59.046\u001b[0m | \u001b[1mINFO    \u001b[0m | \u001b[36msrc.rl.tabular_q_learning\u001b[0m:\u001b[36mtrain\u001b[0m:\u001b[36m226\u001b[0m - \u001b[1mEpisode    75 | R: +1.0 | ε: 0.371\u001b[0m\n",
      "\u001b[32m2025-08-30 04:03:59.048\u001b[0m | \u001b[1mINFO    \u001b[0m | \u001b[36msrc.rl.tabular_q_learning\u001b[0m:\u001b[36mtrain\u001b[0m:\u001b[36m226\u001b[0m - \u001b[1mEpisode   100 | R: +1.0 | ε: 0.266\u001b[0m\n",
      "\u001b[32m2025-08-30 04:03:59.051\u001b[0m | \u001b[1mINFO    \u001b[0m | \u001b[36msrc.rl.tabular_q_learning\u001b[0m:\u001b[36mtrain\u001b[0m:\u001b[36m226\u001b[0m - \u001b[1mEpisode   125 | R: +1.0 | ε: 0.191\u001b[0m\n",
      "\u001b[32m2025-08-30 04:03:59.053\u001b[0m | \u001b[1mINFO    \u001b[0m | \u001b[36msrc.rl.tabular_q_learning\u001b[0m:\u001b[36mtrain\u001b[0m:\u001b[36m226\u001b[0m - \u001b[1mEpisode   150 | R: +1.0 | ε: 0.138\u001b[0m\n",
      "\u001b[32m2025-08-30 04:03:59.055\u001b[0m | \u001b[1mINFO    \u001b[0m | \u001b[36msrc.rl.tabular_q_learning\u001b[0m:\u001b[36mtrain\u001b[0m:\u001b[36m226\u001b[0m - \u001b[1mEpisode   175 | R: +1.0 | ε: 0.099\u001b[0m\n",
      "\u001b[32m2025-08-30 04:03:59.062\u001b[0m | \u001b[1mINFO    \u001b[0m | \u001b[36msrc.rl.tabular_q_learning\u001b[0m:\u001b[36mtrain\u001b[0m:\u001b[36m226\u001b[0m - \u001b[1mEpisode   200 | R: +1.0 | ε: 0.071\u001b[0m\n",
      "\u001b[32m2025-08-30 04:03:59.112\u001b[0m | \u001b[1mINFO    \u001b[0m | \u001b[36msrc.rl.tabular_q_learning\u001b[0m:\u001b[36mtrain\u001b[0m:\u001b[36m226\u001b[0m - \u001b[1mEpisode   225 | R: +1.0 | ε: 0.051\u001b[0m\n",
      "\u001b[32m2025-08-30 04:03:59.115\u001b[0m | \u001b[1mINFO    \u001b[0m | \u001b[36msrc.rl.tabular_q_learning\u001b[0m:\u001b[36mtrain\u001b[0m:\u001b[36m226\u001b[0m - \u001b[1mEpisode   250 | R: +1.0 | ε: 0.050\u001b[0m\n",
      "\u001b[32m2025-08-30 04:03:59.119\u001b[0m | \u001b[1mINFO    \u001b[0m | \u001b[36msrc.rl.tabular_q_learning\u001b[0m:\u001b[36mtrain\u001b[0m:\u001b[36m226\u001b[0m - \u001b[1mEpisode   275 | R: +1.0 | ε: 0.050\u001b[0m\n",
      "\u001b[32m2025-08-30 04:03:59.130\u001b[0m | \u001b[1mINFO    \u001b[0m | \u001b[36msrc.rl.tabular_q_learning\u001b[0m:\u001b[36mtrain\u001b[0m:\u001b[36m226\u001b[0m - \u001b[1mEpisode   300 | R: +1.0 | ε: 0.050\u001b[0m\n",
      "\u001b[32m2025-08-30 04:03:59.133\u001b[0m | \u001b[1mINFO    \u001b[0m | \u001b[36msrc.rl.tabular_q_learning\u001b[0m:\u001b[36mtrain\u001b[0m:\u001b[36m226\u001b[0m - \u001b[1mEpisode   325 | R: +1.0 | ε: 0.050\u001b[0m\n",
      "\u001b[32m2025-08-30 04:03:59.136\u001b[0m | \u001b[1mINFO    \u001b[0m | \u001b[36msrc.rl.tabular_q_learning\u001b[0m:\u001b[36mtrain\u001b[0m:\u001b[36m226\u001b[0m - \u001b[1mEpisode   350 | R: +1.0 | ε: 0.050\u001b[0m\n",
      "\u001b[32m2025-08-30 04:03:59.138\u001b[0m | \u001b[32m\u001b[1mSUCCESS \u001b[0m | \u001b[36msrc.rl.tabular_q_learning\u001b[0m:\u001b[36mtrain\u001b[0m:\u001b[36m237\u001b[0m - \u001b[32m\u001b[1mConverged at episode 371 after 0.10s\u001b[0m\n",
      "\u001b[32m2025-08-30 04:03:59.139\u001b[0m | \u001b[1mINFO    \u001b[0m | \u001b[36msrc.rl.tabular_q_learning\u001b[0m:\u001b[36mtrain\u001b[0m:\u001b[36m226\u001b[0m - \u001b[1mEpisode   375 | R: +1.0 | ε: 0.050\u001b[0m\n",
      "\u001b[32m2025-08-30 04:03:59.140\u001b[0m | \u001b[1mINFO    \u001b[0m | \u001b[36msrc.rl.tabular_q_learning\u001b[0m:\u001b[36mtrain\u001b[0m:\u001b[36m226\u001b[0m - \u001b[1mEpisode   400 | R: +1.0 | ε: 0.050\u001b[0m\n",
      "\u001b[32m2025-08-30 04:03:59.143\u001b[0m | \u001b[1mINFO    \u001b[0m | \u001b[36msrc.rl.tabular_q_learning\u001b[0m:\u001b[36mtrain\u001b[0m:\u001b[36m226\u001b[0m - \u001b[1mEpisode   425 | R: +1.0 | ε: 0.050\u001b[0m\n",
      "\u001b[32m2025-08-30 04:03:59.145\u001b[0m | \u001b[1mINFO    \u001b[0m | \u001b[36msrc.rl.tabular_q_learning\u001b[0m:\u001b[36mtrain\u001b[0m:\u001b[36m226\u001b[0m - \u001b[1mEpisode   450 | R: +1.0 | ε: 0.050\u001b[0m\n",
      "\u001b[32m2025-08-30 04:03:59.147\u001b[0m | \u001b[1mINFO    \u001b[0m | \u001b[36msrc.rl.tabular_q_learning\u001b[0m:\u001b[36mtrain\u001b[0m:\u001b[36m226\u001b[0m - \u001b[1mEpisode   475 | R: +1.0 | ε: 0.050\u001b[0m\n",
      "\u001b[32m2025-08-30 04:03:59.149\u001b[0m | \u001b[1mINFO    \u001b[0m | \u001b[36msrc.rl.tabular_q_learning\u001b[0m:\u001b[36mtrain\u001b[0m:\u001b[36m226\u001b[0m - \u001b[1mEpisode   500 | R: +1.0 | ε: 0.050\u001b[0m\n"
     ]
    },
    {
     "data": {
      "text/html": [],
      "text/plain": [
       "<IPython.core.display.HTML object>"
      ]
     },
     "metadata": {},
     "output_type": "display_data"
    },
    {
     "data": {
      "text/html": [
       "<br>    <style><br>        .wandb-row {<br>            display: flex;<br>            flex-direction: row;<br>            flex-wrap: wrap;<br>            justify-content: flex-start;<br>            width: 100%;<br>        }<br>        .wandb-col {<br>            display: flex;<br>            flex-direction: column;<br>            flex-basis: 100%;<br>            flex: 1;<br>            padding: 10px;<br>        }<br>    </style><br><div class=\"wandb-row\"><div class=\"wandb-col\"><h3>Run history:</h3><br/><table class=\"wandb\"><tr><td>best_reward</td><td>▁</td></tr><tr><td>converged_episode</td><td>▁</td></tr><tr><td>train_time_sec</td><td>▁</td></tr></table><br/></div><div class=\"wandb-col\"><h3>Run summary:</h3><br/><table class=\"wandb\"><tr><td>best_reward</td><td>1</td></tr><tr><td>converged_episode</td><td>371</td></tr><tr><td>train_time_sec</td><td>0.09836</td></tr></table><br/></div></div>"
      ],
      "text/plain": [
       "<IPython.core.display.HTML object>"
      ]
     },
     "metadata": {},
     "output_type": "display_data"
    },
    {
     "data": {
      "text/html": [
       " View run <strong style=\"color:#cdcd00\">playful-sweep-17</strong> at: <a href='https://wandb.ai/magicayyub-lab/montyhall-ql/runs/11sizisp' target=\"_blank\">https://wandb.ai/magicayyub-lab/montyhall-ql/runs/11sizisp</a><br> View project at: <a href='https://wandb.ai/magicayyub-lab/montyhall-ql' target=\"_blank\">https://wandb.ai/magicayyub-lab/montyhall-ql</a><br>Synced 5 W&B file(s), 0 media file(s), 0 artifact file(s) and 0 other file(s)"
      ],
      "text/plain": [
       "<IPython.core.display.HTML object>"
      ]
     },
     "metadata": {},
     "output_type": "display_data"
    },
    {
     "data": {
      "text/html": [
       "Find logs at: <code>./wandb/run-20250830_040358-11sizisp/logs</code>"
      ],
      "text/plain": [
       "<IPython.core.display.HTML object>"
      ]
     },
     "metadata": {},
     "output_type": "display_data"
    },
    {
     "name": "stderr",
     "output_type": "stream",
     "text": [
      "\u001b[34m\u001b[1mwandb\u001b[0m: Agent Starting Run: 9lwr9qub with config:\n",
      "\u001b[34m\u001b[1mwandb\u001b[0m: \tdiscount_factor: 0.8492205919689418\n",
      "\u001b[34m\u001b[1mwandb\u001b[0m: \tepsilon_decay: 0.952524092534295\n",
      "\u001b[34m\u001b[1mwandb\u001b[0m: \tlearning_rate: 4.033598343433779e-05\n"
     ]
    },
    {
     "data": {
      "text/html": [
       "Changes to your `wandb` environment variables will be ignored because your `wandb` session has already started. For more information on how to modify your settings with `wandb.init()` arguments, please refer to <a href='https://wandb.me/wandb-init' target=\"_blank\">the W&B docs</a>."
      ],
      "text/plain": [
       "<IPython.core.display.HTML object>"
      ]
     },
     "metadata": {},
     "output_type": "display_data"
    },
    {
     "data": {
      "text/html": [
       "Ignoring project 'montyhall-ql' when running a sweep."
      ],
      "text/plain": [
       "<IPython.core.display.HTML object>"
      ]
     },
     "metadata": {},
     "output_type": "display_data"
    },
    {
     "data": {
      "text/html": [
       "Waiting for wandb.init()..."
      ],
      "text/plain": [
       "<IPython.core.display.HTML object>"
      ]
     },
     "metadata": {},
     "output_type": "display_data"
    },
    {
     "data": {
      "text/html": [
       "Tracking run with wandb version 0.21.2"
      ],
      "text/plain": [
       "<IPython.core.display.HTML object>"
      ]
     },
     "metadata": {},
     "output_type": "display_data"
    },
    {
     "data": {
      "text/html": [
       "Run data is saved locally in <code>/Users/ayouba/Documents/laboratoire/RL/wandb/run-20250830_040403-9lwr9qub</code>"
      ],
      "text/plain": [
       "<IPython.core.display.HTML object>"
      ]
     },
     "metadata": {},
     "output_type": "display_data"
    },
    {
     "data": {
      "text/html": [
       "Syncing run <strong><a href='https://wandb.ai/magicayyub-lab/montyhall-ql/runs/9lwr9qub' target=\"_blank\">dandy-sweep-18</a></strong> to <a href='https://wandb.ai/magicayyub-lab/montyhall-ql' target=\"_blank\">Weights & Biases</a> (<a href='https://wandb.me/developer-guide' target=\"_blank\">docs</a>)<br>Sweep page: <a href='https://wandb.ai/magicayyub-lab/montyhall-ql/sweeps/9cdpki6q' target=\"_blank\">https://wandb.ai/magicayyub-lab/montyhall-ql/sweeps/9cdpki6q</a>"
      ],
      "text/plain": [
       "<IPython.core.display.HTML object>"
      ]
     },
     "metadata": {},
     "output_type": "display_data"
    },
    {
     "data": {
      "text/html": [
       " View project at <a href='https://wandb.ai/magicayyub-lab/montyhall-ql' target=\"_blank\">https://wandb.ai/magicayyub-lab/montyhall-ql</a>"
      ],
      "text/plain": [
       "<IPython.core.display.HTML object>"
      ]
     },
     "metadata": {},
     "output_type": "display_data"
    },
    {
     "data": {
      "text/html": [
       " View sweep at <a href='https://wandb.ai/magicayyub-lab/montyhall-ql/sweeps/9cdpki6q' target=\"_blank\">https://wandb.ai/magicayyub-lab/montyhall-ql/sweeps/9cdpki6q</a>"
      ],
      "text/plain": [
       "<IPython.core.display.HTML object>"
      ]
     },
     "metadata": {},
     "output_type": "display_data"
    },
    {
     "data": {
      "text/html": [
       " View run at <a href='https://wandb.ai/magicayyub-lab/montyhall-ql/runs/9lwr9qub' target=\"_blank\">https://wandb.ai/magicayyub-lab/montyhall-ql/runs/9lwr9qub</a>"
      ],
      "text/plain": [
       "<IPython.core.display.HTML object>"
      ]
     },
     "metadata": {},
     "output_type": "display_data"
    },
    {
     "name": "stderr",
     "output_type": "stream",
     "text": [
      "\u001b[32m2025-08-30 04:04:04.690\u001b[0m | \u001b[1mINFO    \u001b[0m | \u001b[36msrc.rl.tabular_q_learning\u001b[0m:\u001b[36mtrain\u001b[0m:\u001b[36m226\u001b[0m - \u001b[1mEpisode    25 | R: +1.0 | ε: 0.296\u001b[0m\n",
      "\u001b[32m2025-08-30 04:04:04.692\u001b[0m | \u001b[1mINFO    \u001b[0m | \u001b[36msrc.rl.tabular_q_learning\u001b[0m:\u001b[36mtrain\u001b[0m:\u001b[36m226\u001b[0m - \u001b[1mEpisode    50 | R: +1.0 | ε: 0.088\u001b[0m\n",
      "\u001b[32m2025-08-30 04:04:04.694\u001b[0m | \u001b[1mINFO    \u001b[0m | \u001b[36msrc.rl.tabular_q_learning\u001b[0m:\u001b[36mtrain\u001b[0m:\u001b[36m226\u001b[0m - \u001b[1mEpisode    75 | R: +1.0 | ε: 0.050\u001b[0m\n",
      "\u001b[32m2025-08-30 04:04:04.696\u001b[0m | \u001b[1mINFO    \u001b[0m | \u001b[36msrc.rl.tabular_q_learning\u001b[0m:\u001b[36mtrain\u001b[0m:\u001b[36m226\u001b[0m - \u001b[1mEpisode   100 | R: +1.0 | ε: 0.050\u001b[0m\n",
      "\u001b[32m2025-08-30 04:04:04.698\u001b[0m | \u001b[32m\u001b[1mSUCCESS \u001b[0m | \u001b[36msrc.rl.tabular_q_learning\u001b[0m:\u001b[36mtrain\u001b[0m:\u001b[36m237\u001b[0m - \u001b[32m\u001b[1mConverged at episode 122 after 0.01s\u001b[0m\n",
      "\u001b[32m2025-08-30 04:04:04.698\u001b[0m | \u001b[1mINFO    \u001b[0m | \u001b[36msrc.rl.tabular_q_learning\u001b[0m:\u001b[36mtrain\u001b[0m:\u001b[36m226\u001b[0m - \u001b[1mEpisode   125 | R: +1.0 | ε: 0.050\u001b[0m\n",
      "\u001b[32m2025-08-30 04:04:04.700\u001b[0m | \u001b[1mINFO    \u001b[0m | \u001b[36msrc.rl.tabular_q_learning\u001b[0m:\u001b[36mtrain\u001b[0m:\u001b[36m226\u001b[0m - \u001b[1mEpisode   150 | R: +1.0 | ε: 0.050\u001b[0m\n",
      "\u001b[32m2025-08-30 04:04:04.702\u001b[0m | \u001b[1mINFO    \u001b[0m | \u001b[36msrc.rl.tabular_q_learning\u001b[0m:\u001b[36mtrain\u001b[0m:\u001b[36m226\u001b[0m - \u001b[1mEpisode   175 | R: +1.0 | ε: 0.050\u001b[0m\n",
      "\u001b[32m2025-08-30 04:04:04.704\u001b[0m | \u001b[1mINFO    \u001b[0m | \u001b[36msrc.rl.tabular_q_learning\u001b[0m:\u001b[36mtrain\u001b[0m:\u001b[36m226\u001b[0m - \u001b[1mEpisode   200 | R: +1.0 | ε: 0.050\u001b[0m\n",
      "\u001b[32m2025-08-30 04:04:04.706\u001b[0m | \u001b[1mINFO    \u001b[0m | \u001b[36msrc.rl.tabular_q_learning\u001b[0m:\u001b[36mtrain\u001b[0m:\u001b[36m226\u001b[0m - \u001b[1mEpisode   225 | R: +1.0 | ε: 0.050\u001b[0m\n",
      "\u001b[32m2025-08-30 04:04:04.708\u001b[0m | \u001b[1mINFO    \u001b[0m | \u001b[36msrc.rl.tabular_q_learning\u001b[0m:\u001b[36mtrain\u001b[0m:\u001b[36m226\u001b[0m - \u001b[1mEpisode   250 | R: +1.0 | ε: 0.050\u001b[0m\n",
      "\u001b[32m2025-08-30 04:04:04.710\u001b[0m | \u001b[1mINFO    \u001b[0m | \u001b[36msrc.rl.tabular_q_learning\u001b[0m:\u001b[36mtrain\u001b[0m:\u001b[36m226\u001b[0m - \u001b[1mEpisode   275 | R: +1.0 | ε: 0.050\u001b[0m\n",
      "\u001b[32m2025-08-30 04:04:04.712\u001b[0m | \u001b[1mINFO    \u001b[0m | \u001b[36msrc.rl.tabular_q_learning\u001b[0m:\u001b[36mtrain\u001b[0m:\u001b[36m226\u001b[0m - \u001b[1mEpisode   300 | R: +1.0 | ε: 0.050\u001b[0m\n",
      "\u001b[32m2025-08-30 04:04:04.714\u001b[0m | \u001b[1mINFO    \u001b[0m | \u001b[36msrc.rl.tabular_q_learning\u001b[0m:\u001b[36mtrain\u001b[0m:\u001b[36m226\u001b[0m - \u001b[1mEpisode   325 | R: +1.0 | ε: 0.050\u001b[0m\n",
      "\u001b[32m2025-08-30 04:04:04.716\u001b[0m | \u001b[1mINFO    \u001b[0m | \u001b[36msrc.rl.tabular_q_learning\u001b[0m:\u001b[36mtrain\u001b[0m:\u001b[36m226\u001b[0m - \u001b[1mEpisode   350 | R: +1.0 | ε: 0.050\u001b[0m\n",
      "\u001b[32m2025-08-30 04:04:04.720\u001b[0m | \u001b[1mINFO    \u001b[0m | \u001b[36msrc.rl.tabular_q_learning\u001b[0m:\u001b[36mtrain\u001b[0m:\u001b[36m226\u001b[0m - \u001b[1mEpisode   375 | R: +1.0 | ε: 0.050\u001b[0m\n",
      "\u001b[32m2025-08-30 04:04:04.722\u001b[0m | \u001b[1mINFO    \u001b[0m | \u001b[36msrc.rl.tabular_q_learning\u001b[0m:\u001b[36mtrain\u001b[0m:\u001b[36m226\u001b[0m - \u001b[1mEpisode   400 | R: +1.0 | ε: 0.050\u001b[0m\n",
      "\u001b[32m2025-08-30 04:04:04.724\u001b[0m | \u001b[1mINFO    \u001b[0m | \u001b[36msrc.rl.tabular_q_learning\u001b[0m:\u001b[36mtrain\u001b[0m:\u001b[36m226\u001b[0m - \u001b[1mEpisode   425 | R: +1.0 | ε: 0.050\u001b[0m\n",
      "\u001b[32m2025-08-30 04:04:04.726\u001b[0m | \u001b[1mINFO    \u001b[0m | \u001b[36msrc.rl.tabular_q_learning\u001b[0m:\u001b[36mtrain\u001b[0m:\u001b[36m226\u001b[0m - \u001b[1mEpisode   450 | R: +1.0 | ε: 0.050\u001b[0m\n",
      "\u001b[32m2025-08-30 04:04:04.728\u001b[0m | \u001b[1mINFO    \u001b[0m | \u001b[36msrc.rl.tabular_q_learning\u001b[0m:\u001b[36mtrain\u001b[0m:\u001b[36m226\u001b[0m - \u001b[1mEpisode   475 | R: +1.0 | ε: 0.050\u001b[0m\n",
      "\u001b[32m2025-08-30 04:04:04.732\u001b[0m | \u001b[1mINFO    \u001b[0m | \u001b[36msrc.rl.tabular_q_learning\u001b[0m:\u001b[36mtrain\u001b[0m:\u001b[36m226\u001b[0m - \u001b[1mEpisode   500 | R: +1.0 | ε: 0.050\u001b[0m\n"
     ]
    },
    {
     "data": {
      "text/html": [],
      "text/plain": [
       "<IPython.core.display.HTML object>"
      ]
     },
     "metadata": {},
     "output_type": "display_data"
    },
    {
     "data": {
      "text/html": [
       "<br>    <style><br>        .wandb-row {<br>            display: flex;<br>            flex-direction: row;<br>            flex-wrap: wrap;<br>            justify-content: flex-start;<br>            width: 100%;<br>        }<br>        .wandb-col {<br>            display: flex;<br>            flex-direction: column;<br>            flex-basis: 100%;<br>            flex: 1;<br>            padding: 10px;<br>        }<br>    </style><br><div class=\"wandb-row\"><div class=\"wandb-col\"><h3>Run history:</h3><br/><table class=\"wandb\"><tr><td>best_reward</td><td>▁</td></tr><tr><td>converged_episode</td><td>▁</td></tr><tr><td>train_time_sec</td><td>▁</td></tr></table><br/></div><div class=\"wandb-col\"><h3>Run summary:</h3><br/><table class=\"wandb\"><tr><td>best_reward</td><td>1</td></tr><tr><td>converged_episode</td><td>122</td></tr><tr><td>train_time_sec</td><td>0.01002</td></tr></table><br/></div></div>"
      ],
      "text/plain": [
       "<IPython.core.display.HTML object>"
      ]
     },
     "metadata": {},
     "output_type": "display_data"
    },
    {
     "data": {
      "text/html": [
       " View run <strong style=\"color:#cdcd00\">dandy-sweep-18</strong> at: <a href='https://wandb.ai/magicayyub-lab/montyhall-ql/runs/9lwr9qub' target=\"_blank\">https://wandb.ai/magicayyub-lab/montyhall-ql/runs/9lwr9qub</a><br> View project at: <a href='https://wandb.ai/magicayyub-lab/montyhall-ql' target=\"_blank\">https://wandb.ai/magicayyub-lab/montyhall-ql</a><br>Synced 5 W&B file(s), 0 media file(s), 0 artifact file(s) and 0 other file(s)"
      ],
      "text/plain": [
       "<IPython.core.display.HTML object>"
      ]
     },
     "metadata": {},
     "output_type": "display_data"
    },
    {
     "data": {
      "text/html": [
       "Find logs at: <code>./wandb/run-20250830_040403-9lwr9qub/logs</code>"
      ],
      "text/plain": [
       "<IPython.core.display.HTML object>"
      ]
     },
     "metadata": {},
     "output_type": "display_data"
    },
    {
     "name": "stderr",
     "output_type": "stream",
     "text": [
      "\u001b[34m\u001b[1mwandb\u001b[0m: Agent Starting Run: qq22gw1f with config:\n",
      "\u001b[34m\u001b[1mwandb\u001b[0m: \tdiscount_factor: 0.99654716624568\n",
      "\u001b[34m\u001b[1mwandb\u001b[0m: \tepsilon_decay: 0.99729914522371\n",
      "\u001b[34m\u001b[1mwandb\u001b[0m: \tlearning_rate: 0.00010505978619564636\n"
     ]
    },
    {
     "data": {
      "text/html": [
       "Changes to your `wandb` environment variables will be ignored because your `wandb` session has already started. For more information on how to modify your settings with `wandb.init()` arguments, please refer to <a href='https://wandb.me/wandb-init' target=\"_blank\">the W&B docs</a>."
      ],
      "text/plain": [
       "<IPython.core.display.HTML object>"
      ]
     },
     "metadata": {},
     "output_type": "display_data"
    },
    {
     "data": {
      "text/html": [
       "Ignoring project 'montyhall-ql' when running a sweep."
      ],
      "text/plain": [
       "<IPython.core.display.HTML object>"
      ]
     },
     "metadata": {},
     "output_type": "display_data"
    },
    {
     "data": {
      "text/html": [
       "Waiting for wandb.init()..."
      ],
      "text/plain": [
       "<IPython.core.display.HTML object>"
      ]
     },
     "metadata": {},
     "output_type": "display_data"
    },
    {
     "data": {
      "text/html": [
       "Tracking run with wandb version 0.21.2"
      ],
      "text/plain": [
       "<IPython.core.display.HTML object>"
      ]
     },
     "metadata": {},
     "output_type": "display_data"
    },
    {
     "data": {
      "text/html": [
       "Run data is saved locally in <code>/Users/ayouba/Documents/laboratoire/RL/wandb/run-20250830_040409-qq22gw1f</code>"
      ],
      "text/plain": [
       "<IPython.core.display.HTML object>"
      ]
     },
     "metadata": {},
     "output_type": "display_data"
    },
    {
     "data": {
      "text/html": [
       "Syncing run <strong><a href='https://wandb.ai/magicayyub-lab/montyhall-ql/runs/qq22gw1f' target=\"_blank\">feasible-sweep-19</a></strong> to <a href='https://wandb.ai/magicayyub-lab/montyhall-ql' target=\"_blank\">Weights & Biases</a> (<a href='https://wandb.me/developer-guide' target=\"_blank\">docs</a>)<br>Sweep page: <a href='https://wandb.ai/magicayyub-lab/montyhall-ql/sweeps/9cdpki6q' target=\"_blank\">https://wandb.ai/magicayyub-lab/montyhall-ql/sweeps/9cdpki6q</a>"
      ],
      "text/plain": [
       "<IPython.core.display.HTML object>"
      ]
     },
     "metadata": {},
     "output_type": "display_data"
    },
    {
     "data": {
      "text/html": [
       " View project at <a href='https://wandb.ai/magicayyub-lab/montyhall-ql' target=\"_blank\">https://wandb.ai/magicayyub-lab/montyhall-ql</a>"
      ],
      "text/plain": [
       "<IPython.core.display.HTML object>"
      ]
     },
     "metadata": {},
     "output_type": "display_data"
    },
    {
     "data": {
      "text/html": [
       " View sweep at <a href='https://wandb.ai/magicayyub-lab/montyhall-ql/sweeps/9cdpki6q' target=\"_blank\">https://wandb.ai/magicayyub-lab/montyhall-ql/sweeps/9cdpki6q</a>"
      ],
      "text/plain": [
       "<IPython.core.display.HTML object>"
      ]
     },
     "metadata": {},
     "output_type": "display_data"
    },
    {
     "data": {
      "text/html": [
       " View run at <a href='https://wandb.ai/magicayyub-lab/montyhall-ql/runs/qq22gw1f' target=\"_blank\">https://wandb.ai/magicayyub-lab/montyhall-ql/runs/qq22gw1f</a>"
      ],
      "text/plain": [
       "<IPython.core.display.HTML object>"
      ]
     },
     "metadata": {},
     "output_type": "display_data"
    },
    {
     "name": "stderr",
     "output_type": "stream",
     "text": [
      "\u001b[32m2025-08-30 04:04:10.138\u001b[0m | \u001b[1mINFO    \u001b[0m | \u001b[36msrc.rl.tabular_q_learning\u001b[0m:\u001b[36mtrain\u001b[0m:\u001b[36m226\u001b[0m - \u001b[1mEpisode    25 | R: +1.0 | ε: 0.935\u001b[0m\n",
      "\u001b[32m2025-08-30 04:04:10.141\u001b[0m | \u001b[1mINFO    \u001b[0m | \u001b[36msrc.rl.tabular_q_learning\u001b[0m:\u001b[36mtrain\u001b[0m:\u001b[36m226\u001b[0m - \u001b[1mEpisode    50 | R: +0.0 | ε: 0.874\u001b[0m\n",
      "\u001b[32m2025-08-30 04:04:10.142\u001b[0m | \u001b[1mINFO    \u001b[0m | \u001b[36msrc.rl.tabular_q_learning\u001b[0m:\u001b[36mtrain\u001b[0m:\u001b[36m226\u001b[0m - \u001b[1mEpisode    75 | R: +0.0 | ε: 0.816\u001b[0m\n",
      "\u001b[32m2025-08-30 04:04:10.145\u001b[0m | \u001b[1mINFO    \u001b[0m | \u001b[36msrc.rl.tabular_q_learning\u001b[0m:\u001b[36mtrain\u001b[0m:\u001b[36m226\u001b[0m - \u001b[1mEpisode   100 | R: +1.0 | ε: 0.763\u001b[0m\n",
      "\u001b[32m2025-08-30 04:04:10.147\u001b[0m | \u001b[1mINFO    \u001b[0m | \u001b[36msrc.rl.tabular_q_learning\u001b[0m:\u001b[36mtrain\u001b[0m:\u001b[36m226\u001b[0m - \u001b[1mEpisode   125 | R: +0.0 | ε: 0.713\u001b[0m\n",
      "\u001b[32m2025-08-30 04:04:10.150\u001b[0m | \u001b[1mINFO    \u001b[0m | \u001b[36msrc.rl.tabular_q_learning\u001b[0m:\u001b[36mtrain\u001b[0m:\u001b[36m226\u001b[0m - \u001b[1mEpisode   150 | R: +1.0 | ε: 0.667\u001b[0m\n",
      "\u001b[32m2025-08-30 04:04:10.153\u001b[0m | \u001b[1mINFO    \u001b[0m | \u001b[36msrc.rl.tabular_q_learning\u001b[0m:\u001b[36mtrain\u001b[0m:\u001b[36m226\u001b[0m - \u001b[1mEpisode   175 | R: +0.0 | ε: 0.623\u001b[0m\n",
      "\u001b[32m2025-08-30 04:04:10.156\u001b[0m | \u001b[1mINFO    \u001b[0m | \u001b[36msrc.rl.tabular_q_learning\u001b[0m:\u001b[36mtrain\u001b[0m:\u001b[36m226\u001b[0m - \u001b[1mEpisode   200 | R: +1.0 | ε: 0.582\u001b[0m\n",
      "\u001b[32m2025-08-30 04:04:10.159\u001b[0m | \u001b[1mINFO    \u001b[0m | \u001b[36msrc.rl.tabular_q_learning\u001b[0m:\u001b[36mtrain\u001b[0m:\u001b[36m226\u001b[0m - \u001b[1mEpisode   225 | R: +1.0 | ε: 0.544\u001b[0m\n",
      "\u001b[32m2025-08-30 04:04:10.162\u001b[0m | \u001b[1mINFO    \u001b[0m | \u001b[36msrc.rl.tabular_q_learning\u001b[0m:\u001b[36mtrain\u001b[0m:\u001b[36m226\u001b[0m - \u001b[1mEpisode   250 | R: +0.0 | ε: 0.509\u001b[0m\n",
      "\u001b[32m2025-08-30 04:04:10.164\u001b[0m | \u001b[1mINFO    \u001b[0m | \u001b[36msrc.rl.tabular_q_learning\u001b[0m:\u001b[36mtrain\u001b[0m:\u001b[36m226\u001b[0m - \u001b[1mEpisode   275 | R: +0.0 | ε: 0.475\u001b[0m\n",
      "\u001b[32m2025-08-30 04:04:10.187\u001b[0m | \u001b[1mINFO    \u001b[0m | \u001b[36msrc.rl.tabular_q_learning\u001b[0m:\u001b[36mtrain\u001b[0m:\u001b[36m226\u001b[0m - \u001b[1mEpisode   300 | R: +1.0 | ε: 0.444\u001b[0m\n",
      "\u001b[32m2025-08-30 04:04:10.193\u001b[0m | \u001b[1mINFO    \u001b[0m | \u001b[36msrc.rl.tabular_q_learning\u001b[0m:\u001b[36mtrain\u001b[0m:\u001b[36m226\u001b[0m - \u001b[1mEpisode   325 | R: +1.0 | ε: 0.415\u001b[0m\n",
      "\u001b[32m2025-08-30 04:04:10.195\u001b[0m | \u001b[1mINFO    \u001b[0m | \u001b[36msrc.rl.tabular_q_learning\u001b[0m:\u001b[36mtrain\u001b[0m:\u001b[36m226\u001b[0m - \u001b[1mEpisode   350 | R: +1.0 | ε: 0.388\u001b[0m\n",
      "\u001b[32m2025-08-30 04:04:10.199\u001b[0m | \u001b[1mINFO    \u001b[0m | \u001b[36msrc.rl.tabular_q_learning\u001b[0m:\u001b[36mtrain\u001b[0m:\u001b[36m226\u001b[0m - \u001b[1mEpisode   375 | R: +0.0 | ε: 0.363\u001b[0m\n",
      "\u001b[32m2025-08-30 04:04:10.201\u001b[0m | \u001b[1mINFO    \u001b[0m | \u001b[36msrc.rl.tabular_q_learning\u001b[0m:\u001b[36mtrain\u001b[0m:\u001b[36m226\u001b[0m - \u001b[1mEpisode   400 | R: +1.0 | ε: 0.339\u001b[0m\n",
      "\u001b[32m2025-08-30 04:04:10.204\u001b[0m | \u001b[1mINFO    \u001b[0m | \u001b[36msrc.rl.tabular_q_learning\u001b[0m:\u001b[36mtrain\u001b[0m:\u001b[36m226\u001b[0m - \u001b[1mEpisode   425 | R: +1.0 | ε: 0.317\u001b[0m\n",
      "\u001b[32m2025-08-30 04:04:10.207\u001b[0m | \u001b[1mINFO    \u001b[0m | \u001b[36msrc.rl.tabular_q_learning\u001b[0m:\u001b[36mtrain\u001b[0m:\u001b[36m226\u001b[0m - \u001b[1mEpisode   450 | R: +1.0 | ε: 0.296\u001b[0m\n",
      "\u001b[32m2025-08-30 04:04:10.209\u001b[0m | \u001b[1mINFO    \u001b[0m | \u001b[36msrc.rl.tabular_q_learning\u001b[0m:\u001b[36mtrain\u001b[0m:\u001b[36m226\u001b[0m - \u001b[1mEpisode   475 | R: +1.0 | ε: 0.277\u001b[0m\n",
      "\u001b[32m2025-08-30 04:04:10.212\u001b[0m | \u001b[1mINFO    \u001b[0m | \u001b[36msrc.rl.tabular_q_learning\u001b[0m:\u001b[36mtrain\u001b[0m:\u001b[36m226\u001b[0m - \u001b[1mEpisode   500 | R: +1.0 | ε: 0.259\u001b[0m\n"
     ]
    },
    {
     "data": {
      "text/html": [],
      "text/plain": [
       "<IPython.core.display.HTML object>"
      ]
     },
     "metadata": {},
     "output_type": "display_data"
    },
    {
     "data": {
      "text/html": [
       "<br>    <style><br>        .wandb-row {<br>            display: flex;<br>            flex-direction: row;<br>            flex-wrap: wrap;<br>            justify-content: flex-start;<br>            width: 100%;<br>        }<br>        .wandb-col {<br>            display: flex;<br>            flex-direction: column;<br>            flex-basis: 100%;<br>            flex: 1;<br>            padding: 10px;<br>        }<br>    </style><br><div class=\"wandb-row\"><div class=\"wandb-col\"><h3>Run history:</h3><br/><table class=\"wandb\"><tr><td>best_reward</td><td>▁</td></tr><tr><td>converged_episode</td><td>▁</td></tr><tr><td>train_time_sec</td><td>▁</td></tr></table><br/></div><div class=\"wandb-col\"><h3>Run summary:</h3><br/><table class=\"wandb\"><tr><td>best_reward</td><td>1</td></tr><tr><td>converged_episode</td><td>-1</td></tr><tr><td>train_time_sec</td><td>0</td></tr></table><br/></div></div>"
      ],
      "text/plain": [
       "<IPython.core.display.HTML object>"
      ]
     },
     "metadata": {},
     "output_type": "display_data"
    },
    {
     "data": {
      "text/html": [
       " View run <strong style=\"color:#cdcd00\">feasible-sweep-19</strong> at: <a href='https://wandb.ai/magicayyub-lab/montyhall-ql/runs/qq22gw1f' target=\"_blank\">https://wandb.ai/magicayyub-lab/montyhall-ql/runs/qq22gw1f</a><br> View project at: <a href='https://wandb.ai/magicayyub-lab/montyhall-ql' target=\"_blank\">https://wandb.ai/magicayyub-lab/montyhall-ql</a><br>Synced 5 W&B file(s), 0 media file(s), 0 artifact file(s) and 0 other file(s)"
      ],
      "text/plain": [
       "<IPython.core.display.HTML object>"
      ]
     },
     "metadata": {},
     "output_type": "display_data"
    },
    {
     "data": {
      "text/html": [
       "Find logs at: <code>./wandb/run-20250830_040409-qq22gw1f/logs</code>"
      ],
      "text/plain": [
       "<IPython.core.display.HTML object>"
      ]
     },
     "metadata": {},
     "output_type": "display_data"
    },
    {
     "name": "stderr",
     "output_type": "stream",
     "text": [
      "\u001b[34m\u001b[1mwandb\u001b[0m: Agent Starting Run: ez0qeale with config:\n",
      "\u001b[34m\u001b[1mwandb\u001b[0m: \tdiscount_factor: 0.8350338492104857\n",
      "\u001b[34m\u001b[1mwandb\u001b[0m: \tepsilon_decay: 0.9673575045227804\n",
      "\u001b[34m\u001b[1mwandb\u001b[0m: \tlearning_rate: 0.0005253362232872264\n"
     ]
    },
    {
     "data": {
      "text/html": [
       "Changes to your `wandb` environment variables will be ignored because your `wandb` session has already started. For more information on how to modify your settings with `wandb.init()` arguments, please refer to <a href='https://wandb.me/wandb-init' target=\"_blank\">the W&B docs</a>."
      ],
      "text/plain": [
       "<IPython.core.display.HTML object>"
      ]
     },
     "metadata": {},
     "output_type": "display_data"
    },
    {
     "data": {
      "text/html": [
       "Ignoring project 'montyhall-ql' when running a sweep."
      ],
      "text/plain": [
       "<IPython.core.display.HTML object>"
      ]
     },
     "metadata": {},
     "output_type": "display_data"
    },
    {
     "data": {
      "text/html": [
       "Waiting for wandb.init()..."
      ],
      "text/plain": [
       "<IPython.core.display.HTML object>"
      ]
     },
     "metadata": {},
     "output_type": "display_data"
    },
    {
     "data": {
      "text/html": [
       "Tracking run with wandb version 0.21.2"
      ],
      "text/plain": [
       "<IPython.core.display.HTML object>"
      ]
     },
     "metadata": {},
     "output_type": "display_data"
    },
    {
     "data": {
      "text/html": [
       "Run data is saved locally in <code>/Users/ayouba/Documents/laboratoire/RL/wandb/run-20250830_040414-ez0qeale</code>"
      ],
      "text/plain": [
       "<IPython.core.display.HTML object>"
      ]
     },
     "metadata": {},
     "output_type": "display_data"
    },
    {
     "data": {
      "text/html": [
       "Syncing run <strong><a href='https://wandb.ai/magicayyub-lab/montyhall-ql/runs/ez0qeale' target=\"_blank\">distinctive-sweep-20</a></strong> to <a href='https://wandb.ai/magicayyub-lab/montyhall-ql' target=\"_blank\">Weights & Biases</a> (<a href='https://wandb.me/developer-guide' target=\"_blank\">docs</a>)<br>Sweep page: <a href='https://wandb.ai/magicayyub-lab/montyhall-ql/sweeps/9cdpki6q' target=\"_blank\">https://wandb.ai/magicayyub-lab/montyhall-ql/sweeps/9cdpki6q</a>"
      ],
      "text/plain": [
       "<IPython.core.display.HTML object>"
      ]
     },
     "metadata": {},
     "output_type": "display_data"
    },
    {
     "data": {
      "text/html": [
       " View project at <a href='https://wandb.ai/magicayyub-lab/montyhall-ql' target=\"_blank\">https://wandb.ai/magicayyub-lab/montyhall-ql</a>"
      ],
      "text/plain": [
       "<IPython.core.display.HTML object>"
      ]
     },
     "metadata": {},
     "output_type": "display_data"
    },
    {
     "data": {
      "text/html": [
       " View sweep at <a href='https://wandb.ai/magicayyub-lab/montyhall-ql/sweeps/9cdpki6q' target=\"_blank\">https://wandb.ai/magicayyub-lab/montyhall-ql/sweeps/9cdpki6q</a>"
      ],
      "text/plain": [
       "<IPython.core.display.HTML object>"
      ]
     },
     "metadata": {},
     "output_type": "display_data"
    },
    {
     "data": {
      "text/html": [
       " View run at <a href='https://wandb.ai/magicayyub-lab/montyhall-ql/runs/ez0qeale' target=\"_blank\">https://wandb.ai/magicayyub-lab/montyhall-ql/runs/ez0qeale</a>"
      ],
      "text/plain": [
       "<IPython.core.display.HTML object>"
      ]
     },
     "metadata": {},
     "output_type": "display_data"
    },
    {
     "name": "stderr",
     "output_type": "stream",
     "text": [
      "\u001b[32m2025-08-30 04:04:15.780\u001b[0m | \u001b[1mINFO    \u001b[0m | \u001b[36msrc.rl.tabular_q_learning\u001b[0m:\u001b[36mtrain\u001b[0m:\u001b[36m226\u001b[0m - \u001b[1mEpisode    25 | R: +1.0 | ε: 0.436\u001b[0m\n",
      "\u001b[32m2025-08-30 04:04:15.782\u001b[0m | \u001b[1mINFO    \u001b[0m | \u001b[36msrc.rl.tabular_q_learning\u001b[0m:\u001b[36mtrain\u001b[0m:\u001b[36m226\u001b[0m - \u001b[1mEpisode    50 | R: +1.0 | ε: 0.190\u001b[0m\n",
      "\u001b[32m2025-08-30 04:04:15.784\u001b[0m | \u001b[1mINFO    \u001b[0m | \u001b[36msrc.rl.tabular_q_learning\u001b[0m:\u001b[36mtrain\u001b[0m:\u001b[36m226\u001b[0m - \u001b[1mEpisode    75 | R: +1.0 | ε: 0.083\u001b[0m\n",
      "\u001b[32m2025-08-30 04:04:15.786\u001b[0m | \u001b[1mINFO    \u001b[0m | \u001b[36msrc.rl.tabular_q_learning\u001b[0m:\u001b[36mtrain\u001b[0m:\u001b[36m226\u001b[0m - \u001b[1mEpisode   100 | R: +1.0 | ε: 0.050\u001b[0m\n",
      "\u001b[32m2025-08-30 04:04:15.788\u001b[0m | \u001b[1mINFO    \u001b[0m | \u001b[36msrc.rl.tabular_q_learning\u001b[0m:\u001b[36mtrain\u001b[0m:\u001b[36m226\u001b[0m - \u001b[1mEpisode   125 | R: +1.0 | ε: 0.050\u001b[0m\n",
      "\u001b[32m2025-08-30 04:04:15.790\u001b[0m | \u001b[1mINFO    \u001b[0m | \u001b[36msrc.rl.tabular_q_learning\u001b[0m:\u001b[36mtrain\u001b[0m:\u001b[36m226\u001b[0m - \u001b[1mEpisode   150 | R: +1.0 | ε: 0.050\u001b[0m\n",
      "\u001b[32m2025-08-30 04:04:15.793\u001b[0m | \u001b[1mINFO    \u001b[0m | \u001b[36msrc.rl.tabular_q_learning\u001b[0m:\u001b[36mtrain\u001b[0m:\u001b[36m226\u001b[0m - \u001b[1mEpisode   175 | R: +1.0 | ε: 0.050\u001b[0m\n",
      "\u001b[32m2025-08-30 04:04:15.795\u001b[0m | \u001b[1mINFO    \u001b[0m | \u001b[36msrc.rl.tabular_q_learning\u001b[0m:\u001b[36mtrain\u001b[0m:\u001b[36m226\u001b[0m - \u001b[1mEpisode   200 | R: +1.0 | ε: 0.050\u001b[0m\n",
      "\u001b[32m2025-08-30 04:04:15.798\u001b[0m | \u001b[1mINFO    \u001b[0m | \u001b[36msrc.rl.tabular_q_learning\u001b[0m:\u001b[36mtrain\u001b[0m:\u001b[36m226\u001b[0m - \u001b[1mEpisode   225 | R: +1.0 | ε: 0.050\u001b[0m\n",
      "\u001b[32m2025-08-30 04:04:15.801\u001b[0m | \u001b[1mINFO    \u001b[0m | \u001b[36msrc.rl.tabular_q_learning\u001b[0m:\u001b[36mtrain\u001b[0m:\u001b[36m226\u001b[0m - \u001b[1mEpisode   250 | R: +1.0 | ε: 0.050\u001b[0m\n",
      "\u001b[32m2025-08-30 04:04:15.803\u001b[0m | \u001b[1mINFO    \u001b[0m | \u001b[36msrc.rl.tabular_q_learning\u001b[0m:\u001b[36mtrain\u001b[0m:\u001b[36m226\u001b[0m - \u001b[1mEpisode   275 | R: +1.0 | ε: 0.050\u001b[0m\n",
      "\u001b[32m2025-08-30 04:04:15.806\u001b[0m | \u001b[1mINFO    \u001b[0m | \u001b[36msrc.rl.tabular_q_learning\u001b[0m:\u001b[36mtrain\u001b[0m:\u001b[36m226\u001b[0m - \u001b[1mEpisode   300 | R: +1.0 | ε: 0.050\u001b[0m\n",
      "\u001b[32m2025-08-30 04:04:15.809\u001b[0m | \u001b[1mINFO    \u001b[0m | \u001b[36msrc.rl.tabular_q_learning\u001b[0m:\u001b[36mtrain\u001b[0m:\u001b[36m226\u001b[0m - \u001b[1mEpisode   325 | R: +1.0 | ε: 0.050\u001b[0m\n",
      "\u001b[32m2025-08-30 04:04:15.811\u001b[0m | \u001b[1mINFO    \u001b[0m | \u001b[36msrc.rl.tabular_q_learning\u001b[0m:\u001b[36mtrain\u001b[0m:\u001b[36m226\u001b[0m - \u001b[1mEpisode   350 | R: +1.0 | ε: 0.050\u001b[0m\n",
      "\u001b[32m2025-08-30 04:04:15.814\u001b[0m | \u001b[1mINFO    \u001b[0m | \u001b[36msrc.rl.tabular_q_learning\u001b[0m:\u001b[36mtrain\u001b[0m:\u001b[36m226\u001b[0m - \u001b[1mEpisode   375 | R: +1.0 | ε: 0.050\u001b[0m\n",
      "\u001b[32m2025-08-30 04:04:15.816\u001b[0m | \u001b[32m\u001b[1mSUCCESS \u001b[0m | \u001b[36msrc.rl.tabular_q_learning\u001b[0m:\u001b[36mtrain\u001b[0m:\u001b[36m237\u001b[0m - \u001b[32m\u001b[1mConverged at episode 394 after 0.04s\u001b[0m\n",
      "\u001b[32m2025-08-30 04:04:15.816\u001b[0m | \u001b[1mINFO    \u001b[0m | \u001b[36msrc.rl.tabular_q_learning\u001b[0m:\u001b[36mtrain\u001b[0m:\u001b[36m226\u001b[0m - \u001b[1mEpisode   400 | R: +1.0 | ε: 0.050\u001b[0m\n",
      "\u001b[32m2025-08-30 04:04:15.818\u001b[0m | \u001b[1mINFO    \u001b[0m | \u001b[36msrc.rl.tabular_q_learning\u001b[0m:\u001b[36mtrain\u001b[0m:\u001b[36m226\u001b[0m - \u001b[1mEpisode   425 | R: +1.0 | ε: 0.050\u001b[0m\n",
      "\u001b[32m2025-08-30 04:04:15.820\u001b[0m | \u001b[1mINFO    \u001b[0m | \u001b[36msrc.rl.tabular_q_learning\u001b[0m:\u001b[36mtrain\u001b[0m:\u001b[36m226\u001b[0m - \u001b[1mEpisode   450 | R: +1.0 | ε: 0.050\u001b[0m\n",
      "\u001b[32m2025-08-30 04:04:15.822\u001b[0m | \u001b[1mINFO    \u001b[0m | \u001b[36msrc.rl.tabular_q_learning\u001b[0m:\u001b[36mtrain\u001b[0m:\u001b[36m226\u001b[0m - \u001b[1mEpisode   475 | R: +1.0 | ε: 0.050\u001b[0m\n",
      "\u001b[32m2025-08-30 04:04:15.826\u001b[0m | \u001b[1mINFO    \u001b[0m | \u001b[36msrc.rl.tabular_q_learning\u001b[0m:\u001b[36mtrain\u001b[0m:\u001b[36m226\u001b[0m - \u001b[1mEpisode   500 | R: +1.0 | ε: 0.050\u001b[0m\n"
     ]
    },
    {
     "data": {
      "text/html": [],
      "text/plain": [
       "<IPython.core.display.HTML object>"
      ]
     },
     "metadata": {},
     "output_type": "display_data"
    },
    {
     "data": {
      "text/html": [
       "<br>    <style><br>        .wandb-row {<br>            display: flex;<br>            flex-direction: row;<br>            flex-wrap: wrap;<br>            justify-content: flex-start;<br>            width: 100%;<br>        }<br>        .wandb-col {<br>            display: flex;<br>            flex-direction: column;<br>            flex-basis: 100%;<br>            flex: 1;<br>            padding: 10px;<br>        }<br>    </style><br><div class=\"wandb-row\"><div class=\"wandb-col\"><h3>Run history:</h3><br/><table class=\"wandb\"><tr><td>best_reward</td><td>▁</td></tr><tr><td>converged_episode</td><td>▁</td></tr><tr><td>train_time_sec</td><td>▁</td></tr></table><br/></div><div class=\"wandb-col\"><h3>Run summary:</h3><br/><table class=\"wandb\"><tr><td>best_reward</td><td>1</td></tr><tr><td>converged_episode</td><td>394</td></tr><tr><td>train_time_sec</td><td>0.03835</td></tr></table><br/></div></div>"
      ],
      "text/plain": [
       "<IPython.core.display.HTML object>"
      ]
     },
     "metadata": {},
     "output_type": "display_data"
    },
    {
     "data": {
      "text/html": [
       " View run <strong style=\"color:#cdcd00\">distinctive-sweep-20</strong> at: <a href='https://wandb.ai/magicayyub-lab/montyhall-ql/runs/ez0qeale' target=\"_blank\">https://wandb.ai/magicayyub-lab/montyhall-ql/runs/ez0qeale</a><br> View project at: <a href='https://wandb.ai/magicayyub-lab/montyhall-ql' target=\"_blank\">https://wandb.ai/magicayyub-lab/montyhall-ql</a><br>Synced 5 W&B file(s), 0 media file(s), 0 artifact file(s) and 0 other file(s)"
      ],
      "text/plain": [
       "<IPython.core.display.HTML object>"
      ]
     },
     "metadata": {},
     "output_type": "display_data"
    },
    {
     "data": {
      "text/html": [
       "Find logs at: <code>./wandb/run-20250830_040414-ez0qeale/logs</code>"
      ],
      "text/plain": [
       "<IPython.core.display.HTML object>"
      ]
     },
     "metadata": {},
     "output_type": "display_data"
    },
    {
     "name": "stderr",
     "output_type": "stream",
     "text": [
      "\u001b[34m\u001b[1mwandb\u001b[0m: Agent Starting Run: 40uditii with config:\n",
      "\u001b[34m\u001b[1mwandb\u001b[0m: \tdiscount_factor: 0.9270581880218672\n",
      "\u001b[34m\u001b[1mwandb\u001b[0m: \tepsilon_decay: 0.9502784557846398\n",
      "\u001b[34m\u001b[1mwandb\u001b[0m: \tlearning_rate: 0.007049932427536052\n"
     ]
    },
    {
     "data": {
      "text/html": [
       "Changes to your `wandb` environment variables will be ignored because your `wandb` session has already started. For more information on how to modify your settings with `wandb.init()` arguments, please refer to <a href='https://wandb.me/wandb-init' target=\"_blank\">the W&B docs</a>."
      ],
      "text/plain": [
       "<IPython.core.display.HTML object>"
      ]
     },
     "metadata": {},
     "output_type": "display_data"
    },
    {
     "data": {
      "text/html": [
       "Ignoring project 'montyhall-ql' when running a sweep."
      ],
      "text/plain": [
       "<IPython.core.display.HTML object>"
      ]
     },
     "metadata": {},
     "output_type": "display_data"
    },
    {
     "data": {
      "text/html": [
       "Waiting for wandb.init()..."
      ],
      "text/plain": [
       "<IPython.core.display.HTML object>"
      ]
     },
     "metadata": {},
     "output_type": "display_data"
    },
    {
     "data": {
      "text/html": [
       "Tracking run with wandb version 0.21.2"
      ],
      "text/plain": [
       "<IPython.core.display.HTML object>"
      ]
     },
     "metadata": {},
     "output_type": "display_data"
    },
    {
     "data": {
      "text/html": [
       "Run data is saved locally in <code>/Users/ayouba/Documents/laboratoire/RL/wandb/run-20250830_040420-40uditii</code>"
      ],
      "text/plain": [
       "<IPython.core.display.HTML object>"
      ]
     },
     "metadata": {},
     "output_type": "display_data"
    },
    {
     "data": {
      "text/html": [
       "Syncing run <strong><a href='https://wandb.ai/magicayyub-lab/montyhall-ql/runs/40uditii' target=\"_blank\">lilac-sweep-21</a></strong> to <a href='https://wandb.ai/magicayyub-lab/montyhall-ql' target=\"_blank\">Weights & Biases</a> (<a href='https://wandb.me/developer-guide' target=\"_blank\">docs</a>)<br>Sweep page: <a href='https://wandb.ai/magicayyub-lab/montyhall-ql/sweeps/9cdpki6q' target=\"_blank\">https://wandb.ai/magicayyub-lab/montyhall-ql/sweeps/9cdpki6q</a>"
      ],
      "text/plain": [
       "<IPython.core.display.HTML object>"
      ]
     },
     "metadata": {},
     "output_type": "display_data"
    },
    {
     "data": {
      "text/html": [
       " View project at <a href='https://wandb.ai/magicayyub-lab/montyhall-ql' target=\"_blank\">https://wandb.ai/magicayyub-lab/montyhall-ql</a>"
      ],
      "text/plain": [
       "<IPython.core.display.HTML object>"
      ]
     },
     "metadata": {},
     "output_type": "display_data"
    },
    {
     "data": {
      "text/html": [
       " View sweep at <a href='https://wandb.ai/magicayyub-lab/montyhall-ql/sweeps/9cdpki6q' target=\"_blank\">https://wandb.ai/magicayyub-lab/montyhall-ql/sweeps/9cdpki6q</a>"
      ],
      "text/plain": [
       "<IPython.core.display.HTML object>"
      ]
     },
     "metadata": {},
     "output_type": "display_data"
    },
    {
     "data": {
      "text/html": [
       " View run at <a href='https://wandb.ai/magicayyub-lab/montyhall-ql/runs/40uditii' target=\"_blank\">https://wandb.ai/magicayyub-lab/montyhall-ql/runs/40uditii</a>"
      ],
      "text/plain": [
       "<IPython.core.display.HTML object>"
      ]
     },
     "metadata": {},
     "output_type": "display_data"
    },
    {
     "name": "stderr",
     "output_type": "stream",
     "text": [
      "\u001b[32m2025-08-30 04:04:21.249\u001b[0m | \u001b[1mINFO    \u001b[0m | \u001b[36msrc.rl.tabular_q_learning\u001b[0m:\u001b[36mtrain\u001b[0m:\u001b[36m226\u001b[0m - \u001b[1mEpisode    25 | R: +1.0 | ε: 0.279\u001b[0m\n",
      "\u001b[32m2025-08-30 04:04:21.251\u001b[0m | \u001b[1mINFO    \u001b[0m | \u001b[36msrc.rl.tabular_q_learning\u001b[0m:\u001b[36mtrain\u001b[0m:\u001b[36m226\u001b[0m - \u001b[1mEpisode    50 | R: +1.0 | ε: 0.078\u001b[0m\n",
      "\u001b[32m2025-08-30 04:04:21.252\u001b[0m | \u001b[1mINFO    \u001b[0m | \u001b[36msrc.rl.tabular_q_learning\u001b[0m:\u001b[36mtrain\u001b[0m:\u001b[36m226\u001b[0m - \u001b[1mEpisode    75 | R: +1.0 | ε: 0.050\u001b[0m\n",
      "\u001b[32m2025-08-30 04:04:21.254\u001b[0m | \u001b[1mINFO    \u001b[0m | \u001b[36msrc.rl.tabular_q_learning\u001b[0m:\u001b[36mtrain\u001b[0m:\u001b[36m226\u001b[0m - \u001b[1mEpisode   100 | R: +1.0 | ε: 0.050\u001b[0m\n",
      "\u001b[32m2025-08-30 04:04:21.256\u001b[0m | \u001b[1mINFO    \u001b[0m | \u001b[36msrc.rl.tabular_q_learning\u001b[0m:\u001b[36mtrain\u001b[0m:\u001b[36m226\u001b[0m - \u001b[1mEpisode   125 | R: +1.0 | ε: 0.050\u001b[0m\n",
      "\u001b[32m2025-08-30 04:04:21.257\u001b[0m | \u001b[32m\u001b[1mSUCCESS \u001b[0m | \u001b[36msrc.rl.tabular_q_learning\u001b[0m:\u001b[36mtrain\u001b[0m:\u001b[36m237\u001b[0m - \u001b[32m\u001b[1mConverged at episode 125 after 0.01s\u001b[0m\n",
      "\u001b[32m2025-08-30 04:04:21.259\u001b[0m | \u001b[1mINFO    \u001b[0m | \u001b[36msrc.rl.tabular_q_learning\u001b[0m:\u001b[36mtrain\u001b[0m:\u001b[36m226\u001b[0m - \u001b[1mEpisode   150 | R: +1.0 | ε: 0.050\u001b[0m\n",
      "\u001b[32m2025-08-30 04:04:21.260\u001b[0m | \u001b[1mINFO    \u001b[0m | \u001b[36msrc.rl.tabular_q_learning\u001b[0m:\u001b[36mtrain\u001b[0m:\u001b[36m226\u001b[0m - \u001b[1mEpisode   175 | R: +1.0 | ε: 0.050\u001b[0m\n",
      "\u001b[32m2025-08-30 04:04:21.262\u001b[0m | \u001b[1mINFO    \u001b[0m | \u001b[36msrc.rl.tabular_q_learning\u001b[0m:\u001b[36mtrain\u001b[0m:\u001b[36m226\u001b[0m - \u001b[1mEpisode   200 | R: +1.0 | ε: 0.050\u001b[0m\n",
      "\u001b[32m2025-08-30 04:04:21.266\u001b[0m | \u001b[1mINFO    \u001b[0m | \u001b[36msrc.rl.tabular_q_learning\u001b[0m:\u001b[36mtrain\u001b[0m:\u001b[36m226\u001b[0m - \u001b[1mEpisode   225 | R: +1.0 | ε: 0.050\u001b[0m\n",
      "\u001b[32m2025-08-30 04:04:21.268\u001b[0m | \u001b[1mINFO    \u001b[0m | \u001b[36msrc.rl.tabular_q_learning\u001b[0m:\u001b[36mtrain\u001b[0m:\u001b[36m226\u001b[0m - \u001b[1mEpisode   250 | R: +1.0 | ε: 0.050\u001b[0m\n",
      "\u001b[32m2025-08-30 04:04:21.270\u001b[0m | \u001b[1mINFO    \u001b[0m | \u001b[36msrc.rl.tabular_q_learning\u001b[0m:\u001b[36mtrain\u001b[0m:\u001b[36m226\u001b[0m - \u001b[1mEpisode   275 | R: +1.0 | ε: 0.050\u001b[0m\n",
      "\u001b[32m2025-08-30 04:04:21.271\u001b[0m | \u001b[1mINFO    \u001b[0m | \u001b[36msrc.rl.tabular_q_learning\u001b[0m:\u001b[36mtrain\u001b[0m:\u001b[36m226\u001b[0m - \u001b[1mEpisode   300 | R: +1.0 | ε: 0.050\u001b[0m\n",
      "\u001b[32m2025-08-30 04:04:21.273\u001b[0m | \u001b[1mINFO    \u001b[0m | \u001b[36msrc.rl.tabular_q_learning\u001b[0m:\u001b[36mtrain\u001b[0m:\u001b[36m226\u001b[0m - \u001b[1mEpisode   325 | R: +1.0 | ε: 0.050\u001b[0m\n",
      "\u001b[32m2025-08-30 04:04:21.275\u001b[0m | \u001b[1mINFO    \u001b[0m | \u001b[36msrc.rl.tabular_q_learning\u001b[0m:\u001b[36mtrain\u001b[0m:\u001b[36m226\u001b[0m - \u001b[1mEpisode   350 | R: +1.0 | ε: 0.050\u001b[0m\n",
      "\u001b[32m2025-08-30 04:04:21.278\u001b[0m | \u001b[1mINFO    \u001b[0m | \u001b[36msrc.rl.tabular_q_learning\u001b[0m:\u001b[36mtrain\u001b[0m:\u001b[36m226\u001b[0m - \u001b[1mEpisode   375 | R: +1.0 | ε: 0.050\u001b[0m\n",
      "\u001b[32m2025-08-30 04:04:21.280\u001b[0m | \u001b[1mINFO    \u001b[0m | \u001b[36msrc.rl.tabular_q_learning\u001b[0m:\u001b[36mtrain\u001b[0m:\u001b[36m226\u001b[0m - \u001b[1mEpisode   400 | R: +1.0 | ε: 0.050\u001b[0m\n",
      "\u001b[32m2025-08-30 04:04:21.283\u001b[0m | \u001b[1mINFO    \u001b[0m | \u001b[36msrc.rl.tabular_q_learning\u001b[0m:\u001b[36mtrain\u001b[0m:\u001b[36m226\u001b[0m - \u001b[1mEpisode   425 | R: +1.0 | ε: 0.050\u001b[0m\n",
      "\u001b[32m2025-08-30 04:04:21.284\u001b[0m | \u001b[1mINFO    \u001b[0m | \u001b[36msrc.rl.tabular_q_learning\u001b[0m:\u001b[36mtrain\u001b[0m:\u001b[36m226\u001b[0m - \u001b[1mEpisode   450 | R: +1.0 | ε: 0.050\u001b[0m\n",
      "\u001b[32m2025-08-30 04:04:21.286\u001b[0m | \u001b[1mINFO    \u001b[0m | \u001b[36msrc.rl.tabular_q_learning\u001b[0m:\u001b[36mtrain\u001b[0m:\u001b[36m226\u001b[0m - \u001b[1mEpisode   475 | R: +1.0 | ε: 0.050\u001b[0m\n",
      "\u001b[32m2025-08-30 04:04:21.289\u001b[0m | \u001b[1mINFO    \u001b[0m | \u001b[36msrc.rl.tabular_q_learning\u001b[0m:\u001b[36mtrain\u001b[0m:\u001b[36m226\u001b[0m - \u001b[1mEpisode   500 | R: +1.0 | ε: 0.050\u001b[0m\n"
     ]
    },
    {
     "data": {
      "text/html": [],
      "text/plain": [
       "<IPython.core.display.HTML object>"
      ]
     },
     "metadata": {},
     "output_type": "display_data"
    },
    {
     "data": {
      "text/html": [
       "<br>    <style><br>        .wandb-row {<br>            display: flex;<br>            flex-direction: row;<br>            flex-wrap: wrap;<br>            justify-content: flex-start;<br>            width: 100%;<br>        }<br>        .wandb-col {<br>            display: flex;<br>            flex-direction: column;<br>            flex-basis: 100%;<br>            flex: 1;<br>            padding: 10px;<br>        }<br>    </style><br><div class=\"wandb-row\"><div class=\"wandb-col\"><h3>Run history:</h3><br/><table class=\"wandb\"><tr><td>best_reward</td><td>▁</td></tr><tr><td>converged_episode</td><td>▁</td></tr><tr><td>train_time_sec</td><td>▁</td></tr></table><br/></div><div class=\"wandb-col\"><h3>Run summary:</h3><br/><table class=\"wandb\"><tr><td>best_reward</td><td>1</td></tr><tr><td>converged_episode</td><td>125</td></tr><tr><td>train_time_sec</td><td>0.00971</td></tr></table><br/></div></div>"
      ],
      "text/plain": [
       "<IPython.core.display.HTML object>"
      ]
     },
     "metadata": {},
     "output_type": "display_data"
    },
    {
     "data": {
      "text/html": [
       " View run <strong style=\"color:#cdcd00\">lilac-sweep-21</strong> at: <a href='https://wandb.ai/magicayyub-lab/montyhall-ql/runs/40uditii' target=\"_blank\">https://wandb.ai/magicayyub-lab/montyhall-ql/runs/40uditii</a><br> View project at: <a href='https://wandb.ai/magicayyub-lab/montyhall-ql' target=\"_blank\">https://wandb.ai/magicayyub-lab/montyhall-ql</a><br>Synced 5 W&B file(s), 0 media file(s), 0 artifact file(s) and 0 other file(s)"
      ],
      "text/plain": [
       "<IPython.core.display.HTML object>"
      ]
     },
     "metadata": {},
     "output_type": "display_data"
    },
    {
     "data": {
      "text/html": [
       "Find logs at: <code>./wandb/run-20250830_040420-40uditii/logs</code>"
      ],
      "text/plain": [
       "<IPython.core.display.HTML object>"
      ]
     },
     "metadata": {},
     "output_type": "display_data"
    },
    {
     "name": "stderr",
     "output_type": "stream",
     "text": [
      "\u001b[34m\u001b[1mwandb\u001b[0m: Agent Starting Run: fb05hhea with config:\n",
      "\u001b[34m\u001b[1mwandb\u001b[0m: \tdiscount_factor: 0.8566606001010512\n",
      "\u001b[34m\u001b[1mwandb\u001b[0m: \tepsilon_decay: 0.9514683469197894\n",
      "\u001b[34m\u001b[1mwandb\u001b[0m: \tlearning_rate: 0.00010871936556104013\n"
     ]
    },
    {
     "data": {
      "text/html": [
       "Changes to your `wandb` environment variables will be ignored because your `wandb` session has already started. For more information on how to modify your settings with `wandb.init()` arguments, please refer to <a href='https://wandb.me/wandb-init' target=\"_blank\">the W&B docs</a>."
      ],
      "text/plain": [
       "<IPython.core.display.HTML object>"
      ]
     },
     "metadata": {},
     "output_type": "display_data"
    },
    {
     "data": {
      "text/html": [
       "Ignoring project 'montyhall-ql' when running a sweep."
      ],
      "text/plain": [
       "<IPython.core.display.HTML object>"
      ]
     },
     "metadata": {},
     "output_type": "display_data"
    },
    {
     "data": {
      "text/html": [
       "Waiting for wandb.init()..."
      ],
      "text/plain": [
       "<IPython.core.display.HTML object>"
      ]
     },
     "metadata": {},
     "output_type": "display_data"
    },
    {
     "data": {
      "text/html": [
       "Tracking run with wandb version 0.21.2"
      ],
      "text/plain": [
       "<IPython.core.display.HTML object>"
      ]
     },
     "metadata": {},
     "output_type": "display_data"
    },
    {
     "data": {
      "text/html": [
       "Run data is saved locally in <code>/Users/ayouba/Documents/laboratoire/RL/wandb/run-20250830_040425-fb05hhea</code>"
      ],
      "text/plain": [
       "<IPython.core.display.HTML object>"
      ]
     },
     "metadata": {},
     "output_type": "display_data"
    },
    {
     "data": {
      "text/html": [
       "Syncing run <strong><a href='https://wandb.ai/magicayyub-lab/montyhall-ql/runs/fb05hhea' target=\"_blank\">deep-sweep-22</a></strong> to <a href='https://wandb.ai/magicayyub-lab/montyhall-ql' target=\"_blank\">Weights & Biases</a> (<a href='https://wandb.me/developer-guide' target=\"_blank\">docs</a>)<br>Sweep page: <a href='https://wandb.ai/magicayyub-lab/montyhall-ql/sweeps/9cdpki6q' target=\"_blank\">https://wandb.ai/magicayyub-lab/montyhall-ql/sweeps/9cdpki6q</a>"
      ],
      "text/plain": [
       "<IPython.core.display.HTML object>"
      ]
     },
     "metadata": {},
     "output_type": "display_data"
    },
    {
     "data": {
      "text/html": [
       " View project at <a href='https://wandb.ai/magicayyub-lab/montyhall-ql' target=\"_blank\">https://wandb.ai/magicayyub-lab/montyhall-ql</a>"
      ],
      "text/plain": [
       "<IPython.core.display.HTML object>"
      ]
     },
     "metadata": {},
     "output_type": "display_data"
    },
    {
     "data": {
      "text/html": [
       " View sweep at <a href='https://wandb.ai/magicayyub-lab/montyhall-ql/sweeps/9cdpki6q' target=\"_blank\">https://wandb.ai/magicayyub-lab/montyhall-ql/sweeps/9cdpki6q</a>"
      ],
      "text/plain": [
       "<IPython.core.display.HTML object>"
      ]
     },
     "metadata": {},
     "output_type": "display_data"
    },
    {
     "data": {
      "text/html": [
       " View run at <a href='https://wandb.ai/magicayyub-lab/montyhall-ql/runs/fb05hhea' target=\"_blank\">https://wandb.ai/magicayyub-lab/montyhall-ql/runs/fb05hhea</a>"
      ],
      "text/plain": [
       "<IPython.core.display.HTML object>"
      ]
     },
     "metadata": {},
     "output_type": "display_data"
    },
    {
     "name": "stderr",
     "output_type": "stream",
     "text": [
      "\u001b[32m2025-08-30 04:04:26.650\u001b[0m | \u001b[1mINFO    \u001b[0m | \u001b[36msrc.rl.tabular_q_learning\u001b[0m:\u001b[36mtrain\u001b[0m:\u001b[36m226\u001b[0m - \u001b[1mEpisode    25 | R: +1.0 | ε: 0.288\u001b[0m\n",
      "\u001b[32m2025-08-30 04:04:26.652\u001b[0m | \u001b[1mINFO    \u001b[0m | \u001b[36msrc.rl.tabular_q_learning\u001b[0m:\u001b[36mtrain\u001b[0m:\u001b[36m226\u001b[0m - \u001b[1mEpisode    50 | R: +1.0 | ε: 0.083\u001b[0m\n",
      "\u001b[32m2025-08-30 04:04:26.654\u001b[0m | \u001b[1mINFO    \u001b[0m | \u001b[36msrc.rl.tabular_q_learning\u001b[0m:\u001b[36mtrain\u001b[0m:\u001b[36m226\u001b[0m - \u001b[1mEpisode    75 | R: +1.0 | ε: 0.050\u001b[0m\n",
      "\u001b[32m2025-08-30 04:04:26.656\u001b[0m | \u001b[1mINFO    \u001b[0m | \u001b[36msrc.rl.tabular_q_learning\u001b[0m:\u001b[36mtrain\u001b[0m:\u001b[36m226\u001b[0m - \u001b[1mEpisode   100 | R: +1.0 | ε: 0.050\u001b[0m\n",
      "\u001b[32m2025-08-30 04:04:26.658\u001b[0m | \u001b[1mINFO    \u001b[0m | \u001b[36msrc.rl.tabular_q_learning\u001b[0m:\u001b[36mtrain\u001b[0m:\u001b[36m226\u001b[0m - \u001b[1mEpisode   125 | R: +1.0 | ε: 0.050\u001b[0m\n",
      "\u001b[32m2025-08-30 04:04:26.661\u001b[0m | \u001b[1mINFO    \u001b[0m | \u001b[36msrc.rl.tabular_q_learning\u001b[0m:\u001b[36mtrain\u001b[0m:\u001b[36m226\u001b[0m - \u001b[1mEpisode   150 | R: +1.0 | ε: 0.050\u001b[0m\n",
      "\u001b[32m2025-08-30 04:04:26.663\u001b[0m | \u001b[1mINFO    \u001b[0m | \u001b[36msrc.rl.tabular_q_learning\u001b[0m:\u001b[36mtrain\u001b[0m:\u001b[36m226\u001b[0m - \u001b[1mEpisode   175 | R: +1.0 | ε: 0.050\u001b[0m\n",
      "\u001b[32m2025-08-30 04:04:26.666\u001b[0m | \u001b[1mINFO    \u001b[0m | \u001b[36msrc.rl.tabular_q_learning\u001b[0m:\u001b[36mtrain\u001b[0m:\u001b[36m226\u001b[0m - \u001b[1mEpisode   200 | R: +1.0 | ε: 0.050\u001b[0m\n",
      "\u001b[32m2025-08-30 04:04:26.669\u001b[0m | \u001b[1mINFO    \u001b[0m | \u001b[36msrc.rl.tabular_q_learning\u001b[0m:\u001b[36mtrain\u001b[0m:\u001b[36m226\u001b[0m - \u001b[1mEpisode   225 | R: +1.0 | ε: 0.050\u001b[0m\n",
      "\u001b[32m2025-08-30 04:04:26.671\u001b[0m | \u001b[1mINFO    \u001b[0m | \u001b[36msrc.rl.tabular_q_learning\u001b[0m:\u001b[36mtrain\u001b[0m:\u001b[36m226\u001b[0m - \u001b[1mEpisode   250 | R: +1.0 | ε: 0.050\u001b[0m\n",
      "\u001b[32m2025-08-30 04:04:26.673\u001b[0m | \u001b[1mINFO    \u001b[0m | \u001b[36msrc.rl.tabular_q_learning\u001b[0m:\u001b[36mtrain\u001b[0m:\u001b[36m226\u001b[0m - \u001b[1mEpisode   275 | R: +1.0 | ε: 0.050\u001b[0m\n",
      "\u001b[32m2025-08-30 04:04:26.678\u001b[0m | \u001b[1mINFO    \u001b[0m | \u001b[36msrc.rl.tabular_q_learning\u001b[0m:\u001b[36mtrain\u001b[0m:\u001b[36m226\u001b[0m - \u001b[1mEpisode   300 | R: +1.0 | ε: 0.050\u001b[0m\n",
      "\u001b[32m2025-08-30 04:04:26.680\u001b[0m | \u001b[1mINFO    \u001b[0m | \u001b[36msrc.rl.tabular_q_learning\u001b[0m:\u001b[36mtrain\u001b[0m:\u001b[36m226\u001b[0m - \u001b[1mEpisode   325 | R: +1.0 | ε: 0.050\u001b[0m\n",
      "\u001b[32m2025-08-30 04:04:26.683\u001b[0m | \u001b[1mINFO    \u001b[0m | \u001b[36msrc.rl.tabular_q_learning\u001b[0m:\u001b[36mtrain\u001b[0m:\u001b[36m226\u001b[0m - \u001b[1mEpisode   350 | R: +1.0 | ε: 0.050\u001b[0m\n",
      "\u001b[32m2025-08-30 04:04:26.685\u001b[0m | \u001b[1mINFO    \u001b[0m | \u001b[36msrc.rl.tabular_q_learning\u001b[0m:\u001b[36mtrain\u001b[0m:\u001b[36m226\u001b[0m - \u001b[1mEpisode   375 | R: +1.0 | ε: 0.050\u001b[0m\n",
      "\u001b[32m2025-08-30 04:04:26.688\u001b[0m | \u001b[1mINFO    \u001b[0m | \u001b[36msrc.rl.tabular_q_learning\u001b[0m:\u001b[36mtrain\u001b[0m:\u001b[36m226\u001b[0m - \u001b[1mEpisode   400 | R: +1.0 | ε: 0.050\u001b[0m\n",
      "\u001b[32m2025-08-30 04:04:26.690\u001b[0m | \u001b[32m\u001b[1mSUCCESS \u001b[0m | \u001b[36msrc.rl.tabular_q_learning\u001b[0m:\u001b[36mtrain\u001b[0m:\u001b[36m237\u001b[0m - \u001b[32m\u001b[1mConverged at episode 418 after 0.04s\u001b[0m\n",
      "\u001b[32m2025-08-30 04:04:26.691\u001b[0m | \u001b[1mINFO    \u001b[0m | \u001b[36msrc.rl.tabular_q_learning\u001b[0m:\u001b[36mtrain\u001b[0m:\u001b[36m226\u001b[0m - \u001b[1mEpisode   425 | R: +1.0 | ε: 0.050\u001b[0m\n",
      "\u001b[32m2025-08-30 04:04:26.694\u001b[0m | \u001b[1mINFO    \u001b[0m | \u001b[36msrc.rl.tabular_q_learning\u001b[0m:\u001b[36mtrain\u001b[0m:\u001b[36m226\u001b[0m - \u001b[1mEpisode   450 | R: +1.0 | ε: 0.050\u001b[0m\n",
      "\u001b[32m2025-08-30 04:04:26.696\u001b[0m | \u001b[1mINFO    \u001b[0m | \u001b[36msrc.rl.tabular_q_learning\u001b[0m:\u001b[36mtrain\u001b[0m:\u001b[36m226\u001b[0m - \u001b[1mEpisode   475 | R: +1.0 | ε: 0.050\u001b[0m\n",
      "\u001b[32m2025-08-30 04:04:26.699\u001b[0m | \u001b[1mINFO    \u001b[0m | \u001b[36msrc.rl.tabular_q_learning\u001b[0m:\u001b[36mtrain\u001b[0m:\u001b[36m226\u001b[0m - \u001b[1mEpisode   500 | R: +1.0 | ε: 0.050\u001b[0m\n"
     ]
    },
    {
     "data": {
      "text/html": [],
      "text/plain": [
       "<IPython.core.display.HTML object>"
      ]
     },
     "metadata": {},
     "output_type": "display_data"
    },
    {
     "data": {
      "text/html": [
       "<br>    <style><br>        .wandb-row {<br>            display: flex;<br>            flex-direction: row;<br>            flex-wrap: wrap;<br>            justify-content: flex-start;<br>            width: 100%;<br>        }<br>        .wandb-col {<br>            display: flex;<br>            flex-direction: column;<br>            flex-basis: 100%;<br>            flex: 1;<br>            padding: 10px;<br>        }<br>    </style><br><div class=\"wandb-row\"><div class=\"wandb-col\"><h3>Run history:</h3><br/><table class=\"wandb\"><tr><td>best_reward</td><td>▁</td></tr><tr><td>converged_episode</td><td>▁</td></tr><tr><td>train_time_sec</td><td>▁</td></tr></table><br/></div><div class=\"wandb-col\"><h3>Run summary:</h3><br/><table class=\"wandb\"><tr><td>best_reward</td><td>1</td></tr><tr><td>converged_episode</td><td>418</td></tr><tr><td>train_time_sec</td><td>0.04188</td></tr></table><br/></div></div>"
      ],
      "text/plain": [
       "<IPython.core.display.HTML object>"
      ]
     },
     "metadata": {},
     "output_type": "display_data"
    },
    {
     "data": {
      "text/html": [
       " View run <strong style=\"color:#cdcd00\">deep-sweep-22</strong> at: <a href='https://wandb.ai/magicayyub-lab/montyhall-ql/runs/fb05hhea' target=\"_blank\">https://wandb.ai/magicayyub-lab/montyhall-ql/runs/fb05hhea</a><br> View project at: <a href='https://wandb.ai/magicayyub-lab/montyhall-ql' target=\"_blank\">https://wandb.ai/magicayyub-lab/montyhall-ql</a><br>Synced 5 W&B file(s), 0 media file(s), 0 artifact file(s) and 0 other file(s)"
      ],
      "text/plain": [
       "<IPython.core.display.HTML object>"
      ]
     },
     "metadata": {},
     "output_type": "display_data"
    },
    {
     "data": {
      "text/html": [
       "Find logs at: <code>./wandb/run-20250830_040425-fb05hhea/logs</code>"
      ],
      "text/plain": [
       "<IPython.core.display.HTML object>"
      ]
     },
     "metadata": {},
     "output_type": "display_data"
    },
    {
     "name": "stderr",
     "output_type": "stream",
     "text": [
      "\u001b[34m\u001b[1mwandb\u001b[0m: Sweep Agent: Waiting for job.\n",
      "\u001b[34m\u001b[1mwandb\u001b[0m: Job received.\n",
      "\u001b[34m\u001b[1mwandb\u001b[0m: Agent Starting Run: x71qpg1s with config:\n",
      "\u001b[34m\u001b[1mwandb\u001b[0m: \tdiscount_factor: 0.8145324245576678\n",
      "\u001b[34m\u001b[1mwandb\u001b[0m: \tepsilon_decay: 0.9940144159865136\n",
      "\u001b[34m\u001b[1mwandb\u001b[0m: \tlearning_rate: 9.923307562517556e-05\n"
     ]
    },
    {
     "data": {
      "text/html": [
       "Changes to your `wandb` environment variables will be ignored because your `wandb` session has already started. For more information on how to modify your settings with `wandb.init()` arguments, please refer to <a href='https://wandb.me/wandb-init' target=\"_blank\">the W&B docs</a>."
      ],
      "text/plain": [
       "<IPython.core.display.HTML object>"
      ]
     },
     "metadata": {},
     "output_type": "display_data"
    },
    {
     "data": {
      "text/html": [
       "Ignoring project 'montyhall-ql' when running a sweep."
      ],
      "text/plain": [
       "<IPython.core.display.HTML object>"
      ]
     },
     "metadata": {},
     "output_type": "display_data"
    },
    {
     "data": {
      "text/html": [
       "Waiting for wandb.init()..."
      ],
      "text/plain": [
       "<IPython.core.display.HTML object>"
      ]
     },
     "metadata": {},
     "output_type": "display_data"
    },
    {
     "data": {
      "text/html": [
       "Tracking run with wandb version 0.21.2"
      ],
      "text/plain": [
       "<IPython.core.display.HTML object>"
      ]
     },
     "metadata": {},
     "output_type": "display_data"
    },
    {
     "data": {
      "text/html": [
       "Run data is saved locally in <code>/Users/ayouba/Documents/laboratoire/RL/wandb/run-20250830_040458-x71qpg1s</code>"
      ],
      "text/plain": [
       "<IPython.core.display.HTML object>"
      ]
     },
     "metadata": {},
     "output_type": "display_data"
    },
    {
     "data": {
      "text/html": [
       "Syncing run <strong><a href='https://wandb.ai/magicayyub-lab/montyhall-ql/runs/x71qpg1s' target=\"_blank\">fragrant-sweep-23</a></strong> to <a href='https://wandb.ai/magicayyub-lab/montyhall-ql' target=\"_blank\">Weights & Biases</a> (<a href='https://wandb.me/developer-guide' target=\"_blank\">docs</a>)<br>Sweep page: <a href='https://wandb.ai/magicayyub-lab/montyhall-ql/sweeps/9cdpki6q' target=\"_blank\">https://wandb.ai/magicayyub-lab/montyhall-ql/sweeps/9cdpki6q</a>"
      ],
      "text/plain": [
       "<IPython.core.display.HTML object>"
      ]
     },
     "metadata": {},
     "output_type": "display_data"
    },
    {
     "data": {
      "text/html": [
       " View project at <a href='https://wandb.ai/magicayyub-lab/montyhall-ql' target=\"_blank\">https://wandb.ai/magicayyub-lab/montyhall-ql</a>"
      ],
      "text/plain": [
       "<IPython.core.display.HTML object>"
      ]
     },
     "metadata": {},
     "output_type": "display_data"
    },
    {
     "data": {
      "text/html": [
       " View sweep at <a href='https://wandb.ai/magicayyub-lab/montyhall-ql/sweeps/9cdpki6q' target=\"_blank\">https://wandb.ai/magicayyub-lab/montyhall-ql/sweeps/9cdpki6q</a>"
      ],
      "text/plain": [
       "<IPython.core.display.HTML object>"
      ]
     },
     "metadata": {},
     "output_type": "display_data"
    },
    {
     "data": {
      "text/html": [
       " View run at <a href='https://wandb.ai/magicayyub-lab/montyhall-ql/runs/x71qpg1s' target=\"_blank\">https://wandb.ai/magicayyub-lab/montyhall-ql/runs/x71qpg1s</a>"
      ],
      "text/plain": [
       "<IPython.core.display.HTML object>"
      ]
     },
     "metadata": {},
     "output_type": "display_data"
    },
    {
     "name": "stderr",
     "output_type": "stream",
     "text": [
      "\u001b[32m2025-08-30 04:04:58.894\u001b[0m | \u001b[1mINFO    \u001b[0m | \u001b[36msrc.rl.tabular_q_learning\u001b[0m:\u001b[36mtrain\u001b[0m:\u001b[36m226\u001b[0m - \u001b[1mEpisode    25 | R: +0.0 | ε: 0.861\u001b[0m\n",
      "\u001b[32m2025-08-30 04:04:58.896\u001b[0m | \u001b[1mINFO    \u001b[0m | \u001b[36msrc.rl.tabular_q_learning\u001b[0m:\u001b[36mtrain\u001b[0m:\u001b[36m226\u001b[0m - \u001b[1mEpisode    50 | R: +1.0 | ε: 0.741\u001b[0m\n",
      "\u001b[32m2025-08-30 04:04:58.898\u001b[0m | \u001b[1mINFO    \u001b[0m | \u001b[36msrc.rl.tabular_q_learning\u001b[0m:\u001b[36mtrain\u001b[0m:\u001b[36m226\u001b[0m - \u001b[1mEpisode    75 | R: +1.0 | ε: 0.637\u001b[0m\n",
      "\u001b[32m2025-08-30 04:04:58.901\u001b[0m | \u001b[1mINFO    \u001b[0m | \u001b[36msrc.rl.tabular_q_learning\u001b[0m:\u001b[36mtrain\u001b[0m:\u001b[36m226\u001b[0m - \u001b[1mEpisode   100 | R: +1.0 | ε: 0.549\u001b[0m\n",
      "\u001b[32m2025-08-30 04:04:58.903\u001b[0m | \u001b[1mINFO    \u001b[0m | \u001b[36msrc.rl.tabular_q_learning\u001b[0m:\u001b[36mtrain\u001b[0m:\u001b[36m226\u001b[0m - \u001b[1mEpisode   125 | R: +1.0 | ε: 0.472\u001b[0m\n",
      "\u001b[32m2025-08-30 04:04:58.905\u001b[0m | \u001b[1mINFO    \u001b[0m | \u001b[36msrc.rl.tabular_q_learning\u001b[0m:\u001b[36mtrain\u001b[0m:\u001b[36m226\u001b[0m - \u001b[1mEpisode   150 | R: +1.0 | ε: 0.406\u001b[0m\n",
      "\u001b[32m2025-08-30 04:04:58.908\u001b[0m | \u001b[1mINFO    \u001b[0m | \u001b[36msrc.rl.tabular_q_learning\u001b[0m:\u001b[36mtrain\u001b[0m:\u001b[36m226\u001b[0m - \u001b[1mEpisode   175 | R: +1.0 | ε: 0.350\u001b[0m\n",
      "\u001b[32m2025-08-30 04:04:58.911\u001b[0m | \u001b[1mINFO    \u001b[0m | \u001b[36msrc.rl.tabular_q_learning\u001b[0m:\u001b[36mtrain\u001b[0m:\u001b[36m226\u001b[0m - \u001b[1mEpisode   200 | R: +1.0 | ε: 0.301\u001b[0m\n",
      "\u001b[32m2025-08-30 04:04:58.914\u001b[0m | \u001b[1mINFO    \u001b[0m | \u001b[36msrc.rl.tabular_q_learning\u001b[0m:\u001b[36mtrain\u001b[0m:\u001b[36m226\u001b[0m - \u001b[1mEpisode   225 | R: +1.0 | ε: 0.259\u001b[0m\n",
      "\u001b[32m2025-08-30 04:04:58.916\u001b[0m | \u001b[1mINFO    \u001b[0m | \u001b[36msrc.rl.tabular_q_learning\u001b[0m:\u001b[36mtrain\u001b[0m:\u001b[36m226\u001b[0m - \u001b[1mEpisode   250 | R: +0.0 | ε: 0.223\u001b[0m\n",
      "\u001b[32m2025-08-30 04:04:58.919\u001b[0m | \u001b[1mINFO    \u001b[0m | \u001b[36msrc.rl.tabular_q_learning\u001b[0m:\u001b[36mtrain\u001b[0m:\u001b[36m226\u001b[0m - \u001b[1mEpisode   275 | R: +1.0 | ε: 0.192\u001b[0m\n",
      "\u001b[32m2025-08-30 04:04:58.921\u001b[0m | \u001b[1mINFO    \u001b[0m | \u001b[36msrc.rl.tabular_q_learning\u001b[0m:\u001b[36mtrain\u001b[0m:\u001b[36m226\u001b[0m - \u001b[1mEpisode   300 | R: +1.0 | ε: 0.165\u001b[0m\n",
      "\u001b[32m2025-08-30 04:04:58.924\u001b[0m | \u001b[1mINFO    \u001b[0m | \u001b[36msrc.rl.tabular_q_learning\u001b[0m:\u001b[36mtrain\u001b[0m:\u001b[36m226\u001b[0m - \u001b[1mEpisode   325 | R: +1.0 | ε: 0.142\u001b[0m\n",
      "\u001b[32m2025-08-30 04:04:58.927\u001b[0m | \u001b[1mINFO    \u001b[0m | \u001b[36msrc.rl.tabular_q_learning\u001b[0m:\u001b[36mtrain\u001b[0m:\u001b[36m226\u001b[0m - \u001b[1mEpisode   350 | R: +1.0 | ε: 0.122\u001b[0m\n",
      "\u001b[32m2025-08-30 04:04:58.929\u001b[0m | \u001b[1mINFO    \u001b[0m | \u001b[36msrc.rl.tabular_q_learning\u001b[0m:\u001b[36mtrain\u001b[0m:\u001b[36m226\u001b[0m - \u001b[1mEpisode   375 | R: +1.0 | ε: 0.105\u001b[0m\n",
      "\u001b[32m2025-08-30 04:04:58.932\u001b[0m | \u001b[1mINFO    \u001b[0m | \u001b[36msrc.rl.tabular_q_learning\u001b[0m:\u001b[36mtrain\u001b[0m:\u001b[36m226\u001b[0m - \u001b[1mEpisode   400 | R: +1.0 | ε: 0.091\u001b[0m\n",
      "\u001b[32m2025-08-30 04:04:58.934\u001b[0m | \u001b[1mINFO    \u001b[0m | \u001b[36msrc.rl.tabular_q_learning\u001b[0m:\u001b[36mtrain\u001b[0m:\u001b[36m226\u001b[0m - \u001b[1mEpisode   425 | R: +1.0 | ε: 0.078\u001b[0m\n",
      "\u001b[32m2025-08-30 04:04:58.936\u001b[0m | \u001b[1mINFO    \u001b[0m | \u001b[36msrc.rl.tabular_q_learning\u001b[0m:\u001b[36mtrain\u001b[0m:\u001b[36m226\u001b[0m - \u001b[1mEpisode   450 | R: +1.0 | ε: 0.067\u001b[0m\n",
      "\u001b[32m2025-08-30 04:04:58.939\u001b[0m | \u001b[1mINFO    \u001b[0m | \u001b[36msrc.rl.tabular_q_learning\u001b[0m:\u001b[36mtrain\u001b[0m:\u001b[36m226\u001b[0m - \u001b[1mEpisode   475 | R: +1.0 | ε: 0.058\u001b[0m\n",
      "\u001b[32m2025-08-30 04:04:58.943\u001b[0m | \u001b[1mINFO    \u001b[0m | \u001b[36msrc.rl.tabular_q_learning\u001b[0m:\u001b[36mtrain\u001b[0m:\u001b[36m226\u001b[0m - \u001b[1mEpisode   500 | R: +1.0 | ε: 0.050\u001b[0m\n"
     ]
    },
    {
     "data": {
      "text/html": [],
      "text/plain": [
       "<IPython.core.display.HTML object>"
      ]
     },
     "metadata": {},
     "output_type": "display_data"
    },
    {
     "data": {
      "text/html": [
       "<br>    <style><br>        .wandb-row {<br>            display: flex;<br>            flex-direction: row;<br>            flex-wrap: wrap;<br>            justify-content: flex-start;<br>            width: 100%;<br>        }<br>        .wandb-col {<br>            display: flex;<br>            flex-direction: column;<br>            flex-basis: 100%;<br>            flex: 1;<br>            padding: 10px;<br>        }<br>    </style><br><div class=\"wandb-row\"><div class=\"wandb-col\"><h3>Run history:</h3><br/><table class=\"wandb\"><tr><td>best_reward</td><td>▁</td></tr><tr><td>converged_episode</td><td>▁</td></tr><tr><td>train_time_sec</td><td>▁</td></tr></table><br/></div><div class=\"wandb-col\"><h3>Run summary:</h3><br/><table class=\"wandb\"><tr><td>best_reward</td><td>1</td></tr><tr><td>converged_episode</td><td>-1</td></tr><tr><td>train_time_sec</td><td>0</td></tr></table><br/></div></div>"
      ],
      "text/plain": [
       "<IPython.core.display.HTML object>"
      ]
     },
     "metadata": {},
     "output_type": "display_data"
    },
    {
     "data": {
      "text/html": [
       " View run <strong style=\"color:#cdcd00\">fragrant-sweep-23</strong> at: <a href='https://wandb.ai/magicayyub-lab/montyhall-ql/runs/x71qpg1s' target=\"_blank\">https://wandb.ai/magicayyub-lab/montyhall-ql/runs/x71qpg1s</a><br> View project at: <a href='https://wandb.ai/magicayyub-lab/montyhall-ql' target=\"_blank\">https://wandb.ai/magicayyub-lab/montyhall-ql</a><br>Synced 5 W&B file(s), 0 media file(s), 0 artifact file(s) and 0 other file(s)"
      ],
      "text/plain": [
       "<IPython.core.display.HTML object>"
      ]
     },
     "metadata": {},
     "output_type": "display_data"
    },
    {
     "data": {
      "text/html": [
       "Find logs at: <code>./wandb/run-20250830_040458-x71qpg1s/logs</code>"
      ],
      "text/plain": [
       "<IPython.core.display.HTML object>"
      ]
     },
     "metadata": {},
     "output_type": "display_data"
    },
    {
     "name": "stderr",
     "output_type": "stream",
     "text": [
      "\u001b[34m\u001b[1mwandb\u001b[0m: Agent Starting Run: hbg56l1q with config:\n",
      "\u001b[34m\u001b[1mwandb\u001b[0m: \tdiscount_factor: 0.9297118937102388\n",
      "\u001b[34m\u001b[1mwandb\u001b[0m: \tepsilon_decay: 0.954489880569196\n",
      "\u001b[34m\u001b[1mwandb\u001b[0m: \tlearning_rate: 0.0023139082534035806\n"
     ]
    },
    {
     "data": {
      "text/html": [
       "Changes to your `wandb` environment variables will be ignored because your `wandb` session has already started. For more information on how to modify your settings with `wandb.init()` arguments, please refer to <a href='https://wandb.me/wandb-init' target=\"_blank\">the W&B docs</a>."
      ],
      "text/plain": [
       "<IPython.core.display.HTML object>"
      ]
     },
     "metadata": {},
     "output_type": "display_data"
    },
    {
     "data": {
      "text/html": [
       "Ignoring project 'montyhall-ql' when running a sweep."
      ],
      "text/plain": [
       "<IPython.core.display.HTML object>"
      ]
     },
     "metadata": {},
     "output_type": "display_data"
    },
    {
     "data": {
      "text/html": [
       "Waiting for wandb.init()..."
      ],
      "text/plain": [
       "<IPython.core.display.HTML object>"
      ]
     },
     "metadata": {},
     "output_type": "display_data"
    },
    {
     "data": {
      "text/html": [
       "Tracking run with wandb version 0.21.2"
      ],
      "text/plain": [
       "<IPython.core.display.HTML object>"
      ]
     },
     "metadata": {},
     "output_type": "display_data"
    },
    {
     "data": {
      "text/html": [
       "Run data is saved locally in <code>/Users/ayouba/Documents/laboratoire/RL/wandb/run-20250830_040502-hbg56l1q</code>"
      ],
      "text/plain": [
       "<IPython.core.display.HTML object>"
      ]
     },
     "metadata": {},
     "output_type": "display_data"
    },
    {
     "data": {
      "text/html": [
       "Syncing run <strong><a href='https://wandb.ai/magicayyub-lab/montyhall-ql/runs/hbg56l1q' target=\"_blank\">misunderstood-sweep-24</a></strong> to <a href='https://wandb.ai/magicayyub-lab/montyhall-ql' target=\"_blank\">Weights & Biases</a> (<a href='https://wandb.me/developer-guide' target=\"_blank\">docs</a>)<br>Sweep page: <a href='https://wandb.ai/magicayyub-lab/montyhall-ql/sweeps/9cdpki6q' target=\"_blank\">https://wandb.ai/magicayyub-lab/montyhall-ql/sweeps/9cdpki6q</a>"
      ],
      "text/plain": [
       "<IPython.core.display.HTML object>"
      ]
     },
     "metadata": {},
     "output_type": "display_data"
    },
    {
     "data": {
      "text/html": [
       " View project at <a href='https://wandb.ai/magicayyub-lab/montyhall-ql' target=\"_blank\">https://wandb.ai/magicayyub-lab/montyhall-ql</a>"
      ],
      "text/plain": [
       "<IPython.core.display.HTML object>"
      ]
     },
     "metadata": {},
     "output_type": "display_data"
    },
    {
     "data": {
      "text/html": [
       " View sweep at <a href='https://wandb.ai/magicayyub-lab/montyhall-ql/sweeps/9cdpki6q' target=\"_blank\">https://wandb.ai/magicayyub-lab/montyhall-ql/sweeps/9cdpki6q</a>"
      ],
      "text/plain": [
       "<IPython.core.display.HTML object>"
      ]
     },
     "metadata": {},
     "output_type": "display_data"
    },
    {
     "data": {
      "text/html": [
       " View run at <a href='https://wandb.ai/magicayyub-lab/montyhall-ql/runs/hbg56l1q' target=\"_blank\">https://wandb.ai/magicayyub-lab/montyhall-ql/runs/hbg56l1q</a>"
      ],
      "text/plain": [
       "<IPython.core.display.HTML object>"
      ]
     },
     "metadata": {},
     "output_type": "display_data"
    },
    {
     "name": "stderr",
     "output_type": "stream",
     "text": [
      "\u001b[32m2025-08-30 04:05:03.282\u001b[0m | \u001b[1mINFO    \u001b[0m | \u001b[36msrc.rl.tabular_q_learning\u001b[0m:\u001b[36mtrain\u001b[0m:\u001b[36m226\u001b[0m - \u001b[1mEpisode    25 | R: +1.0 | ε: 0.312\u001b[0m\n",
      "\u001b[32m2025-08-30 04:05:03.285\u001b[0m | \u001b[1mINFO    \u001b[0m | \u001b[36msrc.rl.tabular_q_learning\u001b[0m:\u001b[36mtrain\u001b[0m:\u001b[36m226\u001b[0m - \u001b[1mEpisode    50 | R: +1.0 | ε: 0.097\u001b[0m\n",
      "\u001b[32m2025-08-30 04:05:03.286\u001b[0m | \u001b[1mINFO    \u001b[0m | \u001b[36msrc.rl.tabular_q_learning\u001b[0m:\u001b[36mtrain\u001b[0m:\u001b[36m226\u001b[0m - \u001b[1mEpisode    75 | R: +1.0 | ε: 0.050\u001b[0m\n",
      "\u001b[32m2025-08-30 04:05:03.288\u001b[0m | \u001b[1mINFO    \u001b[0m | \u001b[36msrc.rl.tabular_q_learning\u001b[0m:\u001b[36mtrain\u001b[0m:\u001b[36m226\u001b[0m - \u001b[1mEpisode   100 | R: +1.0 | ε: 0.050\u001b[0m\n",
      "\u001b[32m2025-08-30 04:05:03.290\u001b[0m | \u001b[1mINFO    \u001b[0m | \u001b[36msrc.rl.tabular_q_learning\u001b[0m:\u001b[36mtrain\u001b[0m:\u001b[36m226\u001b[0m - \u001b[1mEpisode   125 | R: +1.0 | ε: 0.050\u001b[0m\n",
      "\u001b[32m2025-08-30 04:05:03.292\u001b[0m | \u001b[32m\u001b[1mSUCCESS \u001b[0m | \u001b[36msrc.rl.tabular_q_learning\u001b[0m:\u001b[36mtrain\u001b[0m:\u001b[36m237\u001b[0m - \u001b[32m\u001b[1mConverged at episode 144 after 0.01s\u001b[0m\n",
      "\u001b[32m2025-08-30 04:05:03.293\u001b[0m | \u001b[1mINFO    \u001b[0m | \u001b[36msrc.rl.tabular_q_learning\u001b[0m:\u001b[36mtrain\u001b[0m:\u001b[36m226\u001b[0m - \u001b[1mEpisode   150 | R: +1.0 | ε: 0.050\u001b[0m\n",
      "\u001b[32m2025-08-30 04:05:03.294\u001b[0m | \u001b[1mINFO    \u001b[0m | \u001b[36msrc.rl.tabular_q_learning\u001b[0m:\u001b[36mtrain\u001b[0m:\u001b[36m226\u001b[0m - \u001b[1mEpisode   175 | R: +1.0 | ε: 0.050\u001b[0m\n",
      "\u001b[32m2025-08-30 04:05:03.297\u001b[0m | \u001b[1mINFO    \u001b[0m | \u001b[36msrc.rl.tabular_q_learning\u001b[0m:\u001b[36mtrain\u001b[0m:\u001b[36m226\u001b[0m - \u001b[1mEpisode   200 | R: +1.0 | ε: 0.050\u001b[0m\n",
      "\u001b[32m2025-08-30 04:05:03.300\u001b[0m | \u001b[1mINFO    \u001b[0m | \u001b[36msrc.rl.tabular_q_learning\u001b[0m:\u001b[36mtrain\u001b[0m:\u001b[36m226\u001b[0m - \u001b[1mEpisode   225 | R: +1.0 | ε: 0.050\u001b[0m\n",
      "\u001b[32m2025-08-30 04:05:03.302\u001b[0m | \u001b[1mINFO    \u001b[0m | \u001b[36msrc.rl.tabular_q_learning\u001b[0m:\u001b[36mtrain\u001b[0m:\u001b[36m226\u001b[0m - \u001b[1mEpisode   250 | R: +1.0 | ε: 0.050\u001b[0m\n",
      "\u001b[32m2025-08-30 04:05:03.304\u001b[0m | \u001b[1mINFO    \u001b[0m | \u001b[36msrc.rl.tabular_q_learning\u001b[0m:\u001b[36mtrain\u001b[0m:\u001b[36m226\u001b[0m - \u001b[1mEpisode   275 | R: +1.0 | ε: 0.050\u001b[0m\n",
      "\u001b[32m2025-08-30 04:05:03.306\u001b[0m | \u001b[1mINFO    \u001b[0m | \u001b[36msrc.rl.tabular_q_learning\u001b[0m:\u001b[36mtrain\u001b[0m:\u001b[36m226\u001b[0m - \u001b[1mEpisode   300 | R: +1.0 | ε: 0.050\u001b[0m\n",
      "\u001b[32m2025-08-30 04:05:03.309\u001b[0m | \u001b[1mINFO    \u001b[0m | \u001b[36msrc.rl.tabular_q_learning\u001b[0m:\u001b[36mtrain\u001b[0m:\u001b[36m226\u001b[0m - \u001b[1mEpisode   325 | R: +1.0 | ε: 0.050\u001b[0m\n",
      "\u001b[32m2025-08-30 04:05:03.310\u001b[0m | \u001b[1mINFO    \u001b[0m | \u001b[36msrc.rl.tabular_q_learning\u001b[0m:\u001b[36mtrain\u001b[0m:\u001b[36m226\u001b[0m - \u001b[1mEpisode   350 | R: +1.0 | ε: 0.050\u001b[0m\n",
      "\u001b[32m2025-08-30 04:05:03.313\u001b[0m | \u001b[1mINFO    \u001b[0m | \u001b[36msrc.rl.tabular_q_learning\u001b[0m:\u001b[36mtrain\u001b[0m:\u001b[36m226\u001b[0m - \u001b[1mEpisode   375 | R: +1.0 | ε: 0.050\u001b[0m\n",
      "\u001b[32m2025-08-30 04:05:03.315\u001b[0m | \u001b[1mINFO    \u001b[0m | \u001b[36msrc.rl.tabular_q_learning\u001b[0m:\u001b[36mtrain\u001b[0m:\u001b[36m226\u001b[0m - \u001b[1mEpisode   400 | R: +1.0 | ε: 0.050\u001b[0m\n",
      "\u001b[32m2025-08-30 04:05:03.317\u001b[0m | \u001b[1mINFO    \u001b[0m | \u001b[36msrc.rl.tabular_q_learning\u001b[0m:\u001b[36mtrain\u001b[0m:\u001b[36m226\u001b[0m - \u001b[1mEpisode   425 | R: +1.0 | ε: 0.050\u001b[0m\n",
      "\u001b[32m2025-08-30 04:05:03.319\u001b[0m | \u001b[1mINFO    \u001b[0m | \u001b[36msrc.rl.tabular_q_learning\u001b[0m:\u001b[36mtrain\u001b[0m:\u001b[36m226\u001b[0m - \u001b[1mEpisode   450 | R: +1.0 | ε: 0.050\u001b[0m\n",
      "\u001b[32m2025-08-30 04:05:03.321\u001b[0m | \u001b[1mINFO    \u001b[0m | \u001b[36msrc.rl.tabular_q_learning\u001b[0m:\u001b[36mtrain\u001b[0m:\u001b[36m226\u001b[0m - \u001b[1mEpisode   475 | R: +1.0 | ε: 0.050\u001b[0m\n",
      "\u001b[32m2025-08-30 04:05:03.357\u001b[0m | \u001b[1mINFO    \u001b[0m | \u001b[36msrc.rl.tabular_q_learning\u001b[0m:\u001b[36mtrain\u001b[0m:\u001b[36m226\u001b[0m - \u001b[1mEpisode   500 | R: +1.0 | ε: 0.050\u001b[0m\n"
     ]
    },
    {
     "data": {
      "text/html": [],
      "text/plain": [
       "<IPython.core.display.HTML object>"
      ]
     },
     "metadata": {},
     "output_type": "display_data"
    },
    {
     "data": {
      "text/html": [
       "<br>    <style><br>        .wandb-row {<br>            display: flex;<br>            flex-direction: row;<br>            flex-wrap: wrap;<br>            justify-content: flex-start;<br>            width: 100%;<br>        }<br>        .wandb-col {<br>            display: flex;<br>            flex-direction: column;<br>            flex-basis: 100%;<br>            flex: 1;<br>            padding: 10px;<br>        }<br>    </style><br><div class=\"wandb-row\"><div class=\"wandb-col\"><h3>Run history:</h3><br/><table class=\"wandb\"><tr><td>best_reward</td><td>▁</td></tr><tr><td>converged_episode</td><td>▁</td></tr><tr><td>train_time_sec</td><td>▁</td></tr></table><br/></div><div class=\"wandb-col\"><h3>Run summary:</h3><br/><table class=\"wandb\"><tr><td>best_reward</td><td>1</td></tr><tr><td>converged_episode</td><td>144</td></tr><tr><td>train_time_sec</td><td>0.01268</td></tr></table><br/></div></div>"
      ],
      "text/plain": [
       "<IPython.core.display.HTML object>"
      ]
     },
     "metadata": {},
     "output_type": "display_data"
    },
    {
     "data": {
      "text/html": [
       " View run <strong style=\"color:#cdcd00\">misunderstood-sweep-24</strong> at: <a href='https://wandb.ai/magicayyub-lab/montyhall-ql/runs/hbg56l1q' target=\"_blank\">https://wandb.ai/magicayyub-lab/montyhall-ql/runs/hbg56l1q</a><br> View project at: <a href='https://wandb.ai/magicayyub-lab/montyhall-ql' target=\"_blank\">https://wandb.ai/magicayyub-lab/montyhall-ql</a><br>Synced 5 W&B file(s), 0 media file(s), 0 artifact file(s) and 0 other file(s)"
      ],
      "text/plain": [
       "<IPython.core.display.HTML object>"
      ]
     },
     "metadata": {},
     "output_type": "display_data"
    },
    {
     "data": {
      "text/html": [
       "Find logs at: <code>./wandb/run-20250830_040502-hbg56l1q/logs</code>"
      ],
      "text/plain": [
       "<IPython.core.display.HTML object>"
      ]
     },
     "metadata": {},
     "output_type": "display_data"
    },
    {
     "name": "stderr",
     "output_type": "stream",
     "text": [
      "\u001b[34m\u001b[1mwandb\u001b[0m: Agent Starting Run: ebj6h60t with config:\n",
      "\u001b[34m\u001b[1mwandb\u001b[0m: \tdiscount_factor: 0.9672918844957704\n",
      "\u001b[34m\u001b[1mwandb\u001b[0m: \tepsilon_decay: 0.9542751511522444\n",
      "\u001b[34m\u001b[1mwandb\u001b[0m: \tlearning_rate: 0.0041115370967456325\n"
     ]
    },
    {
     "data": {
      "text/html": [
       "Changes to your `wandb` environment variables will be ignored because your `wandb` session has already started. For more information on how to modify your settings with `wandb.init()` arguments, please refer to <a href='https://wandb.me/wandb-init' target=\"_blank\">the W&B docs</a>."
      ],
      "text/plain": [
       "<IPython.core.display.HTML object>"
      ]
     },
     "metadata": {},
     "output_type": "display_data"
    },
    {
     "data": {
      "text/html": [
       "Ignoring project 'montyhall-ql' when running a sweep."
      ],
      "text/plain": [
       "<IPython.core.display.HTML object>"
      ]
     },
     "metadata": {},
     "output_type": "display_data"
    },
    {
     "data": {
      "text/html": [
       "Waiting for wandb.init()..."
      ],
      "text/plain": [
       "<IPython.core.display.HTML object>"
      ]
     },
     "metadata": {},
     "output_type": "display_data"
    },
    {
     "data": {
      "text/html": [
       "Tracking run with wandb version 0.21.2"
      ],
      "text/plain": [
       "<IPython.core.display.HTML object>"
      ]
     },
     "metadata": {},
     "output_type": "display_data"
    },
    {
     "data": {
      "text/html": [
       "Run data is saved locally in <code>/Users/ayouba/Documents/laboratoire/RL/wandb/run-20250830_040508-ebj6h60t</code>"
      ],
      "text/plain": [
       "<IPython.core.display.HTML object>"
      ]
     },
     "metadata": {},
     "output_type": "display_data"
    },
    {
     "data": {
      "text/html": [
       "Syncing run <strong><a href='https://wandb.ai/magicayyub-lab/montyhall-ql/runs/ebj6h60t' target=\"_blank\">iconic-sweep-25</a></strong> to <a href='https://wandb.ai/magicayyub-lab/montyhall-ql' target=\"_blank\">Weights & Biases</a> (<a href='https://wandb.me/developer-guide' target=\"_blank\">docs</a>)<br>Sweep page: <a href='https://wandb.ai/magicayyub-lab/montyhall-ql/sweeps/9cdpki6q' target=\"_blank\">https://wandb.ai/magicayyub-lab/montyhall-ql/sweeps/9cdpki6q</a>"
      ],
      "text/plain": [
       "<IPython.core.display.HTML object>"
      ]
     },
     "metadata": {},
     "output_type": "display_data"
    },
    {
     "data": {
      "text/html": [
       " View project at <a href='https://wandb.ai/magicayyub-lab/montyhall-ql' target=\"_blank\">https://wandb.ai/magicayyub-lab/montyhall-ql</a>"
      ],
      "text/plain": [
       "<IPython.core.display.HTML object>"
      ]
     },
     "metadata": {},
     "output_type": "display_data"
    },
    {
     "data": {
      "text/html": [
       " View sweep at <a href='https://wandb.ai/magicayyub-lab/montyhall-ql/sweeps/9cdpki6q' target=\"_blank\">https://wandb.ai/magicayyub-lab/montyhall-ql/sweeps/9cdpki6q</a>"
      ],
      "text/plain": [
       "<IPython.core.display.HTML object>"
      ]
     },
     "metadata": {},
     "output_type": "display_data"
    },
    {
     "data": {
      "text/html": [
       " View run at <a href='https://wandb.ai/magicayyub-lab/montyhall-ql/runs/ebj6h60t' target=\"_blank\">https://wandb.ai/magicayyub-lab/montyhall-ql/runs/ebj6h60t</a>"
      ],
      "text/plain": [
       "<IPython.core.display.HTML object>"
      ]
     },
     "metadata": {},
     "output_type": "display_data"
    },
    {
     "name": "stderr",
     "output_type": "stream",
     "text": [
      "\u001b[32m2025-08-30 04:05:08.774\u001b[0m | \u001b[1mINFO    \u001b[0m | \u001b[36msrc.rl.tabular_q_learning\u001b[0m:\u001b[36mtrain\u001b[0m:\u001b[36m226\u001b[0m - \u001b[1mEpisode    25 | R: +1.0 | ε: 0.310\u001b[0m\n",
      "\u001b[32m2025-08-30 04:05:08.776\u001b[0m | \u001b[1mINFO    \u001b[0m | \u001b[36msrc.rl.tabular_q_learning\u001b[0m:\u001b[36mtrain\u001b[0m:\u001b[36m226\u001b[0m - \u001b[1mEpisode    50 | R: +1.0 | ε: 0.096\u001b[0m\n",
      "\u001b[32m2025-08-30 04:05:08.778\u001b[0m | \u001b[1mINFO    \u001b[0m | \u001b[36msrc.rl.tabular_q_learning\u001b[0m:\u001b[36mtrain\u001b[0m:\u001b[36m226\u001b[0m - \u001b[1mEpisode    75 | R: +1.0 | ε: 0.050\u001b[0m\n",
      "\u001b[32m2025-08-30 04:05:08.779\u001b[0m | \u001b[1mINFO    \u001b[0m | \u001b[36msrc.rl.tabular_q_learning\u001b[0m:\u001b[36mtrain\u001b[0m:\u001b[36m226\u001b[0m - \u001b[1mEpisode   100 | R: +1.0 | ε: 0.050\u001b[0m\n",
      "\u001b[32m2025-08-30 04:05:08.782\u001b[0m | \u001b[1mINFO    \u001b[0m | \u001b[36msrc.rl.tabular_q_learning\u001b[0m:\u001b[36mtrain\u001b[0m:\u001b[36m226\u001b[0m - \u001b[1mEpisode   125 | R: +1.0 | ε: 0.050\u001b[0m\n",
      "\u001b[32m2025-08-30 04:05:08.784\u001b[0m | \u001b[32m\u001b[1mSUCCESS \u001b[0m | \u001b[36msrc.rl.tabular_q_learning\u001b[0m:\u001b[36mtrain\u001b[0m:\u001b[36m237\u001b[0m - \u001b[32m\u001b[1mConverged at episode 144 after 0.01s\u001b[0m\n",
      "\u001b[32m2025-08-30 04:05:08.784\u001b[0m | \u001b[1mINFO    \u001b[0m | \u001b[36msrc.rl.tabular_q_learning\u001b[0m:\u001b[36mtrain\u001b[0m:\u001b[36m226\u001b[0m - \u001b[1mEpisode   150 | R: +1.0 | ε: 0.050\u001b[0m\n",
      "\u001b[32m2025-08-30 04:05:08.786\u001b[0m | \u001b[1mINFO    \u001b[0m | \u001b[36msrc.rl.tabular_q_learning\u001b[0m:\u001b[36mtrain\u001b[0m:\u001b[36m226\u001b[0m - \u001b[1mEpisode   175 | R: +1.0 | ε: 0.050\u001b[0m\n",
      "\u001b[32m2025-08-30 04:05:08.788\u001b[0m | \u001b[1mINFO    \u001b[0m | \u001b[36msrc.rl.tabular_q_learning\u001b[0m:\u001b[36mtrain\u001b[0m:\u001b[36m226\u001b[0m - \u001b[1mEpisode   200 | R: +1.0 | ε: 0.050\u001b[0m\n",
      "\u001b[32m2025-08-30 04:05:08.790\u001b[0m | \u001b[1mINFO    \u001b[0m | \u001b[36msrc.rl.tabular_q_learning\u001b[0m:\u001b[36mtrain\u001b[0m:\u001b[36m226\u001b[0m - \u001b[1mEpisode   225 | R: +1.0 | ε: 0.050\u001b[0m\n",
      "\u001b[32m2025-08-30 04:05:08.793\u001b[0m | \u001b[1mINFO    \u001b[0m | \u001b[36msrc.rl.tabular_q_learning\u001b[0m:\u001b[36mtrain\u001b[0m:\u001b[36m226\u001b[0m - \u001b[1mEpisode   250 | R: +1.0 | ε: 0.050\u001b[0m\n",
      "\u001b[32m2025-08-30 04:05:08.795\u001b[0m | \u001b[1mINFO    \u001b[0m | \u001b[36msrc.rl.tabular_q_learning\u001b[0m:\u001b[36mtrain\u001b[0m:\u001b[36m226\u001b[0m - \u001b[1mEpisode   275 | R: +1.0 | ε: 0.050\u001b[0m\n",
      "\u001b[32m2025-08-30 04:05:08.797\u001b[0m | \u001b[1mINFO    \u001b[0m | \u001b[36msrc.rl.tabular_q_learning\u001b[0m:\u001b[36mtrain\u001b[0m:\u001b[36m226\u001b[0m - \u001b[1mEpisode   300 | R: +1.0 | ε: 0.050\u001b[0m\n",
      "\u001b[32m2025-08-30 04:05:08.799\u001b[0m | \u001b[1mINFO    \u001b[0m | \u001b[36msrc.rl.tabular_q_learning\u001b[0m:\u001b[36mtrain\u001b[0m:\u001b[36m226\u001b[0m - \u001b[1mEpisode   325 | R: +1.0 | ε: 0.050\u001b[0m\n",
      "\u001b[32m2025-08-30 04:05:08.801\u001b[0m | \u001b[1mINFO    \u001b[0m | \u001b[36msrc.rl.tabular_q_learning\u001b[0m:\u001b[36mtrain\u001b[0m:\u001b[36m226\u001b[0m - \u001b[1mEpisode   350 | R: +1.0 | ε: 0.050\u001b[0m\n",
      "\u001b[32m2025-08-30 04:05:08.804\u001b[0m | \u001b[1mINFO    \u001b[0m | \u001b[36msrc.rl.tabular_q_learning\u001b[0m:\u001b[36mtrain\u001b[0m:\u001b[36m226\u001b[0m - \u001b[1mEpisode   375 | R: +1.0 | ε: 0.050\u001b[0m\n",
      "\u001b[32m2025-08-30 04:05:08.806\u001b[0m | \u001b[1mINFO    \u001b[0m | \u001b[36msrc.rl.tabular_q_learning\u001b[0m:\u001b[36mtrain\u001b[0m:\u001b[36m226\u001b[0m - \u001b[1mEpisode   400 | R: +1.0 | ε: 0.050\u001b[0m\n",
      "\u001b[32m2025-08-30 04:05:08.808\u001b[0m | \u001b[1mINFO    \u001b[0m | \u001b[36msrc.rl.tabular_q_learning\u001b[0m:\u001b[36mtrain\u001b[0m:\u001b[36m226\u001b[0m - \u001b[1mEpisode   425 | R: +1.0 | ε: 0.050\u001b[0m\n",
      "\u001b[32m2025-08-30 04:05:08.811\u001b[0m | \u001b[1mINFO    \u001b[0m | \u001b[36msrc.rl.tabular_q_learning\u001b[0m:\u001b[36mtrain\u001b[0m:\u001b[36m226\u001b[0m - \u001b[1mEpisode   450 | R: +1.0 | ε: 0.050\u001b[0m\n",
      "\u001b[32m2025-08-30 04:05:08.813\u001b[0m | \u001b[1mINFO    \u001b[0m | \u001b[36msrc.rl.tabular_q_learning\u001b[0m:\u001b[36mtrain\u001b[0m:\u001b[36m226\u001b[0m - \u001b[1mEpisode   475 | R: +1.0 | ε: 0.050\u001b[0m\n",
      "\u001b[32m2025-08-30 04:05:08.815\u001b[0m | \u001b[1mINFO    \u001b[0m | \u001b[36msrc.rl.tabular_q_learning\u001b[0m:\u001b[36mtrain\u001b[0m:\u001b[36m226\u001b[0m - \u001b[1mEpisode   500 | R: +1.0 | ε: 0.050\u001b[0m\n"
     ]
    },
    {
     "data": {
      "text/html": [],
      "text/plain": [
       "<IPython.core.display.HTML object>"
      ]
     },
     "metadata": {},
     "output_type": "display_data"
    },
    {
     "data": {
      "text/html": [
       "<br>    <style><br>        .wandb-row {<br>            display: flex;<br>            flex-direction: row;<br>            flex-wrap: wrap;<br>            justify-content: flex-start;<br>            width: 100%;<br>        }<br>        .wandb-col {<br>            display: flex;<br>            flex-direction: column;<br>            flex-basis: 100%;<br>            flex: 1;<br>            padding: 10px;<br>        }<br>    </style><br><div class=\"wandb-row\"><div class=\"wandb-col\"><h3>Run history:</h3><br/><table class=\"wandb\"><tr><td>best_reward</td><td>▁</td></tr><tr><td>converged_episode</td><td>▁</td></tr><tr><td>train_time_sec</td><td>▁</td></tr></table><br/></div><div class=\"wandb-col\"><h3>Run summary:</h3><br/><table class=\"wandb\"><tr><td>best_reward</td><td>1</td></tr><tr><td>converged_episode</td><td>144</td></tr><tr><td>train_time_sec</td><td>0.01262</td></tr></table><br/></div></div>"
      ],
      "text/plain": [
       "<IPython.core.display.HTML object>"
      ]
     },
     "metadata": {},
     "output_type": "display_data"
    },
    {
     "data": {
      "text/html": [
       " View run <strong style=\"color:#cdcd00\">iconic-sweep-25</strong> at: <a href='https://wandb.ai/magicayyub-lab/montyhall-ql/runs/ebj6h60t' target=\"_blank\">https://wandb.ai/magicayyub-lab/montyhall-ql/runs/ebj6h60t</a><br> View project at: <a href='https://wandb.ai/magicayyub-lab/montyhall-ql' target=\"_blank\">https://wandb.ai/magicayyub-lab/montyhall-ql</a><br>Synced 5 W&B file(s), 0 media file(s), 0 artifact file(s) and 0 other file(s)"
      ],
      "text/plain": [
       "<IPython.core.display.HTML object>"
      ]
     },
     "metadata": {},
     "output_type": "display_data"
    },
    {
     "data": {
      "text/html": [
       "Find logs at: <code>./wandb/run-20250830_040508-ebj6h60t/logs</code>"
      ],
      "text/plain": [
       "<IPython.core.display.HTML object>"
      ]
     },
     "metadata": {},
     "output_type": "display_data"
    },
    {
     "name": "stderr",
     "output_type": "stream",
     "text": [
      "\u001b[34m\u001b[1mwandb\u001b[0m: Agent Starting Run: 4dadvjvf with config:\n",
      "\u001b[34m\u001b[1mwandb\u001b[0m: \tdiscount_factor: 0.9843251331321043\n",
      "\u001b[34m\u001b[1mwandb\u001b[0m: \tepsilon_decay: 0.967536274891521\n",
      "\u001b[34m\u001b[1mwandb\u001b[0m: \tlearning_rate: 0.004959137756844828\n"
     ]
    },
    {
     "data": {
      "text/html": [
       "Changes to your `wandb` environment variables will be ignored because your `wandb` session has already started. For more information on how to modify your settings with `wandb.init()` arguments, please refer to <a href='https://wandb.me/wandb-init' target=\"_blank\">the W&B docs</a>."
      ],
      "text/plain": [
       "<IPython.core.display.HTML object>"
      ]
     },
     "metadata": {},
     "output_type": "display_data"
    },
    {
     "data": {
      "text/html": [
       "Ignoring project 'montyhall-ql' when running a sweep."
      ],
      "text/plain": [
       "<IPython.core.display.HTML object>"
      ]
     },
     "metadata": {},
     "output_type": "display_data"
    },
    {
     "data": {
      "text/html": [
       "Waiting for wandb.init()..."
      ],
      "text/plain": [
       "<IPython.core.display.HTML object>"
      ]
     },
     "metadata": {},
     "output_type": "display_data"
    },
    {
     "data": {
      "text/html": [
       "Tracking run with wandb version 0.21.2"
      ],
      "text/plain": [
       "<IPython.core.display.HTML object>"
      ]
     },
     "metadata": {},
     "output_type": "display_data"
    },
    {
     "data": {
      "text/html": [
       "Run data is saved locally in <code>/Users/ayouba/Documents/laboratoire/RL/wandb/run-20250830_040513-4dadvjvf</code>"
      ],
      "text/plain": [
       "<IPython.core.display.HTML object>"
      ]
     },
     "metadata": {},
     "output_type": "display_data"
    },
    {
     "data": {
      "text/html": [
       "Syncing run <strong><a href='https://wandb.ai/magicayyub-lab/montyhall-ql/runs/4dadvjvf' target=\"_blank\">vivid-sweep-26</a></strong> to <a href='https://wandb.ai/magicayyub-lab/montyhall-ql' target=\"_blank\">Weights & Biases</a> (<a href='https://wandb.me/developer-guide' target=\"_blank\">docs</a>)<br>Sweep page: <a href='https://wandb.ai/magicayyub-lab/montyhall-ql/sweeps/9cdpki6q' target=\"_blank\">https://wandb.ai/magicayyub-lab/montyhall-ql/sweeps/9cdpki6q</a>"
      ],
      "text/plain": [
       "<IPython.core.display.HTML object>"
      ]
     },
     "metadata": {},
     "output_type": "display_data"
    },
    {
     "data": {
      "text/html": [
       " View project at <a href='https://wandb.ai/magicayyub-lab/montyhall-ql' target=\"_blank\">https://wandb.ai/magicayyub-lab/montyhall-ql</a>"
      ],
      "text/plain": [
       "<IPython.core.display.HTML object>"
      ]
     },
     "metadata": {},
     "output_type": "display_data"
    },
    {
     "data": {
      "text/html": [
       " View sweep at <a href='https://wandb.ai/magicayyub-lab/montyhall-ql/sweeps/9cdpki6q' target=\"_blank\">https://wandb.ai/magicayyub-lab/montyhall-ql/sweeps/9cdpki6q</a>"
      ],
      "text/plain": [
       "<IPython.core.display.HTML object>"
      ]
     },
     "metadata": {},
     "output_type": "display_data"
    },
    {
     "data": {
      "text/html": [
       " View run at <a href='https://wandb.ai/magicayyub-lab/montyhall-ql/runs/4dadvjvf' target=\"_blank\">https://wandb.ai/magicayyub-lab/montyhall-ql/runs/4dadvjvf</a>"
      ],
      "text/plain": [
       "<IPython.core.display.HTML object>"
      ]
     },
     "metadata": {},
     "output_type": "display_data"
    },
    {
     "name": "stderr",
     "output_type": "stream",
     "text": [
      "\u001b[32m2025-08-30 04:05:14.189\u001b[0m | \u001b[1mINFO    \u001b[0m | \u001b[36msrc.rl.tabular_q_learning\u001b[0m:\u001b[36mtrain\u001b[0m:\u001b[36m226\u001b[0m - \u001b[1mEpisode    25 | R: +0.0 | ε: 0.438\u001b[0m\n",
      "\u001b[32m2025-08-30 04:05:14.192\u001b[0m | \u001b[1mINFO    \u001b[0m | \u001b[36msrc.rl.tabular_q_learning\u001b[0m:\u001b[36mtrain\u001b[0m:\u001b[36m226\u001b[0m - \u001b[1mEpisode    50 | R: +1.0 | ε: 0.192\u001b[0m\n",
      "\u001b[32m2025-08-30 04:05:14.193\u001b[0m | \u001b[1mINFO    \u001b[0m | \u001b[36msrc.rl.tabular_q_learning\u001b[0m:\u001b[36mtrain\u001b[0m:\u001b[36m226\u001b[0m - \u001b[1mEpisode    75 | R: +1.0 | ε: 0.084\u001b[0m\n",
      "\u001b[32m2025-08-30 04:05:14.195\u001b[0m | \u001b[1mINFO    \u001b[0m | \u001b[36msrc.rl.tabular_q_learning\u001b[0m:\u001b[36mtrain\u001b[0m:\u001b[36m226\u001b[0m - \u001b[1mEpisode   100 | R: +1.0 | ε: 0.050\u001b[0m\n",
      "\u001b[32m2025-08-30 04:05:14.198\u001b[0m | \u001b[1mINFO    \u001b[0m | \u001b[36msrc.rl.tabular_q_learning\u001b[0m:\u001b[36mtrain\u001b[0m:\u001b[36m226\u001b[0m - \u001b[1mEpisode   125 | R: +1.0 | ε: 0.050\u001b[0m\n",
      "\u001b[32m2025-08-30 04:05:14.200\u001b[0m | \u001b[1mINFO    \u001b[0m | \u001b[36msrc.rl.tabular_q_learning\u001b[0m:\u001b[36mtrain\u001b[0m:\u001b[36m226\u001b[0m - \u001b[1mEpisode   150 | R: +1.0 | ε: 0.050\u001b[0m\n",
      "\u001b[32m2025-08-30 04:05:14.202\u001b[0m | \u001b[1mINFO    \u001b[0m | \u001b[36msrc.rl.tabular_q_learning\u001b[0m:\u001b[36mtrain\u001b[0m:\u001b[36m226\u001b[0m - \u001b[1mEpisode   175 | R: +1.0 | ε: 0.050\u001b[0m\n",
      "\u001b[32m2025-08-30 04:05:14.205\u001b[0m | \u001b[1mINFO    \u001b[0m | \u001b[36msrc.rl.tabular_q_learning\u001b[0m:\u001b[36mtrain\u001b[0m:\u001b[36m226\u001b[0m - \u001b[1mEpisode   200 | R: +1.0 | ε: 0.050\u001b[0m\n",
      "\u001b[32m2025-08-30 04:05:14.208\u001b[0m | \u001b[1mINFO    \u001b[0m | \u001b[36msrc.rl.tabular_q_learning\u001b[0m:\u001b[36mtrain\u001b[0m:\u001b[36m226\u001b[0m - \u001b[1mEpisode   225 | R: +1.0 | ε: 0.050\u001b[0m\n",
      "\u001b[32m2025-08-30 04:05:14.210\u001b[0m | \u001b[1mINFO    \u001b[0m | \u001b[36msrc.rl.tabular_q_learning\u001b[0m:\u001b[36mtrain\u001b[0m:\u001b[36m226\u001b[0m - \u001b[1mEpisode   250 | R: +1.0 | ε: 0.050\u001b[0m\n",
      "\u001b[32m2025-08-30 04:05:14.212\u001b[0m | \u001b[1mINFO    \u001b[0m | \u001b[36msrc.rl.tabular_q_learning\u001b[0m:\u001b[36mtrain\u001b[0m:\u001b[36m226\u001b[0m - \u001b[1mEpisode   275 | R: +1.0 | ε: 0.050\u001b[0m\n",
      "\u001b[32m2025-08-30 04:05:14.216\u001b[0m | \u001b[1mINFO    \u001b[0m | \u001b[36msrc.rl.tabular_q_learning\u001b[0m:\u001b[36mtrain\u001b[0m:\u001b[36m226\u001b[0m - \u001b[1mEpisode   300 | R: +1.0 | ε: 0.050\u001b[0m\n",
      "\u001b[32m2025-08-30 04:05:14.219\u001b[0m | \u001b[1mINFO    \u001b[0m | \u001b[36msrc.rl.tabular_q_learning\u001b[0m:\u001b[36mtrain\u001b[0m:\u001b[36m226\u001b[0m - \u001b[1mEpisode   325 | R: +1.0 | ε: 0.050\u001b[0m\n",
      "\u001b[32m2025-08-30 04:05:14.221\u001b[0m | \u001b[1mINFO    \u001b[0m | \u001b[36msrc.rl.tabular_q_learning\u001b[0m:\u001b[36mtrain\u001b[0m:\u001b[36m226\u001b[0m - \u001b[1mEpisode   350 | R: +1.0 | ε: 0.050\u001b[0m\n",
      "\u001b[32m2025-08-30 04:05:14.224\u001b[0m | \u001b[1mINFO    \u001b[0m | \u001b[36msrc.rl.tabular_q_learning\u001b[0m:\u001b[36mtrain\u001b[0m:\u001b[36m226\u001b[0m - \u001b[1mEpisode   375 | R: +1.0 | ε: 0.050\u001b[0m\n",
      "\u001b[32m2025-08-30 04:05:14.226\u001b[0m | \u001b[1mINFO    \u001b[0m | \u001b[36msrc.rl.tabular_q_learning\u001b[0m:\u001b[36mtrain\u001b[0m:\u001b[36m226\u001b[0m - \u001b[1mEpisode   400 | R: +1.0 | ε: 0.050\u001b[0m\n",
      "\u001b[32m2025-08-30 04:05:14.228\u001b[0m | \u001b[32m\u001b[1mSUCCESS \u001b[0m | \u001b[36msrc.rl.tabular_q_learning\u001b[0m:\u001b[36mtrain\u001b[0m:\u001b[36m237\u001b[0m - \u001b[32m\u001b[1mConverged at episode 418 after 0.04s\u001b[0m\n",
      "\u001b[32m2025-08-30 04:05:14.228\u001b[0m | \u001b[1mINFO    \u001b[0m | \u001b[36msrc.rl.tabular_q_learning\u001b[0m:\u001b[36mtrain\u001b[0m:\u001b[36m226\u001b[0m - \u001b[1mEpisode   425 | R: +1.0 | ε: 0.050\u001b[0m\n",
      "\u001b[32m2025-08-30 04:05:14.230\u001b[0m | \u001b[1mINFO    \u001b[0m | \u001b[36msrc.rl.tabular_q_learning\u001b[0m:\u001b[36mtrain\u001b[0m:\u001b[36m226\u001b[0m - \u001b[1mEpisode   450 | R: +1.0 | ε: 0.050\u001b[0m\n",
      "\u001b[32m2025-08-30 04:05:14.252\u001b[0m | \u001b[1mINFO    \u001b[0m | \u001b[36msrc.rl.tabular_q_learning\u001b[0m:\u001b[36mtrain\u001b[0m:\u001b[36m226\u001b[0m - \u001b[1mEpisode   475 | R: +1.0 | ε: 0.050\u001b[0m\n",
      "\u001b[32m2025-08-30 04:05:14.259\u001b[0m | \u001b[1mINFO    \u001b[0m | \u001b[36msrc.rl.tabular_q_learning\u001b[0m:\u001b[36mtrain\u001b[0m:\u001b[36m226\u001b[0m - \u001b[1mEpisode   500 | R: +1.0 | ε: 0.050\u001b[0m\n"
     ]
    },
    {
     "data": {
      "text/html": [],
      "text/plain": [
       "<IPython.core.display.HTML object>"
      ]
     },
     "metadata": {},
     "output_type": "display_data"
    },
    {
     "data": {
      "text/html": [
       "<br>    <style><br>        .wandb-row {<br>            display: flex;<br>            flex-direction: row;<br>            flex-wrap: wrap;<br>            justify-content: flex-start;<br>            width: 100%;<br>        }<br>        .wandb-col {<br>            display: flex;<br>            flex-direction: column;<br>            flex-basis: 100%;<br>            flex: 1;<br>            padding: 10px;<br>        }<br>    </style><br><div class=\"wandb-row\"><div class=\"wandb-col\"><h3>Run history:</h3><br/><table class=\"wandb\"><tr><td>best_reward</td><td>▁</td></tr><tr><td>converged_episode</td><td>▁</td></tr><tr><td>train_time_sec</td><td>▁</td></tr></table><br/></div><div class=\"wandb-col\"><h3>Run summary:</h3><br/><table class=\"wandb\"><tr><td>best_reward</td><td>1</td></tr><tr><td>converged_episode</td><td>418</td></tr><tr><td>train_time_sec</td><td>0.04049</td></tr></table><br/></div></div>"
      ],
      "text/plain": [
       "<IPython.core.display.HTML object>"
      ]
     },
     "metadata": {},
     "output_type": "display_data"
    },
    {
     "data": {
      "text/html": [
       " View run <strong style=\"color:#cdcd00\">vivid-sweep-26</strong> at: <a href='https://wandb.ai/magicayyub-lab/montyhall-ql/runs/4dadvjvf' target=\"_blank\">https://wandb.ai/magicayyub-lab/montyhall-ql/runs/4dadvjvf</a><br> View project at: <a href='https://wandb.ai/magicayyub-lab/montyhall-ql' target=\"_blank\">https://wandb.ai/magicayyub-lab/montyhall-ql</a><br>Synced 5 W&B file(s), 0 media file(s), 0 artifact file(s) and 0 other file(s)"
      ],
      "text/plain": [
       "<IPython.core.display.HTML object>"
      ]
     },
     "metadata": {},
     "output_type": "display_data"
    },
    {
     "data": {
      "text/html": [
       "Find logs at: <code>./wandb/run-20250830_040513-4dadvjvf/logs</code>"
      ],
      "text/plain": [
       "<IPython.core.display.HTML object>"
      ]
     },
     "metadata": {},
     "output_type": "display_data"
    },
    {
     "name": "stderr",
     "output_type": "stream",
     "text": [
      "\u001b[34m\u001b[1mwandb\u001b[0m: Agent Starting Run: zz0h8dvy with config:\n",
      "\u001b[34m\u001b[1mwandb\u001b[0m: \tdiscount_factor: 0.9036131124414029\n",
      "\u001b[34m\u001b[1mwandb\u001b[0m: \tepsilon_decay: 0.9987949853259755\n",
      "\u001b[34m\u001b[1mwandb\u001b[0m: \tlearning_rate: 0.001189759163506245\n"
     ]
    },
    {
     "data": {
      "text/html": [
       "Changes to your `wandb` environment variables will be ignored because your `wandb` session has already started. For more information on how to modify your settings with `wandb.init()` arguments, please refer to <a href='https://wandb.me/wandb-init' target=\"_blank\">the W&B docs</a>."
      ],
      "text/plain": [
       "<IPython.core.display.HTML object>"
      ]
     },
     "metadata": {},
     "output_type": "display_data"
    },
    {
     "data": {
      "text/html": [
       "Ignoring project 'montyhall-ql' when running a sweep."
      ],
      "text/plain": [
       "<IPython.core.display.HTML object>"
      ]
     },
     "metadata": {},
     "output_type": "display_data"
    },
    {
     "data": {
      "text/html": [
       "Waiting for wandb.init()..."
      ],
      "text/plain": [
       "<IPython.core.display.HTML object>"
      ]
     },
     "metadata": {},
     "output_type": "display_data"
    },
    {
     "data": {
      "text/html": [
       "Tracking run with wandb version 0.21.2"
      ],
      "text/plain": [
       "<IPython.core.display.HTML object>"
      ]
     },
     "metadata": {},
     "output_type": "display_data"
    },
    {
     "data": {
      "text/html": [
       "Run data is saved locally in <code>/Users/ayouba/Documents/laboratoire/RL/wandb/run-20250830_040518-zz0h8dvy</code>"
      ],
      "text/plain": [
       "<IPython.core.display.HTML object>"
      ]
     },
     "metadata": {},
     "output_type": "display_data"
    },
    {
     "data": {
      "text/html": [
       "Syncing run <strong><a href='https://wandb.ai/magicayyub-lab/montyhall-ql/runs/zz0h8dvy' target=\"_blank\">sunny-sweep-27</a></strong> to <a href='https://wandb.ai/magicayyub-lab/montyhall-ql' target=\"_blank\">Weights & Biases</a> (<a href='https://wandb.me/developer-guide' target=\"_blank\">docs</a>)<br>Sweep page: <a href='https://wandb.ai/magicayyub-lab/montyhall-ql/sweeps/9cdpki6q' target=\"_blank\">https://wandb.ai/magicayyub-lab/montyhall-ql/sweeps/9cdpki6q</a>"
      ],
      "text/plain": [
       "<IPython.core.display.HTML object>"
      ]
     },
     "metadata": {},
     "output_type": "display_data"
    },
    {
     "data": {
      "text/html": [
       " View project at <a href='https://wandb.ai/magicayyub-lab/montyhall-ql' target=\"_blank\">https://wandb.ai/magicayyub-lab/montyhall-ql</a>"
      ],
      "text/plain": [
       "<IPython.core.display.HTML object>"
      ]
     },
     "metadata": {},
     "output_type": "display_data"
    },
    {
     "data": {
      "text/html": [
       " View sweep at <a href='https://wandb.ai/magicayyub-lab/montyhall-ql/sweeps/9cdpki6q' target=\"_blank\">https://wandb.ai/magicayyub-lab/montyhall-ql/sweeps/9cdpki6q</a>"
      ],
      "text/plain": [
       "<IPython.core.display.HTML object>"
      ]
     },
     "metadata": {},
     "output_type": "display_data"
    },
    {
     "data": {
      "text/html": [
       " View run at <a href='https://wandb.ai/magicayyub-lab/montyhall-ql/runs/zz0h8dvy' target=\"_blank\">https://wandb.ai/magicayyub-lab/montyhall-ql/runs/zz0h8dvy</a>"
      ],
      "text/plain": [
       "<IPython.core.display.HTML object>"
      ]
     },
     "metadata": {},
     "output_type": "display_data"
    },
    {
     "name": "stderr",
     "output_type": "stream",
     "text": [
      "\u001b[32m2025-08-30 04:05:19.622\u001b[0m | \u001b[1mINFO    \u001b[0m | \u001b[36msrc.rl.tabular_q_learning\u001b[0m:\u001b[36mtrain\u001b[0m:\u001b[36m226\u001b[0m - \u001b[1mEpisode    25 | R: +1.0 | ε: 0.970\u001b[0m\n",
      "\u001b[32m2025-08-30 04:05:19.624\u001b[0m | \u001b[1mINFO    \u001b[0m | \u001b[36msrc.rl.tabular_q_learning\u001b[0m:\u001b[36mtrain\u001b[0m:\u001b[36m226\u001b[0m - \u001b[1mEpisode    50 | R: +1.0 | ε: 0.941\u001b[0m\n",
      "\u001b[32m2025-08-30 04:05:19.627\u001b[0m | \u001b[1mINFO    \u001b[0m | \u001b[36msrc.rl.tabular_q_learning\u001b[0m:\u001b[36mtrain\u001b[0m:\u001b[36m226\u001b[0m - \u001b[1mEpisode    75 | R: +1.0 | ε: 0.914\u001b[0m\n",
      "\u001b[32m2025-08-30 04:05:19.629\u001b[0m | \u001b[1mINFO    \u001b[0m | \u001b[36msrc.rl.tabular_q_learning\u001b[0m:\u001b[36mtrain\u001b[0m:\u001b[36m226\u001b[0m - \u001b[1mEpisode   100 | R: +1.0 | ε: 0.886\u001b[0m\n",
      "\u001b[32m2025-08-30 04:05:19.631\u001b[0m | \u001b[1mINFO    \u001b[0m | \u001b[36msrc.rl.tabular_q_learning\u001b[0m:\u001b[36mtrain\u001b[0m:\u001b[36m226\u001b[0m - \u001b[1mEpisode   125 | R: +1.0 | ε: 0.860\u001b[0m\n",
      "\u001b[32m2025-08-30 04:05:19.634\u001b[0m | \u001b[1mINFO    \u001b[0m | \u001b[36msrc.rl.tabular_q_learning\u001b[0m:\u001b[36mtrain\u001b[0m:\u001b[36m226\u001b[0m - \u001b[1mEpisode   150 | R: +1.0 | ε: 0.835\u001b[0m\n",
      "\u001b[32m2025-08-30 04:05:19.636\u001b[0m | \u001b[1mINFO    \u001b[0m | \u001b[36msrc.rl.tabular_q_learning\u001b[0m:\u001b[36mtrain\u001b[0m:\u001b[36m226\u001b[0m - \u001b[1mEpisode   175 | R: +0.0 | ε: 0.810\u001b[0m\n",
      "\u001b[32m2025-08-30 04:05:19.640\u001b[0m | \u001b[1mINFO    \u001b[0m | \u001b[36msrc.rl.tabular_q_learning\u001b[0m:\u001b[36mtrain\u001b[0m:\u001b[36m226\u001b[0m - \u001b[1mEpisode   200 | R: +1.0 | ε: 0.786\u001b[0m\n",
      "\u001b[32m2025-08-30 04:05:19.642\u001b[0m | \u001b[1mINFO    \u001b[0m | \u001b[36msrc.rl.tabular_q_learning\u001b[0m:\u001b[36mtrain\u001b[0m:\u001b[36m226\u001b[0m - \u001b[1mEpisode   225 | R: +1.0 | ε: 0.762\u001b[0m\n",
      "\u001b[32m2025-08-30 04:05:19.645\u001b[0m | \u001b[1mINFO    \u001b[0m | \u001b[36msrc.rl.tabular_q_learning\u001b[0m:\u001b[36mtrain\u001b[0m:\u001b[36m226\u001b[0m - \u001b[1mEpisode   250 | R: +0.0 | ε: 0.740\u001b[0m\n",
      "\u001b[32m2025-08-30 04:05:19.647\u001b[0m | \u001b[1mINFO    \u001b[0m | \u001b[36msrc.rl.tabular_q_learning\u001b[0m:\u001b[36mtrain\u001b[0m:\u001b[36m226\u001b[0m - \u001b[1mEpisode   275 | R: +1.0 | ε: 0.718\u001b[0m\n",
      "\u001b[32m2025-08-30 04:05:19.651\u001b[0m | \u001b[1mINFO    \u001b[0m | \u001b[36msrc.rl.tabular_q_learning\u001b[0m:\u001b[36mtrain\u001b[0m:\u001b[36m226\u001b[0m - \u001b[1mEpisode   300 | R: +1.0 | ε: 0.696\u001b[0m\n",
      "\u001b[32m2025-08-30 04:05:19.654\u001b[0m | \u001b[1mINFO    \u001b[0m | \u001b[36msrc.rl.tabular_q_learning\u001b[0m:\u001b[36mtrain\u001b[0m:\u001b[36m226\u001b[0m - \u001b[1mEpisode   325 | R: +1.0 | ε: 0.676\u001b[0m\n",
      "\u001b[32m2025-08-30 04:05:19.656\u001b[0m | \u001b[1mINFO    \u001b[0m | \u001b[36msrc.rl.tabular_q_learning\u001b[0m:\u001b[36mtrain\u001b[0m:\u001b[36m226\u001b[0m - \u001b[1mEpisode   350 | R: +1.0 | ε: 0.656\u001b[0m\n",
      "\u001b[32m2025-08-30 04:05:19.659\u001b[0m | \u001b[1mINFO    \u001b[0m | \u001b[36msrc.rl.tabular_q_learning\u001b[0m:\u001b[36mtrain\u001b[0m:\u001b[36m226\u001b[0m - \u001b[1mEpisode   375 | R: +1.0 | ε: 0.636\u001b[0m\n",
      "\u001b[32m2025-08-30 04:05:19.661\u001b[0m | \u001b[1mINFO    \u001b[0m | \u001b[36msrc.rl.tabular_q_learning\u001b[0m:\u001b[36mtrain\u001b[0m:\u001b[36m226\u001b[0m - \u001b[1mEpisode   400 | R: +1.0 | ε: 0.617\u001b[0m\n",
      "\u001b[32m2025-08-30 04:05:19.664\u001b[0m | \u001b[1mINFO    \u001b[0m | \u001b[36msrc.rl.tabular_q_learning\u001b[0m:\u001b[36mtrain\u001b[0m:\u001b[36m226\u001b[0m - \u001b[1mEpisode   425 | R: +1.0 | ε: 0.599\u001b[0m\n",
      "\u001b[32m2025-08-30 04:05:19.667\u001b[0m | \u001b[1mINFO    \u001b[0m | \u001b[36msrc.rl.tabular_q_learning\u001b[0m:\u001b[36mtrain\u001b[0m:\u001b[36m226\u001b[0m - \u001b[1mEpisode   450 | R: +1.0 | ε: 0.581\u001b[0m\n",
      "\u001b[32m2025-08-30 04:05:19.671\u001b[0m | \u001b[1mINFO    \u001b[0m | \u001b[36msrc.rl.tabular_q_learning\u001b[0m:\u001b[36mtrain\u001b[0m:\u001b[36m226\u001b[0m - \u001b[1mEpisode   475 | R: +1.0 | ε: 0.564\u001b[0m\n",
      "\u001b[32m2025-08-30 04:05:19.674\u001b[0m | \u001b[1mINFO    \u001b[0m | \u001b[36msrc.rl.tabular_q_learning\u001b[0m:\u001b[36mtrain\u001b[0m:\u001b[36m226\u001b[0m - \u001b[1mEpisode   500 | R: +1.0 | ε: 0.547\u001b[0m\n"
     ]
    },
    {
     "data": {
      "text/html": [],
      "text/plain": [
       "<IPython.core.display.HTML object>"
      ]
     },
     "metadata": {},
     "output_type": "display_data"
    },
    {
     "data": {
      "text/html": [
       "<br>    <style><br>        .wandb-row {<br>            display: flex;<br>            flex-direction: row;<br>            flex-wrap: wrap;<br>            justify-content: flex-start;<br>            width: 100%;<br>        }<br>        .wandb-col {<br>            display: flex;<br>            flex-direction: column;<br>            flex-basis: 100%;<br>            flex: 1;<br>            padding: 10px;<br>        }<br>    </style><br><div class=\"wandb-row\"><div class=\"wandb-col\"><h3>Run history:</h3><br/><table class=\"wandb\"><tr><td>best_reward</td><td>▁</td></tr><tr><td>converged_episode</td><td>▁</td></tr><tr><td>train_time_sec</td><td>▁</td></tr></table><br/></div><div class=\"wandb-col\"><h3>Run summary:</h3><br/><table class=\"wandb\"><tr><td>best_reward</td><td>1</td></tr><tr><td>converged_episode</td><td>-1</td></tr><tr><td>train_time_sec</td><td>0</td></tr></table><br/></div></div>"
      ],
      "text/plain": [
       "<IPython.core.display.HTML object>"
      ]
     },
     "metadata": {},
     "output_type": "display_data"
    },
    {
     "data": {
      "text/html": [
       " View run <strong style=\"color:#cdcd00\">sunny-sweep-27</strong> at: <a href='https://wandb.ai/magicayyub-lab/montyhall-ql/runs/zz0h8dvy' target=\"_blank\">https://wandb.ai/magicayyub-lab/montyhall-ql/runs/zz0h8dvy</a><br> View project at: <a href='https://wandb.ai/magicayyub-lab/montyhall-ql' target=\"_blank\">https://wandb.ai/magicayyub-lab/montyhall-ql</a><br>Synced 5 W&B file(s), 0 media file(s), 0 artifact file(s) and 0 other file(s)"
      ],
      "text/plain": [
       "<IPython.core.display.HTML object>"
      ]
     },
     "metadata": {},
     "output_type": "display_data"
    },
    {
     "data": {
      "text/html": [
       "Find logs at: <code>./wandb/run-20250830_040518-zz0h8dvy/logs</code>"
      ],
      "text/plain": [
       "<IPython.core.display.HTML object>"
      ]
     },
     "metadata": {},
     "output_type": "display_data"
    },
    {
     "name": "stderr",
     "output_type": "stream",
     "text": [
      "\u001b[34m\u001b[1mwandb\u001b[0m: Agent Starting Run: ieqfw1w9 with config:\n",
      "\u001b[34m\u001b[1mwandb\u001b[0m: \tdiscount_factor: 0.883466171607968\n",
      "\u001b[34m\u001b[1mwandb\u001b[0m: \tepsilon_decay: 0.9879516238775412\n",
      "\u001b[34m\u001b[1mwandb\u001b[0m: \tlearning_rate: 0.0013371873682120866\n"
     ]
    },
    {
     "data": {
      "text/html": [
       "Changes to your `wandb` environment variables will be ignored because your `wandb` session has already started. For more information on how to modify your settings with `wandb.init()` arguments, please refer to <a href='https://wandb.me/wandb-init' target=\"_blank\">the W&B docs</a>."
      ],
      "text/plain": [
       "<IPython.core.display.HTML object>"
      ]
     },
     "metadata": {},
     "output_type": "display_data"
    },
    {
     "data": {
      "text/html": [
       "Ignoring project 'montyhall-ql' when running a sweep."
      ],
      "text/plain": [
       "<IPython.core.display.HTML object>"
      ]
     },
     "metadata": {},
     "output_type": "display_data"
    },
    {
     "data": {
      "text/html": [
       "Waiting for wandb.init()..."
      ],
      "text/plain": [
       "<IPython.core.display.HTML object>"
      ]
     },
     "metadata": {},
     "output_type": "display_data"
    },
    {
     "data": {
      "text/html": [
       "Tracking run with wandb version 0.21.2"
      ],
      "text/plain": [
       "<IPython.core.display.HTML object>"
      ]
     },
     "metadata": {},
     "output_type": "display_data"
    },
    {
     "data": {
      "text/html": [
       "Run data is saved locally in <code>/Users/ayouba/Documents/laboratoire/RL/wandb/run-20250830_040524-ieqfw1w9</code>"
      ],
      "text/plain": [
       "<IPython.core.display.HTML object>"
      ]
     },
     "metadata": {},
     "output_type": "display_data"
    },
    {
     "data": {
      "text/html": [
       "Syncing run <strong><a href='https://wandb.ai/magicayyub-lab/montyhall-ql/runs/ieqfw1w9' target=\"_blank\">drawn-sweep-28</a></strong> to <a href='https://wandb.ai/magicayyub-lab/montyhall-ql' target=\"_blank\">Weights & Biases</a> (<a href='https://wandb.me/developer-guide' target=\"_blank\">docs</a>)<br>Sweep page: <a href='https://wandb.ai/magicayyub-lab/montyhall-ql/sweeps/9cdpki6q' target=\"_blank\">https://wandb.ai/magicayyub-lab/montyhall-ql/sweeps/9cdpki6q</a>"
      ],
      "text/plain": [
       "<IPython.core.display.HTML object>"
      ]
     },
     "metadata": {},
     "output_type": "display_data"
    },
    {
     "data": {
      "text/html": [
       " View project at <a href='https://wandb.ai/magicayyub-lab/montyhall-ql' target=\"_blank\">https://wandb.ai/magicayyub-lab/montyhall-ql</a>"
      ],
      "text/plain": [
       "<IPython.core.display.HTML object>"
      ]
     },
     "metadata": {},
     "output_type": "display_data"
    },
    {
     "data": {
      "text/html": [
       " View sweep at <a href='https://wandb.ai/magicayyub-lab/montyhall-ql/sweeps/9cdpki6q' target=\"_blank\">https://wandb.ai/magicayyub-lab/montyhall-ql/sweeps/9cdpki6q</a>"
      ],
      "text/plain": [
       "<IPython.core.display.HTML object>"
      ]
     },
     "metadata": {},
     "output_type": "display_data"
    },
    {
     "data": {
      "text/html": [
       " View run at <a href='https://wandb.ai/magicayyub-lab/montyhall-ql/runs/ieqfw1w9' target=\"_blank\">https://wandb.ai/magicayyub-lab/montyhall-ql/runs/ieqfw1w9</a>"
      ],
      "text/plain": [
       "<IPython.core.display.HTML object>"
      ]
     },
     "metadata": {},
     "output_type": "display_data"
    },
    {
     "name": "stderr",
     "output_type": "stream",
     "text": [
      "\u001b[32m2025-08-30 04:05:25.110\u001b[0m | \u001b[1mINFO    \u001b[0m | \u001b[36msrc.rl.tabular_q_learning\u001b[0m:\u001b[36mtrain\u001b[0m:\u001b[36m226\u001b[0m - \u001b[1mEpisode    25 | R: +1.0 | ε: 0.739\u001b[0m\n",
      "\u001b[32m2025-08-30 04:05:25.113\u001b[0m | \u001b[1mINFO    \u001b[0m | \u001b[36msrc.rl.tabular_q_learning\u001b[0m:\u001b[36mtrain\u001b[0m:\u001b[36m226\u001b[0m - \u001b[1mEpisode    50 | R: +1.0 | ε: 0.545\u001b[0m\n",
      "\u001b[32m2025-08-30 04:05:25.114\u001b[0m | \u001b[1mINFO    \u001b[0m | \u001b[36msrc.rl.tabular_q_learning\u001b[0m:\u001b[36mtrain\u001b[0m:\u001b[36m226\u001b[0m - \u001b[1mEpisode    75 | R: +1.0 | ε: 0.403\u001b[0m\n",
      "\u001b[32m2025-08-30 04:05:25.116\u001b[0m | \u001b[1mINFO    \u001b[0m | \u001b[36msrc.rl.tabular_q_learning\u001b[0m:\u001b[36mtrain\u001b[0m:\u001b[36m226\u001b[0m - \u001b[1mEpisode   100 | R: +1.0 | ε: 0.298\u001b[0m\n",
      "\u001b[32m2025-08-30 04:05:25.118\u001b[0m | \u001b[1mINFO    \u001b[0m | \u001b[36msrc.rl.tabular_q_learning\u001b[0m:\u001b[36mtrain\u001b[0m:\u001b[36m226\u001b[0m - \u001b[1mEpisode   125 | R: +1.0 | ε: 0.220\u001b[0m\n",
      "\u001b[32m2025-08-30 04:05:25.121\u001b[0m | \u001b[1mINFO    \u001b[0m | \u001b[36msrc.rl.tabular_q_learning\u001b[0m:\u001b[36mtrain\u001b[0m:\u001b[36m226\u001b[0m - \u001b[1mEpisode   150 | R: +1.0 | ε: 0.162\u001b[0m\n",
      "\u001b[32m2025-08-30 04:05:25.123\u001b[0m | \u001b[1mINFO    \u001b[0m | \u001b[36msrc.rl.tabular_q_learning\u001b[0m:\u001b[36mtrain\u001b[0m:\u001b[36m226\u001b[0m - \u001b[1mEpisode   175 | R: +1.0 | ε: 0.120\u001b[0m\n",
      "\u001b[32m2025-08-30 04:05:25.125\u001b[0m | \u001b[1mINFO    \u001b[0m | \u001b[36msrc.rl.tabular_q_learning\u001b[0m:\u001b[36mtrain\u001b[0m:\u001b[36m226\u001b[0m - \u001b[1mEpisode   200 | R: +1.0 | ε: 0.089\u001b[0m\n",
      "\u001b[32m2025-08-30 04:05:25.128\u001b[0m | \u001b[1mINFO    \u001b[0m | \u001b[36msrc.rl.tabular_q_learning\u001b[0m:\u001b[36mtrain\u001b[0m:\u001b[36m226\u001b[0m - \u001b[1mEpisode   225 | R: +1.0 | ε: 0.065\u001b[0m\n",
      "\u001b[32m2025-08-30 04:05:25.130\u001b[0m | \u001b[1mINFO    \u001b[0m | \u001b[36msrc.rl.tabular_q_learning\u001b[0m:\u001b[36mtrain\u001b[0m:\u001b[36m226\u001b[0m - \u001b[1mEpisode   250 | R: +1.0 | ε: 0.050\u001b[0m\n",
      "\u001b[32m2025-08-30 04:05:25.132\u001b[0m | \u001b[1mINFO    \u001b[0m | \u001b[36msrc.rl.tabular_q_learning\u001b[0m:\u001b[36mtrain\u001b[0m:\u001b[36m226\u001b[0m - \u001b[1mEpisode   275 | R: +1.0 | ε: 0.050\u001b[0m\n",
      "\u001b[32m2025-08-30 04:05:25.135\u001b[0m | \u001b[1mINFO    \u001b[0m | \u001b[36msrc.rl.tabular_q_learning\u001b[0m:\u001b[36mtrain\u001b[0m:\u001b[36m226\u001b[0m - \u001b[1mEpisode   300 | R: +1.0 | ε: 0.050\u001b[0m\n",
      "\u001b[32m2025-08-30 04:05:25.138\u001b[0m | \u001b[1mINFO    \u001b[0m | \u001b[36msrc.rl.tabular_q_learning\u001b[0m:\u001b[36mtrain\u001b[0m:\u001b[36m226\u001b[0m - \u001b[1mEpisode   325 | R: +1.0 | ε: 0.050\u001b[0m\n",
      "\u001b[32m2025-08-30 04:05:25.142\u001b[0m | \u001b[1mINFO    \u001b[0m | \u001b[36msrc.rl.tabular_q_learning\u001b[0m:\u001b[36mtrain\u001b[0m:\u001b[36m226\u001b[0m - \u001b[1mEpisode   350 | R: +1.0 | ε: 0.050\u001b[0m\n",
      "\u001b[32m2025-08-30 04:05:25.144\u001b[0m | \u001b[1mINFO    \u001b[0m | \u001b[36msrc.rl.tabular_q_learning\u001b[0m:\u001b[36mtrain\u001b[0m:\u001b[36m226\u001b[0m - \u001b[1mEpisode   375 | R: +1.0 | ε: 0.050\u001b[0m\n",
      "\u001b[32m2025-08-30 04:05:25.146\u001b[0m | \u001b[1mINFO    \u001b[0m | \u001b[36msrc.rl.tabular_q_learning\u001b[0m:\u001b[36mtrain\u001b[0m:\u001b[36m226\u001b[0m - \u001b[1mEpisode   400 | R: +1.0 | ε: 0.050\u001b[0m\n",
      "\u001b[32m2025-08-30 04:05:25.150\u001b[0m | \u001b[1mINFO    \u001b[0m | \u001b[36msrc.rl.tabular_q_learning\u001b[0m:\u001b[36mtrain\u001b[0m:\u001b[36m226\u001b[0m - \u001b[1mEpisode   425 | R: +1.0 | ε: 0.050\u001b[0m\n",
      "\u001b[32m2025-08-30 04:05:25.152\u001b[0m | \u001b[1mINFO    \u001b[0m | \u001b[36msrc.rl.tabular_q_learning\u001b[0m:\u001b[36mtrain\u001b[0m:\u001b[36m226\u001b[0m - \u001b[1mEpisode   450 | R: +1.0 | ε: 0.050\u001b[0m\n",
      "\u001b[32m2025-08-30 04:05:25.154\u001b[0m | \u001b[1mINFO    \u001b[0m | \u001b[36msrc.rl.tabular_q_learning\u001b[0m:\u001b[36mtrain\u001b[0m:\u001b[36m226\u001b[0m - \u001b[1mEpisode   475 | R: +1.0 | ε: 0.050\u001b[0m\n",
      "\u001b[32m2025-08-30 04:05:25.157\u001b[0m | \u001b[1mINFO    \u001b[0m | \u001b[36msrc.rl.tabular_q_learning\u001b[0m:\u001b[36mtrain\u001b[0m:\u001b[36m226\u001b[0m - \u001b[1mEpisode   500 | R: +1.0 | ε: 0.050\u001b[0m\n"
     ]
    },
    {
     "data": {
      "text/html": [],
      "text/plain": [
       "<IPython.core.display.HTML object>"
      ]
     },
     "metadata": {},
     "output_type": "display_data"
    },
    {
     "data": {
      "text/html": [
       "<br>    <style><br>        .wandb-row {<br>            display: flex;<br>            flex-direction: row;<br>            flex-wrap: wrap;<br>            justify-content: flex-start;<br>            width: 100%;<br>        }<br>        .wandb-col {<br>            display: flex;<br>            flex-direction: column;<br>            flex-basis: 100%;<br>            flex: 1;<br>            padding: 10px;<br>        }<br>    </style><br><div class=\"wandb-row\"><div class=\"wandb-col\"><h3>Run history:</h3><br/><table class=\"wandb\"><tr><td>best_reward</td><td>▁</td></tr><tr><td>converged_episode</td><td>▁</td></tr><tr><td>train_time_sec</td><td>▁</td></tr></table><br/></div><div class=\"wandb-col\"><h3>Run summary:</h3><br/><table class=\"wandb\"><tr><td>best_reward</td><td>1</td></tr><tr><td>converged_episode</td><td>-1</td></tr><tr><td>train_time_sec</td><td>0</td></tr></table><br/></div></div>"
      ],
      "text/plain": [
       "<IPython.core.display.HTML object>"
      ]
     },
     "metadata": {},
     "output_type": "display_data"
    },
    {
     "data": {
      "text/html": [
       " View run <strong style=\"color:#cdcd00\">drawn-sweep-28</strong> at: <a href='https://wandb.ai/magicayyub-lab/montyhall-ql/runs/ieqfw1w9' target=\"_blank\">https://wandb.ai/magicayyub-lab/montyhall-ql/runs/ieqfw1w9</a><br> View project at: <a href='https://wandb.ai/magicayyub-lab/montyhall-ql' target=\"_blank\">https://wandb.ai/magicayyub-lab/montyhall-ql</a><br>Synced 5 W&B file(s), 0 media file(s), 0 artifact file(s) and 0 other file(s)"
      ],
      "text/plain": [
       "<IPython.core.display.HTML object>"
      ]
     },
     "metadata": {},
     "output_type": "display_data"
    },
    {
     "data": {
      "text/html": [
       "Find logs at: <code>./wandb/run-20250830_040524-ieqfw1w9/logs</code>"
      ],
      "text/plain": [
       "<IPython.core.display.HTML object>"
      ]
     },
     "metadata": {},
     "output_type": "display_data"
    },
    {
     "name": "stderr",
     "output_type": "stream",
     "text": [
      "\u001b[34m\u001b[1mwandb\u001b[0m: Agent Starting Run: m56bothu with config:\n",
      "\u001b[34m\u001b[1mwandb\u001b[0m: \tdiscount_factor: 0.8700822497375661\n",
      "\u001b[34m\u001b[1mwandb\u001b[0m: \tepsilon_decay: 0.9532408158987464\n",
      "\u001b[34m\u001b[1mwandb\u001b[0m: \tlearning_rate: 0.0039645082932469\n"
     ]
    },
    {
     "data": {
      "text/html": [
       "Changes to your `wandb` environment variables will be ignored because your `wandb` session has already started. For more information on how to modify your settings with `wandb.init()` arguments, please refer to <a href='https://wandb.me/wandb-init' target=\"_blank\">the W&B docs</a>."
      ],
      "text/plain": [
       "<IPython.core.display.HTML object>"
      ]
     },
     "metadata": {},
     "output_type": "display_data"
    },
    {
     "data": {
      "text/html": [
       "Ignoring project 'montyhall-ql' when running a sweep."
      ],
      "text/plain": [
       "<IPython.core.display.HTML object>"
      ]
     },
     "metadata": {},
     "output_type": "display_data"
    },
    {
     "data": {
      "text/html": [
       "Waiting for wandb.init()..."
      ],
      "text/plain": [
       "<IPython.core.display.HTML object>"
      ]
     },
     "metadata": {},
     "output_type": "display_data"
    },
    {
     "data": {
      "text/html": [
       "Tracking run with wandb version 0.21.2"
      ],
      "text/plain": [
       "<IPython.core.display.HTML object>"
      ]
     },
     "metadata": {},
     "output_type": "display_data"
    },
    {
     "data": {
      "text/html": [
       "Run data is saved locally in <code>/Users/ayouba/Documents/laboratoire/RL/wandb/run-20250830_040529-m56bothu</code>"
      ],
      "text/plain": [
       "<IPython.core.display.HTML object>"
      ]
     },
     "metadata": {},
     "output_type": "display_data"
    },
    {
     "data": {
      "text/html": [
       "Syncing run <strong><a href='https://wandb.ai/magicayyub-lab/montyhall-ql/runs/m56bothu' target=\"_blank\">dutiful-sweep-29</a></strong> to <a href='https://wandb.ai/magicayyub-lab/montyhall-ql' target=\"_blank\">Weights & Biases</a> (<a href='https://wandb.me/developer-guide' target=\"_blank\">docs</a>)<br>Sweep page: <a href='https://wandb.ai/magicayyub-lab/montyhall-ql/sweeps/9cdpki6q' target=\"_blank\">https://wandb.ai/magicayyub-lab/montyhall-ql/sweeps/9cdpki6q</a>"
      ],
      "text/plain": [
       "<IPython.core.display.HTML object>"
      ]
     },
     "metadata": {},
     "output_type": "display_data"
    },
    {
     "data": {
      "text/html": [
       " View project at <a href='https://wandb.ai/magicayyub-lab/montyhall-ql' target=\"_blank\">https://wandb.ai/magicayyub-lab/montyhall-ql</a>"
      ],
      "text/plain": [
       "<IPython.core.display.HTML object>"
      ]
     },
     "metadata": {},
     "output_type": "display_data"
    },
    {
     "data": {
      "text/html": [
       " View sweep at <a href='https://wandb.ai/magicayyub-lab/montyhall-ql/sweeps/9cdpki6q' target=\"_blank\">https://wandb.ai/magicayyub-lab/montyhall-ql/sweeps/9cdpki6q</a>"
      ],
      "text/plain": [
       "<IPython.core.display.HTML object>"
      ]
     },
     "metadata": {},
     "output_type": "display_data"
    },
    {
     "data": {
      "text/html": [
       " View run at <a href='https://wandb.ai/magicayyub-lab/montyhall-ql/runs/m56bothu' target=\"_blank\">https://wandb.ai/magicayyub-lab/montyhall-ql/runs/m56bothu</a>"
      ],
      "text/plain": [
       "<IPython.core.display.HTML object>"
      ]
     },
     "metadata": {},
     "output_type": "display_data"
    },
    {
     "name": "stderr",
     "output_type": "stream",
     "text": [
      "\u001b[32m2025-08-30 04:05:30.644\u001b[0m | \u001b[1mINFO    \u001b[0m | \u001b[36msrc.rl.tabular_q_learning\u001b[0m:\u001b[36mtrain\u001b[0m:\u001b[36m226\u001b[0m - \u001b[1mEpisode    25 | R: +1.0 | ε: 0.302\u001b[0m\n",
      "\u001b[32m2025-08-30 04:05:30.647\u001b[0m | \u001b[1mINFO    \u001b[0m | \u001b[36msrc.rl.tabular_q_learning\u001b[0m:\u001b[36mtrain\u001b[0m:\u001b[36m226\u001b[0m - \u001b[1mEpisode    50 | R: +1.0 | ε: 0.091\u001b[0m\n",
      "\u001b[32m2025-08-30 04:05:30.649\u001b[0m | \u001b[1mINFO    \u001b[0m | \u001b[36msrc.rl.tabular_q_learning\u001b[0m:\u001b[36mtrain\u001b[0m:\u001b[36m226\u001b[0m - \u001b[1mEpisode    75 | R: +1.0 | ε: 0.050\u001b[0m\n",
      "\u001b[32m2025-08-30 04:05:30.650\u001b[0m | \u001b[1mINFO    \u001b[0m | \u001b[36msrc.rl.tabular_q_learning\u001b[0m:\u001b[36mtrain\u001b[0m:\u001b[36m226\u001b[0m - \u001b[1mEpisode   100 | R: +1.0 | ε: 0.050\u001b[0m\n",
      "\u001b[32m2025-08-30 04:05:30.652\u001b[0m | \u001b[1mINFO    \u001b[0m | \u001b[36msrc.rl.tabular_q_learning\u001b[0m:\u001b[36mtrain\u001b[0m:\u001b[36m226\u001b[0m - \u001b[1mEpisode   125 | R: +1.0 | ε: 0.050\u001b[0m\n",
      "\u001b[32m2025-08-30 04:05:30.653\u001b[0m | \u001b[32m\u001b[1mSUCCESS \u001b[0m | \u001b[36msrc.rl.tabular_q_learning\u001b[0m:\u001b[36mtrain\u001b[0m:\u001b[36m237\u001b[0m - \u001b[32m\u001b[1mConverged at episode 125 after 0.01s\u001b[0m\n",
      "\u001b[32m2025-08-30 04:05:30.655\u001b[0m | \u001b[1mINFO    \u001b[0m | \u001b[36msrc.rl.tabular_q_learning\u001b[0m:\u001b[36mtrain\u001b[0m:\u001b[36m226\u001b[0m - \u001b[1mEpisode   150 | R: +1.0 | ε: 0.050\u001b[0m\n",
      "\u001b[32m2025-08-30 04:05:30.656\u001b[0m | \u001b[1mINFO    \u001b[0m | \u001b[36msrc.rl.tabular_q_learning\u001b[0m:\u001b[36mtrain\u001b[0m:\u001b[36m226\u001b[0m - \u001b[1mEpisode   175 | R: +1.0 | ε: 0.050\u001b[0m\n",
      "\u001b[32m2025-08-30 04:05:30.658\u001b[0m | \u001b[1mINFO    \u001b[0m | \u001b[36msrc.rl.tabular_q_learning\u001b[0m:\u001b[36mtrain\u001b[0m:\u001b[36m226\u001b[0m - \u001b[1mEpisode   200 | R: +1.0 | ε: 0.050\u001b[0m\n",
      "\u001b[32m2025-08-30 04:05:30.660\u001b[0m | \u001b[1mINFO    \u001b[0m | \u001b[36msrc.rl.tabular_q_learning\u001b[0m:\u001b[36mtrain\u001b[0m:\u001b[36m226\u001b[0m - \u001b[1mEpisode   225 | R: +1.0 | ε: 0.050\u001b[0m\n",
      "\u001b[32m2025-08-30 04:05:30.662\u001b[0m | \u001b[1mINFO    \u001b[0m | \u001b[36msrc.rl.tabular_q_learning\u001b[0m:\u001b[36mtrain\u001b[0m:\u001b[36m226\u001b[0m - \u001b[1mEpisode   250 | R: +1.0 | ε: 0.050\u001b[0m\n",
      "\u001b[32m2025-08-30 04:05:30.664\u001b[0m | \u001b[1mINFO    \u001b[0m | \u001b[36msrc.rl.tabular_q_learning\u001b[0m:\u001b[36mtrain\u001b[0m:\u001b[36m226\u001b[0m - \u001b[1mEpisode   275 | R: +1.0 | ε: 0.050\u001b[0m\n",
      "\u001b[32m2025-08-30 04:05:30.667\u001b[0m | \u001b[1mINFO    \u001b[0m | \u001b[36msrc.rl.tabular_q_learning\u001b[0m:\u001b[36mtrain\u001b[0m:\u001b[36m226\u001b[0m - \u001b[1mEpisode   300 | R: +1.0 | ε: 0.050\u001b[0m\n",
      "\u001b[32m2025-08-30 04:05:30.668\u001b[0m | \u001b[1mINFO    \u001b[0m | \u001b[36msrc.rl.tabular_q_learning\u001b[0m:\u001b[36mtrain\u001b[0m:\u001b[36m226\u001b[0m - \u001b[1mEpisode   325 | R: +1.0 | ε: 0.050\u001b[0m\n",
      "\u001b[32m2025-08-30 04:05:30.670\u001b[0m | \u001b[1mINFO    \u001b[0m | \u001b[36msrc.rl.tabular_q_learning\u001b[0m:\u001b[36mtrain\u001b[0m:\u001b[36m226\u001b[0m - \u001b[1mEpisode   350 | R: +1.0 | ε: 0.050\u001b[0m\n",
      "\u001b[32m2025-08-30 04:05:30.672\u001b[0m | \u001b[1mINFO    \u001b[0m | \u001b[36msrc.rl.tabular_q_learning\u001b[0m:\u001b[36mtrain\u001b[0m:\u001b[36m226\u001b[0m - \u001b[1mEpisode   375 | R: +1.0 | ε: 0.050\u001b[0m\n",
      "\u001b[32m2025-08-30 04:05:30.675\u001b[0m | \u001b[1mINFO    \u001b[0m | \u001b[36msrc.rl.tabular_q_learning\u001b[0m:\u001b[36mtrain\u001b[0m:\u001b[36m226\u001b[0m - \u001b[1mEpisode   400 | R: +1.0 | ε: 0.050\u001b[0m\n",
      "\u001b[32m2025-08-30 04:05:30.677\u001b[0m | \u001b[1mINFO    \u001b[0m | \u001b[36msrc.rl.tabular_q_learning\u001b[0m:\u001b[36mtrain\u001b[0m:\u001b[36m226\u001b[0m - \u001b[1mEpisode   425 | R: +1.0 | ε: 0.050\u001b[0m\n",
      "\u001b[32m2025-08-30 04:05:30.679\u001b[0m | \u001b[1mINFO    \u001b[0m | \u001b[36msrc.rl.tabular_q_learning\u001b[0m:\u001b[36mtrain\u001b[0m:\u001b[36m226\u001b[0m - \u001b[1mEpisode   450 | R: +1.0 | ε: 0.050\u001b[0m\n",
      "\u001b[32m2025-08-30 04:05:30.681\u001b[0m | \u001b[1mINFO    \u001b[0m | \u001b[36msrc.rl.tabular_q_learning\u001b[0m:\u001b[36mtrain\u001b[0m:\u001b[36m226\u001b[0m - \u001b[1mEpisode   475 | R: +1.0 | ε: 0.050\u001b[0m\n",
      "\u001b[32m2025-08-30 04:05:30.683\u001b[0m | \u001b[1mINFO    \u001b[0m | \u001b[36msrc.rl.tabular_q_learning\u001b[0m:\u001b[36mtrain\u001b[0m:\u001b[36m226\u001b[0m - \u001b[1mEpisode   500 | R: +1.0 | ε: 0.050\u001b[0m\n"
     ]
    },
    {
     "data": {
      "text/html": [],
      "text/plain": [
       "<IPython.core.display.HTML object>"
      ]
     },
     "metadata": {},
     "output_type": "display_data"
    },
    {
     "data": {
      "text/html": [
       "<br>    <style><br>        .wandb-row {<br>            display: flex;<br>            flex-direction: row;<br>            flex-wrap: wrap;<br>            justify-content: flex-start;<br>            width: 100%;<br>        }<br>        .wandb-col {<br>            display: flex;<br>            flex-direction: column;<br>            flex-basis: 100%;<br>            flex: 1;<br>            padding: 10px;<br>        }<br>    </style><br><div class=\"wandb-row\"><div class=\"wandb-col\"><h3>Run history:</h3><br/><table class=\"wandb\"><tr><td>best_reward</td><td>▁</td></tr><tr><td>converged_episode</td><td>▁</td></tr><tr><td>train_time_sec</td><td>▁</td></tr></table><br/></div><div class=\"wandb-col\"><h3>Run summary:</h3><br/><table class=\"wandb\"><tr><td>best_reward</td><td>1</td></tr><tr><td>converged_episode</td><td>125</td></tr><tr><td>train_time_sec</td><td>0.01034</td></tr></table><br/></div></div>"
      ],
      "text/plain": [
       "<IPython.core.display.HTML object>"
      ]
     },
     "metadata": {},
     "output_type": "display_data"
    },
    {
     "data": {
      "text/html": [
       " View run <strong style=\"color:#cdcd00\">dutiful-sweep-29</strong> at: <a href='https://wandb.ai/magicayyub-lab/montyhall-ql/runs/m56bothu' target=\"_blank\">https://wandb.ai/magicayyub-lab/montyhall-ql/runs/m56bothu</a><br> View project at: <a href='https://wandb.ai/magicayyub-lab/montyhall-ql' target=\"_blank\">https://wandb.ai/magicayyub-lab/montyhall-ql</a><br>Synced 5 W&B file(s), 0 media file(s), 0 artifact file(s) and 0 other file(s)"
      ],
      "text/plain": [
       "<IPython.core.display.HTML object>"
      ]
     },
     "metadata": {},
     "output_type": "display_data"
    },
    {
     "data": {
      "text/html": [
       "Find logs at: <code>./wandb/run-20250830_040529-m56bothu/logs</code>"
      ],
      "text/plain": [
       "<IPython.core.display.HTML object>"
      ]
     },
     "metadata": {},
     "output_type": "display_data"
    },
    {
     "name": "stderr",
     "output_type": "stream",
     "text": [
      "\u001b[34m\u001b[1mwandb\u001b[0m: Agent Starting Run: 37qzbn6y with config:\n",
      "\u001b[34m\u001b[1mwandb\u001b[0m: \tdiscount_factor: 0.9299151855704644\n",
      "\u001b[34m\u001b[1mwandb\u001b[0m: \tepsilon_decay: 0.9639710577884224\n",
      "\u001b[34m\u001b[1mwandb\u001b[0m: \tlearning_rate: 0.00081330456995281\n"
     ]
    },
    {
     "data": {
      "text/html": [
       "Changes to your `wandb` environment variables will be ignored because your `wandb` session has already started. For more information on how to modify your settings with `wandb.init()` arguments, please refer to <a href='https://wandb.me/wandb-init' target=\"_blank\">the W&B docs</a>."
      ],
      "text/plain": [
       "<IPython.core.display.HTML object>"
      ]
     },
     "metadata": {},
     "output_type": "display_data"
    },
    {
     "data": {
      "text/html": [
       "Ignoring project 'montyhall-ql' when running a sweep."
      ],
      "text/plain": [
       "<IPython.core.display.HTML object>"
      ]
     },
     "metadata": {},
     "output_type": "display_data"
    },
    {
     "data": {
      "text/html": [
       "Waiting for wandb.init()..."
      ],
      "text/plain": [
       "<IPython.core.display.HTML object>"
      ]
     },
     "metadata": {},
     "output_type": "display_data"
    },
    {
     "data": {
      "text/html": [
       "Tracking run with wandb version 0.21.2"
      ],
      "text/plain": [
       "<IPython.core.display.HTML object>"
      ]
     },
     "metadata": {},
     "output_type": "display_data"
    },
    {
     "data": {
      "text/html": [
       "Run data is saved locally in <code>/Users/ayouba/Documents/laboratoire/RL/wandb/run-20250830_040535-37qzbn6y</code>"
      ],
      "text/plain": [
       "<IPython.core.display.HTML object>"
      ]
     },
     "metadata": {},
     "output_type": "display_data"
    },
    {
     "data": {
      "text/html": [
       "Syncing run <strong><a href='https://wandb.ai/magicayyub-lab/montyhall-ql/runs/37qzbn6y' target=\"_blank\">hearty-sweep-30</a></strong> to <a href='https://wandb.ai/magicayyub-lab/montyhall-ql' target=\"_blank\">Weights & Biases</a> (<a href='https://wandb.me/developer-guide' target=\"_blank\">docs</a>)<br>Sweep page: <a href='https://wandb.ai/magicayyub-lab/montyhall-ql/sweeps/9cdpki6q' target=\"_blank\">https://wandb.ai/magicayyub-lab/montyhall-ql/sweeps/9cdpki6q</a>"
      ],
      "text/plain": [
       "<IPython.core.display.HTML object>"
      ]
     },
     "metadata": {},
     "output_type": "display_data"
    },
    {
     "data": {
      "text/html": [
       " View project at <a href='https://wandb.ai/magicayyub-lab/montyhall-ql' target=\"_blank\">https://wandb.ai/magicayyub-lab/montyhall-ql</a>"
      ],
      "text/plain": [
       "<IPython.core.display.HTML object>"
      ]
     },
     "metadata": {},
     "output_type": "display_data"
    },
    {
     "data": {
      "text/html": [
       " View sweep at <a href='https://wandb.ai/magicayyub-lab/montyhall-ql/sweeps/9cdpki6q' target=\"_blank\">https://wandb.ai/magicayyub-lab/montyhall-ql/sweeps/9cdpki6q</a>"
      ],
      "text/plain": [
       "<IPython.core.display.HTML object>"
      ]
     },
     "metadata": {},
     "output_type": "display_data"
    },
    {
     "data": {
      "text/html": [
       " View run at <a href='https://wandb.ai/magicayyub-lab/montyhall-ql/runs/37qzbn6y' target=\"_blank\">https://wandb.ai/magicayyub-lab/montyhall-ql/runs/37qzbn6y</a>"
      ],
      "text/plain": [
       "<IPython.core.display.HTML object>"
      ]
     },
     "metadata": {},
     "output_type": "display_data"
    },
    {
     "name": "stderr",
     "output_type": "stream",
     "text": [
      "\u001b[32m2025-08-30 04:05:36.049\u001b[0m | \u001b[1mINFO    \u001b[0m | \u001b[36msrc.rl.tabular_q_learning\u001b[0m:\u001b[36mtrain\u001b[0m:\u001b[36m226\u001b[0m - \u001b[1mEpisode    25 | R: +1.0 | ε: 0.400\u001b[0m\n",
      "\u001b[32m2025-08-30 04:05:36.051\u001b[0m | \u001b[1mINFO    \u001b[0m | \u001b[36msrc.rl.tabular_q_learning\u001b[0m:\u001b[36mtrain\u001b[0m:\u001b[36m226\u001b[0m - \u001b[1mEpisode    50 | R: +1.0 | ε: 0.160\u001b[0m\n",
      "\u001b[32m2025-08-30 04:05:36.053\u001b[0m | \u001b[1mINFO    \u001b[0m | \u001b[36msrc.rl.tabular_q_learning\u001b[0m:\u001b[36mtrain\u001b[0m:\u001b[36m226\u001b[0m - \u001b[1mEpisode    75 | R: +1.0 | ε: 0.064\u001b[0m\n",
      "\u001b[32m2025-08-30 04:05:36.055\u001b[0m | \u001b[1mINFO    \u001b[0m | \u001b[36msrc.rl.tabular_q_learning\u001b[0m:\u001b[36mtrain\u001b[0m:\u001b[36m226\u001b[0m - \u001b[1mEpisode   100 | R: +1.0 | ε: 0.050\u001b[0m\n",
      "\u001b[32m2025-08-30 04:05:36.057\u001b[0m | \u001b[1mINFO    \u001b[0m | \u001b[36msrc.rl.tabular_q_learning\u001b[0m:\u001b[36mtrain\u001b[0m:\u001b[36m226\u001b[0m - \u001b[1mEpisode   125 | R: +1.0 | ε: 0.050\u001b[0m\n",
      "\u001b[32m2025-08-30 04:05:36.059\u001b[0m | \u001b[32m\u001b[1mSUCCESS \u001b[0m | \u001b[36msrc.rl.tabular_q_learning\u001b[0m:\u001b[36mtrain\u001b[0m:\u001b[36m237\u001b[0m - \u001b[32m\u001b[1mConverged at episode 144 after 0.01s\u001b[0m\n",
      "\u001b[32m2025-08-30 04:05:36.060\u001b[0m | \u001b[1mINFO    \u001b[0m | \u001b[36msrc.rl.tabular_q_learning\u001b[0m:\u001b[36mtrain\u001b[0m:\u001b[36m226\u001b[0m - \u001b[1mEpisode   150 | R: +1.0 | ε: 0.050\u001b[0m\n",
      "\u001b[32m2025-08-30 04:05:36.062\u001b[0m | \u001b[1mINFO    \u001b[0m | \u001b[36msrc.rl.tabular_q_learning\u001b[0m:\u001b[36mtrain\u001b[0m:\u001b[36m226\u001b[0m - \u001b[1mEpisode   175 | R: +1.0 | ε: 0.050\u001b[0m\n",
      "\u001b[32m2025-08-30 04:05:36.064\u001b[0m | \u001b[1mINFO    \u001b[0m | \u001b[36msrc.rl.tabular_q_learning\u001b[0m:\u001b[36mtrain\u001b[0m:\u001b[36m226\u001b[0m - \u001b[1mEpisode   200 | R: +1.0 | ε: 0.050\u001b[0m\n",
      "\u001b[32m2025-08-30 04:05:36.065\u001b[0m | \u001b[1mINFO    \u001b[0m | \u001b[36msrc.rl.tabular_q_learning\u001b[0m:\u001b[36mtrain\u001b[0m:\u001b[36m226\u001b[0m - \u001b[1mEpisode   225 | R: +1.0 | ε: 0.050\u001b[0m\n",
      "\u001b[32m2025-08-30 04:05:36.069\u001b[0m | \u001b[1mINFO    \u001b[0m | \u001b[36msrc.rl.tabular_q_learning\u001b[0m:\u001b[36mtrain\u001b[0m:\u001b[36m226\u001b[0m - \u001b[1mEpisode   250 | R: +1.0 | ε: 0.050\u001b[0m\n",
      "\u001b[32m2025-08-30 04:05:36.071\u001b[0m | \u001b[1mINFO    \u001b[0m | \u001b[36msrc.rl.tabular_q_learning\u001b[0m:\u001b[36mtrain\u001b[0m:\u001b[36m226\u001b[0m - \u001b[1mEpisode   275 | R: +1.0 | ε: 0.050\u001b[0m\n",
      "\u001b[32m2025-08-30 04:05:36.073\u001b[0m | \u001b[1mINFO    \u001b[0m | \u001b[36msrc.rl.tabular_q_learning\u001b[0m:\u001b[36mtrain\u001b[0m:\u001b[36m226\u001b[0m - \u001b[1mEpisode   300 | R: +1.0 | ε: 0.050\u001b[0m\n",
      "\u001b[32m2025-08-30 04:05:36.075\u001b[0m | \u001b[1mINFO    \u001b[0m | \u001b[36msrc.rl.tabular_q_learning\u001b[0m:\u001b[36mtrain\u001b[0m:\u001b[36m226\u001b[0m - \u001b[1mEpisode   325 | R: +1.0 | ε: 0.050\u001b[0m\n",
      "\u001b[32m2025-08-30 04:05:36.077\u001b[0m | \u001b[1mINFO    \u001b[0m | \u001b[36msrc.rl.tabular_q_learning\u001b[0m:\u001b[36mtrain\u001b[0m:\u001b[36m226\u001b[0m - \u001b[1mEpisode   350 | R: +1.0 | ε: 0.050\u001b[0m\n",
      "\u001b[32m2025-08-30 04:05:36.080\u001b[0m | \u001b[1mINFO    \u001b[0m | \u001b[36msrc.rl.tabular_q_learning\u001b[0m:\u001b[36mtrain\u001b[0m:\u001b[36m226\u001b[0m - \u001b[1mEpisode   375 | R: +1.0 | ε: 0.050\u001b[0m\n",
      "\u001b[32m2025-08-30 04:05:36.082\u001b[0m | \u001b[1mINFO    \u001b[0m | \u001b[36msrc.rl.tabular_q_learning\u001b[0m:\u001b[36mtrain\u001b[0m:\u001b[36m226\u001b[0m - \u001b[1mEpisode   400 | R: +1.0 | ε: 0.050\u001b[0m\n",
      "\u001b[32m2025-08-30 04:05:36.084\u001b[0m | \u001b[1mINFO    \u001b[0m | \u001b[36msrc.rl.tabular_q_learning\u001b[0m:\u001b[36mtrain\u001b[0m:\u001b[36m226\u001b[0m - \u001b[1mEpisode   425 | R: +1.0 | ε: 0.050\u001b[0m\n",
      "\u001b[32m2025-08-30 04:05:36.087\u001b[0m | \u001b[1mINFO    \u001b[0m | \u001b[36msrc.rl.tabular_q_learning\u001b[0m:\u001b[36mtrain\u001b[0m:\u001b[36m226\u001b[0m - \u001b[1mEpisode   450 | R: +1.0 | ε: 0.050\u001b[0m\n",
      "\u001b[32m2025-08-30 04:05:36.089\u001b[0m | \u001b[1mINFO    \u001b[0m | \u001b[36msrc.rl.tabular_q_learning\u001b[0m:\u001b[36mtrain\u001b[0m:\u001b[36m226\u001b[0m - \u001b[1mEpisode   475 | R: +1.0 | ε: 0.050\u001b[0m\n",
      "\u001b[32m2025-08-30 04:05:36.091\u001b[0m | \u001b[1mINFO    \u001b[0m | \u001b[36msrc.rl.tabular_q_learning\u001b[0m:\u001b[36mtrain\u001b[0m:\u001b[36m226\u001b[0m - \u001b[1mEpisode   500 | R: +1.0 | ε: 0.050\u001b[0m\n"
     ]
    },
    {
     "data": {
      "text/html": [],
      "text/plain": [
       "<IPython.core.display.HTML object>"
      ]
     },
     "metadata": {},
     "output_type": "display_data"
    },
    {
     "data": {
      "text/html": [
       "<br>    <style><br>        .wandb-row {<br>            display: flex;<br>            flex-direction: row;<br>            flex-wrap: wrap;<br>            justify-content: flex-start;<br>            width: 100%;<br>        }<br>        .wandb-col {<br>            display: flex;<br>            flex-direction: column;<br>            flex-basis: 100%;<br>            flex: 1;<br>            padding: 10px;<br>        }<br>    </style><br><div class=\"wandb-row\"><div class=\"wandb-col\"><h3>Run history:</h3><br/><table class=\"wandb\"><tr><td>best_reward</td><td>▁</td></tr><tr><td>converged_episode</td><td>▁</td></tr><tr><td>train_time_sec</td><td>▁</td></tr></table><br/></div><div class=\"wandb-col\"><h3>Run summary:</h3><br/><table class=\"wandb\"><tr><td>best_reward</td><td>1</td></tr><tr><td>converged_episode</td><td>144</td></tr><tr><td>train_time_sec</td><td>0.01293</td></tr></table><br/></div></div>"
      ],
      "text/plain": [
       "<IPython.core.display.HTML object>"
      ]
     },
     "metadata": {},
     "output_type": "display_data"
    },
    {
     "data": {
      "text/html": [
       " View run <strong style=\"color:#cdcd00\">hearty-sweep-30</strong> at: <a href='https://wandb.ai/magicayyub-lab/montyhall-ql/runs/37qzbn6y' target=\"_blank\">https://wandb.ai/magicayyub-lab/montyhall-ql/runs/37qzbn6y</a><br> View project at: <a href='https://wandb.ai/magicayyub-lab/montyhall-ql' target=\"_blank\">https://wandb.ai/magicayyub-lab/montyhall-ql</a><br>Synced 5 W&B file(s), 0 media file(s), 0 artifact file(s) and 0 other file(s)"
      ],
      "text/plain": [
       "<IPython.core.display.HTML object>"
      ]
     },
     "metadata": {},
     "output_type": "display_data"
    },
    {
     "data": {
      "text/html": [
       "Find logs at: <code>./wandb/run-20250830_040535-37qzbn6y/logs</code>"
      ],
      "text/plain": [
       "<IPython.core.display.HTML object>"
      ]
     },
     "metadata": {},
     "output_type": "display_data"
    }
   ],
   "source": [
    "sweep_config = dict(\n",
    "    name   = \"montyhall-bayes\",\n",
    "    method = \"bayes\",                      # The search method used: grid | random | bayes. Random & Bayes work best.\n",
    "    metric = dict(name=\"best_reward\", goal=\"maximize\"),\n",
    "    parameters = dict(\n",
    "        learning_rate   = dict(min=1e-5,  max=1e-2,  distribution=\"log_uniform_values\"),\n",
    "        discount_factor = dict(min=0.8,   max=0.999, distribution=\"uniform\"),\n",
    "        epsilon_decay   = dict(min=0.95,  max=0.9999,distribution=\"uniform\"),\n",
    "    ),\n",
    "    early_terminate = dict(type=\"hyperband\", min_iter=10),\n",
    ")\n",
    "\n",
    "sweep_id = wandb.sweep(sweep_config, project=\"montyhall-ql\")\n",
    "wandb.agent(sweep_id, function=train_sweep, count=30) # 30 trials"
   ]
  },
  {
   "cell_type": "markdown",
   "id": "a76f92f8",
   "metadata": {},
   "source": [
    "# Viewing the results\n",
    "If you navigate to the sweep URL on Weights & Biases (wandb.ai), you'll see the data logged in various formats such as table and graphs, where you can visualise the hyperparameter space. You should see something like the following:"
   ]
  },
  {
   "cell_type": "markdown",
   "id": "072d1831",
   "metadata": {},
   "source": [
    "![wandb dashboard](assets/wandb.png)"
   ]
  },
  {
   "cell_type": "markdown",
   "id": "2e4884af",
   "metadata": {},
   "source": [
    "Explore this dashboard fully for more information on how the tuning and sweeps went.\n",
    "\n",
    "We can programmatically print the best hyperparameters as below:"
   ]
  },
  {
   "cell_type": "code",
   "execution_count": 7,
   "id": "33934220",
   "metadata": {},
   "outputs": [
    {
     "name": "stdout",
     "output_type": "stream",
     "text": [
      "🏆  wise-sweep-4\n",
      "   • best_reward       : 1\n",
      "   • converged_episode : -1\n",
      "   • hyperparams: {'learning_rate': 0.002855897614794718, 'discount_factor': 0.941327967252124, 'epsilon_decay': 0.970080497029396}\n"
     ]
    }
   ],
   "source": [
    "api   = wandb.Api()\n",
    "sweep = api.sweep(f\"{os.getenv(\"WANDB_ENTITY\")}/montyhall-ql/{sweep_id}\")\n",
    "best  = max(sweep.runs, key=lambda r: r.summary.get(\"best_reward\", float(\"-inf\")))\n",
    "\n",
    "\n",
    "\n",
    "# ── 2. Rank runs: highest reward FIRST, then earliest convergence ────────\n",
    "def sort_key(run):\n",
    "    # Reward: want *larger* → negate so larger becomes “smaller” for sort()\n",
    "    reward = -run.summary.get(\"best_reward\", float(\"-inf\"))\n",
    "    # Convergence episode: want *smaller*\n",
    "    conv_ep = run.summary.get(\"converged_episode\", float(\"inf\"))\n",
    "    return (reward, conv_ep)\n",
    "\n",
    "best_run = min(sweep.runs, key=sort_key)\n",
    "\n",
    "# ── 3. Print the winner’s details ────────────────────────────────────────\n",
    "print(f\"🏆  {best_run.name}\")\n",
    "print(f\"   • best_reward       : {best_run.summary['best_reward']}\")\n",
    "print(f\"   • converged_episode : {best_run.summary['converged_episode']}\")\n",
    "print(f\"   • hyperparams:\", {k: best_run.config[k] for k in ('learning_rate',\n",
    "                                                    'discount_factor',\n",
    "                                                    'epsilon_decay')})"
   ]
  },
  {
   "cell_type": "markdown",
   "id": "0a834d17",
   "metadata": {},
   "source": [
    "# Conclusion\n",
    "\n",
    "In this notebook, we learnt the following:\n",
    "* Instantiating environments with the Gymnasium library\n",
    "* Deployed our previously implemented Reinforcement Learning algorithm, Tabular Q Learning, on the aforementioned environment \n",
    "* How to visualise training performance through plotting with Matplotlib\n",
    "* How to perform hyperparameter tuning\n",
    "* Followed best practices for experiment tracking and storage of results in an archival manner\n",
    "\n",
    "Following this notebook, we will learn the process of environment creation in Notebook 4. This allows solving any arbitrary combinatorial problem, allowing you to formally define a model of the \"problem space\" for any problem you can think of.\n",
    "\n",
    "# Extension\n",
    "---\n",
    "\n",
    "## Extension 1. Optimal General Solution to Monty Hall\n",
    "As an extension to this, you can consider the following task:\n",
    "> Based on our trained RL algorithm, using optimal hyperparameters above, how often is it optimal to switch or stay with the first selected door? \n",
    "\n",
    "You can do this by using the `.test()` method and collecting some basic statistics using the rolled-out policy."
   ]
  }
 ],
 "metadata": {
  "kernelspec": {
   "display_name": "RL",
   "language": "python",
   "name": "python3"
  },
  "language_info": {
   "codemirror_mode": {
    "name": "ipython",
    "version": 3
   },
   "file_extension": ".py",
   "mimetype": "text/x-python",
   "name": "python",
   "nbconvert_exporter": "python",
   "pygments_lexer": "ipython3",
   "version": "3.12.11"
  }
 },
 "nbformat": 4,
 "nbformat_minor": 5
}
