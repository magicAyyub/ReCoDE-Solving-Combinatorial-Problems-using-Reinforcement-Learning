{
 "cells": [
  {
   "cell_type": "markdown",
   "id": "88605321",
   "metadata": {},
   "source": [
    "# 2. Tabular Q Learning"
   ]
  },
  {
   "cell_type": "code",
   "execution_count": 1,
   "id": "283b8faa",
   "metadata": {},
   "outputs": [],
   "source": [
    "from utils.grader import *\n",
    "from notebooks.internal.exercises_2_tabular_q_learning import *\n",
    "\n",
    "import numpy as np"
   ]
  },
  {
   "cell_type": "markdown",
   "id": "7e87ba60",
   "metadata": {},
   "source": [
    "## The \"Control\" Problem\n",
    "A **reinforcement‑learning agent** interacts with an **environment** in a repeated loop:\n",
    "1. **Observe & act**  \n",
    "   The agent observes its current state and chooses an action.\n",
    "\n",
    "2. **Environment transition**  \n",
    "   The environment then returns  \n",
    "   - the next state, drawn randomly from the transition probabilities conditioned on the current state and action, and\n",
    "   - a numerical reward value.\n",
    "\n",
    "3. **Repeat**  \n",
    "   Control returns to Step 1 and the cycle continues until the episode terminates, either because an end-state (terminal state) is reached or because a predefined time step limit is exceeded.\n",
    "\n",
    "Let us consider an example *environment* where a robot is learning to solve a maze. The environment could either be:\n",
    "* **Simulated** – defined entirely by software. Modern simulators can step extremely fast, allowing you to run millions of time‑steps per second on a GPU cluster.  \n",
    "* **Real‑world** — the physical maze itself with a robot that is able to detect its state, select an action, and receive a reward. Here the interaction rate is limited by actuator and sensor latency, often on the order of one action per second. To collect experience faster you would need to run multiple robots in parallel.\n",
    "\n",
    "Because the simulated environment is faster to train on, you would likely want to train the robot on the simulated environment that replicates the real-world environment, and later deploy the robot in the real-world rather than training there. However, perfect replication remains a challenge, and this is called the \"sim-to-real\" challenge.\n",
    "\n",
    "In both cases the formal control loop above remains the same: observe, act, receive the next state and reward, repeat. You can optionally read the following subsection for learning more theoretical background on modelling the agent-environment interaction.\n",
    "\n",
    "### Optional Background) Markov Decision Processes\n",
    "We can formally model the agent-environment interaction contract as a **Markov Decision Process** (MDP). This modelling helps us rigorously and clearly define the problem and our assumptions. \n",
    "\n",
    "A *Markov Decision Process* $\\mathcal{M}$ is described by the elements in the following tuple: $$\\mathcal M = \\langle \\mathcal S,\\;\\mathcal A,\\;P,\\;R,\\;\\gamma\\rangle$$\n",
    "\n",
    "* **States** where each state $s \\in \\mathcal{A}$ captures the active facts of the system.\n",
    "* **Actions** in each state $s$ ($s \\in \\mathcal{S}$), an agent can take an action $a (a \\in \\mathcal{A}$), which results in a new state $s'$ that is the result of taking the action. Actions can either be deterministic (always ending up in the same resulting state) or probabilistic (ending up in a certain state from a set of states due to stochastic/random/uncertain elements).\n",
    "* $P(s' \\mid s,a)$ is the transition probability from a starting state $s$, taking a particular action $a$, to the next state $s'$.\n",
    "* $R(s,a,s') = \\mathbb E\\![\\,r_{t+1}\\mid s_t=s,\\,a_t=a,\\,s_{t+1}=s'\\,]$ is the expected one-step reward. One-step is defined by the agent starting in state $s$, takes an action $a$, and ends up in the resultant state $s'$.\n",
    "* $\\gamma\\in[0,1]$ discounts future rewards\n",
    "\n",
    "The return can be defined as $G_t$, as below:\n",
    "$$\n",
    "G_t \\;=\\; r_{t+1} + \\gamma r_{t+2} + \\gamma^2 r_{t+3} + \\dots\n",
    "$$\n",
    "\n",
    "The above definitions are quite straightforward, however, you may be wondering what the purpose of a discount factor exactly is. A low discount factor (e.g 0.1) essentially states that getting a smaller reward earlier is better than a large reward much later down the line. In non-episodic RL settings, since the reward horizon may be infinite, you lose convergence guarantees without setting a discount factor. Whereas in episodic RL settings, while you can use a discount factor of 1.0, a slightly smaller $\\gamma$ (e.g. 0.99) damps far-future noise, helping reduce variance."
   ]
  },
  {
   "cell_type": "markdown",
   "id": "861d9ac8",
   "metadata": {},
   "source": [
    "## Finding an Optimal Policy\n",
    "Recall that a policy is the rulebook that tells the agent which action to take in any particular state. A policy can be *deterministic* (one state maps to one action) or *stochastic* (one state maps to a probability distribution of actions to take). For now, we will assume a deterministic policy.\n",
    "\n",
    "Our goal is to find an **optimal policy**, which we call $\\pi^*$, that maximises the expected return from every state.\n",
    "\n",
    "### Learning with Model-Based and Model-Free algorithms\n",
    "There are two key kinds of Reinforcement Learning algorithms we can consider, one is **model-based** algorithms, and the other is **model-free** algorithms. **Model-based** algorithms assume having access to a function which predicts state transitions ($* $P(s' \\mid s,a)$) and rewards ($R(s,a,s')$), which we call a model. Analogously, model-free algorithms do not assume access to such a predicting function.\n",
    "\n",
    "If you have a model, you can perform planning (i.e. \"thinking\" multiple time steps ahead before performing actions), which in turn increases the sample efficiency of learning (meaning that you do not have to perform as much training). This model can also be learnt from interacting with the environment, with the challenge of learning an accurate representation, particularly with unseen data. However, the real environment dynamics are usually not accessible to the agent or can be costly to compute (e.g. involves calling an external solver). Additionally, vanilla planning techniques are not as suited towards large combinatorial action and state spaces. As model-free algorithms involve a weaker assumption, and thus is more general to learn, we will start with a model-free algorithm known as *Tabular Q-Learning*."
   ]
  },
  {
   "cell_type": "markdown",
   "id": "11f2244c",
   "metadata": {},
   "source": [
    "## Tabular Q-Learning\n",
    "Recall that we want to train our reinforcement‑learning (RL) agent so that it maximises the *cumulative (discounted) return* — the total reward it collects over time.\n",
    "\n",
    "A common way to achieve this is to learn an action‑value function $Q(s, a)$. From experience, we estimate how advantageous it is to take action $a$ in state $s$ and then follow the current policy thereafter."
   ]
  },
  {
   "cell_type": "markdown",
   "id": "62d97052",
   "metadata": {},
   "source": [
    "<p align=\"center\">\n",
    "  <img\n",
    "    src=\"assets/q_table.png\",\n",
    "    alt=\"RL Flowchart\",\n",
    "    style=\"max-width: 50%; max-height: 50%;\"\n",
    "  />\n",
    "</p>"
   ]
  },
  {
   "cell_type": "markdown",
   "id": "cae795a1",
   "metadata": {},
   "source": [
    "When the state and action spaces are discrete and not too large, $Q$ can be stored explicitly as a table, with one scalar entry for each $(s, a)$ pair. In larger problems, we would have to approximate $Q$ with a parameterised function (e.g. a neural network).\n",
    "\n",
    "**That is all Tabular Q‑Learning is: training a table that tells you how valuable every possible state–action pair is.**\n",
    "\n",
    "### The Bellman Recursive Relationship\n",
    "The **optimal** action‑value function $Q^*$ satisfies the Bellman optimality equation:\n",
    "$$Q^*(s,a)=\\mathbb E_{s'}\\bigl[R_{t+1}+\\gamma\\max_{a'}Q^*(s',a') \\,\\big|\\, s_t=s,\\ a_t=a\\bigr]$$\n",
    "\n",
    "Because $Q^*$ on the right‑hand side is *the very function we are trying to learn*, the update **bootstraps** off its **own, imperfect estimate** of the next state. In practice we do **not** know the expectation over future states and rewards; we only ever see **single samples** $(s,a,r,s')$. Each update therefore uses\n",
    "\n",
    "* a *sampled* immediate reward $R_{t+1}$, and\n",
    "* the **current** table entry $\\max_{a'}Q(S_{t+1},a')$ as a *proxy* for the (unknown) optimal value of the next state.\n",
    "\n",
    "Any error in the estimate of the next state propagates backwards through the recursion, which can make learning unstable if the learning‑rate $\\alpha$ is too high or the policy does not visit states often enough. Nevertheless, the recursion is also what allows Q‑learning to back‑up information from sparse rewards **without enumerating the entire state space**.\n",
    "\n",
    "The one‑step tabular update is\n",
    "$$\n",
    "\\underbrace{Q(S_t,A_t)}_{\\text{new Q‑value estimate}}\n",
    "\\;\\leftarrow\\;\n",
    "\\underbrace{Q(S_t,A_t)}_{\\text{former Q‑value estimate}}\n",
    "\\;+\\;\n",
    "\\underbrace{\\alpha}_{\\text{learning rate}}\n",
    "\\,\n",
    "\\overbrace{\\Bigl[\n",
    "      \\overbrace{\n",
    "        \\underbrace{R_{t+1}}_{\\text{immediate reward}}\n",
    "        \\;+\\;\n",
    "        \\underbrace{\\gamma\\max\\limits_{a} Q(S_{t+1},a)}_{\\text{discounted estimate of next state}}\n",
    "      }^{\\text{TD target}}\n",
    "      \\;-\\;\n",
    "      \\underbrace{Q(S_t,A_t)}_{\\text{former Q‑value estimate}}\n",
    "    \\Bigr]}^{\\text{TD error}}\n",
    "$$\n",
    "\n",
    "### Exploration ↔ Exploitation\n",
    "In Reinforcement Learning, there is a classical dilemma know as the exploration-exploitation trade-off. At each step, the agent must choose between:\n",
    "* **exploitation** — taking the action it currently *believes* has the highest value so as to harvest reward now, and\n",
    "* **exploration** — trying actions that *might* be worse now but could reveal better long‑term returns.\n",
    "\n",
    "A simple (and still very effective) strategy is **$\\varepsilon\\$‑greedy** exploration:\n",
    "\n",
    "* with probability **$1-\\varepsilon$** select the greedily optimal action $a^*=\\arg\\max_a Q(s,a)$ (**exploit**);\n",
    "* with probability **$\\varepsilon$** pick a random action (**explore**).\n",
    "\n",
    "Typical training schedules start with $\\varepsilon\\approx0.1\\text{–}1.0$ to encourage wide exploration and **decay \\$\\varepsilon\\$ slowly** toward 0 as the table becomes more reliable.\n",
    "\n",
    "More sophisticated alternatives (e.g. Boltzmann exploration or Upper‑Confidence‑Bound methods) adapt the amount of exploration per state, but $\\varepsilon$‑greedy is often sufficient for tabular problems.\n",
    "\n",
    "### Action masking\n",
    "When sampling actions, a policy ordinarily considers the full discrete action space $\\mathcal A$, regardless of the current state $s$. In many tasks only a subset $A(s)\\subseteq \\mathcal A$ is actually legal in state $s$.\n",
    "\n",
    "For example, imagine a 1‑D bin‑packing environment where items arrive sequentially and must be placed into one of $k$ fixed‑capacity bins. By having a mask, you can prevent the agent from performing an illegal action, that is placing an item in an already filled bin.\n",
    "\n",
    "### Optional Background) On-policy vs Off-policy\n",
    "A **policy** is the rule an agent follows to choose actions—e.g. an ε‑greedy rule, a softmax distribution or the output of a neural network.\n",
    "\n",
    "In practice *two* distinct policies matter:\n",
    "\n",
    "| Policy              | Role in learning                                                                   |\n",
    "| :-----------------: | :--------------------------------------------------------------------------------: |\n",
    "| **Behaviour policy** | Interacts with the environment and produces the experience stored in memory        |\n",
    "| **Target policy**   | The policy you attempt to improve when updating value estimates or network weights |\n",
    "\n",
    "\n",
    "The following table provides an overview of on-policy vs off-policy algorithms. In on-policy algorithms, the data considered must be gathered by the current policy.\n",
    "\n",
    "| Aspect                | **On‑policy**                                         | **Off‑policy**                                                                             |\n",
    "| :----------------------: | :---------------------------------------------------: | :----------------------------------------------------------------------------------------: |\n",
    "| **Source of data**       | Must come from the *current* policy                   | Can come from *any* policy (earlier checkpoints, exploratory variants, a random policy, …) |\n",
    "| **Key advantage**        | Learning dynamics are stable and easy to reason about | High sample‑efficiency because past experience can be re‑used                              |\n",
    "| **Key drawback**         | Discards data after each update (wasteful)            | Risk of divergence if the replay distribution drifts too far from the target policy        |\n",
    "| **Canonical algorithms** | SARSA, REINFORCE, PPO                                 | Q‑Learning, DQN, SAC, TD3                                                                  |\n",
    "\n",
    "Tabular **Q‑learning** is off‑policy: the agent *behaves* ε‑greedy (behaviour policy) but each update targets the *greedy* action implied by the current Q‑table (target policy).\n",
    "\n",
    "Although off‑policy methods dominate when sample efficiency is critical, on‑policy algorithms remain popular when stability and predictable convergence are higher priorities. Some of these considerations are only apparent in non-tabular settings. The key thing to note for you at this stage, is that on-policy algorithms restrict updates to using data from the current policy. Even a slight change to the policy invalidates old data."
   ]
  },
  {
   "cell_type": "markdown",
   "id": "c6ccb0e6",
   "metadata": {},
   "source": [
    "##  Programming Tabular Q-Learning\n",
    "Now that we have all the foundational knowledge required for Tabular Q-Learning, we can now try to code up Tabular Q-Learning. This will be in exercise-based format, as shown in Notebook 1."
   ]
  },
  {
   "cell_type": "markdown",
   "id": "eb515c4a",
   "metadata": {},
   "source": [
    "#### $\\varepsilon-greedy$ exploration\n",
    "Let us implement our exploration strategy in the following exercise.\n",
    "1. We must choose when to exploit or explore, based on a probability\n",
    "2. We must constraint ourselves to a legal action set"
   ]
  },
  {
   "cell_type": "code",
   "execution_count": null,
   "id": "da465438",
   "metadata": {},
   "outputs": [
    {
     "data": {
      "application/vnd.jupyter.widget-view+json": {
       "model_id": "7c71075d5ddf43c899e515302711e712",
       "version_major": 2,
       "version_minor": 0
      },
      "text/plain": [
       "VBox(children=(HBox(children=(Button(button_style='success', description='Run Tests', icon='check', style=Butt…"
      ]
     },
     "execution_count": 2,
     "metadata": {},
     "output_type": "execute_result"
    }
   ],
   "source": [
    "def epsilon_greedy(\n",
    "    values: np.ndarray,\n",
    "    epsilon: float,\n",
    "    mask: np.ndarray | None = None,\n",
    "    seed: int | None = None,\n",
    ") -> int:\n",
    "    \"\"\"Return an action index drawn from an ε-greedy policy.\n",
    "\n",
    "    Args:\n",
    "        q_values (1d NumPy array): current estimated q-values.\n",
    "        epsilon (float scalar): Exploration rate between 0 and 1\n",
    "        mask (np.ndarray | None, optional):\n",
    "            Binary vector marking **legal** actions (``1`` → legal, ``0`` → illegal).\n",
    "            If *None* every action is assumed to be legal.\n",
    "        seed (int | None, optional):\n",
    "            If provided, a fresh RNG initialised with this seed is used, making\n",
    "            the call fully deterministic.\n",
    "    Returns:\n",
    "            int: Index of the chosen action.\n",
    "    \"\"\"\n",
    "    rng = np.random.default_rng(seed) if seed is not None else np.random.default_rng()\n",
    "\n",
    "    # Determine the set of legal actions --------------------------------------\n",
    "    legal = np.arange(values.size) if mask is None else np.flatnonzero(mask)\n",
    "    if legal.size == 0:\n",
    "        raise ValueError(\"No legal actions available\")\n",
    "\n",
    "    # Exploration -------------------------------------------------------------\n",
    "    if rng.random() < epsilon:\n",
    "        return rng.choice(legal)\n",
    "\n",
    "    # Exploitation ------------------------------------------------------------\n",
    "    best_idx_within_legal = legal[np.argmax(values[legal])]\n",
    "    return best_idx_within_legal\n",
    "\n",
    "make_tester(epsilon_greedy, epsilon_greedy_cases)"
   ]
  },
  {
   "cell_type": "markdown",
   "id": "49a26a0d",
   "metadata": {},
   "source": [
    "#### One step Temporal Difference update (TD update)\n",
    "Next, we shall implement the TD update, according to the following equation we have seen prior:\n",
    "\n",
    "$$\n",
    "\\underbrace{Q(S_t,A_t)}_{\\text{new Q‑value estimate}}\n",
    "\\;\\leftarrow\\;\n",
    "\\underbrace{Q(S_t,A_t)}_{\\text{former Q‑value estimate}}\n",
    "\\;+\\;\n",
    "\\underbrace{\\alpha}_{\\text{learning rate}}\n",
    "\\,\n",
    "\\overbrace{\\Bigl[\n",
    "      \\overbrace{\n",
    "        \\underbrace{R_{t+1}}_{\\text{immediate reward}}\n",
    "        \\;+\\;\n",
    "        \\underbrace{\\gamma\\max\\limits_{a} Q(S_{t+1},a)}_{\\text{discounted estimate of next state}}\n",
    "      }^{\\text{TD target}}\n",
    "      \\;-\\;\n",
    "      \\underbrace{Q(S_t,A_t)}_{\\text{former Q‑value estimate}}\n",
    "    \\Bigr]}^{\\text{TD error}}\n",
    "$$"
   ]
  },
  {
   "cell_type": "code",
   "execution_count": null,
   "id": "fef0571c",
   "metadata": {},
   "outputs": [
    {
     "name": "stderr",
     "output_type": "stream",
     "text": [
      "<>:25: SyntaxWarning: invalid escape sequence '\\g'\n",
      "<>:25: SyntaxWarning: invalid escape sequence '\\g'\n",
      "/var/folders/pd/ks1kty0n2rx3n1fx1crbv09m0000gn/T/ipykernel_95476/950198703.py:25: SyntaxWarning: invalid escape sequence '\\g'\n",
      "  discount_factor (float, optional): Discount factor $\\gamma$.\n"
     ]
    },
    {
     "data": {
      "application/vnd.jupyter.widget-view+json": {
       "model_id": "59b6a07d1bf645f184dc45453c305aa5",
       "version_major": 2,
       "version_minor": 0
      },
      "text/plain": [
       "VBox(children=(HBox(children=(Button(button_style='success', description='Run Tests', icon='check', style=Butt…"
      ]
     },
     "execution_count": 5,
     "metadata": {},
     "output_type": "execute_result"
    }
   ],
   "source": [
    "def td_update(\n",
    "    q_table: np.ndarray,\n",
    "    state_idx: int,\n",
    "    action_idx: int,\n",
    "    reward: float,\n",
    "    next_state_idx: int,\n",
    "    next_mask: np.ndarray | None = None,\n",
    "    learning_rate: float = 0.1,\n",
    "    discount_factor: float = 0.99,\n",
    ") -> float:\n",
    "    \"\"\"Perform one 1-step TD (Q-learning) update.\n",
    "\n",
    "    Args:\n",
    "        q_table (np.ndarray): Q-value table with shape ``(num_states, num_actions)``.\n",
    "            The updated value is written in-place.\n",
    "        state_idx (int): Index of the current state $s_t$.\n",
    "        action_idx (int): Index of the action taken $a_t$.\n",
    "        reward (float): Immediate reward $r_{t+1}$.\n",
    "        next_state_idx (int): Index of the next state $s_{t+1}$.\n",
    "        next_mask (np.ndarray | None, optional): Binary mask for legal actions\n",
    "            in $s_{t+1}$ (``1``= legal, 0 = illegal). If *None*,\n",
    "            every action is considered legal.\n",
    "        learning_rate (float, optional): Step‑size $\\alpha$.\n",
    "            Defaults to ``0.1``.\n",
    "        discount_factor (float, optional): Discount factor $\\gamma$.\n",
    "            Defaults to ``0.99``.\n",
    "\n",
    "    Returns:\n",
    "        float: The **new** Q-function ``q_table[state_idx, action_idx]``.\n",
    "\n",
    "    Raises:\n",
    "        ValueError: If *next_mask* is provided but has no ``1`` entries, i.e.\n",
    "            there are no legal actions in the next state.\n",
    "    \"\"\"\n",
    "    # ── 1. Determine bootstrap value (td_target) ─────────────────────────────\n",
    "    next_max = 0\n",
    "    if next_mask is None:\n",
    "        next_max = q_table[next_state_idx].max()\n",
    "    else:\n",
    "        legal_actions = np.flatnonzero(next_mask)\n",
    "        if legal_actions.size == 0:\n",
    "            next_max = 0  # If no legal actions, bootstrap value is 0\n",
    "        else:\n",
    "            next_max = q_table[next_state_idx, legal_actions].max()\n",
    "\n",
    "    td_target = reward + discount_factor * next_max\n",
    "\n",
    "    # ── 2. Compute TD error and apply update ────────────────────────────────\n",
    "    td_error = td_target - q_table[state_idx, action_idx]\n",
    "    q_table[state_idx, action_idx] += learning_rate * td_error\n",
    "\n",
    "    return q_table[state_idx, action_idx]\n",
    "\n",
    "make_tester(td_update, td_update_cases)"
   ]
  },
  {
   "cell_type": "markdown",
   "id": "d65f9273",
   "metadata": {},
   "source": [
    "# Conclusion\n",
    "\n",
    "In this notebook, we covered the Reinforcement Learning control problem, with all of the nuances involved, and how to solve it using the most well-known and foundational approach, Tabular Q learning.\n",
    "\n",
    "We implemented two key functions for Tabular Q Learning, that is, how the exploration-exploitation using $\\varepsilon$ -greedy and how the Q-value table is updated after each time step, demonstrating your understanding of all of the details listed above. In future notebooks, we will import a provided reference implementation of Tabular Q Learning, which uses the same logic as here but has all the required helper/training-loop functions. You can view this reference implementation in more detail at `src/rl/tabular_q_learning.py` of the repository, but the important concepts have already been implemented in this notebook.\n",
    "\n",
    "Solutions to the exercises are also available at `notebooks/solutions/tabular_q_learning.py` in case you are stuck in some implementation detail or perhaps you would simply like to compare your code.\n",
    "\n",
    "In the next notebook, we will explore how to train and visualise your algorithm in detail, including using hyperparameter tuning rather than trying to guess the optimal learning rate and epsilon yourself!"
   ]
  },
  {
   "cell_type": "markdown",
   "id": "c0458cf1",
   "metadata": {},
   "source": [
    "# Extensions\n",
    "---\n",
    "Below are optional extensions to reinforce your understanding of everything covered in this notebook. The above material is sufficient for advancing to the subsequent notebooks, and some of these extensions are quite challenging and time consuming. \n",
    "\n",
    "You can also simply revisit these extensions after Notebook 5."
   ]
  },
  {
   "cell_type": "markdown",
   "id": "81ee22d9",
   "metadata": {},
   "source": [
    "## Extension 1. The Markovian property\n",
    "> For this task, you will find it useful to read the subsection \"Optional Background) Markov Decision Processes\"\n",
    "\n",
    "A *Markov Decision Process* (MDP) is named so because it follows the Markovian property. Explain what the Markovian property is, and provide an example environment where it might be natural to use Non-Markovian Reward Decision Processes."
   ]
  },
  {
   "cell_type": "markdown",
   "id": "c8043f8a",
   "metadata": {},
   "source": [
    "## Extension 2. Boltzmann Exploration Strategy\n",
    "Unlike **ε‑greedy**, which picks the current best action with probability 1 − ε and otherwise explores uniformly, *Boltzmann (soft‑max) exploration* samples actions in proportion to the exponentiated Q‑values.\n",
    "\n",
    "The *temperature* τ (>0) controls how sharp the distribution is: high τ ≈ uniform; low τ → greedy.\n",
    "\n",
    "In this exercise, replace the exploration/action-selection mechanism in `src/rl/tabular_q_learning.py` with one based on Boltzmann exploration, which often performs better in practice.\n",
    "\n",
    "**Suggested resources**\n",
    "* Sutton & Barto, *Reinforcement Learning* (2nd ed.), §2.8 “Gradient Bandit Algorithms”  "
   ]
  },
  {
   "cell_type": "markdown",
   "id": "3e3df1b0",
   "metadata": {},
   "source": [
    "## Extension 3. Implement an **On-Policy** Algorithm\n",
    "> For this task, you will find it useful to read the subsection \"Optional Background) On-policy vs Off-policy\"\n",
    "> This is a difficult extension, and can be done after completing the course.\n",
    "\n",
    "Our Tabular Q-Learning algorithm is an off-policy algorithm. Consider the algorithm `SARSA`, which is an on-policy algorithm.  You should be able to modify the algorithm provided in `src/rl/tabular_learning.py`, updating the TD-target.\n",
    "\n",
    "$$\n",
    "Q(s,a) \\leftarrow Q(s,a) + \\alpha\\bigl[r + \\gamma Q(s',a') - Q(s,a)\\bigr].\n",
    "$$\n",
    "\n",
    "Replace the target in `td_update` and train with the same ε‑greedy policy. Compare learning curves with Q‑learning after Notebook 4; SARSA often converges more safely in stochastic domains. For longer‑horizon credit assignment, extend to SARSA(λ) with eligibility traces.\n",
    "\n",
    "**Suggested resources**\n",
    "* Sutton & Barto, §6.4 “Sarsa: On‑policy TD Control\"  \n",
    "* Csaba Szepesvári, *Algorithms for RL*, §4.4.1 "
   ]
  },
  {
   "cell_type": "markdown",
   "id": "1acf16f4",
   "metadata": {},
   "source": [
    "# Glossary\n",
    "---\n",
    "This will be collated with all notebooks and definitions then updated based on what appears in each notebook. Conclusion will have the full glossary.\n",
    "\n",
    "- **agent**: the learner/decision‑maker that observes the state, selects actions via a policy, receives rewards, and updates its knowledge to maximize return.\n",
    "- **action mask:** constraints the action space to only allowing the agent to randomly sample the valid, legal actions (within the rules of the environment) for that particular time step. In some environments, all actions from the action space are always allowed, and thus no mask is needed. Although, very often, an action mask is needed in combinatorial environments.\n",
    "- **discount factor ($\\gamma$)**: a number in $[0,1]$ that down‑weights future rewards when computing return. $\\gamma$=0 cares only about immediate reward; $\\gamma$ close to 1 values long‑term reward.\n",
    "- **Markov decision process (MDP)**: a formal model of the environment defined by states $\\mathcal{S}$, actions $\\mathcal{A}$, transition dynamics $P$, reward function $R$, and discount $\\gamma$. \n",
    "<!-- \"Markov\" means the next state and reward depend only on the current state and action, not the full history. -->\n",
    "- **on‑policy**: learning about the value of the policy you're actually using to act (the behaviour policy). Example: SARSA updates toward what the agent actually did next.\n",
    "- **off‑policy**: learning about a (possibly optimal) target policy while behaving with a different policy for exploration. Classic example: Q‑learning updates toward the greedy action's value (max over actions) even if it behaved $\\varepsilon$‑greedily.\n",
    "- **policy ($\\pi$)**: a mapping from states to actions (deterministic) or to a probability distribution over actions (stochastic), written $\\pi(a \\mid s)$.\n",
    "- **scalar**: a 1 dimensional vector, a single numerical value.\n",
    "- **return ($G_t$)**: is the sum of all rewards obtained, either in a finite window number of time steps, or an infinite-horizon return where all the rewards ever obtained by the agent is considered. The return is said to be a *discounted return* if used with a discount factor $\\gamma$.\n",
    "- **Q‑table**: a table with one entry per (state, action) pair storing the current estimate of its Q‑value. In Tabular Q‑Learning it’s typically a $|S| \\times |A|$ array updated as experience is collected.\n",
    "- **Q‑value**: the expected discounted return starting from state $s$, taking action $a$, then following a policy thereafter. For the optimal Q‑value, $Q^*(s,a)$ uses the optimal policy.\n",
    "**Q‑function**: the function $Q(s,a)$ that maps any (state, action) to its Q‑value; in tabular methods it’s represented by the Q‑table. Also see the Bellman optimality relation."
   ]
  }
 ],
 "metadata": {
  "kernelspec": {
   "display_name": "RL",
   "language": "python",
   "name": "python3"
  },
  "language_info": {
   "codemirror_mode": {
    "name": "ipython",
    "version": 3
   },
   "file_extension": ".py",
   "mimetype": "text/x-python",
   "name": "python",
   "nbconvert_exporter": "python",
   "pygments_lexer": "ipython3",
   "version": "3.12.11"
  }
 },
 "nbformat": 4,
 "nbformat_minor": 5
}
